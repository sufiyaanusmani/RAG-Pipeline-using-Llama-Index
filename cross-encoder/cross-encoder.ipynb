{
 "cells": [
  {
   "cell_type": "markdown",
   "metadata": {},
   "source": [
    "# Setup"
   ]
  },
  {
   "cell_type": "code",
   "execution_count": 5,
   "metadata": {},
   "outputs": [],
   "source": [
    "from llama_index.embeddings.openai import OpenAIEmbedding\n",
    "from llama_index.llms.openai import OpenAI\n",
    "from dotenv import load_dotenv\n",
    "import os\n",
    "import nest_asyncio\n",
    "\n",
    "nest_asyncio.apply()\n",
    "\n",
    "load_dotenv()\n",
    "OPENAI_API_KEY = os.getenv(\"OPENAI_API_KEY\")\n",
    "\n",
    "embed_model = OpenAIEmbedding(model_name=\"text-embedding-ada-002\", api_key=OPENAI_API_KEY)\n",
    "llm = OpenAI(api_key=OPENAI_API_KEY, model_name=\"gpt-4o-mini\", temperature=0.1)"
   ]
  },
  {
   "cell_type": "code",
   "execution_count": 6,
   "metadata": {},
   "outputs": [],
   "source": [
    "from vectorstore import get_vectorstore\n",
    "\n",
    "vectorstore = get_vectorstore()"
   ]
  },
  {
   "cell_type": "code",
   "execution_count": 7,
   "metadata": {},
   "outputs": [],
   "source": [
    "from index import get_index\n",
    "\n",
    "index = get_index(embed_model=embed_model)"
   ]
  },
  {
   "cell_type": "code",
   "execution_count": 14,
   "metadata": {},
   "outputs": [],
   "source": [
    "import json\n",
    "\n",
    "def store_docs(docs, filename):\n",
    "    docs_to_store = []\n",
    "\n",
    "    for node in docs:\n",
    "        docs_to_store.append({\n",
    "            \"text\": node.text,\n",
    "            \"metadata\": node.metadata,\n",
    "            \"score\": node.score\n",
    "        })\n",
    "\n",
    "    with open(f\"./output/{filename}\", \"w\", encoding=\"utf-8\") as f:\n",
    "        json.dump(docs_to_store, f, indent=4)"
   ]
  },
  {
   "cell_type": "markdown",
   "metadata": {},
   "source": [
    "# Retrieving"
   ]
  },
  {
   "cell_type": "code",
   "execution_count": 8,
   "metadata": {},
   "outputs": [],
   "source": [
    "query_gen_prompt = \"\"\"You are an AI language model assistant specializing in query expansion. Your task is to generate {num_queries} diverse versions of the given user question. These variations will be used to retrieve relevant documents from a vector database, helping to overcome limitations of distance-based similarity search.\n",
    "\n",
    "Original question: {query}\n",
    "\n",
    "Instructions:\n",
    "1. Create {num_queries} unique variations of the original question.\n",
    "2. Ensure each variation maintains the core intent of the original question.\n",
    "3. Use different phrasings, synonyms, or perspectives for each variation.\n",
    "4. Consider potential context or implications not explicitly stated in the original question.\n",
    "5. Avoid introducing new topics or drastically changing the meaning of the question.\n",
    "\n",
    "Please provide your {num_queries} question variations, each on a new line:\n",
    "\"\"\""
   ]
  },
  {
   "cell_type": "code",
   "execution_count": 9,
   "metadata": {},
   "outputs": [],
   "source": [
    "top_n = 50\n",
    "num_queries = 5\n",
    "question = \"What is our duty in this world?\""
   ]
  },
  {
   "cell_type": "markdown",
   "metadata": {},
   "source": [
    "## Existing Implementation"
   ]
  },
  {
   "cell_type": "code",
   "execution_count": 10,
   "metadata": {},
   "outputs": [],
   "source": [
    "vector_retriever = index.as_retriever(similarity_top_k=top_n)"
   ]
  },
  {
   "cell_type": "code",
   "execution_count": 10,
   "metadata": {},
   "outputs": [],
   "source": [
    "from llama_index.core.retrievers import QueryFusionRetriever\n",
    "\n",
    "retriever = QueryFusionRetriever(\n",
    "    [vector_retriever],\n",
    "    similarity_top_k=top_n,\n",
    "    num_queries=num_queries,  # set this to 1 to disable query generation\n",
    "    mode=\"reciprocal_rerank\",\n",
    "    use_async=True,\n",
    "    verbose=True,\n",
    "    query_gen_prompt=query_gen_prompt,\n",
    "    llm=llm,\n",
    ")"
   ]
  },
  {
   "cell_type": "code",
   "execution_count": 69,
   "metadata": {},
   "outputs": [
    {
     "name": "stdout",
     "output_type": "stream",
     "text": [
      "Generated queries:\n",
      "1. What responsibilities do we have in this world?\n",
      "2. How can we fulfill our obligations in this world?\n",
      "3. What role are we meant to play in this world?\n",
      "4. What is expected of us in this world?\n"
     ]
    }
   ],
   "source": [
    "# it will genereate n - 1 queries since the original query is also included\n",
    "nodes_with_scores = retriever.retrieve(question)"
   ]
  },
  {
   "cell_type": "code",
   "execution_count": 70,
   "metadata": {},
   "outputs": [
    {
     "name": "stdout",
     "output_type": "stream",
     "text": [
      "Processing batch 1\n",
      "Processing batch 2\n",
      "Processing batch 3\n",
      "Processing batch 4\n",
      "Raw result: ```json\n",
      "[\n",
      "    {\n",
      "        \"reason\": \"Discusses duty through faith and personal improvement.\",\n",
      "        \"score\": 9\n",
      "    },\n",
      "    {\n",
      "        \"reason\": \"Highlights individual responsibility and spiritual duty to society.\",\n",
      "        \"score\": 8\n",
      "    },\n",
      "    {\n",
      "        \"reason\": \"Emphasizes gratitude and earning a living as worship.\",\n",
      "        \"score\": 6\n",
      "    },\n",
      "    {\n",
      "        \"reason\": \"Describes ethical behavior and social responsibility in Islam.\",\n",
      "        \"score\": 7\n",
      "    }\n",
      "]\n",
      "```\n",
      "[INFO] Batch scored 4 contexts\n",
      "Got the scores [(9, 'Discusses duty through faith and personal improvement.'), (8, 'Highlights individual responsibility and spiritual duty to society.'), (6, 'Emphasizes gratitude and earning a living as worship.'), (7, 'Describes ethical behavior and social responsibility in Islam.')]\n",
      "Relevance score: 9 - Discusses duty through faith and personal improvement.\n",
      "Text: You should always remember that Allah has promised the mujahidin great reward\n",
      "and virtue, and they will enter Paradise without any reckoning.\n",
      "\n",
      "Second, man has the ability to adapt himself to all envir\n",
      "\n",
      "\n",
      "Relevance score: 8 - Highlights individual responsibility and spiritual duty to society.\n",
      "Text: With regard to man or to Muslim youth, certainly God calls him to account for\n",
      "every negative result in proportion to his link with it, and in terms of his\n",
      "strength and esteem in it. So that he must fe\n",
      "\n",
      "\n",
      "Relevance score: 6 - Emphasizes gratitude and earning a living as worship.\n",
      "Text: Please, ponder on this word in which Imam Ali (a.s.) has described pious\n",
      "people by saying, ‘The Creator has become so great before their eyes, and\n",
      "therefore, everything else has become so trivial befo\n",
      "\n",
      "\n",
      "Relevance score: 7 - Describes ethical behavior and social responsibility in Islam.\n",
      "Text: The\n",
      "Almighty God said:\n",
      "\n",
      "In order that ye may sit firm and square on their backs, and when so seated,\n",
      "ye may celebrate the (kind) favor of your Lord, and say, \"Glory to Him Who has\n",
      "subjected these to o\n",
      "\n",
      "\n",
      "Raw result: ```json\n",
      "[\n",
      "    {\"reason\": \"Discusses human purpose and moral responsibility.\", \"score\": 10},\n",
      "    {\"reason\": \"Emphasizes work as worship and duty.\", \"score\": 8},\n",
      "    {\"reason\": \"Defines human responsibility and duty distinctly.\", \"score\": 10},\n",
      "    {\"reason\": \"Highlights the duty to seek truth and knowledge.\", \"score\": 7},\n",
      "    {\"reason\": \"Worshiping God as an ultimate duty.\", \"score\": 9},\n",
      "    {\"reason\": \"Importance of mutual understanding and friendship in duty.\", \"score\": 5},\n",
      "    {\"reason\": \"Explains social responsibility and kindness.\", \"score\": 7},\n",
      "    {\"reason\": \"Conveys moral duties towards parents.\", \"score\": 4},\n",
      "    {\"reason\": \"Encourages gratitude and utilization of blessings.\", \"score\": 6},\n",
      "    {\"reason\": \"Describes purpose of worship and self-perfection.\", \"score\": 9},\n",
      "    {\"reason\": \"Justice viewed as an essential function of duty.\", \"score\": 6},\n",
      "    {\"reason\": \"Religion's function is tied to moral duties.\", \"score\": 7},\n",
      "    {\"reason\": \"Importance of discernment and truth in duties.\", \"score\": 5},\n",
      "    {\"reason\": \"Guides on appropriate leadership responsibilities.\", \"score\": 4},\n",
      "    {\"reason\": \"Material life distractions from true responsibilities.\", \"score\": 7},\n",
      "    {\"reason\": \"Calls for self-improvement and action as duty.\", \"score\": 8}\n",
      "]\n",
      "```\n",
      "[INFO] Batch scored 16 contexts\n",
      "Got the scores [(10, 'Discusses human purpose and moral responsibility.'), (8, 'Emphasizes work as worship and duty.'), (10, 'Defines human responsibility and duty distinctly.'), (7, 'Highlights the duty to seek truth and knowledge.'), (9, 'Worshiping God as an ultimate duty.'), (5, 'Importance of mutual understanding and friendship in duty.'), (7, 'Explains social responsibility and kindness.'), (4, 'Conveys moral duties towards parents.'), (6, 'Encourages gratitude and utilization of blessings.'), (9, 'Describes purpose of worship and self-perfection.'), (6, 'Justice viewed as an essential function of duty.'), (7, \"Religion's function is tied to moral duties.\"), (5, 'Importance of discernment and truth in duties.'), (4, 'Guides on appropriate leadership responsibilities.'), (7, 'Material life distractions from true responsibilities.'), (8, 'Calls for self-improvement and action as duty.')]\n",
      "Relevance score: 10 - Discusses human purpose and moral responsibility.\n",
      "Text: But nature deceives him\n",
      "in such a way that he willingly seeks marriage In any case every pleasure is\n",
      "based on a need. We eat because our nature requires that substance, and drink\n",
      "and sleep for a simil\n",
      "\n",
      "\n",
      "Relevance score: 8 - Emphasizes work as worship and duty.\n",
      "Text: Hence, there\n",
      "must exist an aim whereby its benefits reach man. Under this assumption we see\n",
      "that the limited and material life of this world lacks the ability to be\n",
      "proclaimed as the aim and purpose f\n",
      "\n",
      "\n",
      "Relevance score: 10 - Defines human responsibility and duty distinctly.\n",
      "Text: These people will receive a better reward than\n",
      "those who just worship and do not work.”[1]\n",
      "\n",
      "There are many such traditions regarding the worth of and the reward for\n",
      "working, but we will suffice with t\n",
      "\n",
      "\n",
      "Relevance score: 7 - Highlights the duty to seek truth and knowledge.\n",
      "Text: They are unable to\n",
      "discriminate between good and bad. Therefore they don’t have any\n",
      "responsibility imposed on them. They will not be required to account for their\n",
      "deeds. There is no preordained respon\n",
      "\n",
      "\n",
      "Relevance score: 9 - Worshiping God as an ultimate duty.\n",
      "Text: And this\n",
      "cannot be done unless you embark upon a tireless quest in the path of human\n",
      "thought and its media to learn everything possible in order to arrive as a\n",
      "result at the reality.\n",
      "\n",
      "****\n",
      "\n",
      "**Expendin\n",
      "\n",
      "\n",
      "Relevance score: 5 - Importance of mutual understanding and friendship in duty.\n",
      "Text: ****\n",
      "\n",
      "**Worship in its Broad Understanding**\n",
      "\n",
      "__\n",
      "\n",
      "_\"**And I have not created the Jinn or Humankind except to serve [Me]** \" (al\n",
      "Dhariyat, 51:56). _What is this worship for which He has created us? The\n",
      "\n",
      "\n",
      "Relevance score: 7 - Explains social responsibility and kindness.\n",
      "Text: Inside his closed room, he indulges in every\n",
      "mental and sexual fantasy-sometimes daydreaming of time, when there will be\n",
      "better understanding and relations. Other times, his mood changes to one of\n",
      "res\n",
      "\n",
      "\n",
      "Relevance score: 4 - Conveys moral duties towards parents.\n",
      "Text: ### THE RESPONSE TO GOD’S FAVOR\n",
      "\n",
      "We read the following in the Holy Quran:\n",
      "\n",
      "\"Nor forget thy portion in this world: but do thou good, as God has been good\n",
      "to thee.\"[The Holy Quran Qasas 28:77]\n",
      "\n",
      "It is ge\n",
      "\n",
      "\n",
      "Relevance score: 6 - Encourages gratitude and utilization of blessings.\n",
      "Text: The man then said to the  _Imam, \"I_ have a mother who\n",
      "is Christian; how should I behave towards her when I have become a Muslim and\n",
      "she still remains in non-belief?' Imam al-Sadiq replied, \"See how y\n",
      "\n",
      "\n",
      "Relevance score: 9 - Describes purpose of worship and self-perfection.\n",
      "Text: **The answer:**\n",
      "\n",
      "1\\. Thank Allah for every blessing especially for those that others do not\n",
      "have!\n",
      "\n",
      "2\\. Do not yearn for the pleasures that other people have!\n",
      "\n",
      "3\\. When someone criticizes you, accept h\n",
      "\n",
      "\n",
      "Relevance score: 6 - Justice viewed as an essential function of duty.\n",
      "Text: ## Chapter 11 Purpose of Creation\n",
      "\n",
      "**_“And I did not create Jin and human beings but so that they may worship\n",
      "Me”. – (Qur’an, 51:56)_**\n",
      "\n",
      "God created us and sent us in this world just to obtain spiritu\n",
      "\n",
      "\n",
      "Relevance score: 7 - Religion's function is tied to moral duties.\n",
      "Text: Nor does it correspond to the prevalent\n",
      "understanding of religion, which sees the latter as being restricted to a\n",
      "narrow sphere of worship. This sphere is completely closed to the realities of\n",
      "life co\n",
      "\n",
      "\n",
      "Relevance score: 5 - Importance of discernment and truth in duties.\n",
      "Text: Give me the strength to be able to discern the truth\n",
      "and realize its true worth. Give me the strength to be able to make the best\n",
      "use of the blessings that You have showered upon us such that would ea\n",
      "\n",
      "\n",
      "Relevance score: 4 - Guides on appropriate leadership responsibilities.\n",
      "Text: Thus, the form of\n",
      "leadership must also take different modes and methods. The ways and means used\n",
      "in this leadership also differ, and one general prescription cannot be given\n",
      "which would work for all p\n",
      "\n",
      "\n",
      "Relevance score: 7 - Material life distractions from true responsibilities.\n",
      "Text: [74]’ A real believer dose not look for the material\n",
      "pleasures of this life because he has read the Islamic concept about this\n",
      "worldly life as “it deceives, destroys, and passes away.[75]’\n",
      "\n",
      "A real bel\n",
      "\n",
      "\n",
      "Raw result: ```json\n",
      "[\n",
      "    {\"reason\": \"Discusses responsibilities in guiding others towards goodness.\", \"score\": 9},\n",
      "    {\"reason\": \"Highlights the importance of rights and justice among people.\", \"score\": 8},\n",
      "    {\"reason\": \"Emphasizes the responsibility towards family relationships and faith.\", \"score\": 7},\n",
      "    {\"reason\": \"Describes how worship transcends mere rituals, focusing on justice.\", \"score\": 8},\n",
      "    {\"reason\": \"Discusses nurturing youth for future responsibilities in faith.\", \"score\": 7},\n",
      "    {\"reason\": \"Explains balancing spiritual and worldly duties responsibly.\", \"score\": 6},\n",
      "    {\"reason\": \"Addresses the need for proportionality in parental responsibilities.\", \"score\": 5},\n",
      "    {\"reason\": \"Considers the internal conflict in maintaining faith versus following others.\", \"score\": 6},\n",
      "    {\"reason\": \"Discusses the need for justice and the rights of individuals.\", \"score\": 8},\n",
      "    {\"reason\": \"Explores the dynamics of relationships and responsibilities involving parents.\", \"score\": 7},\n",
      "    {\"reason\": \"Focuses on personal integrity in charitable actions and duties.\", \"score\": 6},\n",
      "    {\"reason\": \"Examines the cultivation of virtue and responsible parenting.\", \"score\": 7},\n",
      "    {\"reason\": \"Discusses individual responsibility in resisting negative influences.\", \"score\": 7},\n",
      "    {\"reason\": \"Explores mutual rights between parents and children under God.\", \"score\": 6},\n",
      "    {\"reason\": \"Discusses workload importance and self-improvement as divine service.\", \"score\": 8},\n",
      "    {\"reason\": \"Emphasizes human bonds and moral duties toward parents.\", \"score\": 8}\n",
      "]\n",
      "```\n",
      "[INFO] Batch scored 16 contexts\n",
      "Got the scores [(9, 'Discusses responsibilities in guiding others towards goodness.'), (8, 'Highlights the importance of rights and justice among people.'), (7, 'Emphasizes the responsibility towards family relationships and faith.'), (8, 'Describes how worship transcends mere rituals, focusing on justice.'), (7, 'Discusses nurturing youth for future responsibilities in faith.'), (6, 'Explains balancing spiritual and worldly duties responsibly.'), (5, 'Addresses the need for proportionality in parental responsibilities.'), (6, 'Considers the internal conflict in maintaining faith versus following others.'), (8, 'Discusses the need for justice and the rights of individuals.'), (7, 'Explores the dynamics of relationships and responsibilities involving parents.'), (6, 'Focuses on personal integrity in charitable actions and duties.'), (7, 'Examines the cultivation of virtue and responsible parenting.'), (7, 'Discusses individual responsibility in resisting negative influences.'), (6, 'Explores mutual rights between parents and children under God.'), (8, 'Discusses workload importance and self-improvement as divine service.'), (8, 'Emphasizes human bonds and moral duties toward parents.')]\n",
      "Relevance score: 9 - Discusses responsibilities in guiding others towards goodness.\n",
      "Text: ****\n",
      "\n",
      "**Responsibilities of Those Whose Call is to Islam**\n",
      "\n",
      "Islam directs everyone who calls to Islam-the preacher, the guide-thus: \"You\n",
      "must give of everything you have in order to guide another, to \n",
      "\n",
      "\n",
      "Relevance score: 8 - Highlights the importance of rights and justice among people.\n",
      "Text: This is derived from the\n",
      "words: \"**_O Messenger, proclaim that which has been revealed to you from your\n",
      "Lord; for if you do not do, then you have not delivered His message_** _\" (al\n",
      "Maidah,_ 5:67). Th\n",
      "\n",
      "\n",
      "Relevance score: 7 - Emphasizes the responsibility towards family relationships and faith.\n",
      "Text: This is what God (Exalted) was speaking about to His Prophet, guiding him,\n",
      "when He said: \"**_Indeed you are only a warner, and to every people a guide_**\n",
      "_\" (al-R'ad, 13:7**). \"Remind them for you are\n",
      "\n",
      "\n",
      "Relevance score: 8 - Describes how worship transcends mere rituals, focusing on justice.\n",
      "Text: Perhaps we could derive from this a meaning that is comprehensive for the\n",
      "followers, even from the point of view of feelings-such as a husband who\n",
      "follows his wife out of affection, or a wife who foll\n",
      "\n",
      "\n",
      "Relevance score: 7 - Discusses nurturing youth for future responsibilities in faith.\n",
      "Text: **Comprehending God's Desires**\n",
      "\n",
      "In this manner, we may affirm that the worship of God, which God requires of\n",
      "both  _jinn_ and man, is a life goal which consists of the realization of\n",
      "God's desires fo\n",
      "\n",
      "\n",
      "Relevance score: 6 - Explains balancing spiritual and worldly duties responsibly.\n",
      "Text: This is what we note in the\n",
      "Quranic instruction: \"**_Our Lord, Give us the good of this life and the good\n",
      "of the hereafter!_**_\" (al-Baqarah, 2:201)._ Elsewhere the Quran states:\n",
      "\"**Seek that which Go\n",
      "\n",
      "\n",
      "Relevance score: 5 - Addresses the need for proportionality in parental responsibilities.\n",
      "Text: In one\n",
      "instance, the person must make use of a particular way and method, and at\n",
      "another time, he must make use of another method – the specialties of the time\n",
      "and place that he is in and in addition,\n",
      "\n",
      "\n",
      "Relevance score: 6 - Considers the internal conflict in maintaining faith versus following others.\n",
      "Text: We do not\n",
      "wish to hold that the elements of mother and father are everything. It must be\n",
      "emphasized that their role is tremendous, in addition to the other factors in\n",
      "this area.\n",
      "\n",
      "In the light of this,\n",
      "\n",
      "\n",
      "Relevance score: 8 - Discusses the need for justice and the rights of individuals.\n",
      "Text: This is\n",
      "because the right of God over the servant is for the latter to serve Him in\n",
      "every sense of the word servitude _[ibada],_ relative to the truth about\n",
      "Lordship elucidated in the following verse:\n",
      "\n",
      "\n",
      "Relevance score: 7 - Explores the dynamics of relationships and responsibilities involving parents.\n",
      "Text: Thus the child struggles\n",
      "on their behalf and they struggle on his behalf.\n",
      "\n",
      "****\n",
      "\n",
      "**Responsibilities Towards the Parents**\n",
      "\n",
      "We understand therefore that the relationship is one of doing good-i.e., that\n",
      "\n",
      "\n",
      "Relevance score: 6 - Focuses on personal integrity in charitable actions and duties.\n",
      "Text: The\n",
      "abode of those is the hellfire. What a horrible ending!_**_\" (al-Nisa, 4:97)_\n",
      "\n",
      "__\n",
      "\n",
      "When God cast upon these oppressed people the responsibility for their own\n",
      "deviance, along with the arrogant and \n",
      "\n",
      "\n",
      "Relevance score: 7 - Examines the cultivation of virtue and responsible parenting.\n",
      "Text: They also have\n",
      "to call to the way of God, in conduct, so that people who go to them will find\n",
      "them exemplary in their productive life, enriching the country through a\n",
      "fruitful contact with Islam-thank\n",
      "\n",
      "\n",
      "Relevance score: 7 - Discusses individual responsibility in resisting negative influences.\n",
      "Text: (Qur’an, 3: 92)._**\n",
      "\n",
      "So this is the test of the real charity: Do you give something that you value\n",
      "greatly? If you give you life for a cause, that is the greatest gift you can\n",
      "offer. Next in degree ar\n",
      "\n",
      "\n",
      "Relevance score: 6 - Explores mutual rights between parents and children under God.\n",
      "Text: When someone does something, that person’s work product represents that person\n",
      "in a way. As Muslims, we should do the best job at everything we do because\n",
      "our work represents ourselves, our character.\n",
      "\n",
      "\n",
      "Relevance score: 8 - Discusses workload importance and self-improvement as divine service.\n",
      "Text: This is\n",
      "because the bond that connects parent to child is a good [ihsan] that flows\n",
      "from the parent to the child; it is not a state which requires a conduct\n",
      "towards the parent which extinguishes the c\n",
      "\n",
      "\n",
      "Raw result: ```json\n",
      "[\n",
      "    {\"reason\": \"Discusses responsibilities in this world and beyond.\", \"score\": 9},\n",
      "    {\"reason\": \"Explains individual obligations and duties in life.\", \"score\": 9},\n",
      "    {\"reason\": \"Emphasizes collective responsibilities towards children and society.\", \"score\": 8},\n",
      "    {\"reason\": \"Encourages love and kindness as essential duties.\", \"score\": 9},\n",
      "    {\"reason\": \"Discusses the necessity of Islamic duties and obligations.\", \"score\": 10},\n",
      "    {\"reason\": \"Highlights trust and responsibility in faith.\", \"score\": 7},\n",
      "    {\"reason\": \"Suggests an obligation to acquire personal experiences.\", \"score\": 6},\n",
      "    {\"reason\": \"Emphasizes obligations towards others when choosing partnerships.\", \"score\": 5},\n",
      "    {\"reason\": \"Discusses duties towards parents and kindness.\", \"score\": 8},\n",
      "    {\"reason\": \"Connects prayer obligations with life responsibilities.\", \"score\": 9},\n",
      "    {\"reason\": \"Explores believer obligations towards God and community.\", \"score\": 10},\n",
      "    {\"reason\": \"Discusses obligations as a part of Islamic life.\", \"score\": 10},\n",
      "    {\"reason\": \"Encourages assuming responsibility for personal and societal issues.\", \"score\": 8},\n",
      "    {\"reason\": \"Stresses importance of responding to life situations with faith.\", \"score\": 7},\n",
      "    {\"reason\": \"Highlights the importance of following religious obligations.\", \"score\": 8},\n",
      "    {\"reason\": \"Encourages personal responsibility and creative mindset in youth.\", \"score\": 8},\n",
      "    {\"reason\": \"Discusses spiritual growth over natural instinct.\", \"score\": 6},\n",
      "    {\"reason\": \"Considers personal emotions variant to one's duties.\", \"score\": 5}\n",
      "]\n",
      "```\n",
      "[INFO] Batch scored 18 contexts\n",
      "Got the scores [(9, 'Discusses responsibilities in this world and beyond.'), (9, 'Explains individual obligations and duties in life.'), (8, 'Emphasizes collective responsibilities towards children and society.'), (9, 'Encourages love and kindness as essential duties.'), (10, 'Discusses the necessity of Islamic duties and obligations.'), (7, 'Highlights trust and responsibility in faith.'), (6, 'Suggests an obligation to acquire personal experiences.'), (5, 'Emphasizes obligations towards others when choosing partnerships.'), (8, 'Discusses duties towards parents and kindness.'), (9, 'Connects prayer obligations with life responsibilities.'), (10, 'Explores believer obligations towards God and community.'), (10, 'Discusses obligations as a part of Islamic life.'), (8, 'Encourages assuming responsibility for personal and societal issues.'), (7, 'Stresses importance of responding to life situations with faith.'), (8, 'Highlights the importance of following religious obligations.'), (8, 'Encourages personal responsibility and creative mindset in youth.'), (6, 'Discusses spiritual growth over natural instinct.'), (5, \"Considers personal emotions variant to one's duties.\")]\n",
      "Relevance score: 9 - Discusses responsibilities in this world and beyond.\n",
      "Text: But, the joyful expectation of the golden harvest\n",
      "overcomes every sorrow. Likewise, there may be afflictions and hardships in\n",
      "our life in this world; but the pleasant waiting for the life hereafter he\n",
      "\n",
      "\n",
      "Relevance score: 9 - Explains individual obligations and duties in life.\n",
      "Text: Duties begin\n",
      "from the earliest stages of life and continue till its end; at no moment can\n",
      "an individual claim freedom or separation from some form of obligation. As\n",
      "long as ability exists, it has an a\n",
      "\n",
      "\n",
      "Relevance score: 8 - Emphasizes collective responsibilities towards children and society.\n",
      "Text: Or it is we who have made this our way of life?\n",
      "\n",
      "A cry from the heart of a father to every father and everyone in charge: Save\n",
      "our children!”\n",
      "\n",
      "This is the disease and with it is the call! But as for t\n",
      "\n",
      "\n",
      "Relevance score: 9 - Encourages love and kindness as essential duties.\n",
      "Text: If a Muslim does not help needy persons, if he does not bestow love and\n",
      "kindness upon the orphans, if he turns out the people who are in need of\n",
      "assistance, then his claim of righteousness is just a c\n",
      "\n",
      "\n",
      "Relevance score: 10 - Discusses the necessity of Islamic duties and obligations.\n",
      "Text: Study us rather for\n",
      "what we have done and our ideas. You may not find the ideas we came up with\n",
      "then to be any longer important; you live a normal life, because an Islamic\n",
      "atmosphere makes these ideas\n",
      "\n",
      "\n",
      "Relevance score: 7 - Highlights trust and responsibility in faith.\n",
      "Text: A school of thought may evidence a spirit determined by the relationships of\n",
      "cause and effect, However, a school of thought must have a suitable idea so as\n",
      "to lend a world perspective. The converse is\n",
      "\n",
      "\n",
      "Relevance score: 6 - Suggests an obligation to acquire personal experiences.\n",
      "Text: It is these sorts of actions which we can also refer to\n",
      "as those which are the “ _Responsibility of the Form and Shape of the\n",
      "Actions”_.\n",
      "\n",
      "For example, the Salat is an act which has a specified introdu\n",
      "\n",
      "\n",
      "Relevance score: 5 - Emphasizes obligations towards others when choosing partnerships.\n",
      "Text: All this as you accept his message, which\n",
      "is based on what is from God.\n",
      "\n",
      "We are the generation of a message that gives each generation something of its\n",
      "strength and wherewithal. Certainly, Islam needs\n",
      "\n",
      "\n",
      "Relevance score: 8 - Discusses duties towards parents and kindness.\n",
      "Text: And when the child is born, it is God who puts the milk in the mother's\n",
      "breasts. The role of the parents is then that of an intermediary; it is not\n",
      "their desire which caused your being. On this premis\n",
      "\n",
      "\n",
      "Relevance score: 9 - Connects prayer obligations with life responsibilities.\n",
      "Text: ****\n",
      "\n",
      "**The Injunction of Prayer**\n",
      "\n",
      "The words of God in the Noble Quran are: \"**_So worship Me and establish\n",
      "prayer for My Remembrance_** _\" (Ta Ha_ , 20:14). How is this command to be\n",
      "effected? In ot\n",
      "\n",
      "\n",
      "Relevance score: 10 - Explores believer obligations towards God and community.\n",
      "Text: In\n",
      "other words, as a way has been shown for human happiness and as following it\n",
      "requires the granting of a reward, and opposition to it involves punishment,\n",
      "this reward and punishment are presented on\n",
      "\n",
      "\n",
      "Relevance score: 10 - Discusses obligations as a part of Islamic life.\n",
      "Text: ## Chapter 63 Obligations of a Believer\n",
      "\n",
      "**_“Those who establish prayers, and hand over ‘zakat’ and believe in the life\n",
      "hereafter”. (Qur’an, 48:3)._**\n",
      "\n",
      "These attributes of the believers refer to the t\n",
      "\n",
      "\n",
      "Relevance score: 8 - Encourages assuming responsibility for personal and societal issues.\n",
      "Text: The word used\n",
      "here is ‘Uqud’. Its literal meaning: ‘Bondages’. This world is used in the\n",
      "Islamic language, for every kind of obligation. And by using it God has\n",
      "reminded mankind that every promise, ag\n",
      "\n",
      "\n",
      "Relevance score: 7 - Stresses importance of responding to life situations with faith.\n",
      "Text: What is the way to get out of this\n",
      "impasse?\n",
      "\n",
      "**The answer:**\n",
      "\n",
      "The case, in its first point, is connected with the economic state of\n",
      "countries and this is not in our hands. As for the remaining points,\n",
      "\n",
      "\n",
      "Relevance score: 8 - Highlights the importance of following religious obligations.\n",
      "Text: Rather, it should be the destruction of evil and the revival of truth. Your\n",
      "pleasure should be in that which you send forth; your grief that which you\n",
      "leave behind; your desire that which is after****\n",
      "\n",
      "\n"
     ]
    }
   ],
   "source": [
    "from llm_score_docs import BatchProcessingConfig, batch_score_documents\n",
    "\n",
    "config = BatchProcessingConfig()\n",
    "scored_docs = batch_score_documents(nodes_with_scores, question, config)"
   ]
  },
  {
   "cell_type": "code",
   "execution_count": 71,
   "metadata": {},
   "outputs": [
    {
     "data": {
      "text/plain": [
       "49"
      ]
     },
     "execution_count": 71,
     "metadata": {},
     "output_type": "execute_result"
    }
   ],
   "source": [
    "relevance_threshold = 4\n",
    "\n",
    "filtered_docs = [\n",
    "    doc for doc in scored_docs\n",
    "    if doc.score >= relevance_threshold\n",
    "]\n",
    "\n",
    "len(filtered_docs)"
   ]
  },
  {
   "cell_type": "code",
   "execution_count": 73,
   "metadata": {},
   "outputs": [
    {
     "name": "stdout",
     "output_type": "stream",
     "text": [
      "Markdown content copied to clipboard!\n"
     ]
    }
   ],
   "source": [
    "from IPython.display import display, Markdown\n",
    "import pyperclip\n",
    "\n",
    "# Create a string to store all markdown content\n",
    "markdown_output = \"\"\n",
    "\n",
    "for i, doc in enumerate(filtered_docs):\n",
    "    # Add content to the string\n",
    "    markdown_output += f\"\\n## Document {i+1}\\n\\n\"\n",
    "    markdown_output += f\"{doc.doc.text}\\n\"\n",
    "\n",
    "# Copy to clipboard\n",
    "pyperclip.copy(markdown_output)\n",
    "print(\"Markdown content copied to clipboard!\")"
   ]
  },
  {
   "cell_type": "code",
   "execution_count": 38,
   "metadata": {},
   "outputs": [],
   "source": [
    "store_docs([doc.doc for doc in filtered_docs], \"baseline_docs.json\")"
   ]
  },
  {
   "cell_type": "markdown",
   "metadata": {},
   "source": [
    "## Cross Encoder"
   ]
  },
  {
   "cell_type": "code",
   "execution_count": 2,
   "metadata": {},
   "outputs": [
    {
     "name": "stderr",
     "output_type": "stream",
     "text": [
      "Fetching 9 files: 100%|██████████| 9/9 [00:00<00:00, 4511.62it/s]\n"
     ]
    }
   ],
   "source": [
    "import os\n",
    "from huggingface_hub import snapshot_download\n",
    "from llama_index.core.postprocessor import SentenceTransformerRerank\n",
    "\n",
    "# Download model explicitly (one-time operation)\n",
    "model_name = 'cross-encoder/ms-marco-MiniLM-L-6-v2'\n",
    "cache_dir = './models'\n",
    "\n",
    "# Download model files\n",
    "_ = snapshot_download(\n",
    "    repo_id=model_name,\n",
    "    cache_dir=cache_dir,\n",
    "    local_dir=os.path.join(cache_dir, model_name)\n",
    ")\n",
    "\n",
    "# Create reranker (will use cached model)\n",
    "sentence_transformer_rerank = SentenceTransformerRerank(\n",
    "    model=\"./models/cross-encoder/ms-marco-MiniLM-L-6-v2\",\n",
    "    top_n=50\n",
    ")"
   ]
  },
  {
   "cell_type": "code",
   "execution_count": 11,
   "metadata": {},
   "outputs": [],
   "source": [
    "a = SentenceTransformerRerank(\n",
    "    model=\"./models/cross-encoder/ms-marco-MiniLM-L-6-v2\",\n",
    "    top_n=50\n",
    ")"
   ]
  },
  {
   "cell_type": "code",
   "execution_count": null,
   "metadata": {},
   "outputs": [],
   "source": [
    "from llama_index.core.postprocessor import SentenceTransformerRerank\n",
    "\n",
    "sentence_transformer_rerank = SentenceTransformerRerank(\n",
    "    model='cross-encoder/ms-marco-MiniLM-L-6-v2',\n",
    "    top_n=top_n\n",
    ")"
   ]
  },
  {
   "cell_type": "code",
   "execution_count": 12,
   "metadata": {},
   "outputs": [],
   "source": [
    "cross_encoder_retriever = index.as_retriever(similarity_top_k=top_n, postprocessor=a) # This will retrieve and rerank the top_n documents"
   ]
  },
  {
   "cell_type": "code",
   "execution_count": 13,
   "metadata": {},
   "outputs": [],
   "source": [
    "docs = cross_encoder_retriever.retrieve(question)"
   ]
  },
  {
   "cell_type": "code",
   "execution_count": null,
   "metadata": {},
   "outputs": [],
   "source": [
    "# a = index.as_retriever(similarity_top_k=top_n, postprocessors=[sentence_transformer_rerank])\n",
    "# b = a.retrieve(question)"
   ]
  },
  {
   "cell_type": "code",
   "execution_count": 14,
   "metadata": {},
   "outputs": [
    {
     "data": {
      "text/plain": [
       "50"
      ]
     },
     "execution_count": 14,
     "metadata": {},
     "output_type": "execute_result"
    }
   ],
   "source": [
    "len(docs)"
   ]
  },
  {
   "cell_type": "code",
   "execution_count": 19,
   "metadata": {},
   "outputs": [
    {
     "data": {
      "text/plain": [
       "TextNode(id_='ce2f8b57-1222-450e-810f-e0ac68b36719', embedding=None, metadata={'title': 'World of Our Youth', 'author': 'Sayyid Muhammad Husayn Fadlullah - XKP', 'language': 'en', 'description': \"Youth in the light of Qur'an, essential models, responsibilities, and the Shari'a view.\\nby: Ayatullah al-Udhma al-Sayyid Muhammad Husayn Fadlullah \\nTranslated by: Khaleel Mohammed \\nPublished by: Organization for the Advancement of Islamic Knowledge and Humanitarian Services \\nMontreal, Canada\", 'type': 'book', 'embeddings': 'openaiembeddings', 'id': 'epub-9ec6d83f82b34ec6b6f28fcc72138fe0'}, excluded_embed_metadata_keys=['file_name', 'file_type', 'file_size', 'creation_date', 'last_modified_date', 'last_accessed_date'], excluded_llm_metadata_keys=['file_name', 'file_type', 'file_size', 'creation_date', 'last_modified_date', 'last_accessed_date'], relationships={<NodeRelationship.SOURCE: '1'>: RelatedNodeInfo(node_id='623cb6a6-e2b3-4200-86d4-e352cd2f49bd', node_type='4', metadata={'title': 'World of Our Youth', 'author': 'Sayyid Muhammad Husayn Fadlullah - XKP', 'language': 'en', 'description': \"Youth in the light of Qur'an, essential models, responsibilities, and the Shari'a view.\\nby: Ayatullah al-Udhma al-Sayyid Muhammad Husayn Fadlullah \\nTranslated by: Khaleel Mohammed \\nPublished by: Organization for the Advancement of Islamic Knowledge and Humanitarian Services \\nMontreal, Canada\", 'type': 'book', 'embeddings': 'openaiembeddings', 'id': 'epub-9ec6d83f82b34ec6b6f28fcc72138fe0'}, hash='14b5b62a8807e3b2ae539f6e84b2f0cab2318b2413b4999f75327ea01158c594'), <NodeRelationship.PREVIOUS: '2'>: RelatedNodeInfo(node_id='ad91c8a7-3a94-4c42-8107-cbc5973faf91', node_type='1', metadata={'title': 'World of Our Youth', 'author': 'Sayyid Muhammad Husayn Fadlullah - XKP', 'language': 'en', 'description': \"Youth in the light of Qur'an, essential models, responsibilities, and the Shari'a view.\\nby: Ayatullah al-Udhma al-Sayyid Muhammad Husayn Fadlullah \\nTranslated by: Khaleel Mohammed \\nPublished by: Organization for the Advancement of Islamic Knowledge and Humanitarian Services \\nMontreal, Canada\", 'type': 'book', 'embeddings': 'openaiembeddings', 'id': 'epub-9ec6d83f82b34ec6b6f28fcc72138fe0'}, hash='ca5c84fd4d642e8b0327da161561b95ec21ee832e350b5c2c2e0582fcb19d701'), <NodeRelationship.NEXT: '3'>: RelatedNodeInfo(node_id='246f4a43-f69b-4e2e-8f8e-ca368943de11', node_type='1', metadata={}, hash='fea9fa0e5033d84bfaea7b62ea65862df432583016d270e3cf51d146d02eb218')}, metadata_template='{key}: {value}', metadata_separator='\\n', text='****\\n\\n**Responsibilities of Those Whose Call is to Islam**\\n\\nIslam directs everyone who calls to Islam-the preacher, the guide-thus: \"You\\nmust give of everything you have in order to guide another, to change that\\nperson\\'s line of thinking, and to correct his way. When you do this, you will\\nhave fulfilled your obligations in this respect.\" In the words of God: \" ** _O\\nyou who believe! Save yourselves and your families from fire whose fuel is\\nhuman beings and stones, over which are angels, stern and sever They do not\\ndisobey God in that which they are ordered, but do as they are commanded_** _\"\\n(al-Tahrim,_ 66:6). In the interpretation of this verse, a question was put\\nforward to one of the  _Imams._ It was asked, \"How do we save them?\" He said,\\n\"Commanding them and prohibiting them.\" It was said, \"We command and we\\nprohibit, but they do not obey us.\" He said, \"If you have commanded and\\nprohibited them, you have fulfilled your duties.\"\\n\\nThe Imam, in his answer with respect to the verse did not intend the command\\nand the prohibition to have a superficial meaning. In fact, he meant them as\\ntwo things achievable by word, deed, or environment. Therefore, do what you\\ncan do to fulfill your obligation and prohibit what is forbidden. When you\\nhave availed yourself of every approach, then there is no further obligation\\non you.', mimetype='text/plain', start_char_idx=72184, end_char_idx=73521, metadata_seperator='\\n', text_template='{metadata_str}\\n\\n{content}')"
      ]
     },
     "execution_count": 19,
     "metadata": {},
     "output_type": "execute_result"
    }
   ],
   "source": [
    "docs[0].node"
   ]
  },
  {
   "cell_type": "code",
   "execution_count": 36,
   "metadata": {},
   "outputs": [],
   "source": [
    "store_docs(docs, \"cross_encoder_docs.json\")"
   ]
  },
  {
   "cell_type": "markdown",
   "metadata": {},
   "source": [
    "## Cross Encoder with Query Fusion"
   ]
  },
  {
   "cell_type": "code",
   "execution_count": 74,
   "metadata": {},
   "outputs": [],
   "source": [
    "from llama_index.core.retrievers import QueryFusionRetriever\n",
    "\n",
    "cross_encoder_retriever_with_query_fusion = QueryFusionRetriever(\n",
    "    [cross_encoder_retriever],\n",
    "    similarity_top_k=top_n,\n",
    "    num_queries=num_queries,  # set this to 1 to disable query generation\n",
    "    use_async=True,\n",
    "    verbose=True,\n",
    "    query_gen_prompt=query_gen_prompt,\n",
    "    llm=llm,\n",
    ")"
   ]
  },
  {
   "cell_type": "code",
   "execution_count": 75,
   "metadata": {},
   "outputs": [
    {
     "name": "stdout",
     "output_type": "stream",
     "text": [
      "Generated queries:\n",
      "1. What responsibilities do we have in the world we live in?\n",
      "2. How can we fulfill our obligations in this world?\n",
      "3. What role are we meant to play in the grand scheme of things on Earth?\n",
      "4. In what ways can we contribute positively to the world around us?\n"
     ]
    },
    {
     "data": {
      "text/plain": [
       "50"
      ]
     },
     "execution_count": 75,
     "metadata": {},
     "output_type": "execute_result"
    }
   ],
   "source": [
    "docs2 = cross_encoder_retriever_with_query_fusion.retrieve(question)\n",
    "len(docs2)"
   ]
  },
  {
   "cell_type": "code",
   "execution_count": 76,
   "metadata": {},
   "outputs": [
    {
     "name": "stdout",
     "output_type": "stream",
     "text": [
      "Markdown content copied to clipboard!\n"
     ]
    }
   ],
   "source": [
    "from IPython.display import display, Markdown\n",
    "import pyperclip\n",
    "\n",
    "# Create a string to store all markdown content\n",
    "markdown_output = \"\"\n",
    "\n",
    "for i, doc in enumerate(docs2):\n",
    "    # Add content to the string\n",
    "    markdown_output += f\"\\n## Document {i+1}\\n\\n\"\n",
    "    markdown_output += f\"{doc.text}\\n\"\n",
    "\n",
    "# Copy to clipboard\n",
    "pyperclip.copy(markdown_output)\n",
    "print(\"Markdown content copied to clipboard!\")"
   ]
  },
  {
   "cell_type": "code",
   "execution_count": 77,
   "metadata": {},
   "outputs": [
    {
     "data": {
      "text/plain": [
       "'****\\n\\n**Responsibilities of Those Whose Call is to Islam**\\n\\nIslam directs everyone who calls to Islam-the preacher, the guide-thus: \"You\\nmust give of everything you have in order to guide another, to change that\\nperson\\'s line of thinking, and to correct his way. When you do this, you will\\nhave fulfilled your obligations in this respect.\" In the words of God: \" ** _O\\nyou who believe! Save yourselves and your families from fire whose fuel is\\nhuman beings and stones, over which are angels, stern and sever They do not\\ndisobey God in that which they are ordered, but do as they are commanded_** _\"\\n(al-Tahrim,_ 66:6). In the interpretation of this verse, a question was put\\nforward to one of the  _Imams._ It was asked, \"How do we save them?\" He said,\\n\"Commanding them and prohibiting them.\" It was said, \"We command and we\\nprohibit, but they do not obey us.\" He said, \"If you have commanded and\\nprohibited them, you have fulfilled your duties.\"\\n\\nThe Imam, in his answer with respect to the verse did not intend the command\\nand the prohibition to have a superficial meaning. In fact, he meant them as\\ntwo things achievable by word, deed, or environment. Therefore, do what you\\ncan do to fulfill your obligation and prohibit what is forbidden. When you\\nhave availed yourself of every approach, then there is no further obligation\\non you.'"
      ]
     },
     "execution_count": 77,
     "metadata": {},
     "output_type": "execute_result"
    }
   ],
   "source": [
    "docs2[0].text"
   ]
  },
  {
   "cell_type": "code",
   "execution_count": 4,
   "metadata": {},
   "outputs": [
    {
     "ename": "NameError",
     "evalue": "name 'docs2' is not defined",
     "output_type": "error",
     "traceback": [
      "\u001b[1;31m---------------------------------------------------------------------------\u001b[0m",
      "\u001b[1;31mNameError\u001b[0m                                 Traceback (most recent call last)",
      "Cell \u001b[1;32mIn[4], line 1\u001b[0m\n\u001b[1;32m----> 1\u001b[0m \u001b[43mdocs2\u001b[49m[\u001b[38;5;241m0\u001b[39m]\u001b[38;5;241m.\u001b[39mmetadata\n",
      "\u001b[1;31mNameError\u001b[0m: name 'docs2' is not defined"
     ]
    }
   ],
   "source": [
    "docs2[0].metadata"
   ]
  },
  {
   "cell_type": "code",
   "execution_count": 45,
   "metadata": {},
   "outputs": [],
   "source": [
    "store_docs(docs2, \"cross_encoder_retriever_with_query_fusion.json\")"
   ]
  }
 ],
 "metadata": {
  "kernelspec": {
   "display_name": ".venv",
   "language": "python",
   "name": "python3"
  },
  "language_info": {
   "codemirror_mode": {
    "name": "ipython",
    "version": 3
   },
   "file_extension": ".py",
   "mimetype": "text/x-python",
   "name": "python",
   "nbconvert_exporter": "python",
   "pygments_lexer": "ipython3",
   "version": "3.11.5"
  }
 },
 "nbformat": 4,
 "nbformat_minor": 2
}
