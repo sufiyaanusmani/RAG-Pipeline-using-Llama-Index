{
 "cells": [
  {
   "cell_type": "markdown",
   "metadata": {},
   "source": [
    "# 1. Setup"
   ]
  },
  {
   "cell_type": "markdown",
   "metadata": {},
   "source": [
    "## 1.1 Installing Libraries\n",
    "\n",
    "Reference: [Llama Index Installation and Setup](https://docs.llamaindex.ai/en/stable/getting_started/installation/)"
   ]
  },
  {
   "cell_type": "code",
   "execution_count": null,
   "metadata": {},
   "outputs": [],
   "source": [
    "!pip install python-dotenv llama-index chromadb llama-index-vector-stores-chroma llama-index-retrievers-bm25 EbookLib html2text langchain-text-splitters"
   ]
  },
  {
   "cell_type": "markdown",
   "metadata": {},
   "source": [
    "## 1.2 Importing Libraries"
   ]
  },
  {
   "cell_type": "code",
   "execution_count": 1,
   "metadata": {},
   "outputs": [],
   "source": [
    "import chromadb\n",
    "\n",
    "from llama_index.vector_stores.chroma import ChromaVectorStore\n",
    "from llama_index.embeddings.openai import OpenAIEmbedding\n",
    "from llama_index.core import VectorStoreIndex, SimpleDirectoryReader, PromptTemplate, get_response_synthesizer\n",
    "from llama_index.core.node_parser import SentenceSplitter\n",
    "from llama_index.core.ingestion import IngestionPipeline\n",
    "from llama_index.llms.openai import OpenAI\n",
    "from llama_index.core.retrievers import QueryFusionRetriever\n",
    "\n",
    "from ebooklib import epub\n",
    "import uuid\n",
    "import os\n",
    "from pathlib import Path\n",
    "from dotenv import load_dotenv\n",
    "import nest_asyncio\n",
    "from enum import Enum\n",
    "\n",
    "nest_asyncio.apply()"
   ]
  },
  {
   "cell_type": "markdown",
   "metadata": {},
   "source": [
    "# 2. Loading Data from Directory using `SimpleDirectoryReader`\n",
    "\n",
    "Reference: [Loaders](https://docs.llamaindex.ai/en/stable/understanding/loading/loading/)"
   ]
  },
  {
   "cell_type": "code",
   "execution_count": 5,
   "metadata": {},
   "outputs": [],
   "source": [
    "def extractor(path):\n",
    "    return {\"title\": \"Sufiyaan\"}"
   ]
  },
  {
   "cell_type": "code",
   "execution_count": 9,
   "metadata": {},
   "outputs": [],
   "source": [
    "new_book = SimpleDirectoryReader(input_files=[\"./data/pdf/custom_splitter.pdf\"]).load_data()\n",
    "\n",
    "# This way, we can load a new book and can use the same VectorStore object to add the new book to the index"
   ]
  },
  {
   "cell_type": "code",
   "execution_count": 10,
   "metadata": {},
   "outputs": [
    {
     "name": "stdout",
     "output_type": "stream",
     "text": [
      "Total number of pages: 2070\n"
     ]
    }
   ],
   "source": [
    "print(f\"Total number of pages: {len(new_book)}\")"
   ]
  },
  {
   "cell_type": "code",
   "execution_count": 11,
   "metadata": {},
   "outputs": [
    {
     "name": "stdout",
     "output_type": "stream",
     "text": [
      "{'page_label': '1', 'file_name': 'custom_splitter.pdf', 'file_path': 'data\\\\pdf\\\\custom_splitter.pdf', 'file_type': 'application/pdf', 'file_size': 7259941, 'creation_date': '2024-12-04', 'last_modified_date': '2024-11-17'}\n"
     ]
    }
   ],
   "source": [
    "print(new_book[0].metadata)"
   ]
  },
  {
   "cell_type": "code",
   "execution_count": 6,
   "metadata": {},
   "outputs": [
    {
     "name": "stdout",
     "output_type": "stream",
     "text": [
      "********  \n",
      "CHUNK 1  \n",
      "********  \n",
      " \n",
      "**Sub Title:**  \n",
      "According to the Fatawa of Ayatullah al Uzma Sayyid Ali al -Husaini Seestani  \n",
      " \n",
      "Laws on cleanliness, prayers, fasting, hajj, transactions, marriage, and other  \n",
      "topics. According to the Risalah of Ayatullah Ali al -Husayni Al -Seestani.  \n",
      " \n",
      "Get PDF [3] Get EPUB [4] Get MOBI [5]  \n",
      " \n",
      "# Important Note  \n",
      " \n",
      "The * sign after a number denotes that there is a total or partial variation  \n",
      "from the fatwa of Marhum Ayatullah Al Uzama Syed Abul Qasim Al Khu’i. These  \n",
      "laws are also available online at Al -Islam.org.  \n",
      " \n",
      "# Taqlid: Following a Mujtahid  \n",
      " \n",
      " \n",
      "--------------------------------------------------  \n",
      "********  \n",
      "CHUNK 2  \n",
      "********  \n",
      " \n",
      "**Issue 1:**  \n",
      "* It is necessary for a Muslim to believe in the fundamentals of  \n",
      "faith with his own insight and understanding, and he cannot follow anyone in  \n"
     ]
    }
   ],
   "source": [
    "print(new_book[0].text)"
   ]
  }
 ],
 "metadata": {
  "kernelspec": {
   "display_name": ".venv",
   "language": "python",
   "name": "python3"
  },
  "language_info": {
   "codemirror_mode": {
    "name": "ipython",
    "version": 3
   },
   "file_extension": ".py",
   "mimetype": "text/x-python",
   "name": "python",
   "nbconvert_exporter": "python",
   "pygments_lexer": "ipython3",
   "version": "3.11.5"
  }
 },
 "nbformat": 4,
 "nbformat_minor": 2
}
