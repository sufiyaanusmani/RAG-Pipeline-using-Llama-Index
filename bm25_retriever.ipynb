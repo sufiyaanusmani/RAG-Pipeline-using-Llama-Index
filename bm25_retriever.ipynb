{
 "cells": [
  {
   "cell_type": "markdown",
   "metadata": {},
   "source": [
    "**References**\n",
    "\n",
    "[BM25 Retriever - LlamaIndex](https://docs.llamaindex.ai/en/stable/examples/retrievers/bm25_retriever/)\n",
    "\n",
    "[Fusion Retrieval with LlamaIndex - GitHub](https://github.com/NirDiamant/RAG_Techniques/blob/main/all_rag_techniques/fusion_retrieval_with_llamaindex.ipynb)"
   ]
  },
  {
   "cell_type": "markdown",
   "metadata": {},
   "source": [
    "# Setup"
   ]
  },
  {
   "cell_type": "code",
   "execution_count": 1,
   "metadata": {},
   "outputs": [],
   "source": [
    "import nest_asyncio\n",
    "\n",
    "nest_asyncio.apply()"
   ]
  },
  {
   "cell_type": "code",
   "execution_count": 2,
   "metadata": {},
   "outputs": [],
   "source": [
    "from llama_index.llms.openai import OpenAI\n",
    "from llama_index.embeddings.openai import OpenAIEmbedding\n",
    "from dotenv import load_dotenv\n",
    "import os\n",
    "from llama_index.core.settings import Settings\n",
    "from llama_index.core.constants import DEFAULT_TEMPERATURE\n",
    "\n",
    "load_dotenv()\n",
    "OPENAI_API_KEY = os.getenv(\"OPENAI_API_KEY\")\n",
    "\n",
    "Settings.llm = OpenAI(api_key=OPENAI_API_KEY, model_name=\"gpt-4o-mini\", temperature=DEFAULT_TEMPERATURE)\n",
    "Settings.embed_model = OpenAIEmbedding(model_name=\"text-embedding-ada-002\", api_key=OPENAI_API_KEY)"
   ]
  },
  {
   "cell_type": "markdown",
   "metadata": {},
   "source": [
    "# Vectorstore"
   ]
  },
  {
   "cell_type": "code",
   "execution_count": 3,
   "metadata": {},
   "outputs": [],
   "source": [
    "import chromadb\n",
    "from llama_index.vector_stores.chroma import ChromaVectorStore\n",
    "\n",
    "def get_vectorstore() -> ChromaVectorStore:\n",
    "    \"\"\"\n",
    "    Initializes and returns a ChromaVectorStore instance.\n",
    "    This function creates a persistent client for the Chroma database using the\n",
    "    directory specified by Directory.VECTORSTORE_DIRECTORY. It then retrieves or\n",
    "    creates a collection named \"transcription_project\" within the database and\n",
    "    returns a ChromaVectorStore instance associated with this collection.\n",
    "\n",
    "    Returns\n",
    "    -------\n",
    "        ChromaVectorStore: An instance of ChromaVectorStore associated with the\n",
    "        \"transcription_project\" collection.\n",
    "\n",
    "    \"\"\"\n",
    "    db = chromadb.PersistentClient(path=\"../the-server/vectorstore/\")\n",
    "    chroma_collection = db.get_or_create_collection(\"transcription_project\")\n",
    "    return ChromaVectorStore(chroma_collection=chroma_collection)"
   ]
  },
  {
   "cell_type": "markdown",
   "metadata": {},
   "source": [
    "# Index"
   ]
  },
  {
   "cell_type": "code",
   "execution_count": 4,
   "metadata": {},
   "outputs": [],
   "source": [
    "from llama_index.core import VectorStoreIndex\n",
    "\n",
    "def get_index() -> VectorStoreIndex:\n",
    "    \"\"\"\n",
    "    Retrieves a VectorStoreIndex instance.\n",
    "    This function initializes a vector store using the `get_vectorstore` function\n",
    "    and then creates a `VectorStoreIndex` from the vector store using the specified\n",
    "    embedding model from the settings.\n",
    "\n",
    "    Returns\n",
    "    -------\n",
    "        VectorStoreIndex: An instance of VectorStoreIndex created from the vector store.\n",
    "\n",
    "    \"\"\"\n",
    "    vectorstore = get_vectorstore()\n",
    "    return VectorStoreIndex.from_vector_store(\n",
    "        vectorstore,\n",
    "        embed_model=Settings.embed_model,\n",
    "    )"
   ]
  },
  {
   "cell_type": "code",
   "execution_count": 5,
   "metadata": {},
   "outputs": [],
   "source": [
    "from llama_index.core.response.notebook_utils import display_source_node\n",
    "\n",
    "def display_retrieved_nodes(retrieved_nodes, source_length=5000):\n",
    "    \"\"\"\n",
    "    Displays the retrieved nodes using the display_source_node function.\n",
    "\n",
    "    Parameters\n",
    "    ----------\n",
    "    retrieved_nodes : list\n",
    "        List of nodes retrieved by the retriever.\n",
    "    source_length : int, optional\n",
    "        The length of the source content to display, by default 5000.\n",
    "    \"\"\"\n",
    "    for node in retrieved_nodes:\n",
    "        display_source_node(node, source_length=source_length)"
   ]
  },
  {
   "cell_type": "code",
   "execution_count": 15,
   "metadata": {},
   "outputs": [],
   "source": [
    "question = \"Who was Salman Al Farsi a son of?\""
   ]
  },
  {
   "cell_type": "code",
   "execution_count": 6,
   "metadata": {},
   "outputs": [],
   "source": [
    "top_n = 20"
   ]
  },
  {
   "cell_type": "markdown",
   "metadata": {},
   "source": [
    "# BM25 Retriever\n",
    "\n",
    "To use a BM25 retriever with ChromaDB setup, we'll need to ensure that we have access to the text data stored in ChromaDB, as BM25 is a text-based retrieval method. Here's how we can set up and use a BM25 retriever with ChromaDB:\n",
    "\n",
    "**Access Text Data**: Ensure we can extract the text content from our ChromaDB. This might involve retrieving documents and their associated text fields.\n",
    "\n",
    "**Initialize BM25 Retriever**: Use the BM25Retriever class to create a retriever that operates on the text data.\n",
    "\n",
    "**Perform Retrieval**: Execute queries using the BM25 retriever to get relevant documents based on text similarity."
   ]
  },
  {
   "cell_type": "markdown",
   "metadata": {},
   "source": [
    "## Accessing All Nodes"
   ]
  },
  {
   "cell_type": "code",
   "execution_count": 8,
   "metadata": {},
   "outputs": [],
   "source": [
    "vectorstore = get_vectorstore()"
   ]
  },
  {
   "cell_type": "code",
   "execution_count": 9,
   "metadata": {},
   "outputs": [],
   "source": [
    "index = get_index()"
   ]
  },
  {
   "cell_type": "code",
   "execution_count": 10,
   "metadata": {},
   "outputs": [],
   "source": [
    "documents = vectorstore._get(limit=None, where={}) # Get all documents"
   ]
  },
  {
   "cell_type": "code",
   "execution_count": 11,
   "metadata": {},
   "outputs": [],
   "source": [
    "nodes = documents.nodes # Get all nodes"
   ]
  },
  {
   "cell_type": "code",
   "execution_count": 12,
   "metadata": {},
   "outputs": [
    {
     "data": {
      "text/plain": [
       "(166862, llama_index.core.schema.TextNode)"
      ]
     },
     "execution_count": 12,
     "metadata": {},
     "output_type": "execute_result"
    }
   ],
   "source": [
    "len(nodes), type(nodes[0])"
   ]
  },
  {
   "cell_type": "markdown",
   "metadata": {},
   "source": [
    "## Initializing BM25 Retriever"
   ]
  },
  {
   "cell_type": "code",
   "execution_count": 13,
   "metadata": {},
   "outputs": [
    {
     "name": "stdout",
     "output_type": "stream",
     "text": [
      "resource module not available on Windows\n"
     ]
    },
    {
     "name": "stderr",
     "output_type": "stream",
     "text": [
      "e:\\Capelin\\llama-index-test\\.venv\\Lib\\site-packages\\tqdm\\auto.py:21: TqdmWarning: IProgress not found. Please update jupyter and ipywidgets. See https://ipywidgets.readthedocs.io/en/stable/user_install.html\n",
      "  from .autonotebook import tqdm as notebook_tqdm\n"
     ]
    }
   ],
   "source": [
    "from llama_index.retrievers.bm25 import BM25Retriever\n",
    "\n",
    "# We can pass in the index, docstore, or list of nodes to create the retriever\n",
    "bm25_retriever = BM25Retriever.from_defaults(\n",
    "    nodes=nodes,\n",
    "    similarity_top_k=top_n,\n",
    "    # Optional: We can pass in the stemmer and set the language for stopwords\n",
    "    # This is important for removing stopwords and stemming the query + text\n",
    "    # The default is english for both\n",
    ")"
   ]
  },
  {
   "cell_type": "code",
   "execution_count": 16,
   "metadata": {},
   "outputs": [],
   "source": [
    "retrieved_nodes = bm25_retriever.retrieve(question)"
   ]
  },
  {
   "cell_type": "code",
   "execution_count": 17,
   "metadata": {},
   "outputs": [
    {
     "data": {
      "text/plain": [
       "20"
      ]
     },
     "execution_count": 17,
     "metadata": {},
     "output_type": "execute_result"
    }
   ],
   "source": [
    "len(retrieved_nodes)"
   ]
  },
  {
   "cell_type": "code",
   "execution_count": 18,
   "metadata": {},
   "outputs": [
    {
     "data": {
      "text/markdown": [
       "**Node ID:** b4220de6-90dd-48d8-b8c8-e51d95f8c75e<br>**Similarity:** 7.0570831298828125<br>**Text:** ![Cover](images/cover.png)\n",
       "\n",
       "\n",
       "![IslamicMobility](images/logo-feedbooks-tiny.png)\n",
       "\n",
       "# Salman Al Muhammadi\n",
       "\n",
       "## Kamal al-Syyed - XKP\n",
       "\n",
       "  \n",
       "**Published:** 2012  \n",
       "**Tag(s):** companion prophet ali imam shia shiite shiaism husain salman farsi\n",
       "persian iran syria holy xkp madina makka pagan madain kufa\n",
       "\n",
       "\n",
       "## Chapter 1 The Son of Islam\n",
       "\n",
       "It was before noon. Some Muslims sat in Prophet's Mosque waiting for Azan\n",
       "(call to prayer) to say noon prayer.\n",
       "\n",
       "Salman entered mosque and greeted his believing brothers.\n",
       "\n",
       "The Muslims wanted to know the Persian man's tribe. They mentioned their\n",
       "tribes loudly to let Salman hear them.\n",
       "\n",
       "One of them said:\n",
       "\n",
       "_I belong to Tamim's tribe._\n",
       "\n",
       "Another said:\n",
       "\n",
       "_I belong to the Quraish._\n",
       "\n",
       "A third said:\n",
       "\n",
       "_I belong to al-Aus tribe._\n",
       "\n",
       "And so on.\n",
       "\n",
       "But Salman was silent. They wanted to know his tribe. So they asked him:\n",
       "\n",
       "_Salman, where are you from?_\n",
       "\n",
       "To teach them the meaning of Islam, Salman answered:\n",
       "\n",
       "_I'm the son on Islam! I was lost! So, Allah's guided me with Muhammad. I was\n",
       "poor! So, Allah's made me rich with Muhammad. I was a slave! So, Allah's\n",
       "released me with Muhammad. This is my tribe!_\n",
       "\n",
       "The Muslims in mosque kept silent because Salman taught them a lesson of\n",
       "Islam.<br>"
      ],
      "text/plain": [
       "<IPython.core.display.Markdown object>"
      ]
     },
     "metadata": {},
     "output_type": "display_data"
    },
    {
     "data": {
      "text/markdown": [
       "**Node ID:** 242cd2bd-ec3c-4ccc-b060-f18e34b38f4c<br>**Similarity:** 6.40824556350708<br>**Text:** Then will\n",
       "arise Salman, Miqdad and AbuDharr.\"[39]\n",
       "\n",
       "The Holy Prophet said, \"Allah has ordered me to love four of my\n",
       "companions.\"People asked who those four companions were. The Holy Prophet\n",
       "said, \"'Ali bin AbiTalib, Salman, Miqdad and Abu Dharr.\"[40]According to\n",
       "traditions, Allah sent forSalman gifts and presents from Paradise; and the\n",
       "Paradise eagerly awaited hisarrival.[41]\n",
       "\n",
       "Once Mansur bin Buzurg, himself of Persian origin, asked Imam Ja'far al-Sadiq\n",
       "as towhy he remembered Salman al-Farsi so much. The Imam said, \"Do not say\n",
       "'Salmanal-Farsi (the Persian)'. Say, 'Salman of Muhammad.' You should know\n",
       "that the reasonof my often remembering him are three of his special virtues:\n",
       "First, he discarded himown preferences in view of the preferences of Amirul\n",
       "mu'minin 'Ali. Second, he lovedpoor and preferred them against rich and\n",
       "wealthy persons. Third, he loved knowledgeand knowledgeable persons. Verily\n",
       "Salman was a good servant of God, a pure Muslimand he was not from the\n",
       "polytheists.<br>"
      ],
      "text/plain": [
       "<IPython.core.display.Markdown object>"
      ]
     },
     "metadata": {},
     "output_type": "display_data"
    },
    {
     "data": {
      "text/markdown": [
       "**Node ID:** 7e803d93-6e97-4bc4-8686-71aafe7682dc<br>**Similarity:** 6.330061912536621<br>**Text:** ## Chapter 90 Q. 89: ABOUT SALMAN AL-FARSI (R.A.)\n",
       "\n",
       "_Was Salman Al-Farsi (r.a.) governor of Mada'in at the time of his death? When\n",
       "did he die and where?_\n",
       "\n",
       "**A:** Salman (r.a.) was appointed governor of Mada'in by the 2nd caliph. The\n",
       "caliph usually changed governors every two years. When he got the news that\n",
       "Salman (r.a.) was about to enter Medina, the caliph went out with many\n",
       "companions to welcome him. It was a very unusual honour paid to returning\n",
       "governor. The reason became clear when they saw Salman (r.a.) returning with\n",
       "the same robe in which he had set out. He had not taken from the treasury\n",
       "anything for himself during his governorate.\n",
       "\n",
       "Then Salman (r.a.) settled in Basrah, where he married a lady. After a few\n",
       "years, he shifted with his family to Mada'in. I think he did so because\n",
       "Mada'in people spoke Persian.\n",
       "\n",
       "He died in Mada'in in the last year of 'Uthman's caliphate, i.e. in 36 A.H.\n",
       "(Vide At-Tabaqat by Ibn Sa'd, vol.4, p.93).<br>"
      ],
      "text/plain": [
       "<IPython.core.display.Markdown object>"
      ]
     },
     "metadata": {},
     "output_type": "display_data"
    },
    {
     "data": {
      "text/markdown": [
       "**Node ID:** 0f7de2b7-4a93-4842-a02c-b4af9530aa80<br>**Similarity:** 6.204101085662842<br>**Text:** After the martyrdom of this epitome of perfect faith, Hajjaaj suffered a\n",
       "derangement of his senses and did not live for more than fifteen nights.\n",
       "Before his death, he would occasionally lose consciousness, but regaining it,\n",
       "he would repeatedly mutter:\n",
       "\n",
       "“Why did I ever get involved with Sa’eed Ibn Jubair?”[15]127\n",
       "\n",
       "\n",
       "### Salman Farsi’s Rank\n",
       "\n",
       "  \n",
       "Faith has ten ranks and Salman Farsi was on its tenth rank. He possessed\n",
       "knowledge of the unseen, the ability to interpret dreams and misfortunes, was\n",
       "well versed in genealogy and had even been favoured with gifts of Paradise, in\n",
       "this world. The Holy Prophet (s.a.w.) said: “Whenever Jibraeel would descend,\n",
       "he would, on behalf of God, say:  _Convey my salutation to Salman!_ ”\n",
       "\n",
       "Here is an example of the high degree of Salman’s faith. Once, Abu Dharr paid\n",
       "Salman a visit. Salman had placed a utensil over the fire to heat its\n",
       "contents. The two men sat together for some time, talking to each other, when\n",
       "suddenly the vessel toppled over, but to Abu Dharr’s amazement, its contents\n",
       "did not spill. Salman, picking the utensil up, placed it back upon the fire. A\n",
       "little later, the vessel fell over again, but once again its contents did not\n",
       "spill. Again Salman picked it up and placed the vessel upright.\n",
       "\n",
       "Amazed, Abu Dharr hurried out of Salman’s house and was lost in contemplation\n",
       "over what he had witnessed. He happened to come across Amirul Mu'mineen (a.s.)\n",
       "on the way and narrated the incident to him.\n",
       "\n",
       "Having heard Abu Dharr’s narration, the Imam (a.s.)<br>"
      ],
      "text/plain": [
       "<IPython.core.display.Markdown object>"
      ]
     },
     "metadata": {},
     "output_type": "display_data"
    },
    {
     "data": {
      "text/markdown": [
       "**Node ID:** 007843b4-9294-4b46-b312-8ed8c9ff02eb<br>**Similarity:** 6.180963516235352<br>**Text:** Thus,\n",
       "in this light, anyone who believes in Islam and its Prophet must necessarily\n",
       "declare his belief in the existence of the promised Mahdi who is now in\n",
       "occultation.\n",
       "\n",
       "Now we shall relate two ahadith on this issue from the famous Sunni book,\n",
       "_Yanābi‘u 'l-Muwaddah_ :\n",
       "\n",
       "1\\. The Prophet said, “Al-Mahdi is a descendent of mine. He will be in\n",
       "concealment, and when he manifests himself, the earth will become filled with\n",
       "justice just as it was previously filled with injustice.”\n",
       "\n",
       "2\\. Salman al-Farsi says that he went to the Prophet when Husayn bin ‘Ali was\n",
       "sitting in his lap and the Prophet was kissing his eyes and mouth, and then\n",
       "the Prophet said to Husayn, “You are a chief, son of a chief, and the brother\n",
       "of a chief; you are an Imam, son of an Imam, and the brother of an Imam. You\n",
       "are the Proof (_hujjah_), son of a proof and the brother of a proof; you will\n",
       "be the father of nine proofs of whom the ninth will be the  _qā'im_ (one who\n",
       "will establish the divine rule on this earth).”\n",
       "\n",
       "\n",
       "### 5\\. The Length of al-Mahdi’s Life\n",
       "\n",
       "We believe that the lengthening of a man's life is not an impossibility,\n",
       "because it is explicitly stated in the Qur'ān that,**_“We sent Nuh to his\n",
       "people and so he lived among them a thousand years, all but fifty.”_ (29:14)**\n",
       "Even modern science does not deny the possibility of lengthening the human\n",
       "lifespan.<br>"
      ],
      "text/plain": [
       "<IPython.core.display.Markdown object>"
      ]
     },
     "metadata": {},
     "output_type": "display_data"
    },
    {
     "data": {
      "text/markdown": [
       "**Node ID:** 48504cff-dab1-443d-ae47-697281ace889<br>**Similarity:** 5.924469947814941<br>**Text:** It is a matter for conjecture that when the morsel went into the mouth, what\n",
       "all processes took place thereafter. The hands, mouth, teeth, tongue,\n",
       "intestines, the faculty of digestion, the power of retaining food in the body\n",
       "played their part to convert the morsel into energy and blood to circulate in\n",
       "the system to provide him life and sustenance. Does the person have the\n",
       "faculty and capability to thank Allah for designing such a wonderful cycle of\n",
       "production for sustaining and prolonging the human existence on the earth!\n",
       "\n",
       "Imam Mohammed Taqi (a.s) narrates that one day Salman Farsi invited Abu Dharr\n",
       "Ghiffari over a meal. He put dried bread dipped in water before Abu Dharr. Abu\n",
       "Dharr said, “ _Subhan Allah,_ such good bread! How much I wish if there was\n",
       "some salt too!” Salman mortgaged his piece of cloth and fetched some salt. Abu\n",
       "Dharr ate the bread with the salt and thanked Allah for bestowing on him the\n",
       "trait of contentment. Salman Farsi said, “If you had practiced contentment, my\n",
       "piece of cloth wouldn’t have been mortgaged!”\n",
       "\n",
       "Imam Jafar e Sadiq (a.s) has said, “Allah has exhorted Hazrat Moosa (a.s) to\n",
       "Thank Him, that thanking Him is the right thing by Him.” Hazrat Moosa (a.s)\n",
       "said, “O Creator! How could I fulfill the duty of thanking and praising you\n",
       "that the faculty of doing it has also been endowed to me by you!”<br>"
      ],
      "text/plain": [
       "<IPython.core.display.Markdown object>"
      ]
     },
     "metadata": {},
     "output_type": "display_data"
    },
    {
     "data": {
      "text/markdown": [
       "**Node ID:** 89fe6c69-afa6-41f0-be12-c20564f8fee0<br>**Similarity:** 5.915444374084473<br>**Text:** Of the Muhajirs were Salman Farsi, Abu Dharr Ghifari,\n",
       "Miqdad Bin Aswad Kindi, Ammar-e-Yasir, Buraida Aslami, and Khalid Bin Sa'id\n",
       "Bin As Amawi. Of the Ansars were Abu'l-Hathama bin Tihan, Khuzaima Bin Thabit\n",
       "Dhu'sh-Shahadatain, Abu Ayyub Ansari, Ubai Bin Ka'b, Sahl Bin Hunaif, Uthman\n",
       "Bin Hunaif, who remonstrated with Abu Bakr inside the mosque. I have given\n",
       "only this brief outline of events. No ijma of any kind was reached. The ijma\n",
       "of the intellectuals and the prominent companions of Medina is a flagrant lie.  \n",
       "\n",
       "Based on your own sources, I will give you a list of names of some of those\n",
       "who opposed the caliphate. Ibn Hajar Asqalani and Baladhuri, each in his\n",
       "Ta'rikh, Muhammad Bin Khawind Shah in his Rauzatu's-Safa, Ibn Abdu'l-Birr in\n",
       "his Isti'ab, and others say that Sa'd Bin Ubaida and a part of Khazrajis and a\n",
       "group of Quraish did not swear the oath of fealty to Abu Bakr. Moreover,\n",
       "eighteen people who were prominent and distinguished companions of the Holy\n",
       "Prophet did not take the oath of allegiance to Abu Bakr. They were Shias of\n",
       "Ali Bin Abu Talib. The names of those eighteen people are as follows:  \n",
       "  \n",
       "\n",
       "1\\. Salman Farsi\n",
       "\n",
       "2\\. Abu Dharr Ghifari\n",
       "\n",
       "3\\. Miqdad Bin Aswad-e-Kindi\n",
       "\n",
       "4\\. Ammar-e-Yasir\n",
       "\n",
       "5\\. Khalid Bin Sa'id bin al-As\n",
       "\n",
       "6\\. Buraida Aslami\n",
       "\n",
       "7\\. Ubai Bin Ka'b\n",
       "\n",
       "8\\.<br>"
      ],
      "text/plain": [
       "<IPython.core.display.Markdown object>"
      ]
     },
     "metadata": {},
     "output_type": "display_data"
    },
    {
     "data": {
      "text/markdown": [
       "**Node ID:** 4c190b82-3535-4a9e-80a7-3f56f7826b45<br>**Similarity:** 5.746349334716797<br>**Text:** ### The Humbleness of Salman Farsi\n",
       "\n",
       "Salman had been the governor of one of the cities of Syria for some time. His\n",
       "conduct during the period of his rule remained unchanged from that before his\n",
       "governorship; he would always wear ordinary clothing, travel on foot and even\n",
       "place his household things as security and surety (for borrowing money).\n",
       "\n",
       "Once, while moving through the bazar, he saw a man who had purchased some\n",
       "alfalfa and was looking for someone to carry it to his house for him. Salman\n",
       "approached the person, who failed to recognize him, and agreed to carry his\n",
       "load free of charge. The man placed the load of alfalfa on Salman’s back. As\n",
       "they were walking, they came across a person who immediately recognized\n",
       "Salman.\n",
       "\n",
       "“O’ Leader! Where are you carrying this burden?” he exclaimed.\n",
       "\n",
       "Hearing these words, the owner of the load realized that the person carrying\n",
       "his load was Salman. He fell down on his knees and implored: “Forgive me, for\n",
       "I had failed to recognise you.”  \n",
       "“Nevertheless, I must carry this load to your house,” said Salman.\n",
       "\n",
       "When he had done so, he said to the man, “I have fulfilled my promise; now it\n",
       "is for you to promise that henceforth you will never seek the services of\n",
       "anyone for anything. (And know!) By you carrying things which you are able to,\n",
       "it will not reflect negatively upon your manliness.”[4]<br>"
      ],
      "text/plain": [
       "<IPython.core.display.Markdown object>"
      ]
     },
     "metadata": {},
     "output_type": "display_data"
    },
    {
     "data": {
      "text/markdown": [
       "**Node ID:** b62c47db-bca8-43a0-ab35-84ec060d2ede<br>**Similarity:** 5.700397968292236<br>**Text:** ## Chapter 14 Al-Madain\n",
       "\n",
       "Salman took part in the battles of Persia. He was in the advance of the\n",
       "fighters. And he was fighting bravely.\n",
       "\n",
       "Saad bin Abi-Wakkas was the leader of the campaign against al-Madain. Salman\n",
       "was beside him. He crossed the river with his horse.\n",
       "\n",
       "Salman was a translator between the Muslims and the Persian people. Thus the\n",
       "city surrendered without shedding blood.\n",
       "\n",
       "Caliph Umar bin al-Khattab appointed him ruler over al-Madain. He was a model\n",
       "for the just, Muslim ruler.\n",
       "\n",
       "His salary was five thousand Dirhams. But he divided them all among the poor.\n",
       "\n",
       "He lived a simple life. He bought palm-leaves by a Dirham. He made baskets and\n",
       "sold them for three Dirhams. He spent a Dirham on his family, gave a Dirham to\n",
       "the poor, and saved the third Dirham to buy palm-leaves.\n",
       "\n",
       "His clothing were simple. When the travellers and the strangers saw him, they\n",
       "regarded him as a poor man from al-Madain.\n",
       "\n",
       "One day, while Salman was walking in the market, a traveller ordered him to\n",
       "carry his baggage.\n",
       "\n",
       "Salman carried the baggage and began walking after the man.\n",
       "\n",
       "In the street, the people were greeting Salman respectfully. The traveller\n",
       "wondered and asked the people around him:\n",
       "\n",
       "__\n",
       "\n",
       "Who's that poor man?\n",
       "\n",
       "They answered:\n",
       "\n",
       "__\n",
       "\n",
       "He's Salman al-Farsi, the companion of Allah's Apostle [s], and the Emir of\n",
       "al-Madain.\n",
       "\n",
       "The traveller was surprised. He apologised to Salman and asked him to put down\n",
       "the baggage.\n",
       "\n",
       "Salman refused that and said:\n",
       "\n",
       "__\n",
       "\n",
       "Till I see you off.\n",
       "\n",
       "The traveller felt sorry and knew that Salman was Allah's supporter.<br>"
      ],
      "text/plain": [
       "<IPython.core.display.Markdown object>"
      ]
     },
     "metadata": {},
     "output_type": "display_data"
    },
    {
     "data": {
      "text/markdown": [
       "**Node ID:** 408828fa-585f-42c4-a69c-ac502ad19ee7<br>**Similarity:** 5.613558769226074<br>**Text:** Then Allah\n",
       "revealed:-\n",
       "\n",
       "And withhold yourself with those who call on their Lord in the morning and\n",
       "eveningdesiring His goodwill, and let not your eyes pass from them.. (18:28)\n",
       "\n",
       "\"When this was revealed, the Prophet used to make us sit so near him that our\n",
       "thighsalmost touched his thighs; and he did not stand up before us. When we\n",
       "felt that thetime had come for him to stand, we took his leave; and then he\n",
       "stood up after we hadgone. And he used to say to us, 'I thank God who did not\n",
       "take me out of this worlduntil He ordered me to keep patience with a group of\n",
       "my ummah. I shall spend my lifewith you, and, after death, shall remain with\n",
       "you.'\"[26]\n",
       "\n",
       "I propose to give here a short list of some of the slaves who occupy the\n",
       "highestspiritual and temporal status in Islam and in the Muslim society, from\n",
       "the verybeginning of Islam.\n",
       "\n",
       "\n",
       "### 1\\. Salman, the Persian\n",
       "\n",
       "First and foremost, of course, is Salman al-Farsi (the Persian). He was the\n",
       "son of aZoroastrian priest in the province of Fars.<br>"
      ],
      "text/plain": [
       "<IPython.core.display.Markdown object>"
      ]
     },
     "metadata": {},
     "output_type": "display_data"
    },
    {
     "data": {
      "text/markdown": [
       "**Node ID:** ec0007a7-ea1d-4fa3-94c0-df548795dd91<br>**Similarity:** 5.56611442565918<br>**Text:** ### The Fearful Youth\n",
       "\n",
       "Salman Farsi was passing through the blacksmiths’ market of Kufah when he\n",
       "observed that a crowd had gathered around a youth who lay on the ground,\n",
       "senseless. When the people saw Salman, they requested him to recite a\n",
       "supplication so that the youth could come out of his unconsciousness.\n",
       "\n",
       "As soon as Salman came closer, the youth got up and said: “There is nothing\n",
       "wrong with me. It is just that I was passing through this market when I\n",
       "noticed the blacksmiths striking metal with their iron hammer and this made me\n",
       "recall what Allah has said in the Qur’an: “In addition there will be maces of\n",
       "iron (to punish) them.”[4](http://www.al-islam.org/anecdotes-reflection-\n",
       "part-2-sayyid-ali-akbar-sadaaqat/36-fear#footnote4_ol64mg8)As this verse\n",
       "crossed my mind, I was overcome by this state.”\n",
       "\n",
       "Salman became interested in the youth, grew fond of him and made him his\n",
       "brother. They were always friends with each other till one day the youth fell\n",
       "ill and was almost on the verge of dying. Salman sat down near his head and\n",
       "then, addressing Izra’eel, said: “O’ Izra’eel! Be tolerant and lenient towards\n",
       "my young brother and be kind and gentle to him!”\n",
       "\n",
       "“O’ Servant of Allah! I am the friend of all the believers and kind to them\n",
       "all,” Izra`il replied.[5]<br>"
      ],
      "text/plain": [
       "<IPython.core.display.Markdown object>"
      ]
     },
     "metadata": {},
     "output_type": "display_data"
    },
    {
     "data": {
      "text/markdown": [
       "**Node ID:** 55cc8de7-14f8-4053-9df7-1b813664f413<br>**Similarity:** 5.48715353012085<br>**Text:** There too Abu Dharr bore witness about Allah\n",
       "and his Prophet (a.s) thrice.\n",
       "\n",
       "Now Hazrat Ali (a.s) took Abu Dharr to the presence of the Prophet (a.s). He\n",
       "greeted the Prophet (a.s) who kindly asked him to sit and bear witness to the\n",
       "unity of Allah and that Mohammed (a.s) is Allah’s Prophet. Now the Prophet\n",
       "(a.s) said, “O Abu Dharr! You must immediately return to your place that your\n",
       "paternal cousin has expired and you are the soul inheritor of his estate. Go\n",
       "home and take charge of the affairs of your estate. You must join us when we\n",
       "summon you.”Therefore after the migration (_Hegira)_ Abu Dharr had the honour\n",
       "of meeting the Prophet (a.s) in Medina.\n",
       "\n",
       "\n",
       "## Chapter 4 SALMAN ACCEPTS ISLAM\n",
       "\n",
       "Hazrat Imam Mohammed Baqir (a.s) says that some companions visited the grave\n",
       "of the Prophet (a.s) one day and were busy conversing with each other. Hazrat\n",
       "Ali (a.s) asked Salman Farsi, “O Salman! How did you accept the Faith of\n",
       "Islam?” Salman replied, “O Ameer al Momineen! Since it is obligatory on me to\n",
       "reply to your queries, I am narrating to you the circumstances under which I\n",
       "accepted the Faith. I am a native of the city of Shiraz and my profession was\n",
       "farming. My parents used to love me very much.<br>"
      ],
      "text/plain": [
       "<IPython.core.display.Markdown object>"
      ]
     },
     "metadata": {},
     "output_type": "display_data"
    },
    {
     "data": {
      "text/markdown": [
       "**Node ID:** db167b2a-3028-425f-aaaa-e08165ba671c<br>**Similarity:** 5.45872688293457<br>**Text:** The holy Prophet gave the letter to Amir al-\n",
       "Mu’minin ‘Ali to read. He read it out to the holy Prophet. Then the holy\n",
       "Prophet said thrice: Well done, O My Pious brother! and told Abu Laila to go\n",
       "back to Medina. The events of Tubba and of all others in the days of pre-\n",
       "Islamic ignorance will be narrated-Allah willing-along with the details of the\n",
       "Holy Prophet. (Author)\n",
       "\n",
       "It is recorded in reliable sources from Salman Farsi through Imam al-Baqir\n",
       "that Salman Farsi said there was a Persian king called Roseen. He was a cruel\n",
       "enemy of the truth and a big oppressor. His oppression increased with the\n",
       "power of his kingship. When his oppression crossed all limits Allah made him\n",
       "suffer an ailment of the head. The trouble started in the right side of his\n",
       "head and became so severe that it was impossible for him even to eat and\n",
       "drink. It made him very restless. He explained his trouble to his viziers,\n",
       "took many medicines but to no avail. He became hopelessly disappointed as he\n",
       "could not find a cure for his ailment.\n",
       "\n",
       "Allah sent a Prophet and asked him through revelation that: Go to My cruel\n",
       "slave Roseen in the form of a physician.<br>"
      ],
      "text/plain": [
       "<IPython.core.display.Markdown object>"
      ]
     },
     "metadata": {},
     "output_type": "display_data"
    },
    {
     "data": {
      "text/markdown": [
       "**Node ID:** 7387928d-0ef0-429c-a809-3425d3c299d2<br>**Similarity:** 5.448134422302246<br>**Text:** Asbagh bin Nubata (r.a.) was a trusted companion of Ameerul Mumeneen Ali (AS).\n",
       "He went to see Salman Farsi (r.a.) who had settled in Madain. Asbagh (r.a.)\n",
       "says:\n",
       "\n",
       "“I found him very sick, near his death. He told me: 'O Asbagh, the Messenger\n",
       "of Allah had informed me that, at the time of my death, a dead person would\n",
       "talk to me. Now, put me on a wooden plank and take me to the graveyard. On\n",
       "reaching the grave-yard, Salman faced towards Quibla and in a loud voice\n",
       "saluted the dead. Nobody replied. After saluting them several times without\n",
       "getting any reply, Salman said: “O Inhabitants of these graves, I am Salman, a\n",
       "slave of the Messenger of Allah. The Prophet had told me that at the time of\n",
       "my death a dead person would converse with me. Now, if that time has arrived,\n",
       "then, for the sake of Allah and His Messenger, please talk to me”.\n",
       "\n",
       "Suddenly someone responded to his Salaam, and said: “O people who build and\n",
       "plant, and ultimately the buildings turn into ruins and gardens decay; ask me\n",
       "what you want,, I will reply”.\n",
       "\n",
       "Salman (r.a.) asked: “Are you from the people of Paradise or of Hell?” The\n",
       "dead man said that he was from the people of Paradise.\n",
       "\n",
       "Salman requested him to describe how he died and what agonies he had to\n",
       "undergo at that time. He replied:\n",
       "\n",
       "“O Salman, please do not ask this.<br>"
      ],
      "text/plain": [
       "<IPython.core.display.Markdown object>"
      ]
     },
     "metadata": {},
     "output_type": "display_data"
    },
    {
     "data": {
      "text/markdown": [
       "**Node ID:** a820597d-7cb1-407e-b969-5a2658267328<br>**Similarity:** 5.405880928039551<br>**Text:** I followed him until he stopped\n",
       "near the tomb of the late mujtahid Ayatullah Sayyid al-Buroojerdi to recite\n",
       "the sura of al-Fatiha for him. I seized the opportunity, approached him, and\n",
       "told him the phrase as it was, no more no less. Imam Khomeini replied to me\n",
       "saying, ‘Send him my greetings and say to him: O Salman, rise, rise!’\n",
       "\n",
       "Dear reader, notice how these mujtahids respected each other. Al-Akhond al-\n",
       "Hamadani addressed Imam Khomeini as “Abu Tharr” because Imam Khomeini was\n",
       "revolutionary in his actions like Abu Tharr was and did not submit to\n",
       "injustice and deviation. Imam Khomeini addressed al-Akhond al-Hamadani in his\n",
       "reply as “O Salman!” He compared him to Salman al-Farsi in his steadfastness,\n",
       "devotedness, and asceticism. Both Abu Tharr and Salman were great companions\n",
       "of the Prophet (S); they might have been different in their situations but\n",
       "with no enmity to each other, rather each of them had his own opinions\n",
       "according to the area of his legal duty. In the same way, those who bore the\n",
       "similitudes of Abu Tharr and Salman sent each other highly polite messages\n",
       "within the morals of Islam although they were different in analyzing the\n",
       "situations and different in their opinions.\n",
       "\n",
       "At the same time when you see our mujtahids have the morals of the first\n",
       "companions, you see those who pretend to be their followers have the morals of\n",
       "other than them.\n",
       "\n",
       "Is this the right line of Islam, which Imam Khomeini and other mujtahids\n",
       "wanted and made great efforts throughout their lives to serve?<br>"
      ],
      "text/plain": [
       "<IPython.core.display.Markdown object>"
      ]
     },
     "metadata": {},
     "output_type": "display_data"
    },
    {
     "data": {
      "text/markdown": [
       "**Node ID:** a287514c-c034-4637-b45f-52ff37cc727a<br>**Similarity:** 5.364473342895508<br>**Text:** ## Chapter 9 The Victory\n",
       "\n",
       "The polytheists were unsuccessful to cross the trench. The siege became long.\n",
       "Allah granted his Apostle and the believers a victory.\n",
       "\n",
       "The strong winds were blowing against the Allies' Armies. They uprooted their\n",
       "tents and dismayed them.\n",
       "\n",
       "One night, the polytheists were tired of the siege. Therefore, Abu Sufyan\n",
       "decided to withdraw his fighters.\n",
       "\n",
       "In the morning, our Master Muhammad [s] sent Hudhayfa to the enemy front to\n",
       "get him some information.\n",
       "\n",
       "Hudhayfa told Allah's Apostle [s] about the defeat of the enemy armies.\n",
       "\n",
       "The Muslims were filled with happiness. They thanked Allah for granting them a\n",
       "victory over the enemies of the religion and of the humanity.\n",
       "\n",
       "After a month's siege, the Muslims happily came back home.\n",
       "\n",
       "\n",
       "## Chapter 10 In the Prophet's Mosque\n",
       "\n",
       "The Muslims came together in the Prophet's Mosque. They were thanking Allah,\n",
       "the Glorified. They were looking at Salman, the great companion, with love and\n",
       "respect because he saved Madina and Islam from the invaders with his plan.\n",
       "\n",
       "For this reason, the Ansar from Madina said:\n",
       "\n",
       "_Salman is one of us!_\n",
       "\n",
       "And the Muhajireen shouted:\n",
       "\n",
       "_Salman is one of us!_\n",
       "\n",
       "And the Muslims listened to the Prophet [s] to hear his view about Salman:\n",
       "\n",
       "_Salman is a member of my family!_\n",
       "\n",
       "Then the Prophet [s] said:\n",
       "\n",
       "_Don't say Salman al-Farsi, but say Salman al-Muhammadi!_\n",
       "\n",
       "Since that day, the Muslims had looked gratefully and respectfully at Salman.\n",
       "\n",
       "\n",
       "## Chapter 11 Jihad\n",
       "\n",
       "Salman was always going with our Master Muhammad [s] to defend the Muslim\n",
       "Mission against the enemies.<br>"
      ],
      "text/plain": [
       "<IPython.core.display.Markdown object>"
      ]
     },
     "metadata": {},
     "output_type": "display_data"
    },
    {
     "data": {
      "text/markdown": [
       "**Node ID:** 1aa22694-c82c-4a7e-a05e-b97813fe44a2<br>**Similarity:** 5.289183139801025<br>**Text:** But with regard to the rules of the hereafter and from the viewpoint\n",
       "of God's conduct, the laws of\n",
       "\n",
       "> فَمَن تَبِعَنِي فَإِنَّهُ مِنِّي\n",
       "\n",
       "_**Whoever follows me, is from me… (Qur’an, 14:36)** _\n",
       "\n",
       "And\n",
       "\n",
       "> إِنَّ أَکرَمَكم عِندَ اللهِ أَتقاکُم\n",
       "\n",
       "_**Verily the most honourable of you near God is the most pious of you.”\n",
       "(Qur’an, 14:36)** _\n",
       "\n",
       "prevail.\n",
       "\n",
       "The Messenger of God (s) said,\n",
       "\n",
       "> أیّها النّاس إن أباکم واحد، وإنّ ربّكم واحد، كلكم لآدم وآدم من تراب، لا فخر\n",
       "> لعربيّ علی عجميّ إلا بالتّقوی\n",
       "\n",
       "“O people! Verily your father is one, and your Lord is One. All of you are\n",
       "from Adam, and Adam was from dust. There is no pride for an Arab over a non-\n",
       "Arab, except through piety.”[45](epub.html#f_09690b87_45)\n",
       "\n",
       "Salman al-Farsi, who strove to reach truth, reached such a station that the\n",
       "Noble Messenger (s) said of him,\n",
       "\n",
       "> سلمان منّا أهل البیت\n",
       "\n",
       "Salman is one of us, the People of the House.\n",
       "\n",
       "There are some who have come under the influence of satanic whisperings and\n",
       "have contented themselves with the thought, “Our name is among the names of\n",
       "Ali ibn Abi Talib’s (a) friends. However, we may be, we are considered his\n",
       "subjects.<br>"
      ],
      "text/plain": [
       "<IPython.core.display.Markdown object>"
      ]
     },
     "metadata": {},
     "output_type": "display_data"
    },
    {
     "data": {
      "text/markdown": [
       "**Node ID:** ed8013c3-79aa-4e20-8639-d7df6319a351<br>**Similarity:** 5.269639492034912<br>**Text:** said,  \n",
       "**'Hussein is from me and I am from Hussein. Allah loves whoever loves\n",
       "Hussein. Hussein is a disciple of the disciples.\"**(6)\n",
       "\n",
       "2\\. Salman al-Farsi is reported to have said, \"I heard the Prophet of Allah\n",
       "(s.a.w.) saying,**'Hassan and Hussein are my two sons. Whoever loves them then\n",
       "he loves me. And whoever dislikes them then he dislikes me. And whoever\n",
       "dislikes me then Allah dislikes him. And whomever Allah dislikes, He will\n",
       "throw him into hell f ace downward.\"'**(7)\n",
       "\n",
       "3\\. Al-Bara' bin Azib is quoted to have said, \"I saw the Messenger of Allah\n",
       "(s.a.w.) carrying Hussein bin Ali (a.s.) on his shoulder. He was saying, **'O\n",
       "Lord! I do love him so love him.'\"**(8)\n",
       "\n",
       "4\\. Abdullah bin Mas'ood is reported to have said, \"The Messenger of Allah\n",
       "(s.a.w.) said, concerning Hassan and Hussein, **'These are my two sons,\n",
       "whoever loves them then he loves me. And whoever dislikes them he dislikes\n",
       "me,\"'**\n",
       "\n",
       "5\\. Ali bin Hussein (a.s.)<br>"
      ],
      "text/plain": [
       "<IPython.core.display.Markdown object>"
      ]
     },
     "metadata": {},
     "output_type": "display_data"
    },
    {
     "data": {
      "text/markdown": [
       "**Node ID:** d0036cac-be0d-4d38-914c-a6115ffd6ad8<br>**Similarity:** 5.266375541687012<br>**Text:** ## Chapter 29 The Recognition of the Imams\n",
       "\n",
       "It is related with a sound chain of authority from Salman al- Farsi, 'I\n",
       "visited the Messenger of Allah who looked at me and said,\n",
       "\n",
       "\"O Salman, Allah does not send a prophet or messenger unless there are with\n",
       "him twelve chiefs.\"\n",
       "\n",
       "“O Messenger of Allah, I know this from the people of the two books.”\n",
       "\n",
       "\"O Salman, do you know my twelve chiefs, whom Allah has chosen to be leaders\n",
       "after me?\"\n",
       "\n",
       "\"Allah and His Messenger know best.\"\n",
       "\n",
       "\"O Salman, Allah created me from the quintessence of light, and called me, so\n",
       "I obeyed Him. Then He created 'Ali from my light, and called him, and he\n",
       "obeyed. From my light and the light of 'Ali He created Fatimah: He called her\n",
       "and she obeyed. From me, 'Ali and Fatimah, He created al-Hasan and al-Husayn.\n",
       "He called them and they obeyed Him. Allah has named us with five of His names:\n",
       "Allah is al-Mahmud (the Praised) and I am Muhammad (worthy of praise); Allah\n",
       "is al-'Ali (the High), and this is 'Ali (the one of high rank); Allah is al-\n",
       "Fatir (Creator out of nothing), and this is Fatimah; Allah is the One with\n",
       "Hasan (beneficence), and this is Hasan; Allah is Muhassin (the Beautiful), and\n",
       "this is Husayn. He created nine Imams from the light of al-Husayn and called\n",
       "them and they obeyed Him, before Allah created either Heaven on high, the\n",
       "outstretched earth, the air, the angels or man.<br>"
      ],
      "text/plain": [
       "<IPython.core.display.Markdown object>"
      ]
     },
     "metadata": {},
     "output_type": "display_data"
    },
    {
     "data": {
      "text/markdown": [
       "**Node ID:** 2a6a55e5-6789-43ae-9fb7-a4fc00cd2ac9<br>**Similarity:** 5.211090564727783<br>**Text:** ![Cover](images/cover.png)\n",
       "\n",
       "\n",
       "![IslamicMobility](images/logo-feedbooks-tiny.png)\n",
       "\n",
       "# ESSENCE OF LIFE - Ain Al-Hayat\n",
       "\n",
       "## Allamah Muhammad Baqir Al-Majlisi - XKP\n",
       "\n",
       "  \n",
       "**Published:** 2013  \n",
       "**Tag(s):** islam majlisi \"baqir majlisi\" \"ain e hayat\" \"ain hayat\" \"essence\n",
       "of life\" xkp \"shia ebooks\" ulema \"shia authors\" \"muslim ebooks\" \"hayat ul\n",
       "qulub\" ayatullah \"abu dhar\" miqdad \"salman farsi\" \"Almighty\n",
       "\n",
       "\n",
       "## Chapter 1 About The Author\n",
       "\n",
       "Allama Mohammed Baqir Majlisi was a scion of a very erudite family. His\n",
       "ancestor was Maqsood Ali Majlisi who migrated from Jabl Aamil to Isfahan city\n",
       "in Iran. He had two sons, Mohammed Taqi and Mohammed Sadiq. Both of them\n",
       "received instruction in Islamic Studies from allama Abdallah Shustari. Allama\n",
       "Mohammed Taqi Majlisi, himself an erudite Islamic Scholar, was the father of\n",
       "Allama Mohammed Baqir Majlisi. Allama Baqir was born in the year 1037 H (1616\n",
       "AD). He opened his eyes in a scholarly atmosphere. His two elder brothers,\n",
       "Mulla Azizullah and Mulla Abdallah were scholars of high repute and his\n",
       "sisters too were ladies of high learning. Within no time, the young Mohammed\n",
       "Baqir acquired mastery in logic, philosophy, mathematics, hadith, fiqh,\n",
       "literature and Quranic commentary.\n",
       "\n",
       "Allama Mohammed Baqir Majlisi’s tutors too were of very high repute.<br>"
      ],
      "text/plain": [
       "<IPython.core.display.Markdown object>"
      ]
     },
     "metadata": {},
     "output_type": "display_data"
    }
   ],
   "source": [
    "display_retrieved_nodes(retrieved_nodes)"
   ]
  },
  {
   "cell_type": "code",
   "execution_count": 30,
   "metadata": {},
   "outputs": [],
   "source": [
    "import json\n",
    "\n",
    "# create a dictionary to store the query and nodes data\n",
    "output_data = {\n",
    "    'original_question': question,\n",
    "    # 'query_variations': query_variations,\n",
    "    'nodes': []\n",
    "}\n",
    "\n",
    "# extract relevant information from each node\n",
    "for node in retrieved_nodes:\n",
    "    node_info = {\n",
    "        'text': node.node.text,\n",
    "        'score': float(node.score),  # convert to float for JSON serialization\n",
    "        'metadata': node.node.metadata\n",
    "    }\n",
    "    output_data['nodes'].append(node_info)\n",
    "\n",
    "# write to JSON file\n",
    "with open('output/hybrid.json', 'w', encoding='utf-8') as f:\n",
    "    json.dump(output_data, f, indent=2, ensure_ascii=False)"
   ]
  },
  {
   "cell_type": "markdown",
   "metadata": {},
   "source": [
    "# Vector Retriever"
   ]
  },
  {
   "cell_type": "code",
   "execution_count": 20,
   "metadata": {},
   "outputs": [],
   "source": [
    "vector_retriever = index.as_retriever(similarity_top_k=top_n)"
   ]
  },
  {
   "cell_type": "code",
   "execution_count": 21,
   "metadata": {},
   "outputs": [],
   "source": [
    "retrieved_nodes = vector_retriever.retrieve(question)"
   ]
  },
  {
   "cell_type": "code",
   "execution_count": 22,
   "metadata": {},
   "outputs": [
    {
     "data": {
      "text/plain": [
       "20"
      ]
     },
     "execution_count": 22,
     "metadata": {},
     "output_type": "execute_result"
    }
   ],
   "source": [
    "len(retrieved_nodes)"
   ]
  },
  {
   "cell_type": "code",
   "execution_count": 23,
   "metadata": {},
   "outputs": [
    {
     "data": {
      "text/markdown": [
       "**Node ID:** 5142d595-32d4-41bf-90c4-9844dcde7a60<br>**Similarity:** 0.7069620209083414<br>**Text:** ### His Mother\n",
       "\n",
       "His mother was the best of women at her time in her chastity, purity, and\n",
       "piety. Historians say she was from the good knowing women.[1] Imam al-Hadi\n",
       "(a.s.) praised her by saying, ‘Saleel (her name) was purified from error,\n",
       "defect, and impurity.’[2]\n",
       "\n",
       "She was a bondmaid[3] from an-Nawbah.[4] It did not harm her that she was a\n",
       "bondmaid, for man in the view of Islam is exalted by his guidance, piety, and\n",
       "propriety, and he is degraded by deviation from the right path.\n",
       "\n",
       "Historians disagreed on her name. Some of them said her name was Saleel, which\n",
       "is the most valid assertion according to the previous tradition of Imam al-\n",
       "Hadi (a.s.). Some said she was called Sawsan.[5] Others said her name was\n",
       "Hadithah,[6] and others said Hareebah.<br>"
      ],
      "text/plain": [
       "<IPython.core.display.Markdown object>"
      ]
     },
     "metadata": {},
     "output_type": "display_data"
    },
    {
     "data": {
      "text/markdown": [
       "**Node ID:** 14f24a13-bbb1-486d-9a2d-7965fb5fb4a7<br>**Similarity:** 0.7016377805215496<br>**Text:** ### With His Father\n",
       "\n",
       "Imam Abu Muhammad al-Askari (a.s.) spent a part of his life with his father\n",
       "Imam al-Hadi (a.s.). He did not part with him even in his travels. He saw in\n",
       "his father a true picture of the morals of his grandfather the messenger of\n",
       "Allah (s.a.w.w.) who had been preferred to all prophets, and saw in him the\n",
       "spirits of his fathers, the infallible imams (a.s.).\n",
       "\n",
       "On the other hand, Imam al-Hadi (a.s.) saw in his son the natural continuity\n",
       "of the great Imamate and general authority of the Prophet (s.a.w.w.), and\n",
       "therefore he cared much for him. He praised him saying, “My son Abu Muhammad\n",
       "is the best of the progeny of Muhammad (blessing be on him and on his progeny)\n",
       "in nature, and the most trustworthy in authority. He is the eldest of my\n",
       "children, and he is my successor and the recipient of the handholds of Imamate\n",
       "and its governance.”[27]\n",
       "\n",
       "of course, Imam al-Hadi (a.s.) was far above flattering or submission to\n",
       "emotions. He did not praise his son and announce his virtue unless he saw in\n",
       "him all noble aspects and high qualities. And it was so, because Imam Abu\n",
       "Muhammad al-Askari (a.s.) had all these virtues and nobilities.\n",
       "\n",
       "Imam al-Hasan al-Askari (a.s.) kept to his father Imam al-Hadi (a.s.)<br>"
      ],
      "text/plain": [
       "<IPython.core.display.Markdown object>"
      ]
     },
     "metadata": {},
     "output_type": "display_data"
    },
    {
     "data": {
      "text/markdown": [
       "**Node ID:** 2efa3a78-ffce-497c-a5d1-c80da13a1184<br>**Similarity:** 0.7014491310291869<br>**Text:** He would spare them the\n",
       "tribulations of humility, and guide them to the hallmarks of denomination…\n",
       "\"[[17]](http://www.al-islam.org/gallery/kids/Books/2ndimam/14.htm#r17)\n",
       "\n",
       "In this speech, Imam Hasan's [a] aim was to solidify the bonds of unity, close\n",
       "the ranks of the people, and rally the people to challenge the party led by\n",
       "Mu'awiyah and a handful of opportunists.\n",
       "\n",
       "  3. The Commander of the Faithful, Imam Ali bin Abi Talib [a], had warned the people against the arbitration during the Battle of Siffin. He knew it was a trick. After the charade of arbitration was over - and it ended with Abu-Musa al-Ash'ari's failing Imam Ali [a] - the camp of Imam Ali [a] was thrown into confusion. Chaos prevailed, and each group of people began to disassociate themselves from the other. They started reviling each other. Imam Ali [a] wanted to explain to the people the situation as it was, and to show that the arbitration was invalid because it was not based on truth and logic. He assigned this task to his son Abu Muhammad Hasan [a].\n",
       "\n",
       "\"Stand up, son, and talk about these two men: Abdullah bin\n",
       "Qais,[[18]](http://www.al-islam.org/gallery/kids/Books/2ndimam/14.htm#r18) and\n",
       "Amru bin al-Aas,\" Imam Ali [a] told his son.\n",
       "\n",
       "Imam Hasan [a] stood and addressed the people, telling them the real\n",
       "dimensions of the situation. He said:\n",
       "\n",
       "\"O people! You have talked too much about these two men.<br>"
      ],
      "text/plain": [
       "<IPython.core.display.Markdown object>"
      ]
     },
     "metadata": {},
     "output_type": "display_data"
    },
    {
     "data": {
      "text/markdown": [
       "**Node ID:** 996e2aa9-d302-4532-bc31-850a456042ec<br>**Similarity:** 0.6995883783460358<br>**Text:** replied, ‘Yes, the adults have to pay their father’s\n",
       "debt and not to delay it for that (until the others come to age).’[162]\n",
       "\n",
       "8\\. Muhammad bin al-Hasan as-Saffar (may Allah be pleased with him) wrote to\n",
       "Abu Muhammad al-Hasan bin Ali (a.s.), ‘Some man guards caravans in frightening\n",
       "places without the permission of the ruler. They (the men of the caravans)\n",
       "agree with him to give him a certain amount. Is it permissible for him to take\n",
       "(wage) from them?’\n",
       "\n",
       "The imam (a.s.) replied, ‘If he hires himself for a specified wage, he can\n",
       "take his right, insha’Allah.’[163]\n",
       "\n",
       "9\\. Muhammad bin al-Hasan as-Saffar (may Allah have mercy on him) wrote to Abu\n",
       "Muhammad al-Hasan bin Ali (a.s.), ‘Some one bought a house, and there was\n",
       "another house (floor) on this house. Would the upper house be included in the\n",
       "lower house?’\n",
       "\n",
       "Imam Abu Muhammad (a.s.) replied, ‘He could not possess except what he had\n",
       "bought with its limits and conditions, insha’Allah.’[164]\n",
       "\n",
       "The jurisprudents of the Twelver Shi’a gave a fatwa that if some one sold a\n",
       "house, its land, upper and lower building would be with it, except if the\n",
       "upper floor was independent in its entry and exit, because that might be a\n",
       "reason to exclude it from the sold house.<br>"
      ],
      "text/plain": [
       "<IPython.core.display.Markdown object>"
      ]
     },
     "metadata": {},
     "output_type": "display_data"
    },
    {
     "data": {
      "text/markdown": [
       "**Node ID:** eeda0a08-578c-4eaf-acaf-fb1912df7d13<br>**Similarity:** 0.6995667578954771<br>**Text:** He said:\n",
       "\n",
       "\"O people! You have talked too much about these two men. They were only chosen\n",
       "to judge according to the Book and in the light of its guidance. But, they\n",
       "judged according to their whims and not the Book. This being true, their\n",
       "verdict cannot be called a judgement. Rather, it was an opinion forced upon\n",
       "them. Abdullah bin Qais erred when he named Abdullah bin Umar as the caliph.\n",
       "He made mistakes concerning three points: First, he disagreed with his father\n",
       "who did not rate him as qualified for caliphate, nor did he appoint him as\n",
       "member of the Shura (consultative group). Secondly, he did not consult him on\n",
       "the matter. And thirdly, neither the immigrants nor the Ansar (helpers)\n",
       "rallied around him. These are those who appoint the ruler and establish his\n",
       "reign over the people. As for arbitration, the Messenger of Allah [s] himself\n",
       "had chosen Sa'd bin Ma'ath for this. And he did judge with what pleases Allah.\n",
       "Undoubtedly, if he had deviated, the Messenger of Allah [s] would not have\n",
       "approved of him\".[[19]](http://www.al-\n",
       "islam.org/gallery/kids/Books/2ndimam/14.htm#r19)\n",
       "\n",
       "In these words, the grandson of the Holy Prophet [s], Imam Hasan [a],\n",
       "clarified the matter, disclosed the falsity of the arbitration, and proved to\n",
       "the people the mistake of Abu Musa al-Ash'ari, who was elected by the common\n",
       "people among the army of Imam Ali [a], and without thinking it over, they\n",
       "charged him with a task he could not fairly accomplish. The man had bad\n",
       "intentions.<br>"
      ],
      "text/plain": [
       "<IPython.core.display.Markdown object>"
      ]
     },
     "metadata": {},
     "output_type": "display_data"
    },
    {
     "data": {
      "text/markdown": [
       "**Node ID:** 1302b1c5-10da-4349-9da2-9a934cfe8ba2<br>**Similarity:** 0.6991654935771505<br>**Text:** He once found out that an ewe had a broken leg. He called one of his slaves and asked him:  _\"Who did it?\"__\"I,\"_ the slave answered. \n",
       "\n",
       "_\"Why?\"_\n",
       "\n",
       "_\"So as to disconcert you!\"_ the slave retorted.\n",
       "\n",
       "The Imam [a] smiled to him and said:  _\"But I will make you happy.\"_\n",
       "\n",
       "__\n",
       "\n",
       "He freed him and generously rewarded him.\n",
       "\n",
       "  2. A Syrian, imbued with hatred and spite against the family of the Messenger of Allah [s], by Mu'awiyah bin Abu Sufyan, once saw the Imam on horseback. He at once emitted a series of curses! Imam Hasan [a] did not put in a word of protest or interruption. When the man finished, Imam Hasan [a] approached him with a tender smile. He said to him:\n",
       "\n",
       "\"O old man! I think you are a stranger here. Maybe you mistook me for someone\n",
       "else? If you propitiate us, we will satisfy you. If you ask us, we will give\n",
       "you what you need. If you ask our advice, we will guide you. If you ask us to\n",
       "give you a ride, we will take you with us. If you are hungry, we will satisfy\n",
       "you. If you are naked, we will clothe you. If you are in need, we will make\n",
       "you rich. It you are a refugee, we will give you lodgings. If you have a\n",
       "request, we will grant it.<br>"
      ],
      "text/plain": [
       "<IPython.core.display.Markdown object>"
      ]
     },
     "metadata": {},
     "output_type": "display_data"
    },
    {
     "data": {
      "text/markdown": [
       "**Node ID:** 0ef9eedc-38e9-40d2-9e0f-a16280d88132<br>**Similarity:** 0.6988699866677811<br>**Text:** The women met with the Prophet [s]. Um-Salamah, on behalf of them, explained\n",
       "the matter to the Messenger of Allah [s]. He sent for Ali. When he came, the\n",
       "Prophet asked him:\n",
       "\n",
       "_\"Do you want your wife to be brought to your house?\"_\n",
       "\n",
       "_\"Yes,\"_ the Imam replied.\n",
       "\n",
       "_\"With pleasure.\"_ the Messenger [s] agreed. Then the Noble Prophet [s] asked\n",
       "Imam Ali [a] to make a feast for the faithful. The wives of the Prophet [s]\n",
       "themselves cooked the food. The guests enjoyed it.\n",
       "\n",
       "Then the Messenger of Allah [s] ordered Um-Salamah and the rest of his wives\n",
       "to take Fatimah to her new house. A procession presently started off led by\n",
       "the Prophet [s] chanting:  _\"There is no god but Allah,\"_ and _\"Allah is\n",
       "great.\"_\n",
       "\n",
       "The wives of the Prophet [s] recited some verses from the Holy Qur'an in\n",
       "honour of the occasion.\n",
       "\n",
       "After the wedding ceremony, the Messenger of Allah [s] came to congratulate\n",
       "Imam Ali [a]. He said to him:\n",
       "\n",
       "_\"May Allah bless you on account of the daughter of the Messenger of Allah.\"_\n",
       "\n",
       "He took a bowl of water, recited some Qur'anic verses over it, and ordered\n",
       "Imam Ali and Al-Zahra [a] to drink from it. Then he sprinkled a bit of it on\n",
       "their heads and faces and held his hands up in prayer:\n",
       "\n",
       "_\"O Lord! They are the most beloved of the creatures to me. Bless their\n",
       "offspring and protect them. I command them and their descendants into Your\n",
       "protection from the accursed Satan.<br>"
      ],
      "text/plain": [
       "<IPython.core.display.Markdown object>"
      ]
     },
     "metadata": {},
     "output_type": "display_data"
    },
    {
     "data": {
      "text/markdown": [
       "**Node ID:** fc47756a-cd0c-49d8-bee0-532960174579<br>**Similarity:** 0.6986434153212534<br>**Text:** Abu Bakr al-Fahfaki said, “Abul Hasan (peace be upon him) wrote to me\n",
       "saying, ‘My son Abu Muhammad is the best of the progeny of Muhammad in nature\n",
       "and the most trustworthy in authority. He is the eldest of my children, and he\n",
       "is my successor and the recipient of the handholds of imamate and its\n",
       "governance. Whatever you asked me about, you can ask him about for he has all\n",
       "that which people need.’[55]\n",
       "\n",
       "6\\. As-Saqr bin Dulaf said, “I heard Ali bin Muhammad bin Ali ar-Ridha (Imam\n",
       "al-Hadi) saying, ‘The imam after me will be al-Hasan and after al-Hasan will\n",
       "be his son al-Qa’im (Imam al-Mahdi) who will fill the earth with justice and\n",
       "fairness as it has been filled with injustice and oppression.[56]\n",
       "\n",
       "7\\. Abdul Adheem al-Hasani narrated that Imam Ali bin Muhammad al-Hadi (a.s.)\n",
       "said, ‘The imam after me will be my son al-Hasan, but how will people deal\n",
       "with the successor after him?!’[57]\n",
       "\n",
       "8\\. Ali bin Mahziyar said, ‘One day, I said to Abul Hasan, ‘If something\n",
       "happens[58]-God forbid! - then to whom will the imamate pass?’ He said, ‘To\n",
       "the eldest of my sons. (He meant al-Hasan).’[59]\n",
       "\n",
       "9\\.<br>"
      ],
      "text/plain": [
       "<IPython.core.display.Markdown object>"
      ]
     },
     "metadata": {},
     "output_type": "display_data"
    },
    {
     "data": {
      "text/markdown": [
       "**Node ID:** fd214679-8919-40cc-8b19-9a55172201bf<br>**Similarity:** 0.6981656490158598<br>**Text:** [[5]](http://www.al-islam.org/gallery/kids/Books/2ndimam/5.htm#n5) This\n",
       "tradition was reported by Muslim in his Sahih (Authentic Book of Tradition),\n",
       "al-Tirmidthi in his Sahih, al-Nisa'I in al-Khasa'is (Characteristics), al-\n",
       "Tabari in his Qur'anic exegesis, and others, Sahih Muslim mentions it in the\n",
       "4th volume, No. 2424, through A'ishah, in a slightly different wording. For\n",
       "more details, refer to: al-Firoozabadi, Fadha'il al-Khamsah fi al-Sihah al-\n",
       "Sittah (Outstanding Merits of the Five in the Six Sahihs).\n",
       "\n",
       "[[6]](http://www.al-islam.org/gallery/kids/Books/2ndimam/5.htm#n6) Dhakhar'ir\n",
       "al-Uqba, p.25.\n",
       "\n",
       "[[7]](http://www.al-islam.org/gallery/kids/Books/2ndimam/5.htm#n7) Ibid., p.28\n",
       "\n",
       "[[8]](http://www.al-islam.org/gallery/kids/Books/2ndimam/5.htm#n8) We chose\n",
       "these authentic traditions from: Bin al-Sabbagh al-Maliki, Al-Fusool al-\n",
       "Muhimmah (Important Chapters), Tawfeeq Abu-Alam, I'lam al-Wara (Informing\n",
       "humankind), al-Tabarsi, Ahlul Bayt, and Sayy'id Muhsin al-Ameen al-Amili, al-\n",
       "Majalis al-Saniyyah. They were reported in many books other than these.<br>"
      ],
      "text/plain": [
       "<IPython.core.display.Markdown object>"
      ]
     },
     "metadata": {},
     "output_type": "display_data"
    },
    {
     "data": {
      "text/markdown": [
       "**Node ID:** 745ccf18-2418-4548-9f85-8e26e4822784<br>**Similarity:** 0.6976576239964238<br>**Text:** Sahl bin Ziyad al-Aadami wrote to Imam Abu Muhammad (a.s.), ‘Some man had\n",
       "male and female children. He acknowledged that a farm would be for his\n",
       "children but he did not mention that it would be divided among them due to the\n",
       "shares and commands of Allah. Male and female children were the same in this\n",
       "will.’\n",
       "\n",
       "The imam (a.s.) replied, ‘They should execute their father’s will as he had\n",
       "specified. If he did not specify anything, they would divide the inheritance\n",
       "according to the Book of Allah the Almighty, insha’Allah.’[174]\n",
       "\n",
       "20\\. Muhammad bin al-Hasan as-Saffar (may Allah be pleased with him) wrote to\n",
       "Abu Muhammad al-Hasan bin Ali (a.s.), ‘Some man was the executor of someone\n",
       "who died. This executor appointed another one as the executor instead of him.\n",
       "Would this (second) man be obliged to execute the will of that man whose\n",
       "executor was that (first) man?’\n",
       "\n",
       "The imam (a.s.) replied, ‘He would be obliged to his right if he had some\n",
       "right with him (with the dead man), insha’Allah.’[175]\n",
       "\n",
       "This tradition shows that an executor is not permitted to ask another one to\n",
       "execute what he himself has been ordered to execute except when he has a right\n",
       "with the man of the will. In this case he has the right to appoint another one\n",
       "to take his right back.<br>"
      ],
      "text/plain": [
       "<IPython.core.display.Markdown object>"
      ]
     },
     "metadata": {},
     "output_type": "display_data"
    },
    {
     "data": {
      "text/markdown": [
       "**Node ID:** 198931c0-531d-43b1-bad8-012e83b094bf<br>**Similarity:** 0.6972384206169593<br>**Text:** Abu Hashim said, ‘I was with Abu Muhammad (a.s.) when ibn Salih al-Armani\n",
       "asked him about this verse, (And when your Lord brought forth from the\n",
       "children of Adam, from their backs, their descendants, and made them bear\n",
       "witness against their own souls: Am I not your Lord? They said: Yes, we bear\n",
       "witness).[133] Abu Muhammad (a.s.) said, ‘The knowing was proved and they\n",
       "forgot that situation, but they will remember it, and without that no one\n",
       "would know who his creator and provider is.’\n",
       "\n",
       "I was astonished with myself at the great favors Allah had endowed His\n",
       "guardian (Imam Abu Muhammad) with and the great task He had entrusted him\n",
       "with. Abu Muhammad turned to me and said, ‘O Abu Hashim, the matter is greater\n",
       "and more astonishing than what you have been astonished at. What do you think\n",
       "about some people whom whoever acknowledges, acknowledges Allah, and whoever\n",
       "denies, denies Allah? There is no believer that does not believe in them and\n",
       "is not certain in knowing them.’[134]\n",
       "\n",
       "5\\. Sufyan bin Muhammad as-Sayfi said, ‘I wrote to Abu Muhammad (a.s.) asking\n",
       "him about the “waleejah” (friend or protector) mentioned in this saying of\n",
       "Allah, (and take none for friends and protectors except Allah, His Messenger,\n",
       "and the believers).<br>"
      ],
      "text/plain": [
       "<IPython.core.display.Markdown object>"
      ]
     },
     "metadata": {},
     "output_type": "display_data"
    },
    {
     "data": {
      "text/markdown": [
       "**Node ID:** f0833e7e-9333-468b-abd1-ce1808a99cad<br>**Similarity:** 0.6971323710121448<br>**Text:** \"What an excellent rider he is,\" the Holy Prophet [s] replied.\"___\n",
       "  3. Al Hafid Abu-Na'im reports on the authority of Abu Bakr, who said:  _\"The Messenger of Allah [s] was leading us in prayer. Hasan, who was still a child, would come to him while he was in prostration, and sit on his back or sometimes on his neck. The Prophet [s] would lift him tenderly. When the prayer was finished, they (the Muslims) asked him: 'O Messenger of Allah! You are doing to this boy what you do not do to another person?' 'He is my basil,' he replied.\"_\n",
       "  4. Anas bin Malik said:  _\"The Messenger of Allah [s] was asked: 'Who is most loved by you from among your family?' 'Hasan and Husayn', he answered.\"_\n",
       "  5. A'ishah reports that  _\"the Prophet would pick up Hasan and embrace him and say: 'O Lord! This is my son, and I love him. Love him, and love who loves him.'\"_\n",
       "  6. Jabir bin Abdullah says:  _\"The Messenger of Allah [s] said: 'He who pleases to look at the Lord of the Youths of Paradise, let him look at Hasan bin Ali.'\"_\n",
       "  7. Ya'la bin Murrah says:  _\"We went with the Prophet [s] to a feast, to which we were invited. We ran into Hasan [a] who was playing near the road. The Holy Prophet [s] went ahead of the people hurriedly, and put out his hand to the boy.<br>"
      ],
      "text/plain": [
       "<IPython.core.display.Markdown object>"
      ]
     },
     "metadata": {},
     "output_type": "display_data"
    },
    {
     "data": {
      "text/markdown": [
       "**Node ID:** 9fa5401e-4920-44a3-a8f7-71e18745d73f<br>**Similarity:** 0.6964922605995482<br>**Text:** In the wake\n",
       "of the cruel attempt on his life by Abdul-Rahman bin Muljim and his cohorts,\n",
       "the dying Imam [a] said his last will to his son, Hasan [a]:\n",
       "\n",
       "\"… my son, the Messenger of Allah [s] ordered me to inform you of my last\n",
       "will, and hand over my books and weapons to you, exactly as he told me his\n",
       "last will and gave me his books and weapons. He ordered me to order you to\n",
       "give them to your brother, Husayn, when death approaches you… \"\n",
       "\n",
       "Then he turned to his son, Husayn, and said:\n",
       "\n",
       "\"And the Messenger of Allah [s] ordered you to hand them to this son of\n",
       "yours.\"\n",
       "\n",
       "Thereupon, he took hold of the hand of Ali bin Husayn [a] and said to him:\n",
       "\n",
       "\"And the Messenger of Allah [s] ordered you to give them to your son, Muhammad\n",
       "bin Ali. Remember, the Messenger of Allah [s] and me to\n",
       "him.\"[[20]](http://www.al-islam.org/gallery/kids/Books/2ndimam/15.htm#r20)\n",
       "\n",
       "Then he named as the witnesses to his last will, Husayn, his son Muhammad, all\n",
       "of his sons, and the chiefs and leading men of his Shi'ites (followers).\n",
       "\n",
       "The last days of Imam Ali [a] teemed with many of his moral guidelines, which\n",
       "were aimed at establishing the right, and sticking to it. Most of them were\n",
       "addressed to his sons and particularly to Imam Hasan [a]. He emphasized his\n",
       "son's Caliphate and Imamate after him.\n",
       "\n",
       "Shortly after the passing away of Imam Ali [a], the people of Kufa hurried to\n",
       "the mosque, dumbfounded and shocked at that great adversity.<br>"
      ],
      "text/plain": [
       "<IPython.core.display.Markdown object>"
      ]
     },
     "metadata": {},
     "output_type": "display_data"
    },
    {
     "data": {
      "text/markdown": [
       "**Node ID:** fce8a1c1-1b13-4c1a-b233-60a8eb240747<br>**Similarity:** 0.6956497007999914<br>**Text:** The Messenger of Allah [s] was inside. The Messenger of\n",
       "Allah [s] told him to come in. Imam Ali [a] seated himself next to the\n",
       "Messenger [s] who said to him:\n",
       "\n",
       "_\"I see that you have come on business - Tell me about it. Unburden your soul.\n",
       "Any of your requests are granted… \"_\n",
       "\n",
       "Imam Ali [a] told his dear leader that he desired Fatimah's hand. On hearing\n",
       "this, the Prophet's face lit up. He went to Al-Zahra [a] to tell her of Ali's\n",
       "request. By doing so, he set an eternal Islamic concept that marriage should\n",
       "be based on mutual consent and agreement, so that the future family would be\n",
       "built on co-operation, love and peace.\n",
       "\n",
       "The Messenger of Allah said to his daughter:\n",
       "\n",
       "_\"Ali bin Abi-Talib is known to you, in his closeness (to us), his merits and\n",
       "profession of Islam… he talked about you. What do you say?\"_\n",
       "\n",
       "Fatimah al-Zahra [a] was too shy to say a word. Silence fell on the room and\n",
       "lingered.\n",
       "\n",
       "The Prophet [s] kept looking at her countenance. Satisfaction and consent were\n",
       "clearly drawn on it. Presently, he went out, repeating from the depths of his\n",
       "pure heart:\n",
       "\n",
       "_Allah is great! Her Silence signals her consent!\"_\n",
       "\n",
       "As soon as he returned to Imam Ali [a], the Prophet [s] asked him:\n",
       "\n",
       "_\"Do you have anything with which I marry you (to Fatimah)?<br>"
      ],
      "text/plain": [
       "<IPython.core.display.Markdown object>"
      ]
     },
     "metadata": {},
     "output_type": "display_data"
    },
    {
     "data": {
      "text/markdown": [
       "**Node ID:** 2df75677-bd2c-4663-b002-d6e4bdfec7bb<br>**Similarity:** 0.6954212097543206<br>**Text:** The man had bad\n",
       "intentions.\n",
       "\n",
       "Imam Hasan [a] demonstrated some or Abu Musa's mistakes. Among them was\n",
       "deposing Imam Ali [a] and calling Abdullah bin Umar bin al-Khattab the caliph\n",
       "of Muslims. His judgement involved three errors, not to mention the rest of\n",
       "his arbitration. Imam Hasan [a] was an astute thinker, had a sound foundation\n",
       "in logic and politics. His analysis of Abu Musa's actions in the arbitration\n",
       "process was acute and left no doubt in a reasonable mind that the analysis was\n",
       "without flaw. He said that:\n",
       "\n",
       "  1. When Umar bin al-Khattab appointed a six-man consultative group at his deathbed, he did not appoint his son Abdullah as one of the group. That was because he recognised that his son was not qualified to be a caliph, and a leader of the people.\n",
       "  2. The pledge of allegiance, as was the order of the day, was initiated by the immigrants and Ansar, then, the whole of the ummah followed suit. How could al-Ash'ari do something without consulting them?\n",
       "  3. Al-Ash'ari, when he appointed Abdullah as the caliph of Muslims, did it without seeking the view of the man himself. He could not tell whether Abdullah would consent or refuse. The man was not informed of the question earlier, and he was not asked about this most historically critical matter.\n",
       "\n",
       "Moreover, Imam Hasan [a] set an example of a just and good arbitration, which\n",
       "is approved of by Allah.<br>"
      ],
      "text/plain": [
       "<IPython.core.display.Markdown object>"
      ]
     },
     "metadata": {},
     "output_type": "display_data"
    },
    {
     "data": {
      "text/markdown": [
       "**Node ID:** 1cd267e9-8ea6-43c1-b350-10bee0dcbe21<br>**Similarity:** 0.6953840090744343<br>**Text:** (He meant al-Hasan).’[59]\n",
       "\n",
       "9\\. Abdullah bin Muhammad al-Isfahani said, “Abul Hasan said, ‘Your man after\n",
       "me is the one who will offer the prayer on me (after death).’ We did not know\n",
       "Abu Muhammad before that, and when Abul Hasan (a.s.) died, Abu Muhammad came\n",
       "out and offered the (funeral) prayer on him.’[60]\n",
       "\n",
       "These are some traditions narrated by reliable narrators from Imam al-Hadi\n",
       "(a.s.) about the appointing of his son Abu Muhammad al-Hasan (a.s.) as the\n",
       "next imam, besides other traditions transmitted from Imam al-Jawad (a.s.). As-\n",
       "Saqr bin Dulaf said, “I heard Abu Ja’far Muhammad bin Ali ar-Ridha (Imam al-\n",
       "Jawad) saying, ‘The imam after me is my son Ali. His command is my command,\n",
       "his saying is my saying, and obedience to him is obedience to me. And the imam\n",
       "after him will be his son al-Hasan.[61]\n",
       "\n",
       "There are other traditions that were narrated from the Prophet (a.s)\n",
       "concerning the appointing of the guardians and caliphs after him among whom\n",
       "was Imam Abu Muhammad al-Askari (a.s.). These traditions were mentioned in the\n",
       "famous reference books of Hadith and history.<br>"
      ],
      "text/plain": [
       "<IPython.core.display.Markdown object>"
      ]
     },
     "metadata": {},
     "output_type": "display_data"
    },
    {
     "data": {
      "text/markdown": [
       "**Node ID:** ae78b5c4-26e2-493c-bbb7-7c1fac91a06f<br>**Similarity:** 0.6953002060322746<br>**Text:** I am the son of the Holy Prophet. I am the son of the\n",
       "Trustee. I am the son of the bearer of the good news, and the warner. I am the\n",
       "son of the Caller to Allah by His permission. I am the son of the bright lamp.\n",
       "I am from the house at which Jibra'il used to descend to us, and ascend from\n",
       "us, and from the Ahlul Bayt whom Allah kept away from uncleanness and totally\n",
       "purified them. I am from a household whose love Allah made an obligation on\n",
       "every Muslim. Allah, the Blessed and the Most High, said to His Prophet:\n",
       "\n",
       "'… say: I do not ask of you any reward for it but love for my near relatives;…\n",
       "'\"\n",
       "\n",
       "Holy Qur'an (42:23)\n",
       "\n",
       "Imam Hasan [a] concluded his speech by saying, 'Doing a good deed means loving\n",
       "us, the Ahlul Bayt.'[[22]](http://www.al-\n",
       "islam.org/gallery/kids/Books/2ndimam/15.htm#r22)\n",
       "\n",
       "In this speech, Imam Hasan [a] spelled out the qualities of the late leader.\n",
       "Also he presented his own qualifications and stature in the Muslim world, and\n",
       "asserted the fact that he, and not any other person, was entitled to be the\n",
       "next leader of the Muslims.\n",
       "\n",
       "No sooner did Imam Hasan [a] wind up his speech, than Bin Abbas rose to his\n",
       "feet urging the people to give their pledge of allegiance to the new Imam. And\n",
       "that was exactly what the people did.\n",
       "\n",
       "Imam Hasan [a] received the pledge of allegiance from the people, and was\n",
       "acknowledged as the caliph and the ruler of Kufa, and later of the other\n",
       "Muslim cities.<br>"
      ],
      "text/plain": [
       "<IPython.core.display.Markdown object>"
      ]
     },
     "metadata": {},
     "output_type": "display_data"
    },
    {
     "data": {
      "text/markdown": [
       "**Node ID:** ad158c93-6cdf-4faf-9976-28ce20402ae8<br>**Similarity:** 0.6943829086691198<br>**Text:** All were eating when Imam Ali [a] entered. The Prophet [s] smiled. Then he\n",
       "said:  _\"Allah has ordered me to give to you Fatimah, in marriage with a dowry\n",
       "of four hundred mithqals of silver if you agree to it.\"_\n",
       "\n",
       "____\n",
       "\n",
       "_\"I agree to it, O Messenger of Allah,\"_ Ali replied.\n",
       "\n",
       "Anas said:  _\"The Prophet said: 'May Allah strengthen the bond that connects\n",
       "you, make your grandfather happy, bless you, and cause you to produce much\n",
       "good.'\"_\n",
       "\n",
       "__\n",
       "\n",
       "_\"By Allah\",_ Anas said,  _\"He caused them to produce much good.\"_\n",
       "[[2]](http://www.al-islam.org/gallery/kids/Books/2ndimam/3.htm#r2)\n",
       "\n",
       "Before one month had slipped by after the ceremony of the contract of\n",
       "marriage, Aqeel bin Abi Talib, may Allah be pleased with him, contacted his\n",
       "brother, Imam Ali [a], urging him to consummate the marriage.\n",
       "\n",
       "_\"Why do you not?\"_ he asked.  _\"Ask the Messenger of Allah [s] to bring her\n",
       "(to your house), so that your happiness, by your union, will be completed.\"_\n",
       "\n",
       "They agreed to approach the Messenger of Allah [s] on the matter. But before\n",
       "doing anything, they met with Um-Ayman Barakah, the daughter of Tha'labah, a\n",
       "respected woman and consulted her. She suggested that she would talk about it\n",
       "to the mothers of the faithful (Prophet's wives), who would, in turn, talk to\n",
       "the Messenger of Allah [s].\n",
       "\n",
       "The women met with the Prophet [s].<br>"
      ],
      "text/plain": [
       "<IPython.core.display.Markdown object>"
      ]
     },
     "metadata": {},
     "output_type": "display_data"
    },
    {
     "data": {
      "text/markdown": [
       "**Node ID:** 436f5b58-658f-4f46-b18c-922244ad9443<br>**Similarity:** 0.6941340224715258<br>**Text:** May Allah reward you the\n",
       "best of rewards.\"[[29]](http://www.al-\n",
       "islam.org/gallery/kids/Books/2ndimam/15.htm#r29)\n",
       "\n",
       "The committed people hastened to al-Nukhailah and encamped there, in obedience\n",
       "to their Imam [a]. Imam Hasan [a], afterwards, followed them with an army,\n",
       "estimated by some historians, at 4,000 men. [[30]](http://www.al-\n",
       "islam.org/gallery/kids/Books/2ndimam/15.htm#r30) The rest of the people were\n",
       "to join him.\n",
       "\n",
       "Imam Hasan [a] hoped that the people would support the right cause and so come\n",
       "to defend Islam. But their delay in joining him made Imam Hasan [a] return\n",
       "once again to his capital, Kufa, to egg on the people to join him.\n",
       "\n",
       "He marched on, leading a tremendous army, which was paradoxically in low\n",
       "spirit, eaten away by weakness and disharmony. He arrived in al-Nukhailah,\n",
       "where he organized his army, and set plans for the commanders of the\n",
       "divisions. From there, he headed for Dair Abdul-Rahman. There he decided to\n",
       "send a military force ahead of his army. He elected his cousin Ubaidullah bin\n",
       "al-Abbas as its commander. He said to him:\n",
       "\n",
       "\"… Cousinl I am sending with you twelve thousand men, among whom there are\n",
       "famous horsemen of the Arabs, and the Qur'anic reciters of Kufa. Each one of\n",
       "them is equal to one battalion in courage. March with them, be kind to them,\n",
       "look at them with a smiling face, be humble to them, and consult them.<br>"
      ],
      "text/plain": [
       "<IPython.core.display.Markdown object>"
      ]
     },
     "metadata": {},
     "output_type": "display_data"
    },
    {
     "data": {
      "text/markdown": [
       "**Node ID:** d3f6341a-13fe-47c7-bcb0-2ab133d29d36<br>**Similarity:** 0.6941044823412597<br>**Text:** In this case he has the right to appoint another one\n",
       "to take his right back. Jurisprudents say that an executor has the right to\n",
       "appoint another executor after him if he has been permitted by the man of the\n",
       "will to do that.\n",
       "\n",
       "21\\. Muhammad bin al-Hasan as-Saffar wrote to Imam Abu Muhammad (a.s.) asking\n",
       "him about entailment, and what had been transmitted from his fathers (a.s.)\n",
       "about it. Imam Abu Muhammad (a.s.) replied, ‘Entailments should be dealt with\n",
       "as their owners have entailed them on, insha’Allah.[176]\n",
       "\n",
       "22\\. Muhammad bin al-Hasan as-Saffar wrote to Imam Abu Muhammad al-Hasan bin\n",
       "Ali (a.s.), ‘Some man died and left behind a grandson and a full brother. To\n",
       "whom would the inheritance belong?’\n",
       "\n",
       "The imam (a.s.) replied, ‘The inheritance would be for the closest\n",
       "\n",
       "one, insha’Allah.[177]\n",
       "\n",
       "**Notes:**\n",
       "\n",
       "****[150] Falah as-Sa’il.\n",
       "\n",
       "[151] A’yan ash-Shi’a, vol.4 p.308-309.\n",
       "\n",
       "[152] Mir’at az-Zaman, vol.6 p.192.\n",
       "\n",
       "[153] A ritually impure person.\n",
       "\n",
       "[154] Man La Yahdhuruhu al-Faqih, vol.1 p.86, al-Istibsar, vol.1 p.195, at-\n",
       "Tahthib, vol.1 p.122.<br>"
      ],
      "text/plain": [
       "<IPython.core.display.Markdown object>"
      ]
     },
     "metadata": {},
     "output_type": "display_data"
    }
   ],
   "source": [
    "display_retrieved_nodes(retrieved_nodes)"
   ]
  },
  {
   "cell_type": "markdown",
   "metadata": {},
   "source": [
    "# Hybrid Retriever with BM25 + Chroma"
   ]
  },
  {
   "cell_type": "code",
   "execution_count": 25,
   "metadata": {},
   "outputs": [],
   "source": [
    "query_gen_prompt = \"\"\"You are an AI language model assistant specializing in query expansion. Your task is to generate {num_queries} diverse versions of the given user question. These variations will be used to retrieve relevant documents from a vector database, helping to overcome limitations of distance-based similarity search.\n",
    "\n",
    "Original question: {query}\n",
    "\n",
    "Instructions:\n",
    "1. Create {num_queries} unique variations of the original question.\n",
    "2. Ensure each variation maintains the core intent of the original question.\n",
    "3. Use different phrasings, synonyms, or perspectives for each variation.\n",
    "4. Consider potential context or implications not explicitly stated in the original question.\n",
    "5. Avoid introducing new topics or drastically changing the meaning of the question.\n",
    "\n",
    "Please provide your {num_queries} question variations, each on a new line:\n",
    "\"\"\""
   ]
  },
  {
   "cell_type": "code",
   "execution_count": 26,
   "metadata": {},
   "outputs": [],
   "source": [
    "from llama_index.core.retrievers import QueryFusionRetriever\n",
    "\n",
    "retriever = QueryFusionRetriever(\n",
    "    retrievers=[\n",
    "        vector_retriever,\n",
    "        bm25_retriever,\n",
    "    ],\n",
    "    retriever_weights=[0.6, 0.4],\n",
    "    num_queries=5,\n",
    "    query_gen_prompt=query_gen_prompt,\n",
    "    use_async=True,\n",
    "    similarity_top_k=top_n,\n",
    "    mode=\"dist_based_score\"\n",
    ")"
   ]
  },
  {
   "cell_type": "code",
   "execution_count": 27,
   "metadata": {},
   "outputs": [],
   "source": [
    "retrieved_nodes = retriever.retrieve(question)"
   ]
  },
  {
   "cell_type": "code",
   "execution_count": 28,
   "metadata": {},
   "outputs": [
    {
     "data": {
      "text/plain": [
       "20"
      ]
     },
     "execution_count": 28,
     "metadata": {},
     "output_type": "execute_result"
    }
   ],
   "source": [
    "len(retrieved_nodes)"
   ]
  },
  {
   "cell_type": "code",
   "execution_count": 29,
   "metadata": {},
   "outputs": [
    {
     "data": {
      "text/markdown": [
       "**Node ID:** 89fe6c69-afa6-41f0-be12-c20564f8fee0<br>**Similarity:** 0.3141778304957928<br>**Text:** Of the Muhajirs were Salman Farsi, Abu Dharr Ghifari,\n",
       "Miqdad Bin Aswad Kindi, Ammar-e-Yasir, Buraida Aslami, and Khalid Bin Sa'id\n",
       "Bin As Amawi. Of the Ansars were Abu'l-Hathama bin Tihan, Khuzaima Bin Thabit\n",
       "Dhu'sh-Shahadatain, Abu Ayyub Ansari, Ubai Bin Ka'b, Sahl Bin Hunaif, Uthman\n",
       "Bin Hunaif, who remonstrated with Abu Bakr inside the mosque. I have given\n",
       "only this brief outline of events. No ijma of any kind was reached. The ijma\n",
       "of the intellectuals and the prominent companions of Medina is a flagrant lie.  \n",
       "\n",
       "Based on your own sources, I will give you a list of names of some of those\n",
       "who opposed the caliphate. Ibn Hajar Asqalani and Baladhuri, each in his\n",
       "Ta'rikh, Muhammad Bin Khawind Shah in his Rauzatu's-Safa, Ibn Abdu'l-Birr in\n",
       "his Isti'ab, and others say that Sa'd Bin Ubaida and a part of Khazrajis and a\n",
       "group of Quraish did not swear the oath of fealty to Abu Bakr. Moreover,\n",
       "eighteen people who were prominent and distinguished companions of the Holy\n",
       "Prophet did not take the oath of allegiance to Abu Bakr. They were Shias of\n",
       "Ali Bin Abu Talib. The names of those eighteen people are as follows:  \n",
       "  \n",
       "\n",
       "1\\. Salman Farsi\n",
       "\n",
       "2\\. Abu Dharr Ghifari\n",
       "\n",
       "3\\. Miqdad Bin Aswad-e-Kindi\n",
       "\n",
       "4\\. Ammar-e-Yasir\n",
       "\n",
       "5\\. Khalid Bin Sa'id bin al-As\n",
       "\n",
       "6\\. Buraida Aslami\n",
       "\n",
       "7\\. Ubai Bin Ka'b\n",
       "\n",
       "8\\.<br>"
      ],
      "text/plain": [
       "<IPython.core.display.Markdown object>"
      ]
     },
     "metadata": {},
     "output_type": "display_data"
    },
    {
     "data": {
      "text/markdown": [
       "**Node ID:** 0f7de2b7-4a93-4842-a02c-b4af9530aa80<br>**Similarity:** 0.2953532252159946<br>**Text:** After the martyrdom of this epitome of perfect faith, Hajjaaj suffered a\n",
       "derangement of his senses and did not live for more than fifteen nights.\n",
       "Before his death, he would occasionally lose consciousness, but regaining it,\n",
       "he would repeatedly mutter:\n",
       "\n",
       "“Why did I ever get involved with Sa’eed Ibn Jubair?”[15]127\n",
       "\n",
       "\n",
       "### Salman Farsi’s Rank\n",
       "\n",
       "  \n",
       "Faith has ten ranks and Salman Farsi was on its tenth rank. He possessed\n",
       "knowledge of the unseen, the ability to interpret dreams and misfortunes, was\n",
       "well versed in genealogy and had even been favoured with gifts of Paradise, in\n",
       "this world. The Holy Prophet (s.a.w.) said: “Whenever Jibraeel would descend,\n",
       "he would, on behalf of God, say:  _Convey my salutation to Salman!_ ”\n",
       "\n",
       "Here is an example of the high degree of Salman’s faith. Once, Abu Dharr paid\n",
       "Salman a visit. Salman had placed a utensil over the fire to heat its\n",
       "contents. The two men sat together for some time, talking to each other, when\n",
       "suddenly the vessel toppled over, but to Abu Dharr’s amazement, its contents\n",
       "did not spill. Salman, picking the utensil up, placed it back upon the fire. A\n",
       "little later, the vessel fell over again, but once again its contents did not\n",
       "spill. Again Salman picked it up and placed the vessel upright.\n",
       "\n",
       "Amazed, Abu Dharr hurried out of Salman’s house and was lost in contemplation\n",
       "over what he had witnessed. He happened to come across Amirul Mu'mineen (a.s.)\n",
       "on the way and narrated the incident to him.\n",
       "\n",
       "Having heard Abu Dharr’s narration, the Imam (a.s.)<br>"
      ],
      "text/plain": [
       "<IPython.core.display.Markdown object>"
      ]
     },
     "metadata": {},
     "output_type": "display_data"
    },
    {
     "data": {
      "text/markdown": [
       "**Node ID:** 7e803d93-6e97-4bc4-8686-71aafe7682dc<br>**Similarity:** 0.2739805786176877<br>**Text:** ## Chapter 90 Q. 89: ABOUT SALMAN AL-FARSI (R.A.)\n",
       "\n",
       "_Was Salman Al-Farsi (r.a.) governor of Mada'in at the time of his death? When\n",
       "did he die and where?_\n",
       "\n",
       "**A:** Salman (r.a.) was appointed governor of Mada'in by the 2nd caliph. The\n",
       "caliph usually changed governors every two years. When he got the news that\n",
       "Salman (r.a.) was about to enter Medina, the caliph went out with many\n",
       "companions to welcome him. It was a very unusual honour paid to returning\n",
       "governor. The reason became clear when they saw Salman (r.a.) returning with\n",
       "the same robe in which he had set out. He had not taken from the treasury\n",
       "anything for himself during his governorate.\n",
       "\n",
       "Then Salman (r.a.) settled in Basrah, where he married a lady. After a few\n",
       "years, he shifted with his family to Mada'in. I think he did so because\n",
       "Mada'in people spoke Persian.\n",
       "\n",
       "He died in Mada'in in the last year of 'Uthman's caliphate, i.e. in 36 A.H.\n",
       "(Vide At-Tabaqat by Ibn Sa'd, vol.4, p.93).<br>"
      ],
      "text/plain": [
       "<IPython.core.display.Markdown object>"
      ]
     },
     "metadata": {},
     "output_type": "display_data"
    },
    {
     "data": {
      "text/markdown": [
       "**Node ID:** 242cd2bd-ec3c-4ccc-b060-f18e34b38f4c<br>**Similarity:** 0.250433015978015<br>**Text:** Then will\n",
       "arise Salman, Miqdad and AbuDharr.\"[39]\n",
       "\n",
       "The Holy Prophet said, \"Allah has ordered me to love four of my\n",
       "companions.\"People asked who those four companions were. The Holy Prophet\n",
       "said, \"'Ali bin AbiTalib, Salman, Miqdad and Abu Dharr.\"[40]According to\n",
       "traditions, Allah sent forSalman gifts and presents from Paradise; and the\n",
       "Paradise eagerly awaited hisarrival.[41]\n",
       "\n",
       "Once Mansur bin Buzurg, himself of Persian origin, asked Imam Ja'far al-Sadiq\n",
       "as towhy he remembered Salman al-Farsi so much. The Imam said, \"Do not say\n",
       "'Salmanal-Farsi (the Persian)'. Say, 'Salman of Muhammad.' You should know\n",
       "that the reasonof my often remembering him are three of his special virtues:\n",
       "First, he discarded himown preferences in view of the preferences of Amirul\n",
       "mu'minin 'Ali. Second, he lovedpoor and preferred them against rich and\n",
       "wealthy persons. Third, he loved knowledgeand knowledgeable persons. Verily\n",
       "Salman was a good servant of God, a pure Muslimand he was not from the\n",
       "polytheists.<br>"
      ],
      "text/plain": [
       "<IPython.core.display.Markdown object>"
      ]
     },
     "metadata": {},
     "output_type": "display_data"
    },
    {
     "data": {
      "text/markdown": [
       "**Node ID:** 48504cff-dab1-443d-ae47-697281ace889<br>**Similarity:** 0.22956793077733528<br>**Text:** It is a matter for conjecture that when the morsel went into the mouth, what\n",
       "all processes took place thereafter. The hands, mouth, teeth, tongue,\n",
       "intestines, the faculty of digestion, the power of retaining food in the body\n",
       "played their part to convert the morsel into energy and blood to circulate in\n",
       "the system to provide him life and sustenance. Does the person have the\n",
       "faculty and capability to thank Allah for designing such a wonderful cycle of\n",
       "production for sustaining and prolonging the human existence on the earth!\n",
       "\n",
       "Imam Mohammed Taqi (a.s) narrates that one day Salman Farsi invited Abu Dharr\n",
       "Ghiffari over a meal. He put dried bread dipped in water before Abu Dharr. Abu\n",
       "Dharr said, “ _Subhan Allah,_ such good bread! How much I wish if there was\n",
       "some salt too!” Salman mortgaged his piece of cloth and fetched some salt. Abu\n",
       "Dharr ate the bread with the salt and thanked Allah for bestowing on him the\n",
       "trait of contentment. Salman Farsi said, “If you had practiced contentment, my\n",
       "piece of cloth wouldn’t have been mortgaged!”\n",
       "\n",
       "Imam Jafar e Sadiq (a.s) has said, “Allah has exhorted Hazrat Moosa (a.s) to\n",
       "Thank Him, that thanking Him is the right thing by Him.” Hazrat Moosa (a.s)\n",
       "said, “O Creator! How could I fulfill the duty of thanking and praising you\n",
       "that the faculty of doing it has also been endowed to me by you!”<br>"
      ],
      "text/plain": [
       "<IPython.core.display.Markdown object>"
      ]
     },
     "metadata": {},
     "output_type": "display_data"
    },
    {
     "data": {
      "text/markdown": [
       "**Node ID:** 5c8389b6-4b5e-4024-b104-b5368a36df4f<br>**Similarity:** 0.22170159903131215<br>**Text:** He is the heir to my knowledge; he is the payer\n",
       "of my debt. What belongs to him belongs to me; what belongs to me belongs to\n",
       "him; his benefit is my benefit and his loss is my loss. He who is a friend of\n",
       "his is really a friend of mine and he who is an enemy of his is really an\n",
       "enemy of mine.\"\n",
       "\n",
       "(2) Enquiry by Salman \\- Sheikh Sulayman Balkhi Hanafi, ch. 15 of his\n",
       "Yanabiu'l-Mawadda has narrated twenty hadith in support of the vicegerency of\n",
       "Ali from Imam Tha'labi, Hamwaini, Hafiz Abu Nu'aim, Ahmad Bin Hanbal, Ibn\n",
       "Maghazili, Khawarizmi and Dailami. I submit some of them for your guidance. He\n",
       "reports from Ahmad Bin Hanbal's Musnad (and Sibt Ibn Jauzi in his Tadhkirat-e-\n",
       "Khawasu'l-Umma, p. 26, and Ibn Maghazili Shafi'i in his Manaqib have also\n",
       "narrated these hadith) that Anas Ibn Malik said: \"I asked Salman to ask the\n",
       "Holy Prophet who was his Wasi (vicegerent). Salman asked the Holy Prophet 'O\n",
       "Prophet of Allah! Who is your vicegerent?' The Holy Prophet said, 'O Salman!\n",
       "Who is Salman's successor?' He said 'Yusha Bin Nun.' Then the Holy Prophet\n",
       "said, 'My successor and my heir, who will pay my debt and will fulfill my\n",
       "promises, is Ali Bin Abi Talib.'\"\n",
       "\n",
       "(3) Every prophet had a successor. Ali is my successor. It is reported from\n",
       "Muwaffaq Bin Ahmad, who quotes from Buraida that the Holy Prophet said: \"Every\n",
       "prophet had a successor and heir, and verily, my successor and heir is Ali.\"<br>"
      ],
      "text/plain": [
       "<IPython.core.display.Markdown object>"
      ]
     },
     "metadata": {},
     "output_type": "display_data"
    },
    {
     "data": {
      "text/markdown": [
       "**Node ID:** b4220de6-90dd-48d8-b8c8-e51d95f8c75e<br>**Similarity:** 0.21494593588855704<br>**Text:** ![Cover](images/cover.png)\n",
       "\n",
       "\n",
       "![IslamicMobility](images/logo-feedbooks-tiny.png)\n",
       "\n",
       "# Salman Al Muhammadi\n",
       "\n",
       "## Kamal al-Syyed - XKP\n",
       "\n",
       "  \n",
       "**Published:** 2012  \n",
       "**Tag(s):** companion prophet ali imam shia shiite shiaism husain salman farsi\n",
       "persian iran syria holy xkp madina makka pagan madain kufa\n",
       "\n",
       "\n",
       "## Chapter 1 The Son of Islam\n",
       "\n",
       "It was before noon. Some Muslims sat in Prophet's Mosque waiting for Azan\n",
       "(call to prayer) to say noon prayer.\n",
       "\n",
       "Salman entered mosque and greeted his believing brothers.\n",
       "\n",
       "The Muslims wanted to know the Persian man's tribe. They mentioned their\n",
       "tribes loudly to let Salman hear them.\n",
       "\n",
       "One of them said:\n",
       "\n",
       "_I belong to Tamim's tribe._\n",
       "\n",
       "Another said:\n",
       "\n",
       "_I belong to the Quraish._\n",
       "\n",
       "A third said:\n",
       "\n",
       "_I belong to al-Aus tribe._\n",
       "\n",
       "And so on.\n",
       "\n",
       "But Salman was silent. They wanted to know his tribe. So they asked him:\n",
       "\n",
       "_Salman, where are you from?_\n",
       "\n",
       "To teach them the meaning of Islam, Salman answered:\n",
       "\n",
       "_I'm the son on Islam! I was lost! So, Allah's guided me with Muhammad. I was\n",
       "poor! So, Allah's made me rich with Muhammad. I was a slave! So, Allah's\n",
       "released me with Muhammad. This is my tribe!_\n",
       "\n",
       "The Muslims in mosque kept silent because Salman taught them a lesson of\n",
       "Islam.<br>"
      ],
      "text/plain": [
       "<IPython.core.display.Markdown object>"
      ]
     },
     "metadata": {},
     "output_type": "display_data"
    },
    {
     "data": {
      "text/markdown": [
       "**Node ID:** 55cc8de7-14f8-4053-9df7-1b813664f413<br>**Similarity:** 0.211118250041897<br>**Text:** There too Abu Dharr bore witness about Allah\n",
       "and his Prophet (a.s) thrice.\n",
       "\n",
       "Now Hazrat Ali (a.s) took Abu Dharr to the presence of the Prophet (a.s). He\n",
       "greeted the Prophet (a.s) who kindly asked him to sit and bear witness to the\n",
       "unity of Allah and that Mohammed (a.s) is Allah’s Prophet. Now the Prophet\n",
       "(a.s) said, “O Abu Dharr! You must immediately return to your place that your\n",
       "paternal cousin has expired and you are the soul inheritor of his estate. Go\n",
       "home and take charge of the affairs of your estate. You must join us when we\n",
       "summon you.”Therefore after the migration (_Hegira)_ Abu Dharr had the honour\n",
       "of meeting the Prophet (a.s) in Medina.\n",
       "\n",
       "\n",
       "## Chapter 4 SALMAN ACCEPTS ISLAM\n",
       "\n",
       "Hazrat Imam Mohammed Baqir (a.s) says that some companions visited the grave\n",
       "of the Prophet (a.s) one day and were busy conversing with each other. Hazrat\n",
       "Ali (a.s) asked Salman Farsi, “O Salman! How did you accept the Faith of\n",
       "Islam?” Salman replied, “O Ameer al Momineen! Since it is obligatory on me to\n",
       "reply to your queries, I am narrating to you the circumstances under which I\n",
       "accepted the Faith. I am a native of the city of Shiraz and my profession was\n",
       "farming. My parents used to love me very much.<br>"
      ],
      "text/plain": [
       "<IPython.core.display.Markdown object>"
      ]
     },
     "metadata": {},
     "output_type": "display_data"
    },
    {
     "data": {
      "text/markdown": [
       "**Node ID:** c6fa80dd-d97a-4333-971e-c4cbfdb1e710<br>**Similarity:** 0.19766717944348594<br>**Text:** ### ALI'S PHYSICAL ANCESTRY\n",
       "\n",
       "So far as Ali's physical creation was concerned, he was evidently of the most\n",
       "exalted rank from both his maternal and paternal side. All of his forefathers\n",
       "back to Adam himself were worshipers of Allah. This light never settled in an\n",
       "impure loins or womb. None of the other companions can make such a claim. The\n",
       "lineage of Ali is as follows:\n",
       "\n",
       "(1) Ali Bin (2) Abu Talib Bin (3) Abdu'l-Muttalib (4) Hashim (5) Abd-e-Manaf\n",
       "(6) Qusai (7) Kilab (8) Murra (9) Ka'b (10) Luwai (11) Ghalib (12) Fehr (13)\n",
       "Malik (14) Nazr (15) Kinana (16) Khazima (17) Madreka (18) Ilyas (19) Muzar\n",
       "(20) Nizar (21) Ma'd (22) Adnan (23) Awwad (24) Al-Yasa' (25) Al-Hamis (26)\n",
       "Bunt (27) Sulayman (28) Haml (29) Qidar (30) Isma'il (31) Ibrahim Khalil-Ullah\n",
       "(32) Ta'rikh (33) Tahur (34) Sharu (35) Abraghu (36) Taligh (37) Abir (38)\n",
       "Shale' (39) Arfakhad (40) Sam (41) Noah (42) Lumuk (43) Mutu Shalkh (44)\n",
       "Akhnukh (45) Yarad (46) Mahla'il (47) Qinan (48) Anush (49) Seth (50) Adam\n",
       "Abu'l-Bashir.\n",
       "\n",
       "Except for the Holy Prophet, no one else had such a brilliant ancestry.<br>"
      ],
      "text/plain": [
       "<IPython.core.display.Markdown object>"
      ]
     },
     "metadata": {},
     "output_type": "display_data"
    },
    {
     "data": {
      "text/markdown": [
       "**Node ID:** b62c47db-bca8-43a0-ab35-84ec060d2ede<br>**Similarity:** 0.17212942564596723<br>**Text:** ## Chapter 14 Al-Madain\n",
       "\n",
       "Salman took part in the battles of Persia. He was in the advance of the\n",
       "fighters. And he was fighting bravely.\n",
       "\n",
       "Saad bin Abi-Wakkas was the leader of the campaign against al-Madain. Salman\n",
       "was beside him. He crossed the river with his horse.\n",
       "\n",
       "Salman was a translator between the Muslims and the Persian people. Thus the\n",
       "city surrendered without shedding blood.\n",
       "\n",
       "Caliph Umar bin al-Khattab appointed him ruler over al-Madain. He was a model\n",
       "for the just, Muslim ruler.\n",
       "\n",
       "His salary was five thousand Dirhams. But he divided them all among the poor.\n",
       "\n",
       "He lived a simple life. He bought palm-leaves by a Dirham. He made baskets and\n",
       "sold them for three Dirhams. He spent a Dirham on his family, gave a Dirham to\n",
       "the poor, and saved the third Dirham to buy palm-leaves.\n",
       "\n",
       "His clothing were simple. When the travellers and the strangers saw him, they\n",
       "regarded him as a poor man from al-Madain.\n",
       "\n",
       "One day, while Salman was walking in the market, a traveller ordered him to\n",
       "carry his baggage.\n",
       "\n",
       "Salman carried the baggage and began walking after the man.\n",
       "\n",
       "In the street, the people were greeting Salman respectfully. The traveller\n",
       "wondered and asked the people around him:\n",
       "\n",
       "__\n",
       "\n",
       "Who's that poor man?\n",
       "\n",
       "They answered:\n",
       "\n",
       "__\n",
       "\n",
       "He's Salman al-Farsi, the companion of Allah's Apostle [s], and the Emir of\n",
       "al-Madain.\n",
       "\n",
       "The traveller was surprised. He apologised to Salman and asked him to put down\n",
       "the baggage.\n",
       "\n",
       "Salman refused that and said:\n",
       "\n",
       "__\n",
       "\n",
       "Till I see you off.\n",
       "\n",
       "The traveller felt sorry and knew that Salman was Allah's supporter.<br>"
      ],
      "text/plain": [
       "<IPython.core.display.Markdown object>"
      ]
     },
     "metadata": {},
     "output_type": "display_data"
    },
    {
     "data": {
      "text/markdown": [
       "**Node ID:** 3b74ec47-295b-4897-9681-037dbf512c28<br>**Similarity:** 0.15796907945818395<br>**Text:** It is characteristic of\n",
       "Iranians that they look into things. When they are convinced of their truth,\n",
       "they accept them, as they accepted Islam when Iran was conquered by the Arabs.\n",
       "They were not forced to do it. They gave up Zoroastrianism and sincerely\n",
       "embraced Islam. Similarly, when they were convinced by logic and by Ali's\n",
       "invaluable services, they accepted Shia'ism. Contrary to the assertion of many\n",
       "of your writers, the Iranians did not accept Ali during the caliphate of\n",
       "Harunu'r-Rashid or Mamunu'r-Rashid. They accepted Ali during the time of the\n",
       "holy Prophet. Salman Farsi was one of the most sincere followers of Ali. He\n",
       "reached the highest rank of faith. The ulema of both sects have unanimously\n",
       "written that the Prophet said: \"Salman is from our Ahle Bait (i.e., he is one\n",
       "of the people of my house).\" For this reason he was called \"Salman Muhammadi\"\n",
       "and he was admittedly the most staunch supporter of Ali, and a bitter opponent\n",
       "of Saqifa. If, according to your own books, we follow him, we are on the\n",
       "straight way. He heard the verses of the Qur'an and the sayings of the Prophet\n",
       "about Ali and clearly understood that obedience to Ali was obedience to the\n",
       "Prophet and to Allah. He repeatedly heard the Prophet say: \"One who obeys Ali\n",
       "obeys me; and one who obeys me obeys Allah; one who is hostile to Ali is\n",
       "hostile to me; and one who is hostile to me is hostile to Allah.\"  \n",
       "  \n",
       "\n",
       "Every Iranian, however, who went to Medina and embraced Islam, whether during\n",
       "the time of the Holy Prophet or afterward, obeyed the orders of the Prophet.\n",
       "For this reason, the second caliph became intolerant and imposed several\n",
       "restrictions on Iranians.<br>"
      ],
      "text/plain": [
       "<IPython.core.display.Markdown object>"
      ]
     },
     "metadata": {},
     "output_type": "display_data"
    },
    {
     "data": {
      "text/markdown": [
       "**Node ID:** 4c190b82-3535-4a9e-80a7-3f56f7826b45<br>**Similarity:** 0.14426477064203352<br>**Text:** ### The Humbleness of Salman Farsi\n",
       "\n",
       "Salman had been the governor of one of the cities of Syria for some time. His\n",
       "conduct during the period of his rule remained unchanged from that before his\n",
       "governorship; he would always wear ordinary clothing, travel on foot and even\n",
       "place his household things as security and surety (for borrowing money).\n",
       "\n",
       "Once, while moving through the bazar, he saw a man who had purchased some\n",
       "alfalfa and was looking for someone to carry it to his house for him. Salman\n",
       "approached the person, who failed to recognize him, and agreed to carry his\n",
       "load free of charge. The man placed the load of alfalfa on Salman’s back. As\n",
       "they were walking, they came across a person who immediately recognized\n",
       "Salman.\n",
       "\n",
       "“O’ Leader! Where are you carrying this burden?” he exclaimed.\n",
       "\n",
       "Hearing these words, the owner of the load realized that the person carrying\n",
       "his load was Salman. He fell down on his knees and implored: “Forgive me, for\n",
       "I had failed to recognise you.”  \n",
       "“Nevertheless, I must carry this load to your house,” said Salman.\n",
       "\n",
       "When he had done so, he said to the man, “I have fulfilled my promise; now it\n",
       "is for you to promise that henceforth you will never seek the services of\n",
       "anyone for anything. (And know!) By you carrying things which you are able to,\n",
       "it will not reflect negatively upon your manliness.”[4]<br>"
      ],
      "text/plain": [
       "<IPython.core.display.Markdown object>"
      ]
     },
     "metadata": {},
     "output_type": "display_data"
    },
    {
     "data": {
      "text/markdown": [
       "**Node ID:** ce0c1c3b-3cbe-4816-b2b3-be29f0020d6a<br>**Similarity:** 0.13887484561081959<br>**Text:** I was born through the Islamic ways of\n",
       "Nika.\"\n",
       "\n",
       "Have you not read sermon 105 of Nahju'l-Balagha?. The Commander of the\n",
       "Faithful says about the forefathers of the Holy Prophet: \"Allah provided for\n",
       "them (i.e., the Prophets) the best place (the loins of their forefathers) and\n",
       "gave them the best placements (the holy wombs of their mothers). He\n",
       "transferred them from distinguished and respectable loins to pure wombs. When\n",
       "the father of any of them passed away, his son succeeded him with the religion\n",
       "of Allah, until Allah Almighty made Muhammad His Prophet and Messenger. So He\n",
       "made the source of the Holy Prophet's creation the most exalted one. The Holy\n",
       "Prophet's lineage included His Prophets who were of high rank.\"\n",
       "\n",
       "In short, the ancestors of the Holy Prophet, back to the Prophet Adam, were\n",
       "all believers and monotheists. It is quite obvious that the people of the Ahle\n",
       "Bait (the Progeny) of the Holy Prophet knew more about the status of their\n",
       "forefathers than others knew.\n",
       "\n",
       "\n",
       "### ALI'S FOREFATHERS WERE EQUALLY FREE FROM POLYTHEISM\n",
       "\n",
       "When it is proved that the ancestors of the Holy Prophet were believers and\n",
       "monotheists, it naturally follows that Ali's ancestors were also worshipers of\n",
       "Allah. I have already proved through your own books that Muhammad and Ali were\n",
       "from one light and always remained together in pure loins and wombs until they\n",
       "were separated from each other in the loins of Abdu'l-Muttalib. Every sensible\n",
       "man would admit that such a distinguished personality was the rightful\n",
       "claimant to the caliphate.<br>"
      ],
      "text/plain": [
       "<IPython.core.display.Markdown object>"
      ]
     },
     "metadata": {},
     "output_type": "display_data"
    },
    {
     "data": {
      "text/markdown": [
       "**Node ID:** db167b2a-3028-425f-aaaa-e08165ba671c<br>**Similarity:** 0.1300115552584926<br>**Text:** The holy Prophet gave the letter to Amir al-\n",
       "Mu’minin ‘Ali to read. He read it out to the holy Prophet. Then the holy\n",
       "Prophet said thrice: Well done, O My Pious brother! and told Abu Laila to go\n",
       "back to Medina. The events of Tubba and of all others in the days of pre-\n",
       "Islamic ignorance will be narrated-Allah willing-along with the details of the\n",
       "Holy Prophet. (Author)\n",
       "\n",
       "It is recorded in reliable sources from Salman Farsi through Imam al-Baqir\n",
       "that Salman Farsi said there was a Persian king called Roseen. He was a cruel\n",
       "enemy of the truth and a big oppressor. His oppression increased with the\n",
       "power of his kingship. When his oppression crossed all limits Allah made him\n",
       "suffer an ailment of the head. The trouble started in the right side of his\n",
       "head and became so severe that it was impossible for him even to eat and\n",
       "drink. It made him very restless. He explained his trouble to his viziers,\n",
       "took many medicines but to no avail. He became hopelessly disappointed as he\n",
       "could not find a cure for his ailment.\n",
       "\n",
       "Allah sent a Prophet and asked him through revelation that: Go to My cruel\n",
       "slave Roseen in the form of a physician.<br>"
      ],
      "text/plain": [
       "<IPython.core.display.Markdown object>"
      ]
     },
     "metadata": {},
     "output_type": "display_data"
    },
    {
     "data": {
      "text/markdown": [
       "**Node ID:** 007843b4-9294-4b46-b312-8ed8c9ff02eb<br>**Similarity:** 0.12759913521368488<br>**Text:** Thus,\n",
       "in this light, anyone who believes in Islam and its Prophet must necessarily\n",
       "declare his belief in the existence of the promised Mahdi who is now in\n",
       "occultation.\n",
       "\n",
       "Now we shall relate two ahadith on this issue from the famous Sunni book,\n",
       "_Yanābi‘u 'l-Muwaddah_ :\n",
       "\n",
       "1\\. The Prophet said, “Al-Mahdi is a descendent of mine. He will be in\n",
       "concealment, and when he manifests himself, the earth will become filled with\n",
       "justice just as it was previously filled with injustice.”\n",
       "\n",
       "2\\. Salman al-Farsi says that he went to the Prophet when Husayn bin ‘Ali was\n",
       "sitting in his lap and the Prophet was kissing his eyes and mouth, and then\n",
       "the Prophet said to Husayn, “You are a chief, son of a chief, and the brother\n",
       "of a chief; you are an Imam, son of an Imam, and the brother of an Imam. You\n",
       "are the Proof (_hujjah_), son of a proof and the brother of a proof; you will\n",
       "be the father of nine proofs of whom the ninth will be the  _qā'im_ (one who\n",
       "will establish the divine rule on this earth).”\n",
       "\n",
       "\n",
       "### 5\\. The Length of al-Mahdi’s Life\n",
       "\n",
       "We believe that the lengthening of a man's life is not an impossibility,\n",
       "because it is explicitly stated in the Qur'ān that,**_“We sent Nuh to his\n",
       "people and so he lived among them a thousand years, all but fifty.”_ (29:14)**\n",
       "Even modern science does not deny the possibility of lengthening the human\n",
       "lifespan.<br>"
      ],
      "text/plain": [
       "<IPython.core.display.Markdown object>"
      ]
     },
     "metadata": {},
     "output_type": "display_data"
    },
    {
     "data": {
      "text/markdown": [
       "**Node ID:** e23276bf-1c0f-4754-8fa6-d0843b6ccb80<br>**Similarity:** 0.12065476400653033<br>**Text:** Malik had interceded to Allah, the Exalted,seeking\n",
       "forgiveness for him.\n",
       "\n",
       "This was the training that eliminated the ethnic differences that were firmly\n",
       "established in the souls. Of these was the ethnic prejudice between the Arabs\n",
       "and the Persians etc. When some objected to Salman the Persian and his likes,\n",
       "sitting in the gathering of the Prophet (SA) next to Arabian tribal\n",
       "personalities and wanted the Prophet to have a separate sitting with them, he\n",
       "answered them with the Word of the Exalted: And with hold yourself with those\n",
       "who call on their Lord morning and evening desiring His goodwill, and let not\n",
       "your eyes pass from them, desiring the beauties of this world's life; and do\n",
       "not follow him whose heart We have made unmindful to Our remembrance, and he\n",
       "follows his low desires and his caseis one in which due bounds are exceeded.2\n",
       "Thus, Salman had become the ruler of al-Mada’in. His salary was five thousand.\n",
       "Whenever he was given his salary, he would give it in charity. He used to eat\n",
       "food made by his own hands. He had a garment; he would use it to lie down on\n",
       "and of the same he would cover himself.3\n",
       "\n",
       "Likewise, it eliminated the racial and colour differences. Thus, Bilal,the\n",
       "black slave, became the special caller for prayer for the Prophet (SA) and his\n",
       "close companion. When some of the Quraysh objected saying: Could Muhammad not\n",
       "find someone other than this black crow as a caller for\n",
       "\n",
       "1 Biar al-Anwar: vol. 42, pp 157, hadith no. 25; Tanbih al-Khawair known as\n",
       "MajmuatWaram: vol. 1, pp 2.\n",
       "\n",
       "2 Qur’an: 18: 28; Majma al-Bayan: vol.<br>"
      ],
      "text/plain": [
       "<IPython.core.display.Markdown object>"
      ]
     },
     "metadata": {},
     "output_type": "display_data"
    },
    {
     "data": {
      "text/markdown": [
       "**Node ID:** 5142d595-32d4-41bf-90c4-9844dcde7a60<br>**Similarity:** 0.11981703510155828<br>**Text:** ### His Mother\n",
       "\n",
       "His mother was the best of women at her time in her chastity, purity, and\n",
       "piety. Historians say she was from the good knowing women.[1] Imam al-Hadi\n",
       "(a.s.) praised her by saying, ‘Saleel (her name) was purified from error,\n",
       "defect, and impurity.’[2]\n",
       "\n",
       "She was a bondmaid[3] from an-Nawbah.[4] It did not harm her that she was a\n",
       "bondmaid, for man in the view of Islam is exalted by his guidance, piety, and\n",
       "propriety, and he is degraded by deviation from the right path.\n",
       "\n",
       "Historians disagreed on her name. Some of them said her name was Saleel, which\n",
       "is the most valid assertion according to the previous tradition of Imam al-\n",
       "Hadi (a.s.). Some said she was called Sawsan.[5] Others said her name was\n",
       "Hadithah,[6] and others said Hareebah.<br>"
      ],
      "text/plain": [
       "<IPython.core.display.Markdown object>"
      ]
     },
     "metadata": {},
     "output_type": "display_data"
    },
    {
     "data": {
      "text/markdown": [
       "**Node ID:** 5a68ea2b-9f38-4b84-8b36-fd500e3b8f33<br>**Similarity:** 0.11627846098285077<br>**Text:** I don't understand why you insist so much on this\n",
       "point.\n",
       "\n",
       "Hafiz: I think I am misunderstood.It is my point of view that descent is\n",
       "recognized from the maleside only. I quote an Arabic couplet: \"My sons,\n",
       "grandsons,and daughters are from me, but my daughter's sons are not fromme.\"\n",
       "If you can prove otherwise, please do so.\n",
       "\n",
       "Well-Wisher: There is strongevidence, both from the Holy Qur'an and from\n",
       "authentic hadith,to establish my point.\n",
       "\n",
       "Hafiz: Please relate it so thatwe may understand.\n",
       "\n",
       "Well-Wisher: While you werespeaking just now, I recalled a discussion between\n",
       "Harun ar-Rashid,the Abbasid caliph, and our Imam Musa Kazim on this topic.\n",
       "TheImam gave such a convincing reply that the caliph himself acceptedit.\n",
       "\n",
       "Hafiz: I would like to hearabout that discussion.\n",
       "\n",
       "Well-Wisher: Abu Ja'far MuhammadBin Ali, entitled Sheikh Saduq, in the fourth\n",
       "century A.H. inhis Uyun-e-Akbar ar-Riza (Major Sources for Riza), and Abu\n",
       "MansurBin Ali Tabarsi, in his Ehtijajj (Supports) give a detailed accountof\n",
       "the conversation that took place between Harun ar-Rashid andImam Musa Ja'far\n",
       "in the caliph's court. The caliph asked the Imam,\"How can you claim that you\n",
       "are a descendant of the HolyProphet? The Prophet Muhammad had no descendant.\n",
       "It is acknowledgedthat descendants are from the male side and not from the\n",
       "femaleside. You belong to the generation of his daughter.\"<br>"
      ],
      "text/plain": [
       "<IPython.core.display.Markdown object>"
      ]
     },
     "metadata": {},
     "output_type": "display_data"
    },
    {
     "data": {
      "text/markdown": [
       "**Node ID:** 996e2aa9-d302-4532-bc31-850a456042ec<br>**Similarity:** 0.1161269337531918<br>**Text:** replied, ‘Yes, the adults have to pay their father’s\n",
       "debt and not to delay it for that (until the others come to age).’[162]\n",
       "\n",
       "8\\. Muhammad bin al-Hasan as-Saffar (may Allah be pleased with him) wrote to\n",
       "Abu Muhammad al-Hasan bin Ali (a.s.), ‘Some man guards caravans in frightening\n",
       "places without the permission of the ruler. They (the men of the caravans)\n",
       "agree with him to give him a certain amount. Is it permissible for him to take\n",
       "(wage) from them?’\n",
       "\n",
       "The imam (a.s.) replied, ‘If he hires himself for a specified wage, he can\n",
       "take his right, insha’Allah.’[163]\n",
       "\n",
       "9\\. Muhammad bin al-Hasan as-Saffar (may Allah have mercy on him) wrote to Abu\n",
       "Muhammad al-Hasan bin Ali (a.s.), ‘Some one bought a house, and there was\n",
       "another house (floor) on this house. Would the upper house be included in the\n",
       "lower house?’\n",
       "\n",
       "Imam Abu Muhammad (a.s.) replied, ‘He could not possess except what he had\n",
       "bought with its limits and conditions, insha’Allah.’[164]\n",
       "\n",
       "The jurisprudents of the Twelver Shi’a gave a fatwa that if some one sold a\n",
       "house, its land, upper and lower building would be with it, except if the\n",
       "upper floor was independent in its entry and exit, because that might be a\n",
       "reason to exclude it from the sold house.<br>"
      ],
      "text/plain": [
       "<IPython.core.display.Markdown object>"
      ]
     },
     "metadata": {},
     "output_type": "display_data"
    },
    {
     "data": {
      "text/markdown": [
       "**Node ID:** ec0007a7-ea1d-4fa3-94c0-df548795dd91<br>**Similarity:** 0.11272758260659904<br>**Text:** ### The Fearful Youth\n",
       "\n",
       "Salman Farsi was passing through the blacksmiths’ market of Kufah when he\n",
       "observed that a crowd had gathered around a youth who lay on the ground,\n",
       "senseless. When the people saw Salman, they requested him to recite a\n",
       "supplication so that the youth could come out of his unconsciousness.\n",
       "\n",
       "As soon as Salman came closer, the youth got up and said: “There is nothing\n",
       "wrong with me. It is just that I was passing through this market when I\n",
       "noticed the blacksmiths striking metal with their iron hammer and this made me\n",
       "recall what Allah has said in the Qur’an: “In addition there will be maces of\n",
       "iron (to punish) them.”[4](http://www.al-islam.org/anecdotes-reflection-\n",
       "part-2-sayyid-ali-akbar-sadaaqat/36-fear#footnote4_ol64mg8)As this verse\n",
       "crossed my mind, I was overcome by this state.”\n",
       "\n",
       "Salman became interested in the youth, grew fond of him and made him his\n",
       "brother. They were always friends with each other till one day the youth fell\n",
       "ill and was almost on the verge of dying. Salman sat down near his head and\n",
       "then, addressing Izra’eel, said: “O’ Izra’eel! Be tolerant and lenient towards\n",
       "my young brother and be kind and gentle to him!”\n",
       "\n",
       "“O’ Servant of Allah! I am the friend of all the believers and kind to them\n",
       "all,” Izra`il replied.[5]<br>"
      ],
      "text/plain": [
       "<IPython.core.display.Markdown object>"
      ]
     },
     "metadata": {},
     "output_type": "display_data"
    }
   ],
   "source": [
    "display_retrieved_nodes(retrieved_nodes)"
   ]
  }
 ],
 "metadata": {
  "kernelspec": {
   "display_name": ".venv",
   "language": "python",
   "name": "python3"
  },
  "language_info": {
   "codemirror_mode": {
    "name": "ipython",
    "version": 3
   },
   "file_extension": ".py",
   "mimetype": "text/x-python",
   "name": "python",
   "nbconvert_exporter": "python",
   "pygments_lexer": "ipython3",
   "version": "3.11.5"
  }
 },
 "nbformat": 4,
 "nbformat_minor": 2
}
