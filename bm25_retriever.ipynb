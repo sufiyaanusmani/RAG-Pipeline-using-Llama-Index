{
 "cells": [
  {
   "cell_type": "markdown",
   "metadata": {},
   "source": [
    "**References**\n",
    "\n",
    "[BM25 Retriever - LlamaIndex](https://docs.llamaindex.ai/en/stable/examples/retrievers/bm25_retriever/)\n",
    "\n",
    "[Fusion Retrieval with LlamaIndex - GitHub](https://github.com/NirDiamant/RAG_Techniques/blob/main/all_rag_techniques/fusion_retrieval_with_llamaindex.ipynb)"
   ]
  },
  {
   "cell_type": "markdown",
   "metadata": {},
   "source": [
    "# Setup"
   ]
  },
  {
   "cell_type": "code",
   "execution_count": 1,
   "metadata": {},
   "outputs": [],
   "source": [
    "import nest_asyncio\n",
    "\n",
    "nest_asyncio.apply()"
   ]
  },
  {
   "cell_type": "code",
   "execution_count": 2,
   "metadata": {},
   "outputs": [],
   "source": [
    "from llama_index.llms.openai import OpenAI\n",
    "from llama_index.embeddings.openai import OpenAIEmbedding\n",
    "from dotenv import load_dotenv\n",
    "import os\n",
    "from llama_index.core.settings import Settings\n",
    "from llama_index.core.constants import DEFAULT_TEMPERATURE\n",
    "\n",
    "load_dotenv()\n",
    "OPENAI_API_KEY = os.getenv(\"OPENAI_API_KEY\")\n",
    "\n",
    "Settings.llm = OpenAI(api_key=OPENAI_API_KEY, model_name=\"gpt-4o-mini\", temperature=DEFAULT_TEMPERATURE)\n",
    "Settings.embed_model = OpenAIEmbedding(model_name=\"text-embedding-ada-002\", api_key=OPENAI_API_KEY)"
   ]
  },
  {
   "cell_type": "markdown",
   "metadata": {},
   "source": [
    "# Vectorstore"
   ]
  },
  {
   "cell_type": "code",
   "execution_count": null,
   "metadata": {},
   "outputs": [],
   "source": [
    "import chromadb\n",
    "from llama_index.vector_stores.chroma import ChromaVectorStore\n",
    "\n",
    "def get_vectorstore() -> ChromaVectorStore:\n",
    "    \"\"\"\n",
    "    Initializes and returns a ChromaVectorStore instance.\n",
    "    This function creates a persistent client for the Chroma database using the\n",
    "    directory specified by Directory.VECTORSTORE_DIRECTORY. It then retrieves or\n",
    "    creates a collection named \"transcription_project\" within the database and\n",
    "    returns a ChromaVectorStore instance associated with this collection.\n",
    "\n",
    "    Returns\n",
    "    -------\n",
    "        ChromaVectorStore: An instance of ChromaVectorStore associated with the\n",
    "        \"transcription_project\" collection.\n",
    "\n",
    "    \"\"\"\n",
    "    db = chromadb.PersistentClient(path=\"./vectorstore/\")\n",
    "    chroma_collection = db.get_or_create_collection(\"transcription_project\")\n",
    "    return ChromaVectorStore(chroma_collection=chroma_collection)"
   ]
  },
  {
   "cell_type": "markdown",
   "metadata": {},
   "source": [
    "# Index"
   ]
  },
  {
   "cell_type": "code",
   "execution_count": 4,
   "metadata": {},
   "outputs": [],
   "source": [
    "from llama_index.core import VectorStoreIndex\n",
    "\n",
    "def get_index() -> VectorStoreIndex:\n",
    "    \"\"\"\n",
    "    Retrieves a VectorStoreIndex instance.\n",
    "    This function initializes a vector store using the `get_vectorstore` function\n",
    "    and then creates a `VectorStoreIndex` from the vector store using the specified\n",
    "    embedding model from the settings.\n",
    "\n",
    "    Returns\n",
    "    -------\n",
    "        VectorStoreIndex: An instance of VectorStoreIndex created from the vector store.\n",
    "\n",
    "    \"\"\"\n",
    "    vectorstore = get_vectorstore()\n",
    "    return VectorStoreIndex.from_vector_store(\n",
    "        vectorstore,\n",
    "        embed_model=Settings.embed_model,\n",
    "    )"
   ]
  },
  {
   "cell_type": "code",
   "execution_count": 5,
   "metadata": {},
   "outputs": [],
   "source": [
    "from llama_index.core.response.notebook_utils import display_source_node\n",
    "\n",
    "def display_retrieved_nodes(retrieved_nodes, source_length=5000):\n",
    "    \"\"\"\n",
    "    Displays the retrieved nodes using the display_source_node function.\n",
    "\n",
    "    Parameters\n",
    "    ----------\n",
    "    retrieved_nodes : list\n",
    "        List of nodes retrieved by the retriever.\n",
    "    source_length : int, optional\n",
    "        The length of the source content to display, by default 5000.\n",
    "    \"\"\"\n",
    "    for node in retrieved_nodes:\n",
    "        display_source_node(node, source_length=source_length)"
   ]
  },
  {
   "cell_type": "code",
   "execution_count": 6,
   "metadata": {},
   "outputs": [],
   "source": [
    "question = \"Who was Salman Al Farsi a son of?\""
   ]
  },
  {
   "cell_type": "code",
   "execution_count": 7,
   "metadata": {},
   "outputs": [],
   "source": [
    "top_n = 50"
   ]
  },
  {
   "cell_type": "markdown",
   "metadata": {},
   "source": [
    "# BM25 Retriever\n",
    "\n",
    "To use a BM25 retriever with ChromaDB setup, we'll need to ensure that we have access to the text data stored in ChromaDB, as BM25 is a text-based retrieval method. Here's how we can set up and use a BM25 retriever with ChromaDB:\n",
    "\n",
    "**Access Text Data**: Ensure we can extract the text content from our ChromaDB. This might involve retrieving documents and their associated text fields.\n",
    "\n",
    "**Initialize BM25 Retriever**: Use the BM25Retriever class to create a retriever that operates on the text data.\n",
    "\n",
    "**Perform Retrieval**: Execute queries using the BM25 retriever to get relevant documents based on text similarity."
   ]
  },
  {
   "cell_type": "markdown",
   "metadata": {},
   "source": [
    "## Accessing All Nodes"
   ]
  },
  {
   "cell_type": "code",
   "execution_count": 8,
   "metadata": {},
   "outputs": [],
   "source": [
    "vectorstore = get_vectorstore()"
   ]
  },
  {
   "cell_type": "code",
   "execution_count": 9,
   "metadata": {},
   "outputs": [],
   "source": [
    "# Define batch size\n",
    "batch_size = 5000\n",
    "offset = 0\n",
    "all_docs = []\n",
    "\n",
    "while True:\n",
    "    # Retrieve a batch of documents\n",
    "    # batch = chroma_collection.get(limit=batch_size, offset=offset)\n",
    "    # documents = batch['documents']\n",
    "    batch = vectorstore._get(limit=batch_size, offset=offset, where={}) # Get all documents\n",
    "    documents = batch.nodes\n",
    "    if not documents:\n",
    "        break\n",
    "\n",
    "    all_docs.extend(documents)\n",
    "\n",
    "    offset += batch_size\n",
    "    break"
   ]
  },
  {
   "cell_type": "code",
   "execution_count": null,
   "metadata": {},
   "outputs": [],
   "source": [
    "import concurrent.futures\n",
    "\n",
    "vectorstore = get_vectorstore()\n",
    "\n",
    "# Define batch size\n",
    "batch_size = 5000\n",
    "\n",
    "# Get total document count\n",
    "total_docs = vectorstore._client._collection.count()\n",
    "\n",
    "# Generate offset values\n",
    "offsets = range(0, total_docs, batch_size)\n",
    "\n",
    "all_docs = []\n",
    "\n",
    "def fetch_batch(offset):\n",
    "    \"\"\"Fetch a batch of documents from ChromaDB.\"\"\"\n",
    "    batch = vectorstore._get(limit=batch_size, offset=offset, where={})\n",
    "    return batch.nodes\n",
    "\n",
    "# Use ThreadPoolExecutor to fetch batches in parallel\n",
    "with concurrent.futures.ThreadPoolExecutor(max_workers=4) as executor:\n",
    "    results = executor.map(fetch_batch, offsets)\n",
    "\n",
    "# Flatten results\n",
    "for batch in results:\n",
    "    all_docs.extend(batch)\n"
   ]
  },
  {
   "cell_type": "code",
   "execution_count": 10,
   "metadata": {},
   "outputs": [
    {
     "name": "stdout",
     "output_type": "stream",
     "text": [
      "5000\n"
     ]
    }
   ],
   "source": [
    "print(len(all_docs))"
   ]
  },
  {
   "cell_type": "code",
   "execution_count": 12,
   "metadata": {},
   "outputs": [],
   "source": [
    "from llama_index.core.storage.docstore import SimpleDocumentStore\n",
    "\n",
    "docstore = SimpleDocumentStore()\n",
    "docstore.add_documents(all_docs)"
   ]
  },
  {
   "cell_type": "code",
   "execution_count": 16,
   "metadata": {},
   "outputs": [],
   "source": [
    "docstore.persist(\"./docstore.json\")"
   ]
  },
  {
   "cell_type": "code",
   "execution_count": 29,
   "metadata": {},
   "outputs": [],
   "source": [
    "docstore_loaded = SimpleDocumentStore.from_persist_path(\"./docstore.json\")"
   ]
  },
  {
   "cell_type": "code",
   "execution_count": 30,
   "metadata": {},
   "outputs": [
    {
     "data": {
      "text/plain": [
       "166866"
      ]
     },
     "execution_count": 30,
     "metadata": {},
     "output_type": "execute_result"
    }
   ],
   "source": [
    "len(docstore_loaded.docs)"
   ]
  },
  {
   "cell_type": "code",
   "execution_count": 9,
   "metadata": {},
   "outputs": [],
   "source": [
    "vectorstore = get_vectorstore()"
   ]
  },
  {
   "cell_type": "code",
   "execution_count": 21,
   "metadata": {},
   "outputs": [],
   "source": [
    "index = get_index()"
   ]
  },
  {
   "cell_type": "code",
   "execution_count": 10,
   "metadata": {},
   "outputs": [],
   "source": [
    "documents = vectorstore._get(limit=None, where={}) # Get all documents"
   ]
  },
  {
   "cell_type": "code",
   "execution_count": 11,
   "metadata": {},
   "outputs": [],
   "source": [
    "nodes = documents.nodes # Get all nodes"
   ]
  },
  {
   "cell_type": "code",
   "execution_count": 12,
   "metadata": {},
   "outputs": [
    {
     "data": {
      "text/plain": [
       "(166862, llama_index.core.schema.TextNode)"
      ]
     },
     "execution_count": 12,
     "metadata": {},
     "output_type": "execute_result"
    }
   ],
   "source": [
    "len(nodes), type(nodes[0])"
   ]
  },
  {
   "cell_type": "markdown",
   "metadata": {},
   "source": [
    "## Initializing BM25 Retriever"
   ]
  },
  {
   "cell_type": "code",
   "execution_count": 24,
   "metadata": {},
   "outputs": [],
   "source": [
    "source_nodes = index.as_retriever(similarity_top_k=10000).retrieve(question)\n",
    "bm25_source_nodes = [x.node for x in source_nodes]"
   ]
  },
  {
   "cell_type": "code",
   "execution_count": 11,
   "metadata": {},
   "outputs": [
    {
     "name": "stdout",
     "output_type": "stream",
     "text": [
      "resource module not available on Windows\n"
     ]
    },
    {
     "name": "stderr",
     "output_type": "stream",
     "text": [
      "e:\\Capelin\\llama-index-test\\.venv\\Lib\\site-packages\\tqdm\\auto.py:21: TqdmWarning: IProgress not found. Please update jupyter and ipywidgets. See https://ipywidgets.readthedocs.io/en/stable/user_install.html\n",
      "  from .autonotebook import tqdm as notebook_tqdm\n"
     ]
    }
   ],
   "source": [
    "from llama_index.retrievers.bm25 import BM25Retriever\n",
    "\n",
    "# We can pass in the index, docstore, or list of nodes to create the retriever\n",
    "bm25_retriever = BM25Retriever.from_defaults(\n",
    "    nodes=all_docs,\n",
    "    # Optional: We can pass in the stemmer and set the language for stopwords\n",
    "    # This is important for removing stopwords and stemming the query + text\n",
    "    # The default is english for both\n",
    ")"
   ]
  },
  {
   "cell_type": "code",
   "execution_count": 12,
   "metadata": {},
   "outputs": [
    {
     "ename": "UnicodeEncodeError",
     "evalue": "'charmap' codec can't encode character '\\u0101' in position 236: character maps to <undefined>",
     "output_type": "error",
     "traceback": [
      "\u001b[1;31m---------------------------------------------------------------------------\u001b[0m",
      "\u001b[1;31mUnicodeEncodeError\u001b[0m                        Traceback (most recent call last)",
      "Cell \u001b[1;32mIn[12], line 1\u001b[0m\n\u001b[1;32m----> 1\u001b[0m \u001b[43mbm25_retriever\u001b[49m\u001b[38;5;241;43m.\u001b[39;49m\u001b[43mpersist\u001b[49m\u001b[43m(\u001b[49m\u001b[38;5;124;43m\"\u001b[39;49m\u001b[38;5;124;43m./bm25_retriever\u001b[39;49m\u001b[38;5;124;43m\"\u001b[39;49m\u001b[43m)\u001b[49m\n",
      "File \u001b[1;32me:\\Capelin\\llama-index-test\\.venv\\Lib\\site-packages\\llama_index\\retrievers\\bm25\\base.py:149\u001b[0m, in \u001b[0;36mBM25Retriever.persist\u001b[1;34m(self, path, **kwargs)\u001b[0m\n\u001b[0;32m    147\u001b[0m \u001b[38;5;28;01mdef\u001b[39;00m \u001b[38;5;21mpersist\u001b[39m(\u001b[38;5;28mself\u001b[39m, path: \u001b[38;5;28mstr\u001b[39m, \u001b[38;5;241m*\u001b[39m\u001b[38;5;241m*\u001b[39mkwargs: Any) \u001b[38;5;241m-\u001b[39m\u001b[38;5;241m>\u001b[39m \u001b[38;5;28;01mNone\u001b[39;00m:\n\u001b[0;32m    148\u001b[0m \u001b[38;5;250m    \u001b[39m\u001b[38;5;124;03m\"\"\"Persist the retriever to a directory.\"\"\"\u001b[39;00m\n\u001b[1;32m--> 149\u001b[0m     \u001b[38;5;28;43mself\u001b[39;49m\u001b[38;5;241;43m.\u001b[39;49m\u001b[43mbm25\u001b[49m\u001b[38;5;241;43m.\u001b[39;49m\u001b[43msave\u001b[49m\u001b[43m(\u001b[49m\u001b[43mpath\u001b[49m\u001b[43m,\u001b[49m\u001b[43m \u001b[49m\u001b[43mcorpus\u001b[49m\u001b[38;5;241;43m=\u001b[39;49m\u001b[38;5;28;43mself\u001b[39;49m\u001b[38;5;241;43m.\u001b[39;49m\u001b[43mcorpus\u001b[49m\u001b[43m,\u001b[49m\u001b[43m \u001b[49m\u001b[38;5;241;43m*\u001b[39;49m\u001b[38;5;241;43m*\u001b[39;49m\u001b[43mkwargs\u001b[49m\u001b[43m)\u001b[49m\n\u001b[0;32m    150\u001b[0m     \u001b[38;5;28;01mwith\u001b[39;00m \u001b[38;5;28mopen\u001b[39m(os\u001b[38;5;241m.\u001b[39mpath\u001b[38;5;241m.\u001b[39mjoin(path, DEFAULT_PERSIST_FILENAME), \u001b[38;5;124m\"\u001b[39m\u001b[38;5;124mw\u001b[39m\u001b[38;5;124m\"\u001b[39m, encoding\u001b[38;5;241m=\u001b[39m\u001b[38;5;124m\"\u001b[39m\u001b[38;5;124mutf-8\u001b[39m\u001b[38;5;124m\"\u001b[39m) \u001b[38;5;28;01mas\u001b[39;00m f:\n\u001b[0;32m    151\u001b[0m         json\u001b[38;5;241m.\u001b[39mdump(\u001b[38;5;28mself\u001b[39m\u001b[38;5;241m.\u001b[39mget_persist_args(), f, indent\u001b[38;5;241m=\u001b[39m\u001b[38;5;241m2\u001b[39m)\n",
      "File \u001b[1;32me:\\Capelin\\llama-index-test\\.venv\\Lib\\site-packages\\bm25s\\__init__.py:819\u001b[0m, in \u001b[0;36mBM25.save\u001b[1;34m(self, save_dir, corpus, data_name, indices_name, indptr_name, vocab_name, params_name, nnoc_name, corpus_name, allow_pickle)\u001b[0m\n\u001b[0;32m    816\u001b[0m vocab_path \u001b[38;5;241m=\u001b[39m save_dir \u001b[38;5;241m/\u001b[39m vocab_name\n\u001b[0;32m    818\u001b[0m \u001b[38;5;28;01mwith\u001b[39;00m \u001b[38;5;28mopen\u001b[39m(vocab_path, \u001b[38;5;124m\"\u001b[39m\u001b[38;5;124mw\u001b[39m\u001b[38;5;124m\"\u001b[39m) \u001b[38;5;28;01mas\u001b[39;00m f:\n\u001b[1;32m--> 819\u001b[0m     \u001b[43mf\u001b[49m\u001b[38;5;241;43m.\u001b[39;49m\u001b[43mwrite\u001b[49m\u001b[43m(\u001b[49m\u001b[43mjson_functions\u001b[49m\u001b[38;5;241;43m.\u001b[39;49m\u001b[43mdumps\u001b[49m\u001b[43m(\u001b[49m\u001b[38;5;28;43mself\u001b[39;49m\u001b[38;5;241;43m.\u001b[39;49m\u001b[43mvocab_dict\u001b[49m\u001b[43m)\u001b[49m\u001b[43m)\u001b[49m\n\u001b[0;32m    821\u001b[0m \u001b[38;5;66;03m# Save the parameters\u001b[39;00m\n\u001b[0;32m    822\u001b[0m params_path \u001b[38;5;241m=\u001b[39m save_dir \u001b[38;5;241m/\u001b[39m params_name\n",
      "File \u001b[1;32m~\\AppData\\Local\\Programs\\Python\\Python311\\Lib\\encodings\\cp1252.py:19\u001b[0m, in \u001b[0;36mIncrementalEncoder.encode\u001b[1;34m(self, input, final)\u001b[0m\n\u001b[0;32m     18\u001b[0m \u001b[38;5;28;01mdef\u001b[39;00m \u001b[38;5;21mencode\u001b[39m(\u001b[38;5;28mself\u001b[39m, \u001b[38;5;28minput\u001b[39m, final\u001b[38;5;241m=\u001b[39m\u001b[38;5;28;01mFalse\u001b[39;00m):\n\u001b[1;32m---> 19\u001b[0m     \u001b[38;5;28;01mreturn\u001b[39;00m \u001b[43mcodecs\u001b[49m\u001b[38;5;241;43m.\u001b[39;49m\u001b[43mcharmap_encode\u001b[49m\u001b[43m(\u001b[49m\u001b[38;5;28;43minput\u001b[39;49m\u001b[43m,\u001b[49m\u001b[38;5;28;43mself\u001b[39;49m\u001b[38;5;241;43m.\u001b[39;49m\u001b[43merrors\u001b[49m\u001b[43m,\u001b[49m\u001b[43mencoding_table\u001b[49m\u001b[43m)\u001b[49m[\u001b[38;5;241m0\u001b[39m]\n",
      "\u001b[1;31mUnicodeEncodeError\u001b[0m: 'charmap' codec can't encode character '\\u0101' in position 236: character maps to <undefined>"
     ]
    }
   ],
   "source": [
    "bm25_retriever.persist(\"./bm25_retriever\")"
   ]
  },
  {
   "cell_type": "code",
   "execution_count": 25,
   "metadata": {},
   "outputs": [],
   "source": [
    "# This is how we can set similarity_top_k\n",
    "\n",
    "bm25_retriever.similarity_top_k = 50"
   ]
  },
  {
   "cell_type": "code",
   "execution_count": 26,
   "metadata": {},
   "outputs": [],
   "source": [
    "retrieved_nodes = bm25_retriever.retrieve(question)"
   ]
  },
  {
   "cell_type": "code",
   "execution_count": 27,
   "metadata": {},
   "outputs": [
    {
     "data": {
      "text/plain": [
       "50"
      ]
     },
     "execution_count": 27,
     "metadata": {},
     "output_type": "execute_result"
    }
   ],
   "source": [
    "len(retrieved_nodes)"
   ]
  },
  {
   "cell_type": "code",
   "execution_count": 28,
   "metadata": {},
   "outputs": [
    {
     "data": {
      "text/markdown": [
       "**Node ID:** b4220de6-90dd-48d8-b8c8-e51d95f8c75e<br>**Similarity:** 7.057149887084961<br>**Text:** ![Cover](images/cover.png)\n",
       "\n",
       "\n",
       "![IslamicMobility](images/logo-feedbooks-tiny.png)\n",
       "\n",
       "# Salman Al Muhammadi\n",
       "\n",
       "## Kamal al-Syyed - XKP\n",
       "\n",
       "  \n",
       "**Published:** 2012  \n",
       "**Tag(s):** companion prophet ali imam shia shiite shiaism husain salman farsi\n",
       "persian iran syria holy xkp madina makka pagan madain kufa\n",
       "\n",
       "\n",
       "## Chapter 1 The Son of Islam\n",
       "\n",
       "It was before noon. Some Muslims sat in Prophet's Mosque waiting for Azan\n",
       "(call to prayer) to say noon prayer.\n",
       "\n",
       "Salman entered mosque and greeted his believing brothers.\n",
       "\n",
       "The Muslims wanted to know the Persian man's tribe. They mentioned their\n",
       "tribes loudly to let Salman hear them.\n",
       "\n",
       "One of them said:\n",
       "\n",
       "_I belong to Tamim's tribe._\n",
       "\n",
       "Another said:\n",
       "\n",
       "_I belong to the Quraish._\n",
       "\n",
       "A third said:\n",
       "\n",
       "_I belong to al-Aus tribe._\n",
       "\n",
       "And so on.\n",
       "\n",
       "But Salman was silent. They wanted to know his tribe. So they asked him:\n",
       "\n",
       "_Salman, where are you from?_\n",
       "\n",
       "To teach them the meaning of Islam, Salman answered:\n",
       "\n",
       "_I'm the son on Islam! I was lost! So, Allah's guided me with Muhammad. I was\n",
       "poor! So, Allah's made me rich with Muhammad. I was a slave! So, Allah's\n",
       "released me with Muhammad. This is my tribe!_\n",
       "\n",
       "The Muslims in mosque kept silent because Salman taught them a lesson of\n",
       "Islam.<br>"
      ],
      "text/plain": [
       "<IPython.core.display.Markdown object>"
      ]
     },
     "metadata": {},
     "output_type": "display_data"
    },
    {
     "data": {
      "text/markdown": [
       "**Node ID:** 242cd2bd-ec3c-4ccc-b060-f18e34b38f4c<br>**Similarity:** 6.408306121826172<br>**Text:** Then will\n",
       "arise Salman, Miqdad and AbuDharr.\"[39]\n",
       "\n",
       "The Holy Prophet said, \"Allah has ordered me to love four of my\n",
       "companions.\"People asked who those four companions were. The Holy Prophet\n",
       "said, \"'Ali bin AbiTalib, Salman, Miqdad and Abu Dharr.\"[40]According to\n",
       "traditions, Allah sent forSalman gifts and presents from Paradise; and the\n",
       "Paradise eagerly awaited hisarrival.[41]\n",
       "\n",
       "Once Mansur bin Buzurg, himself of Persian origin, asked Imam Ja'far al-Sadiq\n",
       "as towhy he remembered Salman al-Farsi so much. The Imam said, \"Do not say\n",
       "'Salmanal-Farsi (the Persian)'. Say, 'Salman of Muhammad.' You should know\n",
       "that the reasonof my often remembering him are three of his special virtues:\n",
       "First, he discarded himown preferences in view of the preferences of Amirul\n",
       "mu'minin 'Ali. Second, he lovedpoor and preferred them against rich and\n",
       "wealthy persons. Third, he loved knowledgeand knowledgeable persons. Verily\n",
       "Salman was a good servant of God, a pure Muslimand he was not from the\n",
       "polytheists.<br>"
      ],
      "text/plain": [
       "<IPython.core.display.Markdown object>"
      ]
     },
     "metadata": {},
     "output_type": "display_data"
    },
    {
     "data": {
      "text/markdown": [
       "**Node ID:** 7e803d93-6e97-4bc4-8686-71aafe7682dc<br>**Similarity:** 6.330111026763916<br>**Text:** ## Chapter 90 Q. 89: ABOUT SALMAN AL-FARSI (R.A.)\n",
       "\n",
       "_Was Salman Al-Farsi (r.a.) governor of Mada'in at the time of his death? When\n",
       "did he die and where?_\n",
       "\n",
       "**A:** Salman (r.a.) was appointed governor of Mada'in by the 2nd caliph. The\n",
       "caliph usually changed governors every two years. When he got the news that\n",
       "Salman (r.a.) was about to enter Medina, the caliph went out with many\n",
       "companions to welcome him. It was a very unusual honour paid to returning\n",
       "governor. The reason became clear when they saw Salman (r.a.) returning with\n",
       "the same robe in which he had set out. He had not taken from the treasury\n",
       "anything for himself during his governorate.\n",
       "\n",
       "Then Salman (r.a.) settled in Basrah, where he married a lady. After a few\n",
       "years, he shifted with his family to Mada'in. I think he did so because\n",
       "Mada'in people spoke Persian.\n",
       "\n",
       "He died in Mada'in in the last year of 'Uthman's caliphate, i.e. in 36 A.H.\n",
       "(Vide At-Tabaqat by Ibn Sa'd, vol.4, p.93).<br>"
      ],
      "text/plain": [
       "<IPython.core.display.Markdown object>"
      ]
     },
     "metadata": {},
     "output_type": "display_data"
    },
    {
     "data": {
      "text/markdown": [
       "**Node ID:** 0f7de2b7-4a93-4842-a02c-b4af9530aa80<br>**Similarity:** 6.204136848449707<br>**Text:** After the martyrdom of this epitome of perfect faith, Hajjaaj suffered a\n",
       "derangement of his senses and did not live for more than fifteen nights.\n",
       "Before his death, he would occasionally lose consciousness, but regaining it,\n",
       "he would repeatedly mutter:\n",
       "\n",
       "“Why did I ever get involved with Sa’eed Ibn Jubair?”[15]127\n",
       "\n",
       "\n",
       "### Salman Farsi’s Rank\n",
       "\n",
       "  \n",
       "Faith has ten ranks and Salman Farsi was on its tenth rank. He possessed\n",
       "knowledge of the unseen, the ability to interpret dreams and misfortunes, was\n",
       "well versed in genealogy and had even been favoured with gifts of Paradise, in\n",
       "this world. The Holy Prophet (s.a.w.) said: “Whenever Jibraeel would descend,\n",
       "he would, on behalf of God, say:  _Convey my salutation to Salman!_ ”\n",
       "\n",
       "Here is an example of the high degree of Salman’s faith. Once, Abu Dharr paid\n",
       "Salman a visit. Salman had placed a utensil over the fire to heat its\n",
       "contents. The two men sat together for some time, talking to each other, when\n",
       "suddenly the vessel toppled over, but to Abu Dharr’s amazement, its contents\n",
       "did not spill. Salman, picking the utensil up, placed it back upon the fire. A\n",
       "little later, the vessel fell over again, but once again its contents did not\n",
       "spill. Again Salman picked it up and placed the vessel upright.\n",
       "\n",
       "Amazed, Abu Dharr hurried out of Salman’s house and was lost in contemplation\n",
       "over what he had witnessed. He happened to come across Amirul Mu'mineen (a.s.)\n",
       "on the way and narrated the incident to him.\n",
       "\n",
       "Having heard Abu Dharr’s narration, the Imam (a.s.)<br>"
      ],
      "text/plain": [
       "<IPython.core.display.Markdown object>"
      ]
     },
     "metadata": {},
     "output_type": "display_data"
    },
    {
     "data": {
      "text/markdown": [
       "**Node ID:** 007843b4-9294-4b46-b312-8ed8c9ff02eb<br>**Similarity:** 6.181035041809082<br>**Text:** Thus,\n",
       "in this light, anyone who believes in Islam and its Prophet must necessarily\n",
       "declare his belief in the existence of the promised Mahdi who is now in\n",
       "occultation.\n",
       "\n",
       "Now we shall relate two ahadith on this issue from the famous Sunni book,\n",
       "_Yanābi‘u 'l-Muwaddah_ :\n",
       "\n",
       "1\\. The Prophet said, “Al-Mahdi is a descendent of mine. He will be in\n",
       "concealment, and when he manifests himself, the earth will become filled with\n",
       "justice just as it was previously filled with injustice.”\n",
       "\n",
       "2\\. Salman al-Farsi says that he went to the Prophet when Husayn bin ‘Ali was\n",
       "sitting in his lap and the Prophet was kissing his eyes and mouth, and then\n",
       "the Prophet said to Husayn, “You are a chief, son of a chief, and the brother\n",
       "of a chief; you are an Imam, son of an Imam, and the brother of an Imam. You\n",
       "are the Proof (_hujjah_), son of a proof and the brother of a proof; you will\n",
       "be the father of nine proofs of whom the ninth will be the  _qā'im_ (one who\n",
       "will establish the divine rule on this earth).”\n",
       "\n",
       "\n",
       "### 5\\. The Length of al-Mahdi’s Life\n",
       "\n",
       "We believe that the lengthening of a man's life is not an impossibility,\n",
       "because it is explicitly stated in the Qur'ān that,**_“We sent Nuh to his\n",
       "people and so he lived among them a thousand years, all but fifty.”_ (29:14)**\n",
       "Even modern science does not deny the possibility of lengthening the human\n",
       "lifespan.<br>"
      ],
      "text/plain": [
       "<IPython.core.display.Markdown object>"
      ]
     },
     "metadata": {},
     "output_type": "display_data"
    },
    {
     "data": {
      "text/markdown": [
       "**Node ID:** 48504cff-dab1-443d-ae47-697281ace889<br>**Similarity:** 5.92451810836792<br>**Text:** It is a matter for conjecture that when the morsel went into the mouth, what\n",
       "all processes took place thereafter. The hands, mouth, teeth, tongue,\n",
       "intestines, the faculty of digestion, the power of retaining food in the body\n",
       "played their part to convert the morsel into energy and blood to circulate in\n",
       "the system to provide him life and sustenance. Does the person have the\n",
       "faculty and capability to thank Allah for designing such a wonderful cycle of\n",
       "production for sustaining and prolonging the human existence on the earth!\n",
       "\n",
       "Imam Mohammed Taqi (a.s) narrates that one day Salman Farsi invited Abu Dharr\n",
       "Ghiffari over a meal. He put dried bread dipped in water before Abu Dharr. Abu\n",
       "Dharr said, “ _Subhan Allah,_ such good bread! How much I wish if there was\n",
       "some salt too!” Salman mortgaged his piece of cloth and fetched some salt. Abu\n",
       "Dharr ate the bread with the salt and thanked Allah for bestowing on him the\n",
       "trait of contentment. Salman Farsi said, “If you had practiced contentment, my\n",
       "piece of cloth wouldn’t have been mortgaged!”\n",
       "\n",
       "Imam Jafar e Sadiq (a.s) has said, “Allah has exhorted Hazrat Moosa (a.s) to\n",
       "Thank Him, that thanking Him is the right thing by Him.” Hazrat Moosa (a.s)\n",
       "said, “O Creator! How could I fulfill the duty of thanking and praising you\n",
       "that the faculty of doing it has also been endowed to me by you!”<br>"
      ],
      "text/plain": [
       "<IPython.core.display.Markdown object>"
      ]
     },
     "metadata": {},
     "output_type": "display_data"
    },
    {
     "data": {
      "text/markdown": [
       "**Node ID:** 89fe6c69-afa6-41f0-be12-c20564f8fee0<br>**Similarity:** 5.915501117706299<br>**Text:** Of the Muhajirs were Salman Farsi, Abu Dharr Ghifari,\n",
       "Miqdad Bin Aswad Kindi, Ammar-e-Yasir, Buraida Aslami, and Khalid Bin Sa'id\n",
       "Bin As Amawi. Of the Ansars were Abu'l-Hathama bin Tihan, Khuzaima Bin Thabit\n",
       "Dhu'sh-Shahadatain, Abu Ayyub Ansari, Ubai Bin Ka'b, Sahl Bin Hunaif, Uthman\n",
       "Bin Hunaif, who remonstrated with Abu Bakr inside the mosque. I have given\n",
       "only this brief outline of events. No ijma of any kind was reached. The ijma\n",
       "of the intellectuals and the prominent companions of Medina is a flagrant lie.  \n",
       "\n",
       "Based on your own sources, I will give you a list of names of some of those\n",
       "who opposed the caliphate. Ibn Hajar Asqalani and Baladhuri, each in his\n",
       "Ta'rikh, Muhammad Bin Khawind Shah in his Rauzatu's-Safa, Ibn Abdu'l-Birr in\n",
       "his Isti'ab, and others say that Sa'd Bin Ubaida and a part of Khazrajis and a\n",
       "group of Quraish did not swear the oath of fealty to Abu Bakr. Moreover,\n",
       "eighteen people who were prominent and distinguished companions of the Holy\n",
       "Prophet did not take the oath of allegiance to Abu Bakr. They were Shias of\n",
       "Ali Bin Abu Talib. The names of those eighteen people are as follows:  \n",
       "  \n",
       "\n",
       "1\\. Salman Farsi\n",
       "\n",
       "2\\. Abu Dharr Ghifari\n",
       "\n",
       "3\\. Miqdad Bin Aswad-e-Kindi\n",
       "\n",
       "4\\. Ammar-e-Yasir\n",
       "\n",
       "5\\. Khalid Bin Sa'id bin al-As\n",
       "\n",
       "6\\. Buraida Aslami\n",
       "\n",
       "7\\. Ubai Bin Ka'b\n",
       "\n",
       "8\\.<br>"
      ],
      "text/plain": [
       "<IPython.core.display.Markdown object>"
      ]
     },
     "metadata": {},
     "output_type": "display_data"
    },
    {
     "data": {
      "text/markdown": [
       "**Node ID:** 4c190b82-3535-4a9e-80a7-3f56f7826b45<br>**Similarity:** 5.746397495269775<br>**Text:** ### The Humbleness of Salman Farsi\n",
       "\n",
       "Salman had been the governor of one of the cities of Syria for some time. His\n",
       "conduct during the period of his rule remained unchanged from that before his\n",
       "governorship; he would always wear ordinary clothing, travel on foot and even\n",
       "place his household things as security and surety (for borrowing money).\n",
       "\n",
       "Once, while moving through the bazar, he saw a man who had purchased some\n",
       "alfalfa and was looking for someone to carry it to his house for him. Salman\n",
       "approached the person, who failed to recognize him, and agreed to carry his\n",
       "load free of charge. The man placed the load of alfalfa on Salman’s back. As\n",
       "they were walking, they came across a person who immediately recognized\n",
       "Salman.\n",
       "\n",
       "“O’ Leader! Where are you carrying this burden?” he exclaimed.\n",
       "\n",
       "Hearing these words, the owner of the load realized that the person carrying\n",
       "his load was Salman. He fell down on his knees and implored: “Forgive me, for\n",
       "I had failed to recognise you.”  \n",
       "“Nevertheless, I must carry this load to your house,” said Salman.\n",
       "\n",
       "When he had done so, he said to the man, “I have fulfilled my promise; now it\n",
       "is for you to promise that henceforth you will never seek the services of\n",
       "anyone for anything. (And know!) By you carrying things which you are able to,\n",
       "it will not reflect negatively upon your manliness.”[4]<br>"
      ],
      "text/plain": [
       "<IPython.core.display.Markdown object>"
      ]
     },
     "metadata": {},
     "output_type": "display_data"
    },
    {
     "data": {
      "text/markdown": [
       "**Node ID:** b62c47db-bca8-43a0-ab35-84ec060d2ede<br>**Similarity:** 5.7004594802856445<br>**Text:** ## Chapter 14 Al-Madain\n",
       "\n",
       "Salman took part in the battles of Persia. He was in the advance of the\n",
       "fighters. And he was fighting bravely.\n",
       "\n",
       "Saad bin Abi-Wakkas was the leader of the campaign against al-Madain. Salman\n",
       "was beside him. He crossed the river with his horse.\n",
       "\n",
       "Salman was a translator between the Muslims and the Persian people. Thus the\n",
       "city surrendered without shedding blood.\n",
       "\n",
       "Caliph Umar bin al-Khattab appointed him ruler over al-Madain. He was a model\n",
       "for the just, Muslim ruler.\n",
       "\n",
       "His salary was five thousand Dirhams. But he divided them all among the poor.\n",
       "\n",
       "He lived a simple life. He bought palm-leaves by a Dirham. He made baskets and\n",
       "sold them for three Dirhams. He spent a Dirham on his family, gave a Dirham to\n",
       "the poor, and saved the third Dirham to buy palm-leaves.\n",
       "\n",
       "His clothing were simple. When the travellers and the strangers saw him, they\n",
       "regarded him as a poor man from al-Madain.\n",
       "\n",
       "One day, while Salman was walking in the market, a traveller ordered him to\n",
       "carry his baggage.\n",
       "\n",
       "Salman carried the baggage and began walking after the man.\n",
       "\n",
       "In the street, the people were greeting Salman respectfully. The traveller\n",
       "wondered and asked the people around him:\n",
       "\n",
       "__\n",
       "\n",
       "Who's that poor man?\n",
       "\n",
       "They answered:\n",
       "\n",
       "__\n",
       "\n",
       "He's Salman al-Farsi, the companion of Allah's Apostle [s], and the Emir of\n",
       "al-Madain.\n",
       "\n",
       "The traveller was surprised. He apologised to Salman and asked him to put down\n",
       "the baggage.\n",
       "\n",
       "Salman refused that and said:\n",
       "\n",
       "__\n",
       "\n",
       "Till I see you off.\n",
       "\n",
       "The traveller felt sorry and knew that Salman was Allah's supporter.<br>"
      ],
      "text/plain": [
       "<IPython.core.display.Markdown object>"
      ]
     },
     "metadata": {},
     "output_type": "display_data"
    },
    {
     "data": {
      "text/markdown": [
       "**Node ID:** 408828fa-585f-42c4-a69c-ac502ad19ee7<br>**Similarity:** 5.613619327545166<br>**Text:** Then Allah\n",
       "revealed:-\n",
       "\n",
       "And withhold yourself with those who call on their Lord in the morning and\n",
       "eveningdesiring His goodwill, and let not your eyes pass from them.. (18:28)\n",
       "\n",
       "\"When this was revealed, the Prophet used to make us sit so near him that our\n",
       "thighsalmost touched his thighs; and he did not stand up before us. When we\n",
       "felt that thetime had come for him to stand, we took his leave; and then he\n",
       "stood up after we hadgone. And he used to say to us, 'I thank God who did not\n",
       "take me out of this worlduntil He ordered me to keep patience with a group of\n",
       "my ummah. I shall spend my lifewith you, and, after death, shall remain with\n",
       "you.'\"[26]\n",
       "\n",
       "I propose to give here a short list of some of the slaves who occupy the\n",
       "highestspiritual and temporal status in Islam and in the Muslim society, from\n",
       "the verybeginning of Islam.\n",
       "\n",
       "\n",
       "### 1\\. Salman, the Persian\n",
       "\n",
       "First and foremost, of course, is Salman al-Farsi (the Persian). He was the\n",
       "son of aZoroastrian priest in the province of Fars.<br>"
      ],
      "text/plain": [
       "<IPython.core.display.Markdown object>"
      ]
     },
     "metadata": {},
     "output_type": "display_data"
    },
    {
     "data": {
      "text/markdown": [
       "**Node ID:** ec0007a7-ea1d-4fa3-94c0-df548795dd91<br>**Similarity:** 5.566164970397949<br>**Text:** ### The Fearful Youth\n",
       "\n",
       "Salman Farsi was passing through the blacksmiths’ market of Kufah when he\n",
       "observed that a crowd had gathered around a youth who lay on the ground,\n",
       "senseless. When the people saw Salman, they requested him to recite a\n",
       "supplication so that the youth could come out of his unconsciousness.\n",
       "\n",
       "As soon as Salman came closer, the youth got up and said: “There is nothing\n",
       "wrong with me. It is just that I was passing through this market when I\n",
       "noticed the blacksmiths striking metal with their iron hammer and this made me\n",
       "recall what Allah has said in the Qur’an: “In addition there will be maces of\n",
       "iron (to punish) them.”[4](http://www.al-islam.org/anecdotes-reflection-\n",
       "part-2-sayyid-ali-akbar-sadaaqat/36-fear#footnote4_ol64mg8)As this verse\n",
       "crossed my mind, I was overcome by this state.”\n",
       "\n",
       "Salman became interested in the youth, grew fond of him and made him his\n",
       "brother. They were always friends with each other till one day the youth fell\n",
       "ill and was almost on the verge of dying. Salman sat down near his head and\n",
       "then, addressing Izra’eel, said: “O’ Izra’eel! Be tolerant and lenient towards\n",
       "my young brother and be kind and gentle to him!”\n",
       "\n",
       "“O’ Servant of Allah! I am the friend of all the believers and kind to them\n",
       "all,” Izra`il replied.[5]<br>"
      ],
      "text/plain": [
       "<IPython.core.display.Markdown object>"
      ]
     },
     "metadata": {},
     "output_type": "display_data"
    },
    {
     "data": {
      "text/markdown": [
       "**Node ID:** 55cc8de7-14f8-4053-9df7-1b813664f413<br>**Similarity:** 5.487211227416992<br>**Text:** There too Abu Dharr bore witness about Allah\n",
       "and his Prophet (a.s) thrice.\n",
       "\n",
       "Now Hazrat Ali (a.s) took Abu Dharr to the presence of the Prophet (a.s). He\n",
       "greeted the Prophet (a.s) who kindly asked him to sit and bear witness to the\n",
       "unity of Allah and that Mohammed (a.s) is Allah’s Prophet. Now the Prophet\n",
       "(a.s) said, “O Abu Dharr! You must immediately return to your place that your\n",
       "paternal cousin has expired and you are the soul inheritor of his estate. Go\n",
       "home and take charge of the affairs of your estate. You must join us when we\n",
       "summon you.”Therefore after the migration (_Hegira)_ Abu Dharr had the honour\n",
       "of meeting the Prophet (a.s) in Medina.\n",
       "\n",
       "\n",
       "## Chapter 4 SALMAN ACCEPTS ISLAM\n",
       "\n",
       "Hazrat Imam Mohammed Baqir (a.s) says that some companions visited the grave\n",
       "of the Prophet (a.s) one day and were busy conversing with each other. Hazrat\n",
       "Ali (a.s) asked Salman Farsi, “O Salman! How did you accept the Faith of\n",
       "Islam?” Salman replied, “O Ameer al Momineen! Since it is obligatory on me to\n",
       "reply to your queries, I am narrating to you the circumstances under which I\n",
       "accepted the Faith. I am a native of the city of Shiraz and my profession was\n",
       "farming. My parents used to love me very much.<br>"
      ],
      "text/plain": [
       "<IPython.core.display.Markdown object>"
      ]
     },
     "metadata": {},
     "output_type": "display_data"
    },
    {
     "data": {
      "text/markdown": [
       "**Node ID:** db167b2a-3028-425f-aaaa-e08165ba671c<br>**Similarity:** 5.458775520324707<br>**Text:** The holy Prophet gave the letter to Amir al-\n",
       "Mu’minin ‘Ali to read. He read it out to the holy Prophet. Then the holy\n",
       "Prophet said thrice: Well done, O My Pious brother! and told Abu Laila to go\n",
       "back to Medina. The events of Tubba and of all others in the days of pre-\n",
       "Islamic ignorance will be narrated-Allah willing-along with the details of the\n",
       "Holy Prophet. (Author)\n",
       "\n",
       "It is recorded in reliable sources from Salman Farsi through Imam al-Baqir\n",
       "that Salman Farsi said there was a Persian king called Roseen. He was a cruel\n",
       "enemy of the truth and a big oppressor. His oppression increased with the\n",
       "power of his kingship. When his oppression crossed all limits Allah made him\n",
       "suffer an ailment of the head. The trouble started in the right side of his\n",
       "head and became so severe that it was impossible for him even to eat and\n",
       "drink. It made him very restless. He explained his trouble to his viziers,\n",
       "took many medicines but to no avail. He became hopelessly disappointed as he\n",
       "could not find a cure for his ailment.\n",
       "\n",
       "Allah sent a Prophet and asked him through revelation that: Go to My cruel\n",
       "slave Roseen in the form of a physician.<br>"
      ],
      "text/plain": [
       "<IPython.core.display.Markdown object>"
      ]
     },
     "metadata": {},
     "output_type": "display_data"
    },
    {
     "data": {
      "text/markdown": [
       "**Node ID:** 7387928d-0ef0-429c-a809-3425d3c299d2<br>**Similarity:** 5.448178291320801<br>**Text:** Asbagh bin Nubata (r.a.) was a trusted companion of Ameerul Mumeneen Ali (AS).\n",
       "He went to see Salman Farsi (r.a.) who had settled in Madain. Asbagh (r.a.)\n",
       "says:\n",
       "\n",
       "“I found him very sick, near his death. He told me: 'O Asbagh, the Messenger\n",
       "of Allah had informed me that, at the time of my death, a dead person would\n",
       "talk to me. Now, put me on a wooden plank and take me to the graveyard. On\n",
       "reaching the grave-yard, Salman faced towards Quibla and in a loud voice\n",
       "saluted the dead. Nobody replied. After saluting them several times without\n",
       "getting any reply, Salman said: “O Inhabitants of these graves, I am Salman, a\n",
       "slave of the Messenger of Allah. The Prophet had told me that at the time of\n",
       "my death a dead person would converse with me. Now, if that time has arrived,\n",
       "then, for the sake of Allah and His Messenger, please talk to me”.\n",
       "\n",
       "Suddenly someone responded to his Salaam, and said: “O people who build and\n",
       "plant, and ultimately the buildings turn into ruins and gardens decay; ask me\n",
       "what you want,, I will reply”.\n",
       "\n",
       "Salman (r.a.) asked: “Are you from the people of Paradise or of Hell?” The\n",
       "dead man said that he was from the people of Paradise.\n",
       "\n",
       "Salman requested him to describe how he died and what agonies he had to\n",
       "undergo at that time. He replied:\n",
       "\n",
       "“O Salman, please do not ask this.<br>"
      ],
      "text/plain": [
       "<IPython.core.display.Markdown object>"
      ]
     },
     "metadata": {},
     "output_type": "display_data"
    },
    {
     "data": {
      "text/markdown": [
       "**Node ID:** a820597d-7cb1-407e-b969-5a2658267328<br>**Similarity:** 5.405943870544434<br>**Text:** I followed him until he stopped\n",
       "near the tomb of the late mujtahid Ayatullah Sayyid al-Buroojerdi to recite\n",
       "the sura of al-Fatiha for him. I seized the opportunity, approached him, and\n",
       "told him the phrase as it was, no more no less. Imam Khomeini replied to me\n",
       "saying, ‘Send him my greetings and say to him: O Salman, rise, rise!’\n",
       "\n",
       "Dear reader, notice how these mujtahids respected each other. Al-Akhond al-\n",
       "Hamadani addressed Imam Khomeini as “Abu Tharr” because Imam Khomeini was\n",
       "revolutionary in his actions like Abu Tharr was and did not submit to\n",
       "injustice and deviation. Imam Khomeini addressed al-Akhond al-Hamadani in his\n",
       "reply as “O Salman!” He compared him to Salman al-Farsi in his steadfastness,\n",
       "devotedness, and asceticism. Both Abu Tharr and Salman were great companions\n",
       "of the Prophet (S); they might have been different in their situations but\n",
       "with no enmity to each other, rather each of them had his own opinions\n",
       "according to the area of his legal duty. In the same way, those who bore the\n",
       "similitudes of Abu Tharr and Salman sent each other highly polite messages\n",
       "within the morals of Islam although they were different in analyzing the\n",
       "situations and different in their opinions.\n",
       "\n",
       "At the same time when you see our mujtahids have the morals of the first\n",
       "companions, you see those who pretend to be their followers have the morals of\n",
       "other than them.\n",
       "\n",
       "Is this the right line of Islam, which Imam Khomeini and other mujtahids\n",
       "wanted and made great efforts throughout their lives to serve?<br>"
      ],
      "text/plain": [
       "<IPython.core.display.Markdown object>"
      ]
     },
     "metadata": {},
     "output_type": "display_data"
    },
    {
     "data": {
      "text/markdown": [
       "**Node ID:** a287514c-c034-4637-b45f-52ff37cc727a<br>**Similarity:** 5.364523410797119<br>**Text:** ## Chapter 9 The Victory\n",
       "\n",
       "The polytheists were unsuccessful to cross the trench. The siege became long.\n",
       "Allah granted his Apostle and the believers a victory.\n",
       "\n",
       "The strong winds were blowing against the Allies' Armies. They uprooted their\n",
       "tents and dismayed them.\n",
       "\n",
       "One night, the polytheists were tired of the siege. Therefore, Abu Sufyan\n",
       "decided to withdraw his fighters.\n",
       "\n",
       "In the morning, our Master Muhammad [s] sent Hudhayfa to the enemy front to\n",
       "get him some information.\n",
       "\n",
       "Hudhayfa told Allah's Apostle [s] about the defeat of the enemy armies.\n",
       "\n",
       "The Muslims were filled with happiness. They thanked Allah for granting them a\n",
       "victory over the enemies of the religion and of the humanity.\n",
       "\n",
       "After a month's siege, the Muslims happily came back home.\n",
       "\n",
       "\n",
       "## Chapter 10 In the Prophet's Mosque\n",
       "\n",
       "The Muslims came together in the Prophet's Mosque. They were thanking Allah,\n",
       "the Glorified. They were looking at Salman, the great companion, with love and\n",
       "respect because he saved Madina and Islam from the invaders with his plan.\n",
       "\n",
       "For this reason, the Ansar from Madina said:\n",
       "\n",
       "_Salman is one of us!_\n",
       "\n",
       "And the Muhajireen shouted:\n",
       "\n",
       "_Salman is one of us!_\n",
       "\n",
       "And the Muslims listened to the Prophet [s] to hear his view about Salman:\n",
       "\n",
       "_Salman is a member of my family!_\n",
       "\n",
       "Then the Prophet [s] said:\n",
       "\n",
       "_Don't say Salman al-Farsi, but say Salman al-Muhammadi!_\n",
       "\n",
       "Since that day, the Muslims had looked gratefully and respectfully at Salman.\n",
       "\n",
       "\n",
       "## Chapter 11 Jihad\n",
       "\n",
       "Salman was always going with our Master Muhammad [s] to defend the Muslim\n",
       "Mission against the enemies.<br>"
      ],
      "text/plain": [
       "<IPython.core.display.Markdown object>"
      ]
     },
     "metadata": {},
     "output_type": "display_data"
    },
    {
     "data": {
      "text/markdown": [
       "**Node ID:** 1aa22694-c82c-4a7e-a05e-b97813fe44a2<br>**Similarity:** 5.289237022399902<br>**Text:** But with regard to the rules of the hereafter and from the viewpoint\n",
       "of God's conduct, the laws of\n",
       "\n",
       "> فَمَن تَبِعَنِي فَإِنَّهُ مِنِّي\n",
       "\n",
       "_**Whoever follows me, is from me… (Qur’an, 14:36)** _\n",
       "\n",
       "And\n",
       "\n",
       "> إِنَّ أَکرَمَكم عِندَ اللهِ أَتقاکُم\n",
       "\n",
       "_**Verily the most honourable of you near God is the most pious of you.”\n",
       "(Qur’an, 14:36)** _\n",
       "\n",
       "prevail.\n",
       "\n",
       "The Messenger of God (s) said,\n",
       "\n",
       "> أیّها النّاس إن أباکم واحد، وإنّ ربّكم واحد، كلكم لآدم وآدم من تراب، لا فخر\n",
       "> لعربيّ علی عجميّ إلا بالتّقوی\n",
       "\n",
       "“O people! Verily your father is one, and your Lord is One. All of you are\n",
       "from Adam, and Adam was from dust. There is no pride for an Arab over a non-\n",
       "Arab, except through piety.”[45](epub.html#f_09690b87_45)\n",
       "\n",
       "Salman al-Farsi, who strove to reach truth, reached such a station that the\n",
       "Noble Messenger (s) said of him,\n",
       "\n",
       "> سلمان منّا أهل البیت\n",
       "\n",
       "Salman is one of us, the People of the House.\n",
       "\n",
       "There are some who have come under the influence of satanic whisperings and\n",
       "have contented themselves with the thought, “Our name is among the names of\n",
       "Ali ibn Abi Talib’s (a) friends. However, we may be, we are considered his\n",
       "subjects.<br>"
      ],
      "text/plain": [
       "<IPython.core.display.Markdown object>"
      ]
     },
     "metadata": {},
     "output_type": "display_data"
    },
    {
     "data": {
      "text/markdown": [
       "**Node ID:** ed8013c3-79aa-4e20-8639-d7df6319a351<br>**Similarity:** 5.269693851470947<br>**Text:** said,  \n",
       "**'Hussein is from me and I am from Hussein. Allah loves whoever loves\n",
       "Hussein. Hussein is a disciple of the disciples.\"**(6)\n",
       "\n",
       "2\\. Salman al-Farsi is reported to have said, \"I heard the Prophet of Allah\n",
       "(s.a.w.) saying,**'Hassan and Hussein are my two sons. Whoever loves them then\n",
       "he loves me. And whoever dislikes them then he dislikes me. And whoever\n",
       "dislikes me then Allah dislikes him. And whomever Allah dislikes, He will\n",
       "throw him into hell f ace downward.\"'**(7)\n",
       "\n",
       "3\\. Al-Bara' bin Azib is quoted to have said, \"I saw the Messenger of Allah\n",
       "(s.a.w.) carrying Hussein bin Ali (a.s.) on his shoulder. He was saying, **'O\n",
       "Lord! I do love him so love him.'\"**(8)\n",
       "\n",
       "4\\. Abdullah bin Mas'ood is reported to have said, \"The Messenger of Allah\n",
       "(s.a.w.) said, concerning Hassan and Hussein, **'These are my two sons,\n",
       "whoever loves them then he loves me. And whoever dislikes them he dislikes\n",
       "me,\"'**\n",
       "\n",
       "5\\. Ali bin Hussein (a.s.)<br>"
      ],
      "text/plain": [
       "<IPython.core.display.Markdown object>"
      ]
     },
     "metadata": {},
     "output_type": "display_data"
    },
    {
     "data": {
      "text/markdown": [
       "**Node ID:** d0036cac-be0d-4d38-914c-a6115ffd6ad8<br>**Similarity:** 5.266433238983154<br>**Text:** ## Chapter 29 The Recognition of the Imams\n",
       "\n",
       "It is related with a sound chain of authority from Salman al- Farsi, 'I\n",
       "visited the Messenger of Allah who looked at me and said,\n",
       "\n",
       "\"O Salman, Allah does not send a prophet or messenger unless there are with\n",
       "him twelve chiefs.\"\n",
       "\n",
       "“O Messenger of Allah, I know this from the people of the two books.”\n",
       "\n",
       "\"O Salman, do you know my twelve chiefs, whom Allah has chosen to be leaders\n",
       "after me?\"\n",
       "\n",
       "\"Allah and His Messenger know best.\"\n",
       "\n",
       "\"O Salman, Allah created me from the quintessence of light, and called me, so\n",
       "I obeyed Him. Then He created 'Ali from my light, and called him, and he\n",
       "obeyed. From my light and the light of 'Ali He created Fatimah: He called her\n",
       "and she obeyed. From me, 'Ali and Fatimah, He created al-Hasan and al-Husayn.\n",
       "He called them and they obeyed Him. Allah has named us with five of His names:\n",
       "Allah is al-Mahmud (the Praised) and I am Muhammad (worthy of praise); Allah\n",
       "is al-'Ali (the High), and this is 'Ali (the one of high rank); Allah is al-\n",
       "Fatir (Creator out of nothing), and this is Fatimah; Allah is the One with\n",
       "Hasan (beneficence), and this is Hasan; Allah is Muhassin (the Beautiful), and\n",
       "this is Husayn. He created nine Imams from the light of al-Husayn and called\n",
       "them and they obeyed Him, before Allah created either Heaven on high, the\n",
       "outstretched earth, the air, the angels or man.<br>"
      ],
      "text/plain": [
       "<IPython.core.display.Markdown object>"
      ]
     },
     "metadata": {},
     "output_type": "display_data"
    },
    {
     "data": {
      "text/markdown": [
       "**Node ID:** 2a6a55e5-6789-43ae-9fb7-a4fc00cd2ac9<br>**Similarity:** 5.211150169372559<br>**Text:** ![Cover](images/cover.png)\n",
       "\n",
       "\n",
       "![IslamicMobility](images/logo-feedbooks-tiny.png)\n",
       "\n",
       "# ESSENCE OF LIFE - Ain Al-Hayat\n",
       "\n",
       "## Allamah Muhammad Baqir Al-Majlisi - XKP\n",
       "\n",
       "  \n",
       "**Published:** 2013  \n",
       "**Tag(s):** islam majlisi \"baqir majlisi\" \"ain e hayat\" \"ain hayat\" \"essence\n",
       "of life\" xkp \"shia ebooks\" ulema \"shia authors\" \"muslim ebooks\" \"hayat ul\n",
       "qulub\" ayatullah \"abu dhar\" miqdad \"salman farsi\" \"Almighty\n",
       "\n",
       "\n",
       "## Chapter 1 About The Author\n",
       "\n",
       "Allama Mohammed Baqir Majlisi was a scion of a very erudite family. His\n",
       "ancestor was Maqsood Ali Majlisi who migrated from Jabl Aamil to Isfahan city\n",
       "in Iran. He had two sons, Mohammed Taqi and Mohammed Sadiq. Both of them\n",
       "received instruction in Islamic Studies from allama Abdallah Shustari. Allama\n",
       "Mohammed Taqi Majlisi, himself an erudite Islamic Scholar, was the father of\n",
       "Allama Mohammed Baqir Majlisi. Allama Baqir was born in the year 1037 H (1616\n",
       "AD). He opened his eyes in a scholarly atmosphere. His two elder brothers,\n",
       "Mulla Azizullah and Mulla Abdallah were scholars of high repute and his\n",
       "sisters too were ladies of high learning. Within no time, the young Mohammed\n",
       "Baqir acquired mastery in logic, philosophy, mathematics, hadith, fiqh,\n",
       "literature and Quranic commentary.\n",
       "\n",
       "Allama Mohammed Baqir Majlisi’s tutors too were of very high repute.<br>"
      ],
      "text/plain": [
       "<IPython.core.display.Markdown object>"
      ]
     },
     "metadata": {},
     "output_type": "display_data"
    },
    {
     "data": {
      "text/markdown": [
       "**Node ID:** dbd1ff64-4b62-409a-8df8-9e3010e7768a<br>**Similarity:** 5.199154376983643<br>**Text:** ### THOSE WHOSE PRAYER IS NOT ANSWERED\n",
       "\n",
       "It has come in the traditions that the Prophet (a.s) has said. In my _Ummat_\n",
       "there are some people whose prayers are not accepted. Among them are those who\n",
       "pray for harm to their own parents. Then,, there are those who give loans and\n",
       "don’t take a witness for these transaction. The third category is of such men\n",
       "who, when in disagreement with their spouses, reproach them continuously,\n",
       "instead of giving them divorce (_Talaq)_ which is allowed to them by Allah.\n",
       "The fourth type is of persons who don’t make any serious effort to earn\n",
       "livelihood and sit at home praying to Allah to provide him sustenance. Allah\n",
       "says, “O my creature! I have provided to you the means for earning your\n",
       "livelihood. I have given you the limbs to work and earn a living. Even after\n",
       "sincere efforts if you are unable to earn, pray for My Help!” The fifth type\n",
       "is of the persons who have been gifted with lot of wealth that they squander.\n",
       "Then they pray to Allah to give them more. Allah’s response will be that they\n",
       "were given plenty. Why didn’t they use their wealth frugally instead of\n",
       "squandering it. Allah doesn’t like extravagance (_israaf)._ The sixth category\n",
       "of such persons is of those who talk ill of their kith and kin.\n",
       "\n",
       "When Hazrat Salman Farsi used to receive his allowance, he used to keep aside\n",
       "sufficient to meet the expenses for the year and distribute the remainder to\n",
       "the needy. Someone said, “Salman! Because you are a very old and pious person,\n",
       "you can afford to be charitable!” Salman said, O ignorant person! You don’t\n",
       "know that like death, life too is unpredictable.<br>"
      ],
      "text/plain": [
       "<IPython.core.display.Markdown object>"
      ]
     },
     "metadata": {},
     "output_type": "display_data"
    },
    {
     "data": {
      "text/markdown": [
       "**Node ID:** c8ada51d-7cab-4e74-9816-7d590f059b86<br>**Similarity:** 5.194476127624512<br>**Text:** He was known to\n",
       "possess knowledge of  _al-Ism al-A‘zam_ (the great Name of Allāh), and\n",
       "therefore could perform such powerful feats.\n",
       "\n",
       "We must understand however that according to authoritative Muslim scholars,\n",
       "neither does the  _al-Ism al-A‘zam_ (Great Name) actually consist of letters\n",
       "and words, nor is the knowledge of the Great Name the conceptual or mental\n",
       "knowledge of a certain word or specific letters as the majority of the laity\n",
       "imagined and believed so far. The knowledge of  _al-Ism al-A‘zam_ is a maqām\n",
       "and station that the human being attains after self-purification and attaining\n",
       "human perfection. ‘Allāmah Tabātabā’ī in volume 7 of his exegesis,  _al-Mīzān_\n",
       "has explained this fact at length.[199]\n",
       "\n",
       "\n",
       "### Salmān al-Muhammadī and his Powers\n",
       "\n",
       "One of the companions of the Holy Prophet (s) who enjoyed the station of  _al-\n",
       "wilāyah al-takwīniyyah_ was Salman al-Farsi, who was also known as Salman al-\n",
       "Muhammadī by the Ahlu’l Bayt (as). Being utterly subservient to the Ahlu’l\n",
       "Bayt (as), he was also known to be from among them.<br>"
      ],
      "text/plain": [
       "<IPython.core.display.Markdown object>"
      ]
     },
     "metadata": {},
     "output_type": "display_data"
    },
    {
     "data": {
      "text/markdown": [
       "**Node ID:** a59ad80c-e4f6-4944-b0df-a8c4cc9229d5<br>**Similarity:** 5.155834197998047<br>**Text:** Now, I come to my original point that the 'uli'l-amr' must be infallible\n",
       "because obedience to them is linked with obedience to Allah and the Holy\n",
       "Prophet.\n",
       "\n",
       "Imam Fakhru'd-din Razi in his Tafsir admits that if we do not regard the\n",
       "'uli'l-amr' as infallible, it would be, in effect, affirming two\n",
       "contradictions as being true. Your own ulema have confirmed that these\n",
       "qualities were possessed exclusively by the twelve Imams. The Holy verse of\n",
       "Purification (33:33) also confirms this fact.\n",
       "\n",
       "\n",
       "### INFALLIBILITY OF THE HOLY IMAMS GENERALLY REPORTED\n",
       "\n",
       "Sheikh Sulayman Balkhi Hanafi in Yanabiu'l-Mawadda, ch.77, p.445 and Hamwaini\n",
       "in Fara'idu's-Simtain report that Ibn Abbas said: \"I heard the Holy Prophet\n",
       "saying: ' I and Ali, Hasan, Husain and nine of the descendants of Husain are\n",
       "completely pure and infallible.'\"\n",
       "\n",
       "Salman Farsi says that the Holy Prophet, putting his hand on the shoulder of\n",
       "Husain, said: \"He is the Imam and the son of the Imam, and of his descendants\n",
       "there will be nine Imams who will all be virtuous trustees of Allah.\"\n",
       "\n",
       "Zaid Ibn Thabit reports that the Holy Prophet said: \"Verily, of Husain's\n",
       "descendants will be born Imams who will be virtuous trustees, infallible\n",
       "judges.\"\n",
       "\n",
       "Imran Ibn Hasin reports that the Holy Prophet said to Ali: \"You are heir to my\n",
       "knowledge. You are the Imam and Caliph after me. You will tell the people what\n",
       "they do not know. You are the father of my grandson and husband of my\n",
       "daughter. Of your descendants there will be infallible Imams.\"<br>"
      ],
      "text/plain": [
       "<IPython.core.display.Markdown object>"
      ]
     },
     "metadata": {},
     "output_type": "display_data"
    },
    {
     "data": {
      "text/markdown": [
       "**Node ID:** d601c3d4-1a05-4861-a7b2-decba3a34c3f<br>**Similarity:** 5.106279373168945<br>**Text:** [Surah Baqarah 2:61]_\n",
       "\n",
       "And in a formal way it was announced that all the people who in their own time\n",
       "believed in Allah and the day of resurrection and continued to do good deeds,\n",
       "will get salvation and for them there will be no grief and sorrow.\n",
       "\n",
       "When Hazrat Salman-e-Farsi (r.a.) met the Holy Prophet (a.s.) for the first he\n",
       "began to discuss about the caretakers of monastery and monks and many people\n",
       "also joined the gathering and sat around the Holy Prophet (a.s.). He\n",
       "addressing the Prophet (a.s.) said:\n",
       "\n",
       "“All the monks of our monastery were waiting for your apostleship, but with\n",
       "regret I have to say that before they could pay visit to your honored self\n",
       "they passed away.”\n",
       "\n",
       "At that time someone said to Hazrat Salman (r.a.) that they were the people of\n",
       "fire. This thing did not go well with Hazrat Salman (r.a.). At that time the\n",
       "verse which is under discussion was revealed that those who believed truly in\n",
       "the past true religions, though that may not have seen the time of the Holy\n",
       "Prophet (a.s.) then too they will get salvation.\n",
       "\n",
       "The summary of this answer is this that those people before the Prophet of\n",
       "Islam (a.s.) in their time had strong belief in true religion, they will get\n",
       "salvation on the day of Qiyamat. In this situation, this verse does not have\n",
       "any relevance to the thoughts like “peace-loving person” (Every religion’s\n",
       "follower is from the people of salvation) and this type of exegesis shows lack\n",
       "of knowledge of the meaning of that verse and the verses, which are concordant\n",
       "to that.<br>"
      ],
      "text/plain": [
       "<IPython.core.display.Markdown object>"
      ]
     },
     "metadata": {},
     "output_type": "display_data"
    },
    {
     "data": {
      "text/markdown": [
       "**Node ID:** 3b74ec47-295b-4897-9681-037dbf512c28<br>**Similarity:** 5.072801113128662<br>**Text:** It is characteristic of\n",
       "Iranians that they look into things. When they are convinced of their truth,\n",
       "they accept them, as they accepted Islam when Iran was conquered by the Arabs.\n",
       "They were not forced to do it. They gave up Zoroastrianism and sincerely\n",
       "embraced Islam. Similarly, when they were convinced by logic and by Ali's\n",
       "invaluable services, they accepted Shia'ism. Contrary to the assertion of many\n",
       "of your writers, the Iranians did not accept Ali during the caliphate of\n",
       "Harunu'r-Rashid or Mamunu'r-Rashid. They accepted Ali during the time of the\n",
       "holy Prophet. Salman Farsi was one of the most sincere followers of Ali. He\n",
       "reached the highest rank of faith. The ulema of both sects have unanimously\n",
       "written that the Prophet said: \"Salman is from our Ahle Bait (i.e., he is one\n",
       "of the people of my house).\" For this reason he was called \"Salman Muhammadi\"\n",
       "and he was admittedly the most staunch supporter of Ali, and a bitter opponent\n",
       "of Saqifa. If, according to your own books, we follow him, we are on the\n",
       "straight way. He heard the verses of the Qur'an and the sayings of the Prophet\n",
       "about Ali and clearly understood that obedience to Ali was obedience to the\n",
       "Prophet and to Allah. He repeatedly heard the Prophet say: \"One who obeys Ali\n",
       "obeys me; and one who obeys me obeys Allah; one who is hostile to Ali is\n",
       "hostile to me; and one who is hostile to me is hostile to Allah.\"  \n",
       "  \n",
       "\n",
       "Every Iranian, however, who went to Medina and embraced Islam, whether during\n",
       "the time of the Holy Prophet or afterward, obeyed the orders of the Prophet.\n",
       "For this reason, the second caliph became intolerant and imposed several\n",
       "restrictions on Iranians.<br>"
      ],
      "text/plain": [
       "<IPython.core.display.Markdown object>"
      ]
     },
     "metadata": {},
     "output_type": "display_data"
    },
    {
     "data": {
      "text/markdown": [
       "**Node ID:** 22c6139e-f95c-4815-8d85-a2c131e72ab3<br>**Similarity:** 5.072458267211914<br>**Text:** ), when a person performs wuzoo before\n",
       "lying on bed, his bed becomes as good as a mosque. If one forgets to perform\n",
       "wuzoo and remembers afterwards, then he can perform tayammum on the sheet with\n",
       "which he is covering himself. If after this form of purification and before\n",
       "going to bed he thinks and praises God until he is asleep, then his sleep will\n",
       "be as good as prayer.\n",
       "\n",
       "According to Hazrat Ali (a.s.), a muslim should not sleep in the state of\n",
       "janabat and without wuzoo. If water is not available for bathing or wuzoo,\n",
       "then one should perform tayammum as the spirit of the momin travels towards\n",
       "Heaven while he is sleeping and according to its cleanliness and purification\n",
       "it is received by God. It is blessed and rewarded by God. And if he dies while\n",
       "sleeping, then he gets a place in the blessings of God. If he is alive, then\n",
       "God sends angels to guard him.\n",
       "\n",
       "According to another tradition, the Holy Prophet (s.a.w.a.) asked his\n",
       "followers that who amongst them kept fasts all the year round. Hazrat Salman-\n",
       "e-Farsi replied that he fasted all the year round. The Holy Prophet (s.a.w.a.)\n",
       "questioned who had spent his nights in prayers, being awake all through. Again\n",
       "Salman replied that he was the man in accordance with the description. Then,\n",
       "looking at all the assembled companions, the Holy Prophet (s.a.w.a.) asked who\n",
       "reads one Quran every day. All kept quiet except Salman who replied in the\n",
       "affirmative.<br>"
      ],
      "text/plain": [
       "<IPython.core.display.Markdown object>"
      ]
     },
     "metadata": {},
     "output_type": "display_data"
    },
    {
     "data": {
      "text/markdown": [
       "**Node ID:** 5ce08f44-87ca-4630-bb51-4ac17e0f31e7<br>**Similarity:** 5.020578861236572<br>**Text:** Abdullah Bin\n",
       "Saba' San'a'i, Ka'abu'l-Ahbar, Wahhab Ibn Munabba, and others professed Islam\n",
       "and pretended to accept the hadith of the Holy Prophet and thus created\n",
       "confusion among the Muslims.  \n",
       "\n",
       "The third caliph, Uthman Bin Affan, pursued them, and they fled to Egypt,\n",
       "where they established a sect known as the Shia. They spread false reports\n",
       "about Caliph Uthman and fabricated hadith to the effect that the Holy Prophet\n",
       "had appointed Ali as caliph and Imam. With the formation of this sect, there\n",
       "was widespread violence, which led to the murder of Caliph Uthman and the\n",
       "assumption of the caliphate by Ali. A group inimical to Uthman stood high in\n",
       "Ali's favor. During the caliphate of the Umayyads, when the people of the\n",
       "family of Ali and his adherents were being killed, this group went into\n",
       "hiding. Still, some people, like Salman Farsi, Abu Dharr Ghifari, and Ammar\n",
       "Yasir, supported the cause of Ali. This struggle continued until the time of\n",
       "Harun ar-Rashid, and especially his son, Ma'mun ar-Rashid Abbasi, who subdued\n",
       "his brother with the help of the Iranians, and they then spread the idea that\n",
       "Ali was preferable to other caliphs. The Iranians, hostile to the Arabs who\n",
       "had conquered them, found an opportunity to challenge the Arabs in the name of\n",
       "religion. The Shia became powerful during the period of the Dailamites and the\n",
       "Safavid Kings and were finally recognized. They were then formally known as\n",
       "the Shia sect. Iranian Zoroastrians still call themselves Shias.  \n",
       "\n",
       "In short, the Shia sect was founded by a Jew, Abdullah Bin Saba. Otherwise,\n",
       "there would have been no such word as \"Shia\" in Islam.<br>"
      ],
      "text/plain": [
       "<IPython.core.display.Markdown object>"
      ]
     },
     "metadata": {},
     "output_type": "display_data"
    },
    {
     "data": {
      "text/markdown": [
       "**Node ID:** 1c2dd1ea-c443-4f14-81f2-ce4bab175872<br>**Similarity:** 5.02001428604126<br>**Text:** The First Believers : Ibn Abbas, Anas, Zaid bin Aqram, Salman Farsi, and\n",
       "others have said, \"Indeed it was Ali who was the first to declare his Islam,\n",
       "and some say that there is a consensus for this!\" Major Janet's translation of\n",
       "Suyuti's History of the Caliphs page 171.\n",
       "\n",
       "The illustrious Ali was thus the first to readily embrace Islam and testified\n",
       "to Muhammad being the Apostle of God.\n",
       "\n",
       "Muhammad used to say the three men viz., Ezekiel, Habib Najjar and Ali, who\n",
       "came forward first to bear testimonyto the faith of their Prophets, Moses,\n",
       "Jesus, and himself respectively, were acknowledged as 1 Siddiq. Ali repudiated\n",
       "the claim of any other to this epithet 2.\n",
       "\n",
       "Often did the Holy Prophet go into the depths of the solitary desert around\n",
       "Mecca with his wife Khadija and his young cousin and disciple, Ali, so that\n",
       "they might together offer their thanks to their God for His manifoldblessings.\n",
       "\n",
       "Once they were surprised in this attitude of prayer by Abu Talib, the father\n",
       "of Ali, who said unto Muhammad \"O son of my brother, what is this religion\n",
       "that thou art following? \" ________________________\n",
       "\n",
       "1 Ahmad Hanbal in his Manaqib; Nasai in his Khasaes; Hakim in his Mustadrak.\n",
       "\n",
       "2 Ibn Athir.\n",
       "\n",
       "\"It is the religion of God, of His angels, of His prophets, and of our\n",
       "ancestor Abraham\", answered the Prophet. \"Godhas sent me to His servants to\n",
       "direct them towards the truth\".<br>"
      ],
      "text/plain": [
       "<IPython.core.display.Markdown object>"
      ]
     },
     "metadata": {},
     "output_type": "display_data"
    },
    {
     "data": {
      "text/markdown": [
       "**Node ID:** 1b809599-64fb-4035-8f6d-36d2d97781c6<br>**Similarity:** 4.954595565795898<br>**Text:** In\n",
       "this connection the following points must be observed:  \n",
       "For the spiritual traveler it is necessary to keep himself away from crowds\n",
       "and disturbing noises. The place where he performs acts of worship must be\n",
       "clean and lawful. Even the walls and the ceilings of his room must be tidy.\n",
       "His room should be a small one preferably accommodating only one person. A\n",
       "small room having no furniture and no decorating material is helpful in\n",
       "keeping the thoughts concentrated.  \n",
       "A man sought Salman Farsi's permission to build a house for him. Till then\n",
       "Salman had not built a house for himself. Still he refused to give the\n",
       "permission. That man said: \"I know why you do not give permission.\" \"Say why\",\n",
       "said Salman. He said: \"You want me to build you a house only so long and so\n",
       "wide that it may accommodate you only.\" \"Yes, that's the thing. You are\n",
       "right\", said Salman. Subsequently that man built for Salman, with his\n",
       "permission, a house of that small size.  \n",
       "  \n",
       "(xvi) Vigil  \n",
       "It means that the spiritual traveler must make it a habit to wake up before\n",
       "dawn as early as he tolerably can. Denouncing the sleeping at dawn and\n",
       "praising the keeping awake at that time Allah says: They used to sleep only a\n",
       "little while at night and at dawn used to seek forgiveness. (Surah al-\n",
       "Dhariyat, 51:18)  \n",
       "  \n",
       "(xvii) Continued Cleanliness  \n",
       "It means to be always ritually pure and to adhere to the performance of major\n",
       "ablution on Fridays and on all other occasions on which it has been\n",
       "recommended.  \n",
       "  \n",
       "(xviii) Practicing modesty and humility to the utmost degree. It includes\n",
       "weeping and wailing also.<br>"
      ],
      "text/plain": [
       "<IPython.core.display.Markdown object>"
      ]
     },
     "metadata": {},
     "output_type": "display_data"
    },
    {
     "data": {
      "text/markdown": [
       "**Node ID:** 60b217e4-7b7b-4ad2-b5eb-8b3737091200<br>**Similarity:** 4.933801174163818<br>**Text:** Salman Farsi\n",
       "(r.a.) was nearest of all there and he replied: “Surely, O Messenger-of\n",
       "Allah.” The Holy Prophet said:\n",
       "\n",
       "“Verily, amongst the Signs of the Hour is that people will neglect the prayer\n",
       "(i.e., will not pray at all, or will pray without fulfilling its conditions,\n",
       "or will not pray in the preferred time), and will follow their own views (and\n",
       "desires will supersede the commands of Allah, they will follow only those\n",
       "rules which will appeal to them, and will leave other rules), and will incline\n",
       "towards their own preferences, and will respect the wealthy people (forgetting\n",
       "the Islamic criterion of honour, i.e., piety), and will sell the religion for\n",
       "worldly benefits (for example, the greed of worldly riches will instigate them\n",
       "to go to such places where, they very well know, it would be difficult to\n",
       "observe their religious commands); at that time the heart and soul of the\n",
       "believer will melt (from grief) as salt melts in water, because he will see\n",
       "the unlawful things (and actions) and will not be able to change them.”\n",
       "\n",
       "Salman (r.a.) said: “And is this to happen, O Messenger of Allah?”\n",
       "\n",
       "The Holy Prophet said: “Yes, by (Allah) in whose hand is my soul. “O Salman,\n",
       "at that time the rulers will be tyrants, the ministers transgressors and the\n",
       "trustees embezzlers.”\n",
       "\n",
       "Salman (r.a.) said: “And is this to happen, O Messenger of Allah?”\n",
       "\n",
       "The Holy Prophet (S) Said: “Yes, by (Allah) in whose hand is my soul.<br>"
      ],
      "text/plain": [
       "<IPython.core.display.Markdown object>"
      ]
     },
     "metadata": {},
     "output_type": "display_data"
    },
    {
     "data": {
      "text/markdown": [
       "**Node ID:** 6267334d-c492-48a0-9502-9754dd8b8990<br>**Similarity:** 4.911221504211426<br>**Text:** This supplication is mentioned below as an\n",
       "example of Fatima's prayers.  \n",
       "  \n",
       "\n",
       "Fatima (A) taught the following supplication to Salman al-Farsi (may Allah be\n",
       "pleased with him) and said to him:\n",
       "\n",
       "__\n",
       "\n",
       "_\"If it pleases you not to be inflicted with fever as long as you live in this\n",
       "world, then read these words, which my father, Muhammad, taught me and I say\n",
       "every morning and evening:_  \n",
       "  \n",
       "\n",
       "_'In the name of Allah, the Most Beneficent, Most Merciful_\n",
       "\n",
       "_In the Name of Allah the light; In the Name of Allah the light of light_\n",
       "\n",
       "_In the Name of Allah, light upon light_\n",
       "\n",
       "_In the Name of Allah, the planner of affairs_\n",
       "\n",
       "_In the Name of Allah, Who created light from light_\n",
       "\n",
       "_And_\n",
       "\n",
       "_Revealed light upon the Turr_  \n",
       "_By a decree inscribed_\n",
       "\n",
       "_In a scroll unfolded_\n",
       "\n",
       "_According to a decree fore-ordained_\n",
       "\n",
       "_Unto a Learned Prophet_\n",
       "\n",
       "_Praise be to Allah, Who is known with Might_\n",
       "\n",
       "_Whose Glory is established_\n",
       "\n",
       "_Who is praised during times of prosperity and infliction_\n",
       "\n",
       "_And may Allah's grace be upon our Master, Muhammad_\n",
       "\n",
       "_And his purified progeny'_  \n",
       "  \n",
       "\n",
       "Salman later said:  \n",
       "  \n",
       "\n",
       "_\"By Allah, I have taught this supplication to more than a thousand souls in\n",
       "Mecca and Medina who were inflicted with fever, and they were all relieved by\n",
       "the will of Allah.<br>"
      ],
      "text/plain": [
       "<IPython.core.display.Markdown object>"
      ]
     },
     "metadata": {},
     "output_type": "display_data"
    },
    {
     "data": {
      "text/markdown": [
       "**Node ID:** 92b9c180-5ea8-45e1-8e7e-94d1c175c181<br>**Similarity:** 4.8538031578063965<br>**Text:** If he said: 'Yes,' Allah would say:\n",
       "'Did you not act according to your knowledge?' And if he said: 'I was\n",
       "unlearned, ignorant'; Allah would say: 'Did you not acquire knowledge so that\n",
       "you could act accordingly?' That will be the time of His argument against him\n",
       "and that is the conclusive authority.\"\n",
       "\n",
       "And may Allah bless our master Muhammad and his progeny.\n",
       "\n",
       "\n",
       "## Chapter 29 Twenty Seventh Assembly\n",
       "\n",
       "Met on Saturday, 7th of the month of Ramadhan, in the year 409 Hijrah, from\n",
       "what Abul Fawaris heard alone. Reported to us by the grand Sheikh al-Mufeed,\n",
       "Abu Abdillah, Muhammad b. Muhammad b. al-No'man - may Allah keep him.\n",
       "\n",
       "**1\\. Dua at dawn and dusk**\n",
       "\n",
       "_He said: Abu Bakr Muhammad b. Uman al-Je'abi reported to me from Muhammad b.\n",
       "Mudrik ibn Tamam al-Shaybani, who reported from Zakariyya b. al-Hakam Abu\n",
       "Yahya al-Rasibi, who reported from Khalaf b. Tameem, who reported from Bakr b.\n",
       "Hubaish, from Abu Shaibah, from Abdul Malik b. Umar, from Abu Qurrah, from\n",
       "Salman al-Farsi, may Allah be pleased with him, who said:_\n",
       "\n",
       "The Prophet, peace be upon him and his progeny, told me: \"O Salman, when\n",
       "morning dawns, say: 'O Allah, You are my sustainer and You have no associate.\n",
       "We have seen this morning - which confirms that all kingdoms belong to Allah;\n",
       "Who has no associate.' Say this three times.<br>"
      ],
      "text/plain": [
       "<IPython.core.display.Markdown object>"
      ]
     },
     "metadata": {},
     "output_type": "display_data"
    },
    {
     "data": {
      "text/markdown": [
       "**Node ID:** afc70b68-8446-42fb-ad79-7265f61e0fb0<br>**Similarity:** 4.786812782287598<br>**Text:** **2\\. Love for four companions; which ones?**\n",
       "\n",
       "_He said: Abu Ubaidullah Muhammad b. Imran al-Marzbani reported to me from\n",
       "Ahmad b. Muhammad b. Isa al-Makki, who reported from Abdullah b. Ahmad b.\n",
       "Hanbal, who reported from his father, who reported from al-Husain b. al-Hasan,\n",
       "who reported from Sharik, from Abi Raabia'h al-Ayadi, who was heard narrating\n",
       "even in his old age, from Ibn Buridah, from his father, who said:_\n",
       "\n",
       "The Prophet, peace be upon him and his progeny, said: \"Surely, Allah has\n",
       "commanded me to love four of my companions; and has revealed to me that He\n",
       "indeed loves them.\" We said: \"Who are they, O messenger of Allah? And there is\n",
       "none from us who does not wish to be among them.\" He, peace be upon him and\n",
       "his progeny, said: \"Be it known that Ali is among them\" - and he repeated this\n",
       "three times \\- \"and al-Miqdad and Abu Dharr al-Ghifari and Salman al-Farsi.\"\n",
       "\n",
       "**3\\.<br>"
      ],
      "text/plain": [
       "<IPython.core.display.Markdown object>"
      ]
     },
     "metadata": {},
     "output_type": "display_data"
    },
    {
     "data": {
      "text/markdown": [
       "**Node ID:** de788bbb-ea22-486c-afae-b8c04aa26cf7<br>**Similarity:** 4.781122207641602<br>**Text:** During the functions at the\n",
       "weddings, when men are not there, some people are of opinion that a _domni,_ a\n",
       "singing-dancing girl, can entertain the ladies with her performance according\n",
       "to some people. Some others say that this practice is undesirable. But there\n",
       "is a tradition that approves of the practice.\n",
       "\n",
       "A person asked the Imam (a.s), “A singing girl lives in my neighborhood. When\n",
       "I go to the toilet, I hear her singing. Sometimes I am attracted to the\n",
       "singing and purposely delay coming out of the toilet.” The Imam (a.s) asked\n",
       "him to avoid the practice. He said, “I don’t go to the toilet with the purpose\n",
       "of listening to the songs. It is just that the sound comes to my ears and I\n",
       "listen.” The Imam (a.s) said, “Have you not heard that the ears, eyes and nose\n",
       "will give witness about the person’s actions on the Day of Reckoning?”\n",
       "\n",
       "The prophet of Allah (a.s) told to Salman e Farsi, “O Salman! In the last\n",
       "epoch the worst thing that would emerge will be the recitation of the Holy\n",
       "Quran in sing-song voices!” Also the Prophet (a.s) said, “Recite the Quran in\n",
       "Arabic intonation and don’t recite in the tone adopted by the disobedient\n",
       "(_fasiq)_ people because it is a major sin.”\n",
       "\n",
       "Imam Jafar e Sadiq (a.s) said that buying and selling singer slave girls is\n",
       "Haram. One who earns a livelihood from this profession is accursed.\n",
       "\n",
       "Some scholars have permitted singing to encourage the camels to run at good\n",
       "speeds while travelling. Some other scholars have permitted singing the\n",
       "_marsias (elegies) of Imam Hussain (a.s)._ It is better to refrain from these.<br>"
      ],
      "text/plain": [
       "<IPython.core.display.Markdown object>"
      ]
     },
     "metadata": {},
     "output_type": "display_data"
    },
    {
     "data": {
      "text/markdown": [
       "**Node ID:** 66f166db-d755-40e9-9993-cbbcbd6a8d5c<br>**Similarity:** 4.753064155578613<br>**Text:** _‘Allāma Tehrānī_\n",
       "\n",
       "\n",
       "# Part 12  \n",
       "Academic Activities\n",
       "\n",
       "\n",
       "## Chapter 58 Story 1\n",
       "\n",
       "In addition to Qur’ānic exegesis (_tafsīr_) and philosophy ‘Allāma Tabātabā’ī\n",
       "practically brought about Farsi writing into the hawza system. Before this\n",
       "time most publications were in Arabic and importance was not given in society\n",
       "to writing and publishing books in Farsi. However he emphasized that society\n",
       "was in need of reading material in these subjects, and that it was necessary\n",
       "that individuals take the effort to write and spread such material.\n",
       "\n",
       "I remember that the fist article I wrote was with his help and guidance. Today\n",
       "many of those in the Hawza system who write and publish articles and books,\n",
       "are indebted both to Divine grace and ‘Allāma’s efforts.\n",
       "\n",
       "_Ayatullah Ibrāhīm Amīnī_<br>"
      ],
      "text/plain": [
       "<IPython.core.display.Markdown object>"
      ]
     },
     "metadata": {},
     "output_type": "display_data"
    },
    {
     "data": {
      "text/markdown": [
       "**Node ID:** a2c4aea1-88ab-4ccb-b9e1-94b2491fe4bf<br>**Similarity:** 4.701817989349365<br>**Text:** [29]\n",
       "\n",
       "The Prophet (s) then said to Salman al-Farsi, Allah may have mercy upon him:\n",
       "\n",
       "O Salman, when you become sick, you win three things: you mention Allah\n",
       "continuously, your praying is answered,<br>"
      ],
      "text/plain": [
       "<IPython.core.display.Markdown object>"
      ]
     },
     "metadata": {},
     "output_type": "display_data"
    },
    {
     "data": {
      "text/markdown": [
       "**Node ID:** b2953f86-cd1c-4a69-89b1-d3bc986ef9c4<br>**Similarity:** 4.686243057250977<br>**Text:** On the contrary, those who not only were not among the Apostle's relatives\n",
       "but, also were from other countries even with different races and languages,\n",
       "but, believed and practiced with their true Faith, were so close to the\n",
       "Prophet of Islam (S) that, for example, according to a tradition, the apostle\n",
       "said about Salman-Farsi:\n",
       "\n",
       "_**\"Salman is of our Ahlul-Bait\".**_\n",
       "\n",
       "It was as if he were one of the family members of the Prophet (S).\n",
       "\n",
       "It is true that this Surah is about Abu Lahab and his wife, but it is clear\n",
       "that they are cursed because of their behaviour and thoughts, and hence, every\n",
       "individual or group of people who possesses their qualities will have the same\n",
       "destiny as theirs.\n",
       "\n",
       "**Supplication**\n",
       "\n",
       "_O Lord!<br>"
      ],
      "text/plain": [
       "<IPython.core.display.Markdown object>"
      ]
     },
     "metadata": {},
     "output_type": "display_data"
    },
    {
     "data": {
      "text/markdown": [
       "**Node ID:** 308c7e0f-46d0-4a30-bfb3-f3a414270e73<br>**Similarity:** 4.634663105010986<br>**Text:** 8) Al­Saduq, also in his  _Ikmal_ , traces another hadith through  _isnad_ to\n",
       "Imam al­Hasan al­‘Askari (as) who quotes his ancestors up to the Messenger of\n",
       "Allah, peace be upon him and his progeny, addressing Ibn Mas’ud thus: \"O Ibn\n",
       "Mas’ud! ‘Ali ibn Abu Talib is your Imam after me; he is my successor over\n",
       "you.\"\n",
       "\n",
       "9) Quoting one hadith related by Salman, al­Saduq, also in his  _Ikmal_ , says\n",
       "that once Salman visited the Messenger of Allah, peace be upon him and his\n",
       "progeny, and found al­Husayn ibn ‘Ali (as) sitting on his lap, and the prophet\n",
       "was kissing him and saying: \"You are a master, son of a master, an Imam and\n",
       "son of an Imam, brother of an Imam, father of Imams, and you are Allah's\n",
       "Argument, the son of His Argument (_Hujjah_), and father of nine Arguments\n",
       "from your loins, the ninth of them is their Qa'im.\"\n",
       "\n",
       "10) Al­Saduq, also in his  _Ikmal_ , quotes another hadith traced also to\n",
       "Salman who quotes a lengthy hadith by the Messenger of Allah in which he\n",
       "(pbuh) says: \"O Fatima! Have you not come to know that we are Ahl al­Bayt?<br>"
      ],
      "text/plain": [
       "<IPython.core.display.Markdown object>"
      ]
     },
     "metadata": {},
     "output_type": "display_data"
    },
    {
     "data": {
      "text/markdown": [
       "**Node ID:** cf92827e-6a20-4341-a2aa-90054a4a1dca<br>**Similarity:** 4.633996963500977<br>**Text:** What\n",
       "counts are good, righteous deeds as mentioned in the Qur'an: ﴾**As for the\n",
       "scum, it vanishes as jetsam, what profits men, abides in the earth.** ﴿ (Al-\n",
       "Ra'ad:17)  \n",
       "  \n",
       "April 20th, 19…  \n",
       "  \n",
       "At last I have discovered the reason for Saffia's uneasiness. She lives in a\n",
       "humble house and thinks this may cause her to be ashamed among her friends. I\n",
       "managed to make her change her opinion. I told her our great Prophet (SAWS),\n",
       "the greatest man in history who achieved the most sacred mission, was a poor\n",
       "man. He could have lived as a king or an emperor, but he did not. Fatimah\n",
       "(AS), his daughter, lived in a humble house with a minimum of furniture. The\n",
       "Prophet's companions lived the same sort of humble life. History relates that\n",
       "a great fire broke out in Al-Madyin (in Iraq) when the companion, Salman al-\n",
       "Farsi, was the ruler. People rushed to save their valuable possessions, but\n",
       "Salman carried nothing but a small bundle of clothes, a Qur'an, a prayer rug\n",
       "and a water pot. He was heard to have said, \"In this way, light travelers are\n",
       "saved.\"  \n",
       "  \n",
       "May 2nd, 19…  \n",
       "  \n",
       "I came across an old friend of mine the other day. She used to be a very\n",
       "optimistic and active girl with tremendous belief in Islam. She trusted all\n",
       "her friends and was ready to help them in order to please Almighty Allah.<br>"
      ],
      "text/plain": [
       "<IPython.core.display.Markdown object>"
      ]
     },
     "metadata": {},
     "output_type": "display_data"
    },
    {
     "data": {
      "text/markdown": [
       "**Node ID:** 0fce2b2d-3e2d-4681-8535-13ed01e29c6e<br>**Similarity:** 4.629796028137207<br>**Text:** I only\n",
       "desire from you that on the day of Qiyamah you should remember me in the\n",
       "presence of Husain's Grandfather (s.a.w.s).\n",
       "\n",
       "Tabari says that then Zuhayr told his companions, \"The one who desires to come\n",
       "with me can do so, or else this is my last covenant with him. And I desire to\n",
       "relate to you an incident, when we had fought the battle of Lanjar and Allah\n",
       "gave us victory. We won a lot of spoils in hand, when Salman Bahili (some say\n",
       "Salman Farsi) told us: Are you contented with this victory which has been\n",
       "given to you and with the wealth that has come to you? And we replied in the\n",
       "affirmative. Then he said: When you meet the Prince of the youth from the\n",
       "Progeny of Mohammad (referring to Imam Husain), be more joyful to fight\n",
       "alongside him than you are with the booty that you just received.\" Zuhayr\n",
       "continued, \"I give you in Allah's refuge.\" Then Zuhayr always remained among\n",
       "the companions of Imam until he attained martyrdom.\n",
       "\n",
       "It is related that when Zuhayr was martyred alongwith Imam Husain (a.s), his\n",
       "wife sent her retainer to Karbala to shroud his master.\n",
       "\n",
       "It is written in Tazkirah of Sibt ibne Jawzi, that Zuhayr was martyred\n",
       "alongwith Imam Husain (a.s). When his wife received the news, she told her\n",
       "retainer, \"Go and give shroud to your master.\"<br>"
      ],
      "text/plain": [
       "<IPython.core.display.Markdown object>"
      ]
     },
     "metadata": {},
     "output_type": "display_data"
    },
    {
     "data": {
      "text/markdown": [
       "**Node ID:** 6a259d49-b20a-497b-8b35-605e35f1e685<br>**Similarity:** 4.620205879211426<br>**Text:** O Ali! You\n",
       "are the first one. Their last one is the Riser with whose hands God - whose\n",
       "mentioning is Blessed and High - will conquer the East and the West of the\n",
       "Earth”\n",
       "\n",
       "6-35 My father and Muhammad ibn Al-Hassan ibn Ahmad ibn al-Waleed - may God be\n",
       "pleased with them - narrated that Sa’d ibn Abdullah, Abdullah ibn Ja’far al-\n",
       "Hemyari, Muhammad ibn Yahya al-Attar and Ahmad ibn Idris - may God be pleased\n",
       "with them - quoted on the authority of Ahmad ibn Abi Abdillah al-Barqi, on the\n",
       "authority of Abi Hashem Dawood ibn Al-Qasim al-Ja’fari, on the authority of\n",
       "Abi Ja’far Muhammad ibn Ali Al-Baqir (s), “One day the Commander of the\n",
       "Faithful (s) was with Al-Hassan ibn Ali (s) and Salman al-Farsi - may God be\n",
       "pleased with him. The Commander of the Faithful (s) was leaning on Salman’s\n",
       "hand. They entered the  _‘Al-Haram_ Mosque (the Kaaba). A good-looking well-\n",
       "dressed man came up to them and greeted the Commander of the Faithful (s).\n",
       "Then the Imam (s) greeted him back. The man sat down and said, “O Commander of\n",
       "the Faithful! I will ask you about three things.<br>"
      ],
      "text/plain": [
       "<IPython.core.display.Markdown object>"
      ]
     },
     "metadata": {},
     "output_type": "display_data"
    },
    {
     "data": {
      "text/markdown": [
       "**Node ID:** b9f122e6-2bee-4e1d-8f0f-8daf4f9fd41d<br>**Similarity:** 4.551180839538574<br>**Text:** And the friendship with the Commander of the Faithful (s) and with those who\n",
       "followed the way of their Prophet (s), and who did not change their way such\n",
       "as Salman al-Farsi, Abu Tharr al-Ghifari, al-Miqdad ibn al-Aswad, Ammar bin\n",
       "Yasir, Hothayfa al-Yamani, Abil Haytham ibn al-Tayyihan, Sahl ibn Honayf,\n",
       "Ubada ibn As-Samit, Abi Ayyoub Al-Ansari, Khozayma ibn Thabit Thull-\n",
       "Shahadatayn, Abi Sa’eed al-Khodri and the like - may God be pleased with and\n",
       "have Mercy upon them - is obligatory. And the friendship with their followers\n",
       "who have been guided along their path - may God be pleased with them - is\n",
       "obligatory.\n",
       "\n",
       "And the forbiddance of alcohol - whether a little or a lot, the forbiddance of\n",
       "all intoxicating drinks - whether a little or a lot, the forbiddance of any\n",
       "small amount of whatever a lot of is intoxicating. Even if one is compelled to\n",
       "drink, he should not since it will kill him. Canine beasts and all birds with\n",
       "claws are forbidden to eat. Eating spleens is forbidden, since it is like\n",
       "eating blood. The eating of all floating (dead) fish, eels, sheatfish, and\n",
       "scaleless fish is forbidden.<br>"
      ],
      "text/plain": [
       "<IPython.core.display.Markdown object>"
      ]
     },
     "metadata": {},
     "output_type": "display_data"
    },
    {
     "data": {
      "text/markdown": [
       "**Node ID:** a2f3d27d-70a0-45a3-a5f5-67b8bbbceb22<br>**Similarity:** 4.498078346252441<br>**Text:** March 26th, 19…\n",
       "\n",
       "I have noticed recently that my dear friend Saffia does not look well. Though\n",
       "she has not missed our meetings, I feel something is wrong with her. I wish I\n",
       "could help her. I know nothing about her family. May be she needs money and\n",
       "does not want others to know about her hardship. She is quite wrong. Muslim\n",
       "believers do not care for an easy life, and they are kind to each other. What\n",
       "counts are good, righteous deeds as mentioned in the Qur'an: ** _As for the\n",
       "scum, it vanishes as jetsam, what profits men, abides in the earth._**\n",
       "\n",
       "_(al-Ra'ad, 17)_\n",
       "\n",
       "April 20th, 19…\n",
       "\n",
       "At last I have discovered the reason for Saffia's uneasiness. She lives in a\n",
       "humble house and thinks this may cause her to be ashamed among her friends. I\n",
       "managed to make her change her opinion. I told her our great Prophet (s), the\n",
       "greatest man in history who achieved the most sacred mission, was a poor man.\n",
       "He could have lived as a king or an emperor, but he did not. Fatimah (a), his\n",
       "daughter, lived in a humble house with a minimum of furniture. The Prophet's\n",
       "companions lived the same sort of humble life. History relates that a great\n",
       "fire broke out in Al-Madyin (in Iraq) when the companion, Salman al-Farsi, was\n",
       "the ruler. People rushed to save their valuable possessions, but Salman\n",
       "carried nothing but a small bundle of clothes, a Qur'an, a prayer rug and a\n",
       "water pot.<br>"
      ],
      "text/plain": [
       "<IPython.core.display.Markdown object>"
      ]
     },
     "metadata": {},
     "output_type": "display_data"
    },
    {
     "data": {
      "text/markdown": [
       "**Node ID:** 41e4b03b-dc73-4543-b225-60c1dc4e35a0<br>**Similarity:** 4.475035667419434<br>**Text:** 3, pg.\n",
       "146; Qisas al-U’lema, pg. 101.\n",
       "\n",
       "[[83]](main53.xml#footnote_83_call) 6.Jaame’ al-Sa’adaat, vol. 2, pg. 231.\n",
       "\n",
       "[[84]](main53.xml#footnote_84_call) 7.Imam Ridha (peace be upon him) had said:\n",
       "Yunus Ibn A'bd al-Rahmaan, in his time, is as Salman Farsi was, in his own.\n",
       "\n",
       "[[85]](main53.xml#footnote_85_call) 8.Muntahal Aa’maal, vol. 2, pg. 253.\n",
       "\n",
       "[[86]](main53.xml#footnote_86_call) 9.Holy Qur'an, ch. Al-Hujaraat (49), vs.\n",
       "12 (وَ لاَ تَجَسَّسُوا)\n",
       "\n",
       "[[87]](main53.xml#footnote_87_call) 10.Ibid, ch. Al-Baqarah (2), vs. 189 (وَ\n",
       "آْتُوا الْبُيُوتَ مِن اَبواَبِهَا)\n",
       "\n",
       "[[88]](main53.xml#footnote_88_call) 11.Ibid, ch. Al-Nur (24), vs. 61 (إِذاَ\n",
       "دَخَلتُم بُيُوتاً فَسَلِّمُوا)\n",
       "\n",
       "[[89]](main53.xml#footnote_89_call) 12.Pand-e-Taareekh, vol. 5, pg. 29; Al-\n",
       "Ghadeer, vol. 6, pg. 121.<br>"
      ],
      "text/plain": [
       "<IPython.core.display.Markdown object>"
      ]
     },
     "metadata": {},
     "output_type": "display_data"
    },
    {
     "data": {
      "text/markdown": [
       "**Node ID:** 37d5779a-4a40-413f-82e2-f834548315f7<br>**Similarity:** 4.446484565734863<br>**Text:** Do you invalidate the punishment of Allah?”\n",
       "\n",
       "Imam ‘Ali (as) replied, “Woe unto you! Whenever there exists an Imam appointed\n",
       "by Allah and a sinner repents for his sin, it is upon Allah to forgive\n",
       "him.”[7]\n",
       "\n",
       "\n",
       "### The Fearful Ones\n",
       "\n",
       "When the verse: “And surely Hell is the promised place of them all. It has\n",
       "seven gates; for every gate there shall be a separate party of them”[8] was\n",
       "revealed to the Noble Prophet (S), he wept so intensely that it made his\n",
       "companions weep too, but none knew what it was that Jibra`il had revealed\n",
       "which had made the Noble Prophet (S) wail in such a fashion.\n",
       "\n",
       "One of the companions went to Fatimah (as) and informed her of the incident.\n",
       "Covering herself with her cloak, which was patched in twelve places by means\n",
       "of date palm leaves, she came out of the house. When Salman Farsi’s eyes fell\n",
       "upon the cloak, he looked at it in amazement and then, bursting into tears,\n",
       "said to himself: “The emperors of Rome and Iran attire themselves in silken\n",
       "and gold-embroidered clothes but the daughter of the Noble Prophet (S) covers\n",
       "herself with such a cloak!”\n",
       "\n",
       "When Fatimah (as) came to the Noble Prophet (S), he said to Salman: “My\n",
       "daughter belongs to a group that has taken great precedence in subservience\n",
       "and obedience (to Allah).”  \n",
       "Fatimah (as) then asked, “Father! What was it that made you grieve?”\n",
       "\n",
       "The Noble Prophet (S) recited the verses which had been brought by Jibra`il.<br>"
      ],
      "text/plain": [
       "<IPython.core.display.Markdown object>"
      ]
     },
     "metadata": {},
     "output_type": "display_data"
    },
    {
     "data": {
      "text/markdown": [
       "**Node ID:** 208e44a0-5359-46ef-ac45-0d0a2abf4687<br>**Similarity:** 4.418776988983154<br>**Text:** We were lights who glorified\n",
       "Him, listened to Him and obeyed Him.\"\n",
       "\n",
       "\"O Messenger of Allah, may my father and mother be your ransom! What is there\n",
       "for the person who recognizes these men as they should be recognized?\"\n",
       "\n",
       "\"O Salman, whoever recognizes them as they should be recognized, and follows\n",
       "their example, befriends them and is free of their enemies, by Allah! he is\n",
       "one of us. He will return to where we return, and he will be where we are!\"\n",
       "\n",
       "\"O Messenger of Allah, is there belief without knowing their names and\n",
       "lineage?\"\n",
       "\n",
       "\"No, Salman.\"\n",
       "\n",
       "\"Messenger of Allah, where will I find them?\"\n",
       "\n",
       "\"You already know al-Husayn; then there will be the master of the worshippers,\n",
       "'Ali ibn Husayn (Zayn al-'Abidin); then his son Muhammad ibn 'Ali, the piercer\n",
       "of the knowledge of the early and the later prophets and messengers (al-\n",
       "Baqir); then Ja'far ibn Muhammad, the truthful tongue of Allah (al-Sadiq);\n",
       "then Musa ibn Ja'far, the one who kept his rage silent through patience in\n",
       "Allah (al-Kadhim); then 'Ali ibn Musa, pleased with the secret of Allah (al-\n",
       "Rida '); then Muhammad ibn 'Ali, the chosen one from the creatures of Allah\n",
       "(al-Mukatar); then 'Ali ibn Muhammad, the guide to Allah (al-Hadi); then al-\n",
       "Hasan, son of 'Ali, the silent, trustworthy guardian over the secret of Allah\n",
       "(al-'Askari); then mim ha' mim dal (Muhammad), called Ibn al-Hasan, the\n",
       "announcer who establishes the right of Allah.\"\n",
       "\n",
       "Salman said, 'I wept.<br>"
      ],
      "text/plain": [
       "<IPython.core.display.Markdown object>"
      ]
     },
     "metadata": {},
     "output_type": "display_data"
    },
    {
     "data": {
      "text/markdown": [
       "**Node ID:** 9db1f091-377d-48a1-a4a2-ffe29e49630a<br>**Similarity:** 4.415273189544678<br>**Text:** The subject: Was\n",
       "Salman amuhajir or an ansar? The ansar claimed that as Salman came to the\n",
       "Prophet inMedina, he belonged to the ansar group; the muhajirun claimed that\n",
       "as Salman hadleft his home and family, he was a muhajir.This friendly dispute\n",
       "also shows how great had become the status of Salman within ashort period of\n",
       "three years that every group wanted to claim him as their own.Anyhow, the\n",
       "dispute was referred to the highest authority - the Prophet, who decidedthat\n",
       "Salman was from neither of the two groups; he said' \"Salman minna Ahl al-Bayt-\n",
       "Salman is from us, the family [of the Prophet].\"[30] It was such a great\n",
       "honour whichhas continuously been mentioned in traditions and poems. A poet\n",
       "says:-\n",
       "\n",
       "The devotion of Salman was his pedigree,while there was no relationship\n",
       "between Noah and his son.\n",
       "\n",
       "The Holy Prophet had also said, \"Salman is a sea which cannot be exhausted and\n",
       "atreasure which never comes to end. Salman is from us, the family [of the\n",
       "Prophet]; hehas been given wisdom, and is bestowed with reason.<br>"
      ],
      "text/plain": [
       "<IPython.core.display.Markdown object>"
      ]
     },
     "metadata": {},
     "output_type": "display_data"
    },
    {
     "data": {
      "text/markdown": [
       "**Node ID:** f7b22fd5-30d0-40de-9010-638a6642b286<br>**Similarity:** 4.389068603515625<br>**Text:** The second caliph described ibn 'Auf as\n",
       "the “pharaoh of this nation.”[238] The very notion that only ten of the\n",
       "Muslims should be guaranteed Paradise is illogical, since it exempts hundreds\n",
       "of other sincere and virtuous Muslims, such as Hamzah - 'Sayyid al-shuhada\n",
       "(Master of the Martyrs) and uncle of the Prophet, Ja'far ibn Abi Talib, Zayd\n",
       "ibn Haritha, Sa'd ibn Ma'adh, 'Ammar ibn Yassir, about whom the Prophet said,\n",
       "“He is filled with faith (iman) from head to toe,” and Salman al-Farsi, about\n",
       "whom the Prophet said, “He is one of us, the Ahlul Bayt.” Since the hadith of\n",
       "the ten who are guaranteed Paradise was narrated by Sa'id ibn Zayd, who was\n",
       "not on good terms with the Ahlul Bayt, the Shi'a school of thought can not\n",
       "accept it.\n",
       "\n",
       "\n",
       "### Abu Hurayra\n",
       "\n",
       "The man who narrated the largest number of hadith—5,374 (446 of which are in\n",
       "Sahih al-Bukhari), although he says that he only spent three years with the\n",
       "Prophet[239]—was Abu Hurayra al-Dusi. He embraced Islam on the seventh year\n",
       "after the migration to Madina.<br>"
      ],
      "text/plain": [
       "<IPython.core.display.Markdown object>"
      ]
     },
     "metadata": {},
     "output_type": "display_data"
    },
    {
     "data": {
      "text/markdown": [
       "**Node ID:** b938ff18-f3a7-4652-ba4b-473a7d8684e5<br>**Similarity:** 4.376296043395996<br>**Text:** Now, if Allah decides that such a\n",
       "believer should come on the Day of Judgement clean from all blemishes and free\n",
       "from all sins, then He may put him under punishment during the Barzakh period.\n",
       "And it is this punishment which has been referred to in the Hadith of Imam\n",
       "Jafer Sadiq (A) which was mentioned earlier:\n",
       "\n",
       "“We will intercede on your behalf on the Day of Judgement; but, by Allah, I am\n",
       "worried about you whilst you would be in Barzakh.”\n",
       "\n",
       "On the other hand, if Allah decides to leave his case in suspense till\n",
       "Qiyamat, then it will fall under 3rd group.\n",
       "\n",
       "Anyhow, all these things depend upon the justice and mercy of Allah. We have\n",
       "not been told enough to know all the details about all the groups.\n",
       "\n",
       "It is about the first and second groups (as well as the last mentioned\n",
       "believers who will be punished in Barzakh) that the Holy Prophet (S) has said:\n",
       "“When one dies his Qiyamat starts!” In this sense the Barzakh is called\n",
       "_“Qiyamat-e-Sughra”_ (the lesser Qiyamat)\n",
       "\n",
       "The reader is now advised to read again the traditions given in lesson 17; so\n",
       "that he may understand many references which might have remained a mystery at\n",
       "first.\n",
       "\n",
       "[21] Ibid, p.154-155.\n",
       "\n",
       "\n",
       "## Chapter 23 Salman Farsi talks with a Dead Person\n",
       "\n",
       "It seems proper to give here a short account of the conversation which Salman,\n",
       "the Persian, had had with a dead person. It is a lengthy tradition, but of\n",
       "great benefit.\n",
       "\n",
       "Asbagh bin Nubata (r.a.)<br>"
      ],
      "text/plain": [
       "<IPython.core.display.Markdown object>"
      ]
     },
     "metadata": {},
     "output_type": "display_data"
    },
    {
     "data": {
      "text/markdown": [
       "**Node ID:** af14a1d0-f58c-4cc0-8485-3454cf381094<br>**Similarity:** 4.365414142608643<br>**Text:** ## Chapter 13 Deviation\n",
       "\n",
       "Six years passed after Uthman's Caliphate.\n",
       "\n",
       "Gradually, the Caliph deviated from Islam and from our Master Muhammad's\n",
       "behaviour.\n",
       "\n",
       "Uthman appointed his blood relatives rulers over the cities. They were bad,\n",
       "unjust persons.\n",
       "\n",
       "For example, Uthman appointed al-Waleed bin Utbah, his half brother, ruler\n",
       "over Kufa. Al-Waleed drank alcohol and went drunk to the mosque.\n",
       "\n",
       "Uthman made Marwan bin Hakam the real ruler of the Muslim government. He\n",
       "appointed the rulers and dismissed them. He dismissed the great companion\n",
       "Salman al-Farsi from Mada-inn and appointed one of his blood relatives over\n",
       "it.\n",
       "\n",
       "Uthman also dismissed Saad bin Abi Wakkas from Kufa and appointed al-Waleed\n",
       "bin Akabah over it.\n",
       "\n",
       "Uthman spent the Muslims' money on his blood relatives from Bani Ummayyah and\n",
       "left the poor to live in pain.<br>"
      ],
      "text/plain": [
       "<IPython.core.display.Markdown object>"
      ]
     },
     "metadata": {},
     "output_type": "display_data"
    }
   ],
   "source": [
    "display_retrieved_nodes(retrieved_nodes)"
   ]
  },
  {
   "cell_type": "code",
   "execution_count": 30,
   "metadata": {},
   "outputs": [],
   "source": [
    "import json\n",
    "\n",
    "# create a dictionary to store the query and nodes data\n",
    "output_data = {\n",
    "    'original_question': question,\n",
    "    # 'query_variations': query_variations,\n",
    "    'nodes': []\n",
    "}\n",
    "\n",
    "# extract relevant information from each node\n",
    "for node in retrieved_nodes:\n",
    "    node_info = {\n",
    "        'text': node.node.text,\n",
    "        'score': float(node.score),  # convert to float for JSON serialization\n",
    "        'metadata': node.node.metadata\n",
    "    }\n",
    "    output_data['nodes'].append(node_info)\n",
    "\n",
    "# write to JSON file\n",
    "with open('output/hybrid.json', 'w', encoding='utf-8') as f:\n",
    "    json.dump(output_data, f, indent=2, ensure_ascii=False)"
   ]
  },
  {
   "cell_type": "markdown",
   "metadata": {},
   "source": [
    "# Vector Retriever"
   ]
  },
  {
   "cell_type": "code",
   "execution_count": 85,
   "metadata": {},
   "outputs": [],
   "source": [
    "vector_retriever = index.as_retriever(similarity_top_k=top_n)"
   ]
  },
  {
   "cell_type": "code",
   "execution_count": 42,
   "metadata": {},
   "outputs": [],
   "source": [
    "retrieved_nodes = vector_retriever.retrieve(question)"
   ]
  },
  {
   "cell_type": "code",
   "execution_count": 39,
   "metadata": {},
   "outputs": [
    {
     "data": {
      "text/plain": [
       "50"
      ]
     },
     "execution_count": 39,
     "metadata": {},
     "output_type": "execute_result"
    }
   ],
   "source": [
    "len(retrieved_nodes)"
   ]
  },
  {
   "cell_type": "code",
   "execution_count": null,
   "metadata": {},
   "outputs": [],
   "source": [
    "display_retrieved_nodes(retrieved_nodes)"
   ]
  },
  {
   "cell_type": "markdown",
   "metadata": {},
   "source": [
    "# Hybrid Retriever with BM25 + Chroma"
   ]
  },
  {
   "cell_type": "code",
   "execution_count": 50,
   "metadata": {},
   "outputs": [],
   "source": [
    "query_gen_prompt = \"\"\"You are an AI language model assistant specializing in query expansion. Your task is to generate {num_queries} diverse versions of the given user question. These variations will be used to retrieve relevant documents from a vector database, helping to overcome limitations of distance-based similarity search.\n",
    "\n",
    "Original question: {query}\n",
    "\n",
    "Instructions:\n",
    "1. Create {num_queries} unique variations of the original question.\n",
    "2. Ensure each variation maintains the core intent of the original question.\n",
    "3. Use different phrasings, synonyms, or perspectives for each variation.\n",
    "4. Consider potential context or implications not explicitly stated in the original question.\n",
    "5. Avoid introducing new topics or drastically changing the meaning of the question.\n",
    "\n",
    "Please provide your {num_queries} question variations, each on a new line:\n",
    "\"\"\""
   ]
  },
  {
   "cell_type": "code",
   "execution_count": null,
   "metadata": {},
   "outputs": [],
   "source": [
    "from llama_index.core.retrievers import QueryFusionRetriever\n",
    "\n",
    "retriever = QueryFusionRetriever(\n",
    "    retrievers=[\n",
    "        vector_retriever,\n",
    "        bm25_retriever,\n",
    "    ],\n",
    "    retriever_weights=[0.6, 0.4],\n",
    "    num_queries=10,\n",
    "    query_gen_prompt=query_gen_prompt,\n",
    "    use_async=True,\n",
    "    similarity_top_k=top_n,\n",
    "    mode=\"simple\",\n",
    "    verbose=True\n",
    ")"
   ]
  },
  {
   "cell_type": "code",
   "execution_count": 68,
   "metadata": {},
   "outputs": [
    {
     "name": "stdout",
     "output_type": "stream",
     "text": [
      "Generated queries:\n",
      "1. What is the lineage of Salman Al Farsi?\n",
      "2. From whom does Salman Al Farsi descend?\n",
      "3. Who is the father of Salman Al Farsi?\n",
      "4. Whose son is Salman Al Farsi known to be?\n",
      "5. To whom is Salman Al Farsi related as a son?\n",
      "6. What is the paternal ancestry of Salman Al Farsi?\n",
      "7. Who is Salman Al Farsi's parent?\n",
      "8. Which family does Salman Al Farsi belong to as a son?\n",
      "9. Who is the progenitor of Salman Al Farsi?\n"
     ]
    }
   ],
   "source": [
    "retrieved_nodes = retriever.retrieve(question)"
   ]
  },
  {
   "cell_type": "code",
   "execution_count": 69,
   "metadata": {},
   "outputs": [
    {
     "data": {
      "text/plain": [
       "50"
      ]
     },
     "execution_count": 69,
     "metadata": {},
     "output_type": "execute_result"
    }
   ],
   "source": [
    "len(retrieved_nodes)"
   ]
  },
  {
   "cell_type": "code",
   "execution_count": 70,
   "metadata": {},
   "outputs": [
    {
     "data": {
      "text/markdown": [
       "**Node ID:** b4220de6-90dd-48d8-b8c8-e51d95f8c75e<br>**Similarity:** 9.112570762634277<br>**Text:** ![Cover](images/cover.png)\n",
       "\n",
       "\n",
       "![IslamicMobility](images/logo-feedbooks-tiny.png)\n",
       "\n",
       "# Salman Al Muhammadi\n",
       "\n",
       "## Kamal al-Syyed - XKP\n",
       "\n",
       "  \n",
       "**Published:** 2012  \n",
       "**Tag(s):** companion prophet ali imam shia shiite shiaism husain salman farsi\n",
       "persian iran syria holy xkp madina makka pagan madain kufa\n",
       "\n",
       "\n",
       "## Chapter 1 The Son of Islam\n",
       "\n",
       "It was before noon. Some Muslims sat in Prophet's Mosque waiting for Azan\n",
       "(call to prayer) to say noon prayer.\n",
       "\n",
       "Salman entered mosque and greeted his believing brothers.\n",
       "\n",
       "The Muslims wanted to know the Persian man's tribe. They mentioned their\n",
       "tribes loudly to let Salman hear them.\n",
       "\n",
       "One of them said:\n",
       "\n",
       "_I belong to Tamim's tribe._\n",
       "\n",
       "Another said:\n",
       "\n",
       "_I belong to the Quraish._\n",
       "\n",
       "A third said:\n",
       "\n",
       "_I belong to al-Aus tribe._\n",
       "\n",
       "And so on.\n",
       "\n",
       "But Salman was silent. They wanted to know his tribe. So they asked him:\n",
       "\n",
       "_Salman, where are you from?_\n",
       "\n",
       "To teach them the meaning of Islam, Salman answered:\n",
       "\n",
       "_I'm the son on Islam! I was lost! So, Allah's guided me with Muhammad. I was\n",
       "poor! So, Allah's made me rich with Muhammad. I was a slave! So, Allah's\n",
       "released me with Muhammad. This is my tribe!_\n",
       "\n",
       "The Muslims in mosque kept silent because Salman taught them a lesson of\n",
       "Islam.<br>"
      ],
      "text/plain": [
       "<IPython.core.display.Markdown object>"
      ]
     },
     "metadata": {},
     "output_type": "display_data"
    },
    {
     "data": {
      "text/markdown": [
       "**Node ID:** 55cc8de7-14f8-4053-9df7-1b813664f413<br>**Similarity:** 7.65976619720459<br>**Text:** There too Abu Dharr bore witness about Allah\n",
       "and his Prophet (a.s) thrice.\n",
       "\n",
       "Now Hazrat Ali (a.s) took Abu Dharr to the presence of the Prophet (a.s). He\n",
       "greeted the Prophet (a.s) who kindly asked him to sit and bear witness to the\n",
       "unity of Allah and that Mohammed (a.s) is Allah’s Prophet. Now the Prophet\n",
       "(a.s) said, “O Abu Dharr! You must immediately return to your place that your\n",
       "paternal cousin has expired and you are the soul inheritor of his estate. Go\n",
       "home and take charge of the affairs of your estate. You must join us when we\n",
       "summon you.”Therefore after the migration (_Hegira)_ Abu Dharr had the honour\n",
       "of meeting the Prophet (a.s) in Medina.\n",
       "\n",
       "\n",
       "## Chapter 4 SALMAN ACCEPTS ISLAM\n",
       "\n",
       "Hazrat Imam Mohammed Baqir (a.s) says that some companions visited the grave\n",
       "of the Prophet (a.s) one day and were busy conversing with each other. Hazrat\n",
       "Ali (a.s) asked Salman Farsi, “O Salman! How did you accept the Faith of\n",
       "Islam?” Salman replied, “O Ameer al Momineen! Since it is obligatory on me to\n",
       "reply to your queries, I am narrating to you the circumstances under which I\n",
       "accepted the Faith. I am a native of the city of Shiraz and my profession was\n",
       "farming. My parents used to love me very much.<br>"
      ],
      "text/plain": [
       "<IPython.core.display.Markdown object>"
      ]
     },
     "metadata": {},
     "output_type": "display_data"
    },
    {
     "data": {
      "text/markdown": [
       "**Node ID:** 7e803d93-6e97-4bc4-8686-71aafe7682dc<br>**Similarity:** 7.643820762634277<br>**Text:** ## Chapter 90 Q. 89: ABOUT SALMAN AL-FARSI (R.A.)\n",
       "\n",
       "_Was Salman Al-Farsi (r.a.) governor of Mada'in at the time of his death? When\n",
       "did he die and where?_\n",
       "\n",
       "**A:** Salman (r.a.) was appointed governor of Mada'in by the 2nd caliph. The\n",
       "caliph usually changed governors every two years. When he got the news that\n",
       "Salman (r.a.) was about to enter Medina, the caliph went out with many\n",
       "companions to welcome him. It was a very unusual honour paid to returning\n",
       "governor. The reason became clear when they saw Salman (r.a.) returning with\n",
       "the same robe in which he had set out. He had not taken from the treasury\n",
       "anything for himself during his governorate.\n",
       "\n",
       "Then Salman (r.a.) settled in Basrah, where he married a lady. After a few\n",
       "years, he shifted with his family to Mada'in. I think he did so because\n",
       "Mada'in people spoke Persian.\n",
       "\n",
       "He died in Mada'in in the last year of 'Uthman's caliphate, i.e. in 36 A.H.\n",
       "(Vide At-Tabaqat by Ibn Sa'd, vol.4, p.93).<br>"
      ],
      "text/plain": [
       "<IPython.core.display.Markdown object>"
      ]
     },
     "metadata": {},
     "output_type": "display_data"
    },
    {
     "data": {
      "text/markdown": [
       "**Node ID:** 007843b4-9294-4b46-b312-8ed8c9ff02eb<br>**Similarity:** 7.602144718170166<br>**Text:** Thus,\n",
       "in this light, anyone who believes in Islam and its Prophet must necessarily\n",
       "declare his belief in the existence of the promised Mahdi who is now in\n",
       "occultation.\n",
       "\n",
       "Now we shall relate two ahadith on this issue from the famous Sunni book,\n",
       "_Yanābi‘u 'l-Muwaddah_ :\n",
       "\n",
       "1\\. The Prophet said, “Al-Mahdi is a descendent of mine. He will be in\n",
       "concealment, and when he manifests himself, the earth will become filled with\n",
       "justice just as it was previously filled with injustice.”\n",
       "\n",
       "2\\. Salman al-Farsi says that he went to the Prophet when Husayn bin ‘Ali was\n",
       "sitting in his lap and the Prophet was kissing his eyes and mouth, and then\n",
       "the Prophet said to Husayn, “You are a chief, son of a chief, and the brother\n",
       "of a chief; you are an Imam, son of an Imam, and the brother of an Imam. You\n",
       "are the Proof (_hujjah_), son of a proof and the brother of a proof; you will\n",
       "be the father of nine proofs of whom the ninth will be the  _qā'im_ (one who\n",
       "will establish the divine rule on this earth).”\n",
       "\n",
       "\n",
       "### 5\\. The Length of al-Mahdi’s Life\n",
       "\n",
       "We believe that the lengthening of a man's life is not an impossibility,\n",
       "because it is explicitly stated in the Qur'ān that,**_“We sent Nuh to his\n",
       "people and so he lived among them a thousand years, all but fifty.”_ (29:14)**\n",
       "Even modern science does not deny the possibility of lengthening the human\n",
       "lifespan.<br>"
      ],
      "text/plain": [
       "<IPython.core.display.Markdown object>"
      ]
     },
     "metadata": {},
     "output_type": "display_data"
    },
    {
     "data": {
      "text/markdown": [
       "**Node ID:** 0f7de2b7-4a93-4842-a02c-b4af9530aa80<br>**Similarity:** 7.583582878112793<br>**Text:** After the martyrdom of this epitome of perfect faith, Hajjaaj suffered a\n",
       "derangement of his senses and did not live for more than fifteen nights.\n",
       "Before his death, he would occasionally lose consciousness, but regaining it,\n",
       "he would repeatedly mutter:\n",
       "\n",
       "“Why did I ever get involved with Sa’eed Ibn Jubair?”[15]127\n",
       "\n",
       "\n",
       "### Salman Farsi’s Rank\n",
       "\n",
       "  \n",
       "Faith has ten ranks and Salman Farsi was on its tenth rank. He possessed\n",
       "knowledge of the unseen, the ability to interpret dreams and misfortunes, was\n",
       "well versed in genealogy and had even been favoured with gifts of Paradise, in\n",
       "this world. The Holy Prophet (s.a.w.) said: “Whenever Jibraeel would descend,\n",
       "he would, on behalf of God, say:  _Convey my salutation to Salman!_ ”\n",
       "\n",
       "Here is an example of the high degree of Salman’s faith. Once, Abu Dharr paid\n",
       "Salman a visit. Salman had placed a utensil over the fire to heat its\n",
       "contents. The two men sat together for some time, talking to each other, when\n",
       "suddenly the vessel toppled over, but to Abu Dharr’s amazement, its contents\n",
       "did not spill. Salman, picking the utensil up, placed it back upon the fire. A\n",
       "little later, the vessel fell over again, but once again its contents did not\n",
       "spill. Again Salman picked it up and placed the vessel upright.\n",
       "\n",
       "Amazed, Abu Dharr hurried out of Salman’s house and was lost in contemplation\n",
       "over what he had witnessed. He happened to come across Amirul Mu'mineen (a.s.)\n",
       "on the way and narrated the incident to him.\n",
       "\n",
       "Having heard Abu Dharr’s narration, the Imam (a.s.)<br>"
      ],
      "text/plain": [
       "<IPython.core.display.Markdown object>"
      ]
     },
     "metadata": {},
     "output_type": "display_data"
    },
    {
     "data": {
      "text/markdown": [
       "**Node ID:** 9db1f091-377d-48a1-a4a2-ffe29e49630a<br>**Similarity:** 7.175530433654785<br>**Text:** The subject: Was\n",
       "Salman amuhajir or an ansar? The ansar claimed that as Salman came to the\n",
       "Prophet inMedina, he belonged to the ansar group; the muhajirun claimed that\n",
       "as Salman hadleft his home and family, he was a muhajir.This friendly dispute\n",
       "also shows how great had become the status of Salman within ashort period of\n",
       "three years that every group wanted to claim him as their own.Anyhow, the\n",
       "dispute was referred to the highest authority - the Prophet, who decidedthat\n",
       "Salman was from neither of the two groups; he said' \"Salman minna Ahl al-Bayt-\n",
       "Salman is from us, the family [of the Prophet].\"[30] It was such a great\n",
       "honour whichhas continuously been mentioned in traditions and poems. A poet\n",
       "says:-\n",
       "\n",
       "The devotion of Salman was his pedigree,while there was no relationship\n",
       "between Noah and his son.\n",
       "\n",
       "The Holy Prophet had also said, \"Salman is a sea which cannot be exhausted and\n",
       "atreasure which never comes to end. Salman is from us, the family [of the\n",
       "Prophet]; hehas been given wisdom, and is bestowed with reason.<br>"
      ],
      "text/plain": [
       "<IPython.core.display.Markdown object>"
      ]
     },
     "metadata": {},
     "output_type": "display_data"
    },
    {
     "data": {
      "text/markdown": [
       "**Node ID:** c6fa80dd-d97a-4333-971e-c4cbfdb1e710<br>**Similarity:** 7.100606918334961<br>**Text:** ### ALI'S PHYSICAL ANCESTRY\n",
       "\n",
       "So far as Ali's physical creation was concerned, he was evidently of the most\n",
       "exalted rank from both his maternal and paternal side. All of his forefathers\n",
       "back to Adam himself were worshipers of Allah. This light never settled in an\n",
       "impure loins or womb. None of the other companions can make such a claim. The\n",
       "lineage of Ali is as follows:\n",
       "\n",
       "(1) Ali Bin (2) Abu Talib Bin (3) Abdu'l-Muttalib (4) Hashim (5) Abd-e-Manaf\n",
       "(6) Qusai (7) Kilab (8) Murra (9) Ka'b (10) Luwai (11) Ghalib (12) Fehr (13)\n",
       "Malik (14) Nazr (15) Kinana (16) Khazima (17) Madreka (18) Ilyas (19) Muzar\n",
       "(20) Nizar (21) Ma'd (22) Adnan (23) Awwad (24) Al-Yasa' (25) Al-Hamis (26)\n",
       "Bunt (27) Sulayman (28) Haml (29) Qidar (30) Isma'il (31) Ibrahim Khalil-Ullah\n",
       "(32) Ta'rikh (33) Tahur (34) Sharu (35) Abraghu (36) Taligh (37) Abir (38)\n",
       "Shale' (39) Arfakhad (40) Sam (41) Noah (42) Lumuk (43) Mutu Shalkh (44)\n",
       "Akhnukh (45) Yarad (46) Mahla'il (47) Qinan (48) Anush (49) Seth (50) Adam\n",
       "Abu'l-Bashir.\n",
       "\n",
       "Except for the Holy Prophet, no one else had such a brilliant ancestry.<br>"
      ],
      "text/plain": [
       "<IPython.core.display.Markdown object>"
      ]
     },
     "metadata": {},
     "output_type": "display_data"
    },
    {
     "data": {
      "text/markdown": [
       "**Node ID:** f9764c85-3bbd-40dd-87bd-137ccf767ce1<br>**Similarity:** 7.092107772827148<br>**Text:** Other explanations that have been suggested with regard to the verse are as follows:\r\n",
       "\r\n",
       "One is that the intention is that his son is not of his religion, implying that his disbelief precludes him from having the rulings of his family applied to him. This reading is attributed to a group of commentators, and it does not suffer from any fundamental flaws, except that it does not accord with the context of the verse. This is because God denies Noah’s son belonging with him in the same sense as Noah affirms it. Noah did not mean by his belonging that he was a believer and not a disbeliever, but rather that he belonged to him in the sense of being both one of his nearest and dearest and being righteousness, even if faith was a prerequisite of this. Therefore, this ultimately refers back to the reading we have presented above.\r\n",
       "\r\n",
       "Another explanation is that he was not his son in reality, but only born in his house. Thus, Noah said, *‘My son is indeed from my family’* based on outward appearances, and God informed him that the matter was contrary to this, alerting him to his wife’s infidelity. This explanation is attributed to al-Ḥasan al-Baṣrī and Mujāhid.\r\n",
       "\r\n",
       "The problem with this explanation is, first of all, the fact that it associates shame and disgrace with one of God’s prophets and the general sense of the Qurʾān precludes such a possibility. In the Qurʾān, God repels such dishonor from the vicinity of the prophets and exonerates them from association with such falsehoods. More than this however, this explanation suffers from the fact that there is no evidence for it in the language used in the verse. There is nothing in the story other than God’s statement: *O Noah! Indeed He is not of your family. Indeed he is unrighteous conduct,* which does not provide any clear support for such conjectures.<br>"
      ],
      "text/plain": [
       "<IPython.core.display.Markdown object>"
      ]
     },
     "metadata": {},
     "output_type": "display_data"
    },
    {
     "data": {
      "text/markdown": [
       "**Node ID:** 6a259d49-b20a-497b-8b35-605e35f1e685<br>**Similarity:** 6.974330425262451<br>**Text:** O Ali! You\n",
       "are the first one. Their last one is the Riser with whose hands God - whose\n",
       "mentioning is Blessed and High - will conquer the East and the West of the\n",
       "Earth”\n",
       "\n",
       "6-35 My father and Muhammad ibn Al-Hassan ibn Ahmad ibn al-Waleed - may God be\n",
       "pleased with them - narrated that Sa’d ibn Abdullah, Abdullah ibn Ja’far al-\n",
       "Hemyari, Muhammad ibn Yahya al-Attar and Ahmad ibn Idris - may God be pleased\n",
       "with them - quoted on the authority of Ahmad ibn Abi Abdillah al-Barqi, on the\n",
       "authority of Abi Hashem Dawood ibn Al-Qasim al-Ja’fari, on the authority of\n",
       "Abi Ja’far Muhammad ibn Ali Al-Baqir (s), “One day the Commander of the\n",
       "Faithful (s) was with Al-Hassan ibn Ali (s) and Salman al-Farsi - may God be\n",
       "pleased with him. The Commander of the Faithful (s) was leaning on Salman’s\n",
       "hand. They entered the  _‘Al-Haram_ Mosque (the Kaaba). A good-looking well-\n",
       "dressed man came up to them and greeted the Commander of the Faithful (s).\n",
       "Then the Imam (s) greeted him back. The man sat down and said, “O Commander of\n",
       "the Faithful! I will ask you about three things.<br>"
      ],
      "text/plain": [
       "<IPython.core.display.Markdown object>"
      ]
     },
     "metadata": {},
     "output_type": "display_data"
    },
    {
     "data": {
      "text/markdown": [
       "**Node ID:** d0036cac-be0d-4d38-914c-a6115ffd6ad8<br>**Similarity:** 6.846806526184082<br>**Text:** ## Chapter 29 The Recognition of the Imams\n",
       "\n",
       "It is related with a sound chain of authority from Salman al- Farsi, 'I\n",
       "visited the Messenger of Allah who looked at me and said,\n",
       "\n",
       "\"O Salman, Allah does not send a prophet or messenger unless there are with\n",
       "him twelve chiefs.\"\n",
       "\n",
       "“O Messenger of Allah, I know this from the people of the two books.”\n",
       "\n",
       "\"O Salman, do you know my twelve chiefs, whom Allah has chosen to be leaders\n",
       "after me?\"\n",
       "\n",
       "\"Allah and His Messenger know best.\"\n",
       "\n",
       "\"O Salman, Allah created me from the quintessence of light, and called me, so\n",
       "I obeyed Him. Then He created 'Ali from my light, and called him, and he\n",
       "obeyed. From my light and the light of 'Ali He created Fatimah: He called her\n",
       "and she obeyed. From me, 'Ali and Fatimah, He created al-Hasan and al-Husayn.\n",
       "He called them and they obeyed Him. Allah has named us with five of His names:\n",
       "Allah is al-Mahmud (the Praised) and I am Muhammad (worthy of praise); Allah\n",
       "is al-'Ali (the High), and this is 'Ali (the one of high rank); Allah is al-\n",
       "Fatir (Creator out of nothing), and this is Fatimah; Allah is the One with\n",
       "Hasan (beneficence), and this is Hasan; Allah is Muhassin (the Beautiful), and\n",
       "this is Husayn. He created nine Imams from the light of al-Husayn and called\n",
       "them and they obeyed Him, before Allah created either Heaven on high, the\n",
       "outstretched earth, the air, the angels or man.<br>"
      ],
      "text/plain": [
       "<IPython.core.display.Markdown object>"
      ]
     },
     "metadata": {},
     "output_type": "display_data"
    },
    {
     "data": {
      "text/markdown": [
       "**Node ID:** c9dcfbf4-d1af-4eec-80c4-dbadf8b83b5e<br>**Similarity:** 6.820044040679932<br>**Text:** The referents of this exception are Noah’s wife and son. However, what is meant by ‘family’ in the phrase, *Indeed He is not of your family* are the righteous ones amongst his nearest and dearest. This is in line with Noah’s plea, *‘My Lord! My son is indeed from my family.’* When Noah says ‘my family’ here, he would not have meant anyone except the righteous amongst those related to him, otherwise this would have also included his wife, which would have nullified his argument at the outset. Therefore, ‘family’ in the the latter verse is being used in a more specific sense than in the former.\r\n",
       "\r\n",
       "This is the apparent meaning of the verse, and there are reports from the Imāms of the Prophet’s Household in support of this reading, which we will discuss in our treatment of the narrations, below.\r\n",
       "\r\n",
       "Other explanations that have been suggested with regard to the verse are as follows:\r\n",
       "\r\n",
       "One is that the intention is that his son is not of his religion, implying that his disbelief precludes him from having the rulings of his family applied to him. This reading is attributed to a group of commentators, and it does not suffer from any fundamental flaws, except that it does not accord with the context of the verse. This is because God denies Noah’s son belonging with him in the same sense as Noah affirms it.<br>"
      ],
      "text/plain": [
       "<IPython.core.display.Markdown object>"
      ]
     },
     "metadata": {},
     "output_type": "display_data"
    },
    {
     "data": {
      "text/markdown": [
       "**Node ID:** 350f3d56-be91-4ddc-bfd8-7002dc085c10<br>**Similarity:** 6.698737144470215<br>**Text:** Algar.\n",
       "\n",
       "The following autumn, when I returned to Iran, I found that  _Jihad al-Akbar_\n",
       "had recently been republished as a small booklet. Remembering the American\n",
       "Muslim I met in the Sufi Bookstore, I decided to make a complete translation\n",
       "of it. Since I lacked the competence in Farsi for such an undertaking, I\n",
       "solicited the assistance of Azim Sarvdalir, with whom I was studying Farsi and\n",
       "doing other translations at _Bunyad Baqir al-Ulum_ in Qom. Mr. Sarvdalir was\n",
       "happy to take up the project, which, with the encouragement of the Bunyad, was\n",
       "completed the following June;  _al-hamdu li-Allah_!\n",
       "\n",
       "This is a work in morals, in Farsi and Arabic,  _akhlaq_. It is not a\n",
       "philosophical work, but a moral exhortation directed toward the seminary\n",
       "students of Najaf, and toward the institution of the seminary, or  _hawzah\n",
       "'ilmi_ , as well. The work reveals the moral sensitivity of Imam Khomeini, his\n",
       "paternal anxiety regarding the seminarians and his dedication to the\n",
       "institution of the seminary. Upon reading this work one will discover that\n",
       "along with revolutionary fervor and condemnation of foreign imperialism there\n",
       "can be found a mystic's taste for spiritual devotions.<br>"
      ],
      "text/plain": [
       "<IPython.core.display.Markdown object>"
      ]
     },
     "metadata": {},
     "output_type": "display_data"
    },
    {
     "data": {
      "text/markdown": [
       "**Node ID:** dbd1ff64-4b62-409a-8df8-9e3010e7768a<br>**Similarity:** 6.6945271492004395<br>**Text:** ### THOSE WHOSE PRAYER IS NOT ANSWERED\n",
       "\n",
       "It has come in the traditions that the Prophet (a.s) has said. In my _Ummat_\n",
       "there are some people whose prayers are not accepted. Among them are those who\n",
       "pray for harm to their own parents. Then,, there are those who give loans and\n",
       "don’t take a witness for these transaction. The third category is of such men\n",
       "who, when in disagreement with their spouses, reproach them continuously,\n",
       "instead of giving them divorce (_Talaq)_ which is allowed to them by Allah.\n",
       "The fourth type is of persons who don’t make any serious effort to earn\n",
       "livelihood and sit at home praying to Allah to provide him sustenance. Allah\n",
       "says, “O my creature! I have provided to you the means for earning your\n",
       "livelihood. I have given you the limbs to work and earn a living. Even after\n",
       "sincere efforts if you are unable to earn, pray for My Help!” The fifth type\n",
       "is of the persons who have been gifted with lot of wealth that they squander.\n",
       "Then they pray to Allah to give them more. Allah’s response will be that they\n",
       "were given plenty. Why didn’t they use their wealth frugally instead of\n",
       "squandering it. Allah doesn’t like extravagance (_israaf)._ The sixth category\n",
       "of such persons is of those who talk ill of their kith and kin.\n",
       "\n",
       "When Hazrat Salman Farsi used to receive his allowance, he used to keep aside\n",
       "sufficient to meet the expenses for the year and distribute the remainder to\n",
       "the needy. Someone said, “Salman! Because you are a very old and pious person,\n",
       "you can afford to be charitable!” Salman said, O ignorant person! You don’t\n",
       "know that like death, life too is unpredictable.<br>"
      ],
      "text/plain": [
       "<IPython.core.display.Markdown object>"
      ]
     },
     "metadata": {},
     "output_type": "display_data"
    },
    {
     "data": {
      "text/markdown": [
       "**Node ID:** 48504cff-dab1-443d-ae47-697281ace889<br>**Similarity:** 6.629591464996338<br>**Text:** It is a matter for conjecture that when the morsel went into the mouth, what\n",
       "all processes took place thereafter. The hands, mouth, teeth, tongue,\n",
       "intestines, the faculty of digestion, the power of retaining food in the body\n",
       "played their part to convert the morsel into energy and blood to circulate in\n",
       "the system to provide him life and sustenance. Does the person have the\n",
       "faculty and capability to thank Allah for designing such a wonderful cycle of\n",
       "production for sustaining and prolonging the human existence on the earth!\n",
       "\n",
       "Imam Mohammed Taqi (a.s) narrates that one day Salman Farsi invited Abu Dharr\n",
       "Ghiffari over a meal. He put dried bread dipped in water before Abu Dharr. Abu\n",
       "Dharr said, “ _Subhan Allah,_ such good bread! How much I wish if there was\n",
       "some salt too!” Salman mortgaged his piece of cloth and fetched some salt. Abu\n",
       "Dharr ate the bread with the salt and thanked Allah for bestowing on him the\n",
       "trait of contentment. Salman Farsi said, “If you had practiced contentment, my\n",
       "piece of cloth wouldn’t have been mortgaged!”\n",
       "\n",
       "Imam Jafar e Sadiq (a.s) has said, “Allah has exhorted Hazrat Moosa (a.s) to\n",
       "Thank Him, that thanking Him is the right thing by Him.” Hazrat Moosa (a.s)\n",
       "said, “O Creator! How could I fulfill the duty of thanking and praising you\n",
       "that the faculty of doing it has also been endowed to me by you!”<br>"
      ],
      "text/plain": [
       "<IPython.core.display.Markdown object>"
      ]
     },
     "metadata": {},
     "output_type": "display_data"
    },
    {
     "data": {
      "text/markdown": [
       "**Node ID:** c8ada51d-7cab-4e74-9816-7d590f059b86<br>**Similarity:** 6.504494667053223<br>**Text:** He was known to\n",
       "possess knowledge of  _al-Ism al-A‘zam_ (the great Name of Allāh), and\n",
       "therefore could perform such powerful feats.\n",
       "\n",
       "We must understand however that according to authoritative Muslim scholars,\n",
       "neither does the  _al-Ism al-A‘zam_ (Great Name) actually consist of letters\n",
       "and words, nor is the knowledge of the Great Name the conceptual or mental\n",
       "knowledge of a certain word or specific letters as the majority of the laity\n",
       "imagined and believed so far. The knowledge of  _al-Ism al-A‘zam_ is a maqām\n",
       "and station that the human being attains after self-purification and attaining\n",
       "human perfection. ‘Allāmah Tabātabā’ī in volume 7 of his exegesis,  _al-Mīzān_\n",
       "has explained this fact at length.[199]\n",
       "\n",
       "\n",
       "### Salmān al-Muhammadī and his Powers\n",
       "\n",
       "One of the companions of the Holy Prophet (s) who enjoyed the station of  _al-\n",
       "wilāyah al-takwīniyyah_ was Salman al-Farsi, who was also known as Salman al-\n",
       "Muhammadī by the Ahlu’l Bayt (as). Being utterly subservient to the Ahlu’l\n",
       "Bayt (as), he was also known to be from among them.<br>"
      ],
      "text/plain": [
       "<IPython.core.display.Markdown object>"
      ]
     },
     "metadata": {},
     "output_type": "display_data"
    },
    {
     "data": {
      "text/markdown": [
       "**Node ID:** b62c47db-bca8-43a0-ab35-84ec060d2ede<br>**Similarity:** 6.465999603271484<br>**Text:** ## Chapter 14 Al-Madain\n",
       "\n",
       "Salman took part in the battles of Persia. He was in the advance of the\n",
       "fighters. And he was fighting bravely.\n",
       "\n",
       "Saad bin Abi-Wakkas was the leader of the campaign against al-Madain. Salman\n",
       "was beside him. He crossed the river with his horse.\n",
       "\n",
       "Salman was a translator between the Muslims and the Persian people. Thus the\n",
       "city surrendered without shedding blood.\n",
       "\n",
       "Caliph Umar bin al-Khattab appointed him ruler over al-Madain. He was a model\n",
       "for the just, Muslim ruler.\n",
       "\n",
       "His salary was five thousand Dirhams. But he divided them all among the poor.\n",
       "\n",
       "He lived a simple life. He bought palm-leaves by a Dirham. He made baskets and\n",
       "sold them for three Dirhams. He spent a Dirham on his family, gave a Dirham to\n",
       "the poor, and saved the third Dirham to buy palm-leaves.\n",
       "\n",
       "His clothing were simple. When the travellers and the strangers saw him, they\n",
       "regarded him as a poor man from al-Madain.\n",
       "\n",
       "One day, while Salman was walking in the market, a traveller ordered him to\n",
       "carry his baggage.\n",
       "\n",
       "Salman carried the baggage and began walking after the man.\n",
       "\n",
       "In the street, the people were greeting Salman respectfully. The traveller\n",
       "wondered and asked the people around him:\n",
       "\n",
       "__\n",
       "\n",
       "Who's that poor man?\n",
       "\n",
       "They answered:\n",
       "\n",
       "__\n",
       "\n",
       "He's Salman al-Farsi, the companion of Allah's Apostle [s], and the Emir of\n",
       "al-Madain.\n",
       "\n",
       "The traveller was surprised. He apologised to Salman and asked him to put down\n",
       "the baggage.\n",
       "\n",
       "Salman refused that and said:\n",
       "\n",
       "__\n",
       "\n",
       "Till I see you off.\n",
       "\n",
       "The traveller felt sorry and knew that Salman was Allah's supporter.<br>"
      ],
      "text/plain": [
       "<IPython.core.display.Markdown object>"
      ]
     },
     "metadata": {},
     "output_type": "display_data"
    },
    {
     "data": {
      "text/markdown": [
       "**Node ID:** 1aa22694-c82c-4a7e-a05e-b97813fe44a2<br>**Similarity:** 6.441722869873047<br>**Text:** But with regard to the rules of the hereafter and from the viewpoint\n",
       "of God's conduct, the laws of\n",
       "\n",
       "> فَمَن تَبِعَنِي فَإِنَّهُ مِنِّي\n",
       "\n",
       "_**Whoever follows me, is from me… (Qur’an, 14:36)** _\n",
       "\n",
       "And\n",
       "\n",
       "> إِنَّ أَکرَمَكم عِندَ اللهِ أَتقاکُم\n",
       "\n",
       "_**Verily the most honourable of you near God is the most pious of you.”\n",
       "(Qur’an, 14:36)** _\n",
       "\n",
       "prevail.\n",
       "\n",
       "The Messenger of God (s) said,\n",
       "\n",
       "> أیّها النّاس إن أباکم واحد، وإنّ ربّكم واحد، كلكم لآدم وآدم من تراب، لا فخر\n",
       "> لعربيّ علی عجميّ إلا بالتّقوی\n",
       "\n",
       "“O people! Verily your father is one, and your Lord is One. All of you are\n",
       "from Adam, and Adam was from dust. There is no pride for an Arab over a non-\n",
       "Arab, except through piety.”[45](epub.html#f_09690b87_45)\n",
       "\n",
       "Salman al-Farsi, who strove to reach truth, reached such a station that the\n",
       "Noble Messenger (s) said of him,\n",
       "\n",
       "> سلمان منّا أهل البیت\n",
       "\n",
       "Salman is one of us, the People of the House.\n",
       "\n",
       "There are some who have come under the influence of satanic whisperings and\n",
       "have contented themselves with the thought, “Our name is among the names of\n",
       "Ali ibn Abi Talib’s (a) friends. However, we may be, we are considered his\n",
       "subjects.<br>"
      ],
      "text/plain": [
       "<IPython.core.display.Markdown object>"
      ]
     },
     "metadata": {},
     "output_type": "display_data"
    },
    {
     "data": {
      "text/markdown": [
       "**Node ID:** a287514c-c034-4637-b45f-52ff37cc727a<br>**Similarity:** 6.426024436950684<br>**Text:** ## Chapter 9 The Victory\n",
       "\n",
       "The polytheists were unsuccessful to cross the trench. The siege became long.\n",
       "Allah granted his Apostle and the believers a victory.\n",
       "\n",
       "The strong winds were blowing against the Allies' Armies. They uprooted their\n",
       "tents and dismayed them.\n",
       "\n",
       "One night, the polytheists were tired of the siege. Therefore, Abu Sufyan\n",
       "decided to withdraw his fighters.\n",
       "\n",
       "In the morning, our Master Muhammad [s] sent Hudhayfa to the enemy front to\n",
       "get him some information.\n",
       "\n",
       "Hudhayfa told Allah's Apostle [s] about the defeat of the enemy armies.\n",
       "\n",
       "The Muslims were filled with happiness. They thanked Allah for granting them a\n",
       "victory over the enemies of the religion and of the humanity.\n",
       "\n",
       "After a month's siege, the Muslims happily came back home.\n",
       "\n",
       "\n",
       "## Chapter 10 In the Prophet's Mosque\n",
       "\n",
       "The Muslims came together in the Prophet's Mosque. They were thanking Allah,\n",
       "the Glorified. They were looking at Salman, the great companion, with love and\n",
       "respect because he saved Madina and Islam from the invaders with his plan.\n",
       "\n",
       "For this reason, the Ansar from Madina said:\n",
       "\n",
       "_Salman is one of us!_\n",
       "\n",
       "And the Muhajireen shouted:\n",
       "\n",
       "_Salman is one of us!_\n",
       "\n",
       "And the Muslims listened to the Prophet [s] to hear his view about Salman:\n",
       "\n",
       "_Salman is a member of my family!_\n",
       "\n",
       "Then the Prophet [s] said:\n",
       "\n",
       "_Don't say Salman al-Farsi, but say Salman al-Muhammadi!_\n",
       "\n",
       "Since that day, the Muslims had looked gratefully and respectfully at Salman.\n",
       "\n",
       "\n",
       "## Chapter 11 Jihad\n",
       "\n",
       "Salman was always going with our Master Muhammad [s] to defend the Muslim\n",
       "Mission against the enemies.<br>"
      ],
      "text/plain": [
       "<IPython.core.display.Markdown object>"
      ]
     },
     "metadata": {},
     "output_type": "display_data"
    },
    {
     "data": {
      "text/markdown": [
       "**Node ID:** 242cd2bd-ec3c-4ccc-b060-f18e34b38f4c<br>**Similarity:** 6.40824556350708<br>**Text:** Then will\n",
       "arise Salman, Miqdad and AbuDharr.\"[39]\n",
       "\n",
       "The Holy Prophet said, \"Allah has ordered me to love four of my\n",
       "companions.\"People asked who those four companions were. The Holy Prophet\n",
       "said, \"'Ali bin AbiTalib, Salman, Miqdad and Abu Dharr.\"[40]According to\n",
       "traditions, Allah sent forSalman gifts and presents from Paradise; and the\n",
       "Paradise eagerly awaited hisarrival.[41]\n",
       "\n",
       "Once Mansur bin Buzurg, himself of Persian origin, asked Imam Ja'far al-Sadiq\n",
       "as towhy he remembered Salman al-Farsi so much. The Imam said, \"Do not say\n",
       "'Salmanal-Farsi (the Persian)'. Say, 'Salman of Muhammad.' You should know\n",
       "that the reasonof my often remembering him are three of his special virtues:\n",
       "First, he discarded himown preferences in view of the preferences of Amirul\n",
       "mu'minin 'Ali. Second, he lovedpoor and preferred them against rich and\n",
       "wealthy persons. Third, he loved knowledgeand knowledgeable persons. Verily\n",
       "Salman was a good servant of God, a pure Muslimand he was not from the\n",
       "polytheists.<br>"
      ],
      "text/plain": [
       "<IPython.core.display.Markdown object>"
      ]
     },
     "metadata": {},
     "output_type": "display_data"
    },
    {
     "data": {
      "text/markdown": [
       "**Node ID:** afc70b68-8446-42fb-ad79-7265f61e0fb0<br>**Similarity:** 6.336376190185547<br>**Text:** **2\\. Love for four companions; which ones?**\n",
       "\n",
       "_He said: Abu Ubaidullah Muhammad b. Imran al-Marzbani reported to me from\n",
       "Ahmad b. Muhammad b. Isa al-Makki, who reported from Abdullah b. Ahmad b.\n",
       "Hanbal, who reported from his father, who reported from al-Husain b. al-Hasan,\n",
       "who reported from Sharik, from Abi Raabia'h al-Ayadi, who was heard narrating\n",
       "even in his old age, from Ibn Buridah, from his father, who said:_\n",
       "\n",
       "The Prophet, peace be upon him and his progeny, said: \"Surely, Allah has\n",
       "commanded me to love four of my companions; and has revealed to me that He\n",
       "indeed loves them.\" We said: \"Who are they, O messenger of Allah? And there is\n",
       "none from us who does not wish to be among them.\" He, peace be upon him and\n",
       "his progeny, said: \"Be it known that Ali is among them\" - and he repeated this\n",
       "three times \\- \"and al-Miqdad and Abu Dharr al-Ghifari and Salman al-Farsi.\"\n",
       "\n",
       "**3\\.<br>"
      ],
      "text/plain": [
       "<IPython.core.display.Markdown object>"
      ]
     },
     "metadata": {},
     "output_type": "display_data"
    },
    {
     "data": {
      "text/markdown": [
       "**Node ID:** a59ad80c-e4f6-4944-b0df-a8c4cc9229d5<br>**Similarity:** 6.323088645935059<br>**Text:** Now, I come to my original point that the 'uli'l-amr' must be infallible\n",
       "because obedience to them is linked with obedience to Allah and the Holy\n",
       "Prophet.\n",
       "\n",
       "Imam Fakhru'd-din Razi in his Tafsir admits that if we do not regard the\n",
       "'uli'l-amr' as infallible, it would be, in effect, affirming two\n",
       "contradictions as being true. Your own ulema have confirmed that these\n",
       "qualities were possessed exclusively by the twelve Imams. The Holy verse of\n",
       "Purification (33:33) also confirms this fact.\n",
       "\n",
       "\n",
       "### INFALLIBILITY OF THE HOLY IMAMS GENERALLY REPORTED\n",
       "\n",
       "Sheikh Sulayman Balkhi Hanafi in Yanabiu'l-Mawadda, ch.77, p.445 and Hamwaini\n",
       "in Fara'idu's-Simtain report that Ibn Abbas said: \"I heard the Holy Prophet\n",
       "saying: ' I and Ali, Hasan, Husain and nine of the descendants of Husain are\n",
       "completely pure and infallible.'\"\n",
       "\n",
       "Salman Farsi says that the Holy Prophet, putting his hand on the shoulder of\n",
       "Husain, said: \"He is the Imam and the son of the Imam, and of his descendants\n",
       "there will be nine Imams who will all be virtuous trustees of Allah.\"\n",
       "\n",
       "Zaid Ibn Thabit reports that the Holy Prophet said: \"Verily, of Husain's\n",
       "descendants will be born Imams who will be virtuous trustees, infallible\n",
       "judges.\"\n",
       "\n",
       "Imran Ibn Hasin reports that the Holy Prophet said to Ali: \"You are heir to my\n",
       "knowledge. You are the Imam and Caliph after me. You will tell the people what\n",
       "they do not know. You are the father of my grandson and husband of my\n",
       "daughter. Of your descendants there will be infallible Imams.\"<br>"
      ],
      "text/plain": [
       "<IPython.core.display.Markdown object>"
      ]
     },
     "metadata": {},
     "output_type": "display_data"
    },
    {
     "data": {
      "text/markdown": [
       "**Node ID:** 60b217e4-7b7b-4ad2-b5eb-8b3737091200<br>**Similarity:** 6.289807319641113<br>**Text:** Salman Farsi\n",
       "(r.a.) was nearest of all there and he replied: “Surely, O Messenger-of\n",
       "Allah.” The Holy Prophet said:\n",
       "\n",
       "“Verily, amongst the Signs of the Hour is that people will neglect the prayer\n",
       "(i.e., will not pray at all, or will pray without fulfilling its conditions,\n",
       "or will not pray in the preferred time), and will follow their own views (and\n",
       "desires will supersede the commands of Allah, they will follow only those\n",
       "rules which will appeal to them, and will leave other rules), and will incline\n",
       "towards their own preferences, and will respect the wealthy people (forgetting\n",
       "the Islamic criterion of honour, i.e., piety), and will sell the religion for\n",
       "worldly benefits (for example, the greed of worldly riches will instigate them\n",
       "to go to such places where, they very well know, it would be difficult to\n",
       "observe their religious commands); at that time the heart and soul of the\n",
       "believer will melt (from grief) as salt melts in water, because he will see\n",
       "the unlawful things (and actions) and will not be able to change them.”\n",
       "\n",
       "Salman (r.a.) said: “And is this to happen, O Messenger of Allah?”\n",
       "\n",
       "The Holy Prophet said: “Yes, by (Allah) in whose hand is my soul. “O Salman,\n",
       "at that time the rulers will be tyrants, the ministers transgressors and the\n",
       "trustees embezzlers.”\n",
       "\n",
       "Salman (r.a.) said: “And is this to happen, O Messenger of Allah?”\n",
       "\n",
       "The Holy Prophet (S) Said: “Yes, by (Allah) in whose hand is my soul.<br>"
      ],
      "text/plain": [
       "<IPython.core.display.Markdown object>"
      ]
     },
     "metadata": {},
     "output_type": "display_data"
    },
    {
     "data": {
      "text/markdown": [
       "**Node ID:** a2f3d27d-70a0-45a3-a5f5-67b8bbbceb22<br>**Similarity:** 6.193911552429199<br>**Text:** March 26th, 19…\n",
       "\n",
       "I have noticed recently that my dear friend Saffia does not look well. Though\n",
       "she has not missed our meetings, I feel something is wrong with her. I wish I\n",
       "could help her. I know nothing about her family. May be she needs money and\n",
       "does not want others to know about her hardship. She is quite wrong. Muslim\n",
       "believers do not care for an easy life, and they are kind to each other. What\n",
       "counts are good, righteous deeds as mentioned in the Qur'an: ** _As for the\n",
       "scum, it vanishes as jetsam, what profits men, abides in the earth._**\n",
       "\n",
       "_(al-Ra'ad, 17)_\n",
       "\n",
       "April 20th, 19…\n",
       "\n",
       "At last I have discovered the reason for Saffia's uneasiness. She lives in a\n",
       "humble house and thinks this may cause her to be ashamed among her friends. I\n",
       "managed to make her change her opinion. I told her our great Prophet (s), the\n",
       "greatest man in history who achieved the most sacred mission, was a poor man.\n",
       "He could have lived as a king or an emperor, but he did not. Fatimah (a), his\n",
       "daughter, lived in a humble house with a minimum of furniture. The Prophet's\n",
       "companions lived the same sort of humble life. History relates that a great\n",
       "fire broke out in Al-Madyin (in Iraq) when the companion, Salman al-Farsi, was\n",
       "the ruler. People rushed to save their valuable possessions, but Salman\n",
       "carried nothing but a small bundle of clothes, a Qur'an, a prayer rug and a\n",
       "water pot.<br>"
      ],
      "text/plain": [
       "<IPython.core.display.Markdown object>"
      ]
     },
     "metadata": {},
     "output_type": "display_data"
    },
    {
     "data": {
      "text/markdown": [
       "**Node ID:** 832f1a3d-5cff-4ce3-9421-8862d12ddd56<br>**Similarity:** 6.192260265350342<br>**Text:** Indeed, judgement belongs only to God. Therefore, instead of this, Noah simply presented these two statements and surrendered to God’s judgement and decision in this regard, concluding his argument by saying, *‘and You are the fairest of all judges.’*\r\n",
       "\r\n",
       "Therefore, the meaning of the verse is: *‘My Lord! My son is indeed part of my family and, indeed, your promise is absolutely true, which suggests that he should not have been drowned with the others! However, true judgement belongs only to You, for you are the fairest of all judges.’* It seems that Noah was seeking clarification of the truth of the matter. He did not say anything about his son’s survival, nor did he add anything to what God had recounted about him. An explanation of this will follow.\r\n",
       "\r\n",
       "In God’s words: *“He said, ‘O Noah, indeed he is not of your family; indeed, he is (one whose) work was other than righteous, so ask Me not for that about which you have no knowledge.’”* God clarified the correct position to Noah regarding what he had said: *“indeed my son is of my family, and indeed, Your promise is true,”* which implied the survival of his son. God replied: *“indeed he is not of your family,”* thus refuting his argument.<br>"
      ],
      "text/plain": [
       "<IPython.core.display.Markdown object>"
      ]
     },
     "metadata": {},
     "output_type": "display_data"
    },
    {
     "data": {
      "text/markdown": [
       "**Node ID:** c7096a87-98e9-4b54-8f4d-b53871751b9a<br>**Similarity:** 6.151034832000732<br>**Text:** Shaykh Tabarsi has narrated from Salman Farsi, Saeed Ibne Jubair and Sufyan,\n",
       "and Ibne Mahyar has also narrated this from Ibne Abbas and also from Ahle\n",
       "Sunnat sources it is narrated from Abu Saeed Khudri and from Shia chains from\n",
       "Imam Ja‘far as-Sadiq (a.s.) that the two seas are Ali (a.s.) and Fatima\n",
       "(s.a.). It\n",
       "\n",
       "537Surah Rahman 55:19-22\n",
       "\n",
       "means that neither Ali does injustice on Fatima nor Fatima does injustice on\n",
       "Ali and Hasan and Husain were born from them.538\n",
       "\n",
       "Ibne Mahyar has narrated through Sunni chains from Abu Zar that the two seas\n",
       "are Ali and Fatima (s.a.) and \"pearls\" and \"corals\" are Hasan and Husain\n",
       "(a.s.). And who has seen anyone like these four. Only the believer befriends\n",
       "them and only the unbeliever hates them. So remain a believer due to the love\n",
       "of Ahlul Bayt (a.s.) and do not become an unbeliever by hating them, otherwise\n",
       "Allah cast you into Hell.\n",
       "\n",
       "Ibne Babawayh in Khisal has narrated from Imam Sadiq (a.s.) on this verse that\n",
       "Ali and Fatima (s.a.) are the two deep seas of knowledge, none of whom does\n",
       "injustice on the other; and pearls and corals are Hasan and Husain.<br>"
      ],
      "text/plain": [
       "<IPython.core.display.Markdown object>"
      ]
     },
     "metadata": {},
     "output_type": "display_data"
    },
    {
     "data": {
      "text/markdown": [
       "**Node ID:** a534a346-c5e7-49ca-bace-6f121cf2e1dc<br>**Similarity:** 6.0714311599731445<br>**Text:** Noah did not mean by his belonging that he was a believer and not a disbeliever, but rather that he belonged to him in the sense of being both one of his nearest and dearest and being righteousness, even if faith was a prerequisite of this. Therefore, this ultimately refers back to the reading we have presented above.\r\n",
       "\r\n",
       "Another explanation is that he was not his son in reality, but only born in his house. Thus, Noah said, *‘My son is indeed from my family’* based on outward appearances, and God informed him that the matter was contrary to this, alerting him to his wife’s infidelity. This explanation is attributed to al-Ḥasan al-Baṣrī and Mujāhid.\r\n",
       "\r\n",
       "The problem with this explanation is, first of all, the fact that it associates shame and disgrace with one of God’s prophets and the general sense of the Qurʾān precludes such a possibility. In the Qurʾān, God repels such dishonor from the vicinity of the prophets and exonerates them from association with such falsehoods. More than this however, this explanation suffers from the fact that there is no evidence for it in the language used in the verse. There is nothing in the story other than God’s statement: *O Noah! Indeed He is not of your family. Indeed he is unrighteous conduct,* which does not provide any clear support for such conjectures.<br>"
      ],
      "text/plain": [
       "<IPython.core.display.Markdown object>"
      ]
     },
     "metadata": {},
     "output_type": "display_data"
    },
    {
     "data": {
      "text/markdown": [
       "**Node ID:** d5b8bf6e-a11d-4e96-bf8b-b116a766ab85<br>**Similarity:** 6.053292751312256<br>**Text:** **2772.** If the heirs of the dead person are one maternal uncle or one\n",
       "maternal aunt and paternal uncle and paternal aunt and if the paternal uncle\n",
       "and the paternal aunt are real or from the father's side, the property is\n",
       "divided into 3 parts. One part is taken by the maternal uncle or the maternal\n",
       "aunt and as regards the remaining part what is well known is that 2/3 is given\n",
       "to the paternal uncle and 1/3 to the paternal aunt. On the basis of this the\n",
       "property is divided into 9 parts out of which 3 parts are given to maternal\n",
       "uncle or maternal aunt, 4 parts are given to the paternal uncle and 2 parts\n",
       "are given to he paternal aunt. However, it is not unlikely that the remainder\n",
       "may be divided equally between the paternal uncle and the paternal aunt.\n",
       "\n",
       "**2773.** If the heirs of the dead person are one maternal uncle or one\n",
       "maternal aunt and one paternal uncle pr one paternal aunt from the mother's\n",
       "side and real paternal uncle and paternal aunt or paternal uncle and paternal\n",
       "aunt from mother's side the property is divided into 3 parts. Out of these one\n",
       "part is given to the maternal uncle or the maternal aunt and the remaining 2\n",
       "parts are equally divided between the other heirs.\n",
       "\n",
       "**2774.** If the heirs of a dead person are some maternal uncles and some\n",
       "maternal aunts all of whom are either real or from father's side, or from\n",
       "mother's side and a paternal uncle and a paternal aunt, the property is\n",
       "divided into 3 parts. Out of these 2 parts are divided between the paternal\n",
       "uncle and the paternal aunt as mentioned above and one part is divided equally\n",
       "between the maternal uncles and the maternal aunts.\n",
       "\n",
       "**2775.<br>"
      ],
      "text/plain": [
       "<IPython.core.display.Markdown object>"
      ]
     },
     "metadata": {},
     "output_type": "display_data"
    },
    {
     "data": {
      "text/markdown": [
       "**Node ID:** 5ce08f44-87ca-4630-bb51-4ac17e0f31e7<br>**Similarity:** 6.033490180969238<br>**Text:** Abdullah Bin\n",
       "Saba' San'a'i, Ka'abu'l-Ahbar, Wahhab Ibn Munabba, and others professed Islam\n",
       "and pretended to accept the hadith of the Holy Prophet and thus created\n",
       "confusion among the Muslims.  \n",
       "\n",
       "The third caliph, Uthman Bin Affan, pursued them, and they fled to Egypt,\n",
       "where they established a sect known as the Shia. They spread false reports\n",
       "about Caliph Uthman and fabricated hadith to the effect that the Holy Prophet\n",
       "had appointed Ali as caliph and Imam. With the formation of this sect, there\n",
       "was widespread violence, which led to the murder of Caliph Uthman and the\n",
       "assumption of the caliphate by Ali. A group inimical to Uthman stood high in\n",
       "Ali's favor. During the caliphate of the Umayyads, when the people of the\n",
       "family of Ali and his adherents were being killed, this group went into\n",
       "hiding. Still, some people, like Salman Farsi, Abu Dharr Ghifari, and Ammar\n",
       "Yasir, supported the cause of Ali. This struggle continued until the time of\n",
       "Harun ar-Rashid, and especially his son, Ma'mun ar-Rashid Abbasi, who subdued\n",
       "his brother with the help of the Iranians, and they then spread the idea that\n",
       "Ali was preferable to other caliphs. The Iranians, hostile to the Arabs who\n",
       "had conquered them, found an opportunity to challenge the Arabs in the name of\n",
       "religion. The Shia became powerful during the period of the Dailamites and the\n",
       "Safavid Kings and were finally recognized. They were then formally known as\n",
       "the Shia sect. Iranian Zoroastrians still call themselves Shias.  \n",
       "\n",
       "In short, the Shia sect was founded by a Jew, Abdullah Bin Saba. Otherwise,\n",
       "there would have been no such word as \"Shia\" in Islam.<br>"
      ],
      "text/plain": [
       "<IPython.core.display.Markdown object>"
      ]
     },
     "metadata": {},
     "output_type": "display_data"
    },
    {
     "data": {
      "text/markdown": [
       "**Node ID:** 40424e16-54b5-4dc9-b9fb-f7553bfed9ef<br>**Similarity:** 6.0297112464904785<br>**Text:** Women need not observe Hijab\n",
       "in his presence. Example: Father, Brother etc.\n",
       "\n",
       "Non-Mahram: Someone with whom marriage is allowed. One should observe Hijab\n",
       "(Islamic covering), in his presence. Example: Paternal and maternal cousins.\n",
       "\n",
       "Mahrams for a woman:\n",
       "\n",
       "Father\n",
       "\n",
       "Brother\n",
       "\n",
       "Paternal uncle (father’s brother)\n",
       "\n",
       "Maternal uncle (mother’s brother)\n",
       "\n",
       "Maternal and paternal grandfathers, and their fathers\n",
       "\n",
       "Mother’s maternal and paternal uncles\n",
       "\n",
       "Father’s maternal and paternal uncles\n",
       "\n",
       "Half brothers\n",
       "\n",
       "Husband\n",
       "\n",
       "Father-in-law\n",
       "\n",
       "Husband’s paternal grandfather, and their fathers\n",
       "\n",
       "Husband’s maternal grandfather, and their fathers\n",
       "\n",
       "Husband’s sons\n",
       "\n",
       "Husband’s grandsons.\n",
       "\n",
       "Son and sons of her children\n",
       "\n",
       "Nephew – son of her sister\n",
       "\n",
       "Nephew – son of her brother\n",
       "\n",
       "Son-in-law\n",
       "\n",
       "The remaining men are Non-Mahrams, however there may be exceptions to this\n",
       "rule by way of marriage and with certain conditions explained in detail in the\n",
       "books of Fiqh. A good example: This woman’s husband dies, after the days of\n",
       "‘iddat’ the brother of her husband may marry this woman and thus will become\n",
       "her Mahram.\n",
       "\n",
       "A sister’s husband is Non-Mahram. As long as one’s sister is married to him\n",
       "and is living, he cannot marry his wife’s sister. This is why one needs to\n",
       "observe Hijab in his presence.<br>"
      ],
      "text/plain": [
       "<IPython.core.display.Markdown object>"
      ]
     },
     "metadata": {},
     "output_type": "display_data"
    },
    {
     "data": {
      "text/markdown": [
       "**Node ID:** 2a6a55e5-6789-43ae-9fb7-a4fc00cd2ac9<br>**Similarity:** 6.02562952041626<br>**Text:** ![Cover](images/cover.png)\n",
       "\n",
       "\n",
       "![IslamicMobility](images/logo-feedbooks-tiny.png)\n",
       "\n",
       "# ESSENCE OF LIFE - Ain Al-Hayat\n",
       "\n",
       "## Allamah Muhammad Baqir Al-Majlisi - XKP\n",
       "\n",
       "  \n",
       "**Published:** 2013  \n",
       "**Tag(s):** islam majlisi \"baqir majlisi\" \"ain e hayat\" \"ain hayat\" \"essence\n",
       "of life\" xkp \"shia ebooks\" ulema \"shia authors\" \"muslim ebooks\" \"hayat ul\n",
       "qulub\" ayatullah \"abu dhar\" miqdad \"salman farsi\" \"Almighty\n",
       "\n",
       "\n",
       "## Chapter 1 About The Author\n",
       "\n",
       "Allama Mohammed Baqir Majlisi was a scion of a very erudite family. His\n",
       "ancestor was Maqsood Ali Majlisi who migrated from Jabl Aamil to Isfahan city\n",
       "in Iran. He had two sons, Mohammed Taqi and Mohammed Sadiq. Both of them\n",
       "received instruction in Islamic Studies from allama Abdallah Shustari. Allama\n",
       "Mohammed Taqi Majlisi, himself an erudite Islamic Scholar, was the father of\n",
       "Allama Mohammed Baqir Majlisi. Allama Baqir was born in the year 1037 H (1616\n",
       "AD). He opened his eyes in a scholarly atmosphere. His two elder brothers,\n",
       "Mulla Azizullah and Mulla Abdallah were scholars of high repute and his\n",
       "sisters too were ladies of high learning. Within no time, the young Mohammed\n",
       "Baqir acquired mastery in logic, philosophy, mathematics, hadith, fiqh,\n",
       "literature and Quranic commentary.\n",
       "\n",
       "Allama Mohammed Baqir Majlisi’s tutors too were of very high repute.<br>"
      ],
      "text/plain": [
       "<IPython.core.display.Markdown object>"
      ]
     },
     "metadata": {},
     "output_type": "display_data"
    },
    {
     "data": {
      "text/markdown": [
       "**Node ID:** 009859b3-af8d-4f38-9d7e-de2f427eec2a<br>**Similarity:** 6.001086235046387<br>**Text:** Sulayman ibn Ibrahim al­Qunduzi.  \n",
       "  \n",
       "2\\. Al­'Imam al­Hasan ibn `Ali (A) (3­50/624­670).  \n",
       "  \n",
       "1\\. Al­Qunduzi.  \n",
       "  \n",
       "3\\. Salman al­Farsi (d. 36/656).  \n",
       "  \n",
       "1\\. Al­Qunduzi.  \n",
       "  \n",
       "4\\.<br>"
      ],
      "text/plain": [
       "<IPython.core.display.Markdown object>"
      ]
     },
     "metadata": {},
     "output_type": "display_data"
    },
    {
     "data": {
      "text/markdown": [
       "**Node ID:** 37d5779a-4a40-413f-82e2-f834548315f7<br>**Similarity:** 5.9590277671813965<br>**Text:** Do you invalidate the punishment of Allah?”\n",
       "\n",
       "Imam ‘Ali (as) replied, “Woe unto you! Whenever there exists an Imam appointed\n",
       "by Allah and a sinner repents for his sin, it is upon Allah to forgive\n",
       "him.”[7]\n",
       "\n",
       "\n",
       "### The Fearful Ones\n",
       "\n",
       "When the verse: “And surely Hell is the promised place of them all. It has\n",
       "seven gates; for every gate there shall be a separate party of them”[8] was\n",
       "revealed to the Noble Prophet (S), he wept so intensely that it made his\n",
       "companions weep too, but none knew what it was that Jibra`il had revealed\n",
       "which had made the Noble Prophet (S) wail in such a fashion.\n",
       "\n",
       "One of the companions went to Fatimah (as) and informed her of the incident.\n",
       "Covering herself with her cloak, which was patched in twelve places by means\n",
       "of date palm leaves, she came out of the house. When Salman Farsi’s eyes fell\n",
       "upon the cloak, he looked at it in amazement and then, bursting into tears,\n",
       "said to himself: “The emperors of Rome and Iran attire themselves in silken\n",
       "and gold-embroidered clothes but the daughter of the Noble Prophet (S) covers\n",
       "herself with such a cloak!”\n",
       "\n",
       "When Fatimah (as) came to the Noble Prophet (S), he said to Salman: “My\n",
       "daughter belongs to a group that has taken great precedence in subservience\n",
       "and obedience (to Allah).”  \n",
       "Fatimah (as) then asked, “Father! What was it that made you grieve?”\n",
       "\n",
       "The Noble Prophet (S) recited the verses which had been brought by Jibra`il.<br>"
      ],
      "text/plain": [
       "<IPython.core.display.Markdown object>"
      ]
     },
     "metadata": {},
     "output_type": "display_data"
    },
    {
     "data": {
      "text/markdown": [
       "**Node ID:** 6267334d-c492-48a0-9502-9754dd8b8990<br>**Similarity:** 5.952183723449707<br>**Text:** This supplication is mentioned below as an\n",
       "example of Fatima's prayers.  \n",
       "  \n",
       "\n",
       "Fatima (A) taught the following supplication to Salman al-Farsi (may Allah be\n",
       "pleased with him) and said to him:\n",
       "\n",
       "__\n",
       "\n",
       "_\"If it pleases you not to be inflicted with fever as long as you live in this\n",
       "world, then read these words, which my father, Muhammad, taught me and I say\n",
       "every morning and evening:_  \n",
       "  \n",
       "\n",
       "_'In the name of Allah, the Most Beneficent, Most Merciful_\n",
       "\n",
       "_In the Name of Allah the light; In the Name of Allah the light of light_\n",
       "\n",
       "_In the Name of Allah, light upon light_\n",
       "\n",
       "_In the Name of Allah, the planner of affairs_\n",
       "\n",
       "_In the Name of Allah, Who created light from light_\n",
       "\n",
       "_And_\n",
       "\n",
       "_Revealed light upon the Turr_  \n",
       "_By a decree inscribed_\n",
       "\n",
       "_In a scroll unfolded_\n",
       "\n",
       "_According to a decree fore-ordained_\n",
       "\n",
       "_Unto a Learned Prophet_\n",
       "\n",
       "_Praise be to Allah, Who is known with Might_\n",
       "\n",
       "_Whose Glory is established_\n",
       "\n",
       "_Who is praised during times of prosperity and infliction_\n",
       "\n",
       "_And may Allah's grace be upon our Master, Muhammad_\n",
       "\n",
       "_And his purified progeny'_  \n",
       "  \n",
       "\n",
       "Salman later said:  \n",
       "  \n",
       "\n",
       "_\"By Allah, I have taught this supplication to more than a thousand souls in\n",
       "Mecca and Medina who were inflicted with fever, and they were all relieved by\n",
       "the will of Allah.<br>"
      ],
      "text/plain": [
       "<IPython.core.display.Markdown object>"
      ]
     },
     "metadata": {},
     "output_type": "display_data"
    },
    {
     "data": {
      "text/markdown": [
       "**Node ID:** 89fe6c69-afa6-41f0-be12-c20564f8fee0<br>**Similarity:** 5.915444374084473<br>**Text:** Of the Muhajirs were Salman Farsi, Abu Dharr Ghifari,\n",
       "Miqdad Bin Aswad Kindi, Ammar-e-Yasir, Buraida Aslami, and Khalid Bin Sa'id\n",
       "Bin As Amawi. Of the Ansars were Abu'l-Hathama bin Tihan, Khuzaima Bin Thabit\n",
       "Dhu'sh-Shahadatain, Abu Ayyub Ansari, Ubai Bin Ka'b, Sahl Bin Hunaif, Uthman\n",
       "Bin Hunaif, who remonstrated with Abu Bakr inside the mosque. I have given\n",
       "only this brief outline of events. No ijma of any kind was reached. The ijma\n",
       "of the intellectuals and the prominent companions of Medina is a flagrant lie.  \n",
       "\n",
       "Based on your own sources, I will give you a list of names of some of those\n",
       "who opposed the caliphate. Ibn Hajar Asqalani and Baladhuri, each in his\n",
       "Ta'rikh, Muhammad Bin Khawind Shah in his Rauzatu's-Safa, Ibn Abdu'l-Birr in\n",
       "his Isti'ab, and others say that Sa'd Bin Ubaida and a part of Khazrajis and a\n",
       "group of Quraish did not swear the oath of fealty to Abu Bakr. Moreover,\n",
       "eighteen people who were prominent and distinguished companions of the Holy\n",
       "Prophet did not take the oath of allegiance to Abu Bakr. They were Shias of\n",
       "Ali Bin Abu Talib. The names of those eighteen people are as follows:  \n",
       "  \n",
       "\n",
       "1\\. Salman Farsi\n",
       "\n",
       "2\\. Abu Dharr Ghifari\n",
       "\n",
       "3\\. Miqdad Bin Aswad-e-Kindi\n",
       "\n",
       "4\\. Ammar-e-Yasir\n",
       "\n",
       "5\\. Khalid Bin Sa'id bin al-As\n",
       "\n",
       "6\\. Buraida Aslami\n",
       "\n",
       "7\\. Ubai Bin Ka'b\n",
       "\n",
       "8\\.<br>"
      ],
      "text/plain": [
       "<IPython.core.display.Markdown object>"
      ]
     },
     "metadata": {},
     "output_type": "display_data"
    },
    {
     "data": {
      "text/markdown": [
       "**Node ID:** fe043214-c9a6-4fd3-96a1-e3f381715e45<br>**Similarity:** 5.904682159423828<br>**Text:** Then why did you procrastinate in praising him for this position while you are\n",
       "the best poet of the time?’ Then Abu Nuwas said,\n",
       "\n",
       "_It was said to me that mine was the best rhyme,  \n",
       "Articulate in arts of brilliant speech and chime,  \n",
       "That I have pearls of beautiful speech  \n",
       "Bearing fruits in the hands that can reach;  \n",
       "‘So why did you refuse to praise the son  \n",
       "Of Musa, and equal to his merits is none?’  \n",
       "I said how could I possibly praise and be fair  \n",
       "To one whose father Gabriel did serve and care?’_\n",
       "\n",
       "Al-Ma’mun said, “Very well said.” He granted him as much reward as he had\n",
       "granted the other poets altogether and considered him to be high above them\n",
       "all.\n",
       "\n",
       "40-10 Al-Hussein ibn Ibrahim ibn Ahmad ibn Hisham al-Mokattib - may God have\n",
       "Mercy upon him - narrated that Ali ibn Ibrahim ibn Hashem quoted on the\n",
       "authority of his father, on the authority of Abul Hassan Muhammad ibn Yahya\n",
       "al-Farsi, “One day Abu Nuwas looked at Abil Hassan Ali ibn Musa Al-Reza (s)\n",
       "riding on a mule, after he had left Al-Ma’mun. He stepped forward, greeted him\n",
       "(s) and said, ‘O son of the Prophet!<br>"
      ],
      "text/plain": [
       "<IPython.core.display.Markdown object>"
      ]
     },
     "metadata": {},
     "output_type": "display_data"
    },
    {
     "data": {
      "text/markdown": [
       "**Node ID:** 57b52243-9314-470a-8bf1-ab790f86152b<br>**Similarity:** 5.886430263519287<br>**Text:** Moreover, Ibn Abi'l-Hadid Mu'tazali, who is one\n",
       "of your eminent ulema, has written in many places in his Sharh-e-\n",
       "Nahju'l-Balagha that the superiority of Amiru'l-Mu'minin Ali was the belief of\n",
       "many companions and followers. The Sheikhs (the chiefs) of Baghdad also\n",
       "acknowledged it.\n",
       "\n",
       "Would you kindly let me know what you consider to be the virtues in man which\n",
       "make him superior to others?\n",
       "\n",
       "Sheikh: In fact there are many virtues and praiseworthy qualities which can\n",
       "claim superiority to others, but in my opinion the most meritorious qualities\n",
       "after believing in Allah and the Holy Prophet are these: (1) pure ancestry (2)\n",
       "knowledge, and (3) piety.\n",
       "\n",
       "Well-Wisher: Allah bless you! I will confine my discussion to these three\n",
       "points.\n",
       "\n",
       "Of course every companion, whether he was the caliph or not, had some\n",
       "distinctive quality. But those who possessed all these virtues were definitely\n",
       "superior to all others. If I prove that in these three characteristics it was\n",
       "Amiru'l-Mu'minin who excelled all others, then you must admit this holy man\n",
       "was the worthiest claimant for the caliphate. And if he was deprived of the\n",
       "caliphate, it was because of political contrivances.\n",
       "\n",
       "\n",
       "### ALI'S PURE ANCESTRY\n",
       "\n",
       "In the matter of ancestry with the exception of the Holy Prophet, no man can\n",
       "compare with Ali.<br>"
      ],
      "text/plain": [
       "<IPython.core.display.Markdown object>"
      ]
     },
     "metadata": {},
     "output_type": "display_data"
    },
    {
     "data": {
      "text/markdown": [
       "**Node ID:** af14a1d0-f58c-4cc0-8485-3454cf381094<br>**Similarity:** 5.881610870361328<br>**Text:** ## Chapter 13 Deviation\n",
       "\n",
       "Six years passed after Uthman's Caliphate.\n",
       "\n",
       "Gradually, the Caliph deviated from Islam and from our Master Muhammad's\n",
       "behaviour.\n",
       "\n",
       "Uthman appointed his blood relatives rulers over the cities. They were bad,\n",
       "unjust persons.\n",
       "\n",
       "For example, Uthman appointed al-Waleed bin Utbah, his half brother, ruler\n",
       "over Kufa. Al-Waleed drank alcohol and went drunk to the mosque.\n",
       "\n",
       "Uthman made Marwan bin Hakam the real ruler of the Muslim government. He\n",
       "appointed the rulers and dismissed them. He dismissed the great companion\n",
       "Salman al-Farsi from Mada-inn and appointed one of his blood relatives over\n",
       "it.\n",
       "\n",
       "Uthman also dismissed Saad bin Abi Wakkas from Kufa and appointed al-Waleed\n",
       "bin Akabah over it.\n",
       "\n",
       "Uthman spent the Muslims' money on his blood relatives from Bani Ummayyah and\n",
       "left the poor to live in pain.<br>"
      ],
      "text/plain": [
       "<IPython.core.display.Markdown object>"
      ]
     },
     "metadata": {},
     "output_type": "display_data"
    },
    {
     "data": {
      "text/markdown": [
       "**Node ID:** bd0be031-3acc-4e7a-867d-70c4e5707a70<br>**Similarity:** 5.880435943603516<br>**Text:** ### HAZRAT ABU DHARR\n",
       "\n",
       "Abu Dharr was his patronym and the given name was Jundab bin Junada. He\n",
       "belonged to the tribe of Bani Ghaffar of Arabia. There are recorded traditions\n",
       "to prove that after the Infallibles of the Prophet’s Family, the most exalted\n",
       "amongst the companions were Salman, Abu Dharr and Miqdad. The traditions of\n",
       "the Holy Ahle Baith bear witness that after the demise of the Holy Prophet\n",
       "(a.s), most of the companions turned apostate. But Salman, Abu Dharr and\n",
       "Miqdad were amongst the small group of steadfastly dedicated followers of the\n",
       "Prophet (a.s) and his family. It is another matter that many of the apostates\n",
       "came to the right path later on and owed allegiance to Hazrat Ali ibne Abi\n",
       "Talib.(a.s)\n",
       "\n",
       "\n",
       "## Chapter 2 THE QUALITIES OF SALMAN, ABU DHARR AND MIQDAD\n",
       "\n",
       "Imam Jafar e Sadiq (a.s) says that Ameer al Momineen, Ali (a.s), said to\n",
       "Salman, “O Salman! Call at the door of Fatima, the daughter of the Prophet, to\n",
       "give to you a portion of the gift that she has received from the Janna {the\n",
       "Heaven}.Salman went to the door and made his request. The Lady said, ‘three\n",
       "Houris came from the Heaven and brought gifts in three containers. One Houri,\n",
       "whose name was Salma, said that Allah has created her for Salman, the second\n",
       "Houri said that she was Zara and was earmarked for Abu Dharr and the third was\n",
       "named Maqdooda and was created for Miqdad!’\n",
       "\n",
       "After this conversation Hazrat Fatima (a.s) gave to Salman a portion of the\n",
       "gift received from the Heaven.<br>"
      ],
      "text/plain": [
       "<IPython.core.display.Markdown object>"
      ]
     },
     "metadata": {},
     "output_type": "display_data"
    },
    {
     "data": {
      "text/markdown": [
       "**Node ID:** 396ae046-a2c2-44ae-8286-3a178918da7b<br>**Similarity:** 5.858376979827881<br>**Text:** My son is indeed part of my family and, indeed, your promise is absolutely true, which suggests that he should not have been drowned with the others! However, true judgement belongs only to You, for you are the fairest of all judges.’* It seems that Noah was seeking clarification of the truth of the matter. He did not say anything about his son’s survival, nor did he add anything to what God had recounted about him. An explanation of this will follow.\r\n",
       "\r\n",
       "In God’s words: *“He said, ‘O Noah, indeed he is not of your family; indeed, he is (one whose) work was other than righteous, so ask Me not for that about which you have no knowledge.’”* God clarified the correct position to Noah regarding what he had said: *“indeed my son is of my family, and indeed, Your promise is true,”* which implied the survival of his son. God replied: *“indeed he is not of your family,”* thus refuting his argument.<br>"
      ],
      "text/plain": [
       "<IPython.core.display.Markdown object>"
      ]
     },
     "metadata": {},
     "output_type": "display_data"
    },
    {
     "data": {
      "text/markdown": [
       "**Node ID:** 0fce2b2d-3e2d-4681-8535-13ed01e29c6e<br>**Similarity:** 5.788442611694336<br>**Text:** I only\n",
       "desire from you that on the day of Qiyamah you should remember me in the\n",
       "presence of Husain's Grandfather (s.a.w.s).\n",
       "\n",
       "Tabari says that then Zuhayr told his companions, \"The one who desires to come\n",
       "with me can do so, or else this is my last covenant with him. And I desire to\n",
       "relate to you an incident, when we had fought the battle of Lanjar and Allah\n",
       "gave us victory. We won a lot of spoils in hand, when Salman Bahili (some say\n",
       "Salman Farsi) told us: Are you contented with this victory which has been\n",
       "given to you and with the wealth that has come to you? And we replied in the\n",
       "affirmative. Then he said: When you meet the Prince of the youth from the\n",
       "Progeny of Mohammad (referring to Imam Husain), be more joyful to fight\n",
       "alongside him than you are with the booty that you just received.\" Zuhayr\n",
       "continued, \"I give you in Allah's refuge.\" Then Zuhayr always remained among\n",
       "the companions of Imam until he attained martyrdom.\n",
       "\n",
       "It is related that when Zuhayr was martyred alongwith Imam Husain (a.s), his\n",
       "wife sent her retainer to Karbala to shroud his master.\n",
       "\n",
       "It is written in Tazkirah of Sibt ibne Jawzi, that Zuhayr was martyred\n",
       "alongwith Imam Husain (a.s). When his wife received the news, she told her\n",
       "retainer, \"Go and give shroud to your master.\"<br>"
      ],
      "text/plain": [
       "<IPython.core.display.Markdown object>"
      ]
     },
     "metadata": {},
     "output_type": "display_data"
    },
    {
     "data": {
      "text/markdown": [
       "**Node ID:** 22f51056-6727-4e2c-a338-80a0c08e0988<br>**Similarity:** 5.771882057189941<br>**Text:** Some believed that his father’s name was ‘Boyab’ while others said that he was\n",
       "the son of ‘Mikeel’ who was the son of Yosaeb bin Ibrahim and his (Mikeel’s)\n",
       "mother was the daughter of Prophet Lut. Some said that Shu‘ayb’s name was\n",
       "‘Sherun’ and he was the son of ‘Saikun’ or ‘unka’ or ‘Sabit’ who belonged to\n",
       "Prophet Ibrahim’s family. While others believe he does not belong to Prophet\n",
       "Ibrahim’s family but his father had accepted Islam at the time of Prophet\n",
       "Ibrahim.\n",
       "\n",
       "In Surah Al-A‘raf, Allah says:\n",
       "\n",
       "And to Madyan (We sent) their brother Shu’aib. He said: O my people! Serve\n",
       "Allah, you have no god other than Him; clear proof indeed has come to you from\n",
       "your Lord, therefore give full measure and weight and do not diminish to men\n",
       "their things, and do not make mischief in the land after its reform; this is\n",
       "better for you if you are believers:\n",
       "\n",
       "And do not lie in wait in every path, threatening and turning away from\n",
       "Allah’s way him who believes in Him and seeking to make it crooked; and\n",
       "remember when you were few then He multiplied you, and consider what was the\n",
       "end of the mischief-makers.<br>"
      ],
      "text/plain": [
       "<IPython.core.display.Markdown object>"
      ]
     },
     "metadata": {},
     "output_type": "display_data"
    },
    {
     "data": {
      "text/markdown": [
       "**Node ID:** 6d260509-9cab-41fd-8c51-a8a139087b0f<br>**Similarity:** 5.769686222076416<br>**Text:** Moreover, in reference to this theory about Noah’s wife, some might cite the verse, *Allah draws an example for the faithless: the wife of Noah and the wife of Lot. They were under two of our righteous servants, yet they betrayed them (66:10).* However, this verse only indicates that they were disbelievers, enemies of their husbands, revealing their secrets, and aiding the disbelievers against them, nothing more than that.\r\n",
       "\r\n",
       "Another reading suggests that the son belonged to Noah’s wife but was his stepson, rather than his biological one. However, once again, there is no textual evidence to support such an interpretation. It also does not fit with God’s justification that he is not of Noah’s family because *‘he is unrighteous conduct.’* If this were the case, it would be more appropriate to say that he is the son of the wife.\r\n",
       "\r\n",
       "Moreover, if this was indeed the case, it is highly unlikely that Noah was not aware that the boy was his stepson, not his biological son, when he addressed God saying, *My son is indeed from my family,* or that he was aware of this and used a metaphorical language to argue with God, who is All-Knowing and All-Wise. This then prompted God to clarify that he was not his son, but his stepson.\r\n",
       "\r\n",
       "As for the statement, *Indeed he is unrighteous conduct,* the context suggests that the pronoun refers to Noah’s son, who is the *‘unrighteous conduct’*—this seems like an odd phrasing on first glance.<br>"
      ],
      "text/plain": [
       "<IPython.core.display.Markdown object>"
      ]
     },
     "metadata": {},
     "output_type": "display_data"
    },
    {
     "data": {
      "text/markdown": [
       "**Node ID:** e786479f-5aa4-43f4-b7a6-a50fd9df06f8<br>**Similarity:** 5.765103340148926<br>**Text:** Moreover, in reference to this theory about Noah’s wife, some might cite the verse, *Allah draws an example for the faithless: the wife of Noah and the wife of Lot. They were under two of our righteous servants, yet they betrayed them (66:10).* However, this verse only indicates that they were disbelievers, enemies of their husbands, revealing their secrets, and aiding the disbelievers against them, nothing more than that.\r\n",
       "\r\n",
       "Another reading suggests that the son belonged to Noah’s wife but was his stepson, rather than his biological one. However, once again, there is no textual evidence to support such an interpretation. It also does not fit with God’s justification that he is not of Noah’s family because *‘he is unrighteous conduct.’* If this were the case, it would be more appropriate to say that he is the son of the wife.\r\n",
       "\r\n",
       "Moreover, if this was indeed the case, it is highly unlikely that Noah was not aware that the boy was his stepson, not his biological son, when he addressed God saying, *My son is indeed from my family,* or that he was aware of this and used a metaphorical language to argue with God, who is All-Knowing and All-Wise. This then prompted God to clarify that he was not his son, but his stepson.\r\n",
       "\r\n",
       "As for the statement, *Indeed he is unrighteous conduct,* the context suggests that the pronoun refers to Noah’s son, who is the *‘unrighteous conduct’*—this seems like an odd phrasing on first glance. However, describing him as an *‘unrighteous act’* is a kind of hyperbole similar to saying ‘Zayd is justice,’ meaning that Zayd is the personification of justice. An analogous statement is, ‘it is just a coming and a going’ which implies that it is characterized by coming and going.<br>"
      ],
      "text/plain": [
       "<IPython.core.display.Markdown object>"
      ]
     },
     "metadata": {},
     "output_type": "display_data"
    },
    {
     "data": {
      "text/markdown": [
       "**Node ID:** eefe8342-2fd9-4557-a273-3ca0d1c21b17<br>**Similarity:** 5.7549147605896<br>**Text:** ### 2\\. Extended & Nuclear Family Systems\n",
       "\n",
       "Human family systems are normally divided into two types: Extended (or Joint)\n",
       "Family System and Nuclear (or Separate) Family System.\n",
       "\n",
       "**Extended Family System**\n",
       "\n",
       "In this system, all members of a clan: father, son, brother, sister, uncle,\n",
       "nephew, and others live together. The income of the individual is not treated\n",
       "as his personal property, rather it belongs to the family and the expenses of\n",
       "all members are met by that ‘family or collective income’. This system intends\n",
       "to promote togetherness, mutual trust and co-operation among the family\n",
       "members. However, this system also breeds the attitude of laziness and\n",
       "dependency among some family members, and, as a result, it also kills the\n",
       "initiative to work harder among some others. (The Hindu society is based on\n",
       "the extended family system.)\n",
       "\n",
       "**Nuclear Family System:**\n",
       "\n",
       "In this system, everybody is responsible for his own immediate dependants\n",
       "only. His income belongs to him and not to the ‘family’. This system lacks the\n",
       "disadvantages of the Extended Family System but it also breeds self-\n",
       "centeredness and selfishness.\n",
       "\n",
       "\n",
       "### 3\\. The Islamic View\n",
       "\n",
       "What does Islam prefer? The family system advanced by Islam has combined the\n",
       "advantages of both systems mentioned above and has avoided their\n",
       "disadvantages.\n",
       "\n",
       "On the one hand, Islam endorses the set-up of the nuclear (or separate) family\n",
       "system since it has clearly defined the people for whom you must provide. On\n",
       "the other hand, it has strongly emphasized on the issue of  _silatu 'r-rahm_\n",
       "(keeping the bond of relationship intact) thus promoting the virtue of helping\n",
       "the relatives.\n",
       "\n",
       "In Islam, a family can take the following two shapes:\n",
       "\n",
       "  * a couple and their children.\n",
       "\n",
       "or\n",
       "\n",
       "  * a couple, their parents and their children.<br>"
      ],
      "text/plain": [
       "<IPython.core.display.Markdown object>"
      ]
     },
     "metadata": {},
     "output_type": "display_data"
    },
    {
     "data": {
      "text/markdown": [
       "**Node ID:** da2f8acd-9725-4e9b-ab39-d7f05c7404e2<br>**Similarity:** 5.7508087158203125<br>**Text:** ### Joint Family and Separate Family Systems\n",
       "\n",
       "According to sociologists, there are two types of family systems in the world:\n",
       "“The Joint Family System” and “The Separate Family System”.\n",
       "\n",
       "**Joint Family System:** This system implies that all members of a clan:-\n",
       "father, son, brother, sister, uncle, nephew etc., live together. The in come\n",
       "of the individual is not treated as his personal property, rather it belongs\n",
       "to the family and the expenses of all members are met by that `family income.'\n",
       "\n",
       "**Separate Family System** : In this system every-one is responsible for his\n",
       "own immediate dependants. His income belongs to him and not to the family.\n",
       "\n",
       "The Hindu family is a joint family while in Arabia the separate family system\n",
       "prevails. Perhaps it is for this reason that cousins are called 'brothers' and\n",
       "`sisters' in India, while in Arabia they are just sons and daughters of the\n",
       "uncle or aunt.\n",
       "\n",
       "And, perhaps it was because of this system that Hindus regard cousins as\n",
       "falling within the prohibited degrees, that is, cousins may not marry each\n",
       "other in the Hindu religion. There is no such prohibition in Islam.\n",
       "\n",
       "However, both these systems are very old, and each has its advantages and\n",
       "disadvantages.\n",
       "\n",
       "\n",
       "### Joint Family System: Its Advantages and Disadvantages\n",
       "\n",
       "The Joint Family System is a very good ex-ample of humanism, benevolence,\n",
       "mutual trust and co-operation.\n",
       "\n",
       "Members of a family or clan are branches of the same root.<br>"
      ],
      "text/plain": [
       "<IPython.core.display.Markdown object>"
      ]
     },
     "metadata": {},
     "output_type": "display_data"
    },
    {
     "data": {
      "text/markdown": [
       "**Node ID:** 4c190b82-3535-4a9e-80a7-3f56f7826b45<br>**Similarity:** 5.746349334716797<br>**Text:** ### The Humbleness of Salman Farsi\n",
       "\n",
       "Salman had been the governor of one of the cities of Syria for some time. His\n",
       "conduct during the period of his rule remained unchanged from that before his\n",
       "governorship; he would always wear ordinary clothing, travel on foot and even\n",
       "place his household things as security and surety (for borrowing money).\n",
       "\n",
       "Once, while moving through the bazar, he saw a man who had purchased some\n",
       "alfalfa and was looking for someone to carry it to his house for him. Salman\n",
       "approached the person, who failed to recognize him, and agreed to carry his\n",
       "load free of charge. The man placed the load of alfalfa on Salman’s back. As\n",
       "they were walking, they came across a person who immediately recognized\n",
       "Salman.\n",
       "\n",
       "“O’ Leader! Where are you carrying this burden?” he exclaimed.\n",
       "\n",
       "Hearing these words, the owner of the load realized that the person carrying\n",
       "his load was Salman. He fell down on his knees and implored: “Forgive me, for\n",
       "I had failed to recognise you.”  \n",
       "“Nevertheless, I must carry this load to your house,” said Salman.\n",
       "\n",
       "When he had done so, he said to the man, “I have fulfilled my promise; now it\n",
       "is for you to promise that henceforth you will never seek the services of\n",
       "anyone for anything. (And know!) By you carrying things which you are able to,\n",
       "it will not reflect negatively upon your manliness.”[4]<br>"
      ],
      "text/plain": [
       "<IPython.core.display.Markdown object>"
      ]
     },
     "metadata": {},
     "output_type": "display_data"
    },
    {
     "data": {
      "text/markdown": [
       "**Node ID:** ec0007a7-ea1d-4fa3-94c0-df548795dd91<br>**Similarity:** 5.7379608154296875<br>**Text:** ### The Fearful Youth\n",
       "\n",
       "Salman Farsi was passing through the blacksmiths’ market of Kufah when he\n",
       "observed that a crowd had gathered around a youth who lay on the ground,\n",
       "senseless. When the people saw Salman, they requested him to recite a\n",
       "supplication so that the youth could come out of his unconsciousness.\n",
       "\n",
       "As soon as Salman came closer, the youth got up and said: “There is nothing\n",
       "wrong with me. It is just that I was passing through this market when I\n",
       "noticed the blacksmiths striking metal with their iron hammer and this made me\n",
       "recall what Allah has said in the Qur’an: “In addition there will be maces of\n",
       "iron (to punish) them.”[4](http://www.al-islam.org/anecdotes-reflection-\n",
       "part-2-sayyid-ali-akbar-sadaaqat/36-fear#footnote4_ol64mg8)As this verse\n",
       "crossed my mind, I was overcome by this state.”\n",
       "\n",
       "Salman became interested in the youth, grew fond of him and made him his\n",
       "brother. They were always friends with each other till one day the youth fell\n",
       "ill and was almost on the verge of dying. Salman sat down near his head and\n",
       "then, addressing Izra’eel, said: “O’ Izra’eel! Be tolerant and lenient towards\n",
       "my young brother and be kind and gentle to him!”\n",
       "\n",
       "“O’ Servant of Allah! I am the friend of all the believers and kind to them\n",
       "all,” Izra`il replied.[5]<br>"
      ],
      "text/plain": [
       "<IPython.core.display.Markdown object>"
      ]
     },
     "metadata": {},
     "output_type": "display_data"
    },
    {
     "data": {
      "text/markdown": [
       "**Node ID:** 3a26161c-9fa7-426c-a839-497e085e79d3<br>**Similarity:** 5.729222297668457<br>**Text:** **2768.** If the heirs of a dead person are his paternal uncles and paternal\n",
       "aunts, out of whom some are the real brothers and sisters of his father and\n",
       "others are paternal or maternal brothers and sisters of his father, the\n",
       "paternal uncles and paternal aunts of the dead person, who are paternal\n",
       "brothers and paternal sisters of his father, do not inherit anything.\n",
       "\n",
       "And the well-known view is that if the dead person has a paternal uncle or a\n",
       "paternal aunt, who are the maternal brother and sister of his father, the\n",
       "property is divided into 6 parts, out of which one part is taken by the\n",
       "paternal uncle or maternal aunt of the deceased, and the remaining is taken by\n",
       "the dead person's paternal uncles and paternal aunts, and, in case the dead\n",
       "person has no real paternal uncles and real paternal aunts, the remaining 5\n",
       "parts are also taken by the paternal uncles and paternal aunts of the\n",
       "deceased, who are the maternal brothers or sisters of his father.\n",
       "\n",
       "And if the dead person happens to have also paternal uncles and paternal\n",
       "aunts, who are the maternal brothers and sisters of his father, the property\n",
       "is divided into 3 parts, out of which 2 parts are taken by the real paternal\n",
       "uncles and real paternal aunts of the dead person and in case there are no\n",
       "such uncles and aunts, they are taken by those paternal uncles and paternal\n",
       "aunts of the dead person who are the paternal brothers and sisters of his\n",
       "father, and one part is taken by those paternal uncles and paternal aunts of\n",
       "the dead person who are the maternal brothers and sisters of his father.\n",
       "\n",
       "It is not, however.<br>"
      ],
      "text/plain": [
       "<IPython.core.display.Markdown object>"
      ]
     },
     "metadata": {},
     "output_type": "display_data"
    },
    {
     "data": {
      "text/markdown": [
       "**Node ID:** d41182b7-1d08-49d2-9ab2-41c9aff7417f<br>**Similarity:** 5.712906360626221<br>**Text:** If this son were not a believer as Noah saw him, he would not have called him to board the Ark at all. For it was Noah who had explicitly called for the disbelievers to be purged from the earth when he said: *‘My Lord! Do not leave on the earth any inhabitant from among the faithless!’* The fact that he said this while calling his son to board the Ark shows that Noah considered this son to be a believer. His disobedience to his father’s command to board the Ark was not itself an act of disbelief (*kufr*) nor tantamount to it, but was merely a sin (*ma‘ṣiya*), which falls short of total disbelief.\r\n",
       "\r\n",
       "It was in light of this that Noah said, *‘My Lord! My son is indeed from my family. Your promise is indeed true* (wa inna wa‘daka al-ḥaqq) ...’—he recalled the promise of his Lord to deliver his family and added that his son was part of his family. The fact that he invokes God as *‘Lord’ (rabb)* indicates that this is an appeal for divine mercy; the fact that he uses the possessive pronoun *‘my’* in *‘my son’* and *‘my family’* is to demonstrate his argument; while the use of the preposition *inna* (‘indeed’) and the definite article *(al-)* in *Your promise is indeed true* show that his faith in God is genuine.\r\n",
       "\r\n",
       "Now, placing the two statements, *‘My son is indeed from my family’* and *‘indeed, Your promise is true’*, side-by-side, imply that his son should have survived the flood. However, note that Noah, as a divine servant, shows humility towards God by not explicitly drawing this conclusion. Indeed, judgement belongs only to God.<br>"
      ],
      "text/plain": [
       "<IPython.core.display.Markdown object>"
      ]
     },
     "metadata": {},
     "output_type": "display_data"
    },
    {
     "data": {
      "text/markdown": [
       "**Node ID:** 9acafc1d-8f1b-46dd-9621-1ab76e95a969<br>**Similarity:** 5.705635070800781<br>**Text:** **2768.** If the heirs of deceased are his paternal uncles and paternal aunts,\n",
       "some of whom are the real brothers and sisters of his father, while others are\n",
       "paternal or maternal half brothers and sisters of his father, those who are\n",
       "paternal half brothers and sisters will not inherit anything.  \n",
       "And if the deceased is also survived by one paternal uncle or one paternal\n",
       "aunt, who are the maternal half brother and half sister of his father, the\n",
       "estate will be divided into 6 parts, from which one part will be taken by the\n",
       "paternal uncle or paternal aunt of the deceased, and the remaining will be\n",
       "taken by the full real paternal uncles and paternal aunts of the deceased.  \n",
       "If the deceased has no real full paternal uncles and real full paternal aunts,\n",
       "the remaining 5 parts will be taken by those paternal uncles and paternal\n",
       "aunts of the deceased who are the paternal half brothers or sisters of his\n",
       "father.  \n",
       "But, if the deceased happens to have those paternal uncles together with\n",
       "paternal aunts who are the maternal half brothers and sisters of his father,\n",
       "the estate will be divided into 3 parts, from which 2 parts will be taken by\n",
       "the real paternal uncles and real paternal aunts of the deceased, who are half\n",
       "paternal brothers and sisters of his father.  \n",
       "Then the remaining one part will be taken by those paternal uncles and\n",
       "paternal aunts of the deceased person, who are the maternal half brothers and\n",
       "sisters of his father.<br>"
      ],
      "text/plain": [
       "<IPython.core.display.Markdown object>"
      ]
     },
     "metadata": {},
     "output_type": "display_data"
    }
   ],
   "source": [
    "display_retrieved_nodes(retrieved_nodes)"
   ]
  }
 ],
 "metadata": {
  "kernelspec": {
   "display_name": ".venv",
   "language": "python",
   "name": "python3"
  },
  "language_info": {
   "codemirror_mode": {
    "name": "ipython",
    "version": 3
   },
   "file_extension": ".py",
   "mimetype": "text/x-python",
   "name": "python",
   "nbconvert_exporter": "python",
   "pygments_lexer": "ipython3",
   "version": "3.11.5"
  }
 },
 "nbformat": 4,
 "nbformat_minor": 2
}
