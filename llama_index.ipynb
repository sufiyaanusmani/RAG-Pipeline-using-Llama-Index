{
 "cells": [
  {
   "cell_type": "markdown",
   "metadata": {},
   "source": [
    "# 1. Setup"
   ]
  },
  {
   "cell_type": "markdown",
   "metadata": {},
   "source": [
    "## 1.1 Installing Libraries\n",
    "\n",
    "Reference: [Llama Index Installation and Setup](https://docs.llamaindex.ai/en/stable/getting_started/installation/)"
   ]
  },
  {
   "cell_type": "code",
   "execution_count": null,
   "metadata": {},
   "outputs": [],
   "source": [
    "!pip install python-dotenv llama-index chromadb llama-index-vector-stores-chroma llama-index-retrievers-bm25 EbookLib html2text langchain-text-splitters"
   ]
  },
  {
   "cell_type": "markdown",
   "metadata": {},
   "source": [
    "## 1.2 Importing Libraries"
   ]
  },
  {
   "cell_type": "code",
   "execution_count": 1,
   "metadata": {},
   "outputs": [],
   "source": [
    "import chromadb\n",
    "\n",
    "from llama_index.vector_stores.chroma import ChromaVectorStore\n",
    "from llama_index.embeddings.openai import OpenAIEmbedding\n",
    "from llama_index.core import VectorStoreIndex, SimpleDirectoryReader, PromptTemplate, get_response_synthesizer\n",
    "from llama_index.core.node_parser import SentenceSplitter\n",
    "from llama_index.core.ingestion import IngestionPipeline\n",
    "from llama_index.llms.openai import OpenAI\n",
    "from llama_index.core.retrievers import QueryFusionRetriever\n",
    "from llama_index.core.prompts import SelectorPromptTemplate\n",
    "\n",
    "from ebooklib import epub\n",
    "import uuid\n",
    "import os\n",
    "from pathlib import Path\n",
    "from dotenv import load_dotenv\n",
    "import nest_asyncio\n",
    "from enum import Enum\n",
    "\n",
    "nest_asyncio.apply()"
   ]
  },
  {
   "cell_type": "markdown",
   "metadata": {},
   "source": [
    "## 1.3 Importing Environment Variables"
   ]
  },
  {
   "cell_type": "code",
   "execution_count": 2,
   "metadata": {},
   "outputs": [],
   "source": [
    "load_dotenv()\n",
    "OPENAI_API_KEY = os.getenv(\"OPENAI_API_KEY\")"
   ]
  },
  {
   "cell_type": "markdown",
   "metadata": {},
   "source": [
    "## 1.4 Setting up Embedding Model"
   ]
  },
  {
   "cell_type": "code",
   "execution_count": 3,
   "metadata": {},
   "outputs": [],
   "source": [
    "embed_model = OpenAIEmbedding(api_key=OPENAI_API_KEY)"
   ]
  },
  {
   "cell_type": "markdown",
   "metadata": {},
   "source": [
    "## 1.5 Setting up LLM"
   ]
  },
  {
   "cell_type": "code",
   "execution_count": 4,
   "metadata": {},
   "outputs": [],
   "source": [
    "llm = OpenAI(api_key=OPENAI_API_KEY, model_name=\"gpt-4o-mini\", temperature=0.1)"
   ]
  },
  {
   "cell_type": "markdown",
   "metadata": {},
   "source": [
    "# 2. Setting up IndexedVectorStore"
   ]
  },
  {
   "cell_type": "code",
   "execution_count": 4,
   "metadata": {},
   "outputs": [],
   "source": [
    "# The name \"IndexedVectorStore\" emphasizes that the class handles both the vector store and the index\n",
    "\n",
    "class IndexedVectorStore:\n",
    "    def __init__(self):\n",
    "        self.db = chromadb.PersistentClient(path=\"./db\")\n",
    "        self.chroma_collection = self.db.get_or_create_collection(\"transcription_project\")\n",
    "        self.vector_store = ChromaVectorStore(chroma_collection=self.chroma_collection)\n",
    "        self.index = VectorStoreIndex.from_vector_store(\n",
    "            self.vector_store,\n",
    "            embed_model=embed_model,\n",
    "        )\n",
    "\n",
    "    def add_documents(self, documents: list) -> None:\n",
    "        # Add the documents to the LlamaIndex and persist them\n",
    "        for document in documents:\n",
    "            self.index.insert(document)\n",
    "        self.index.storage_context.persist(persist_dir=\"./db\")"
   ]
  },
  {
   "cell_type": "code",
   "execution_count": 6,
   "metadata": {},
   "outputs": [],
   "source": [
    "vectorstore = IndexedVectorStore()"
   ]
  },
  {
   "cell_type": "markdown",
   "metadata": {},
   "source": [
    "# 3. Loading Data from Directory using `SimpleDirectoryReader`\n",
    "\n",
    "Reference: [Loaders](https://docs.llamaindex.ai/en/stable/understanding/loading/loading/)"
   ]
  },
  {
   "cell_type": "markdown",
   "metadata": {},
   "source": [
    "Extracting Metadata Reference: [SimpleDirectoryReader](https://docs.llamaindex.ai/en/stable/module_guides/loading/simpledirectoryreader/)"
   ]
  },
  {
   "cell_type": "markdown",
   "metadata": {},
   "source": [
    "We can specify a function that will read each file and extract metadata that gets attached to the resulting Document object for each file by passing the function as `file_metadata`"
   ]
  },
  {
   "cell_type": "code",
   "execution_count": 7,
   "metadata": {},
   "outputs": [],
   "source": [
    "def extract_epub_metadata(book_path: str) -> dict:\n",
    "    book_path = Path(book_path)\n",
    "    if not book_path.exists():\n",
    "        raise FileNotFoundError(f\"EPUB file not found at path: {book_path}\")\n",
    "    book = epub.read_epub(str(book_path))\n",
    "\n",
    "    return {\n",
    "        \"id\": f\"epub-{uuid.uuid4().hex}\",\n",
    "        \"title\": book.get_metadata(\"DC\", \"title\")[0][0].rstrip(\".epub\") if book.get_metadata(\"DC\", \"title\") else \"N/A\",\n",
    "        \"author\": book.get_metadata(\"DC\", \"creator\")[0][0] if book.get_metadata(\"DC\", \"creator\") else \"\",\n",
    "        \"language\": book.get_metadata(\"DC\", \"language\")[0][0] if book.get_metadata(\"DC\", \"language\") else \"\",\n",
    "        \"description\": book.get_metadata(\"DC\", \"description\")[0][0] if book.get_metadata(\"DC\", \"description\") else \"\",\n",
    "        \"type\": \"epub\",\n",
    "        \"embeddings\": \"openaiembeddings\"\n",
    "    }"
   ]
  },
  {
   "cell_type": "code",
   "execution_count": 8,
   "metadata": {},
   "outputs": [
    {
     "name": "stderr",
     "output_type": "stream",
     "text": [
      "e:\\Capelin\\llama-index-test\\.venv\\Lib\\site-packages\\ebooklib\\epub.py:1395: UserWarning: In the future version we will turn default option ignore_ncx to True.\n",
      "  warnings.warn('In the future version we will turn default option ignore_ncx to True.')\n",
      "e:\\Capelin\\llama-index-test\\.venv\\Lib\\site-packages\\ebooklib\\epub.py:1423: FutureWarning: This search incorrectly ignores the root element, and will be fixed in a future version.  If you rely on the current behaviour, change it to './/xmlns:rootfile[@media-type]'\n",
      "  for root_file in tree.findall('//xmlns:rootfile[@media-type]', namespaces={'xmlns': NAMESPACES['CONTAINERNS']}):\n"
     ]
    }
   ],
   "source": [
    "documents = SimpleDirectoryReader(input_dir=\"./data\", file_metadata=extract_epub_metadata).load_data()"
   ]
  },
  {
   "cell_type": "code",
   "execution_count": 9,
   "metadata": {},
   "outputs": [
    {
     "name": "stdout",
     "output_type": "stream",
     "text": [
      "Total Documents: 1\n"
     ]
    }
   ],
   "source": [
    "print(f\"Total Documents: {len(documents)}\")"
   ]
  },
  {
   "cell_type": "code",
   "execution_count": 10,
   "metadata": {},
   "outputs": [
    {
     "name": "stdout",
     "output_type": "stream",
     "text": [
      "{'id': 'epub-24542662e8fa47f2b48246bcd9c6c2e9', 'title': \"Theological Instructions (Amuzish-e Aqa'id)\", 'author': 'Muhammad Taqi Misbah Yazdi', 'language': 'en', 'description': '', 'type': 'epub', 'embeddings': 'openaiembeddings'}\n"
     ]
    }
   ],
   "source": [
    "print(documents[0].metadata)"
   ]
  },
  {
   "cell_type": "markdown",
   "metadata": {},
   "source": [
    "Loading a new book"
   ]
  },
  {
   "cell_type": "code",
   "execution_count": 15,
   "metadata": {},
   "outputs": [
    {
     "name": "stdout",
     "output_type": "stream",
     "text": [
      "Metadata of first element: {'id': 'epub-6d7d7179a80e414c9c18e6715cae457f', 'title': 'Give and Tak', 'author': 'Unknown', 'language': 'en', 'description': '', 'type': 'epub'}\n"
     ]
    }
   ],
   "source": [
    "new_book = SimpleDirectoryReader(input_files=[\"./data/give_and_take.epub\"], file_metadata=extract_epub_metadata).load_data()\n",
    "print(f\"Metadata of first element: {new_book[0].metadata}\")\n",
    "\n",
    "# This way, we can load a new book and can use the same VectorStore object to add the new book to the index"
   ]
  },
  {
   "cell_type": "markdown",
   "metadata": {},
   "source": [
    "# 4. Transforming"
   ]
  },
  {
   "cell_type": "markdown",
   "metadata": {},
   "source": [
    "After the data is loaded, you then need to process and transform your data before putting it into a storage system. These transformations include chunking, extracting metadata, and embedding each chunk. This is necessary to make sure that the data can be retrieved, and used optimally by the LLM.\n",
    "\n",
    "An `IngestionPipeline` uses a concept of Transformations that are applied to input data. These Transformations are applied to your input data\n",
    "\n",
    "Reference: [IngestionPipeline](https://docs.llamaindex.ai/en/stable/module_guides/loading/ingestion_pipeline/)"
   ]
  },
  {
   "cell_type": "code",
   "execution_count": 11,
   "metadata": {},
   "outputs": [
    {
     "name": "stdout",
     "output_type": "stream",
     "text": [
      "Chunk Size: 512, Overlap Percentage: 0.25, Chunk Overlap: 128\n"
     ]
    }
   ],
   "source": [
    "chunk_size = 512\n",
    "overlap_percentage = 0.25\n",
    "chunk_overlap = int(chunk_size * overlap_percentage)\n",
    "\n",
    "print(f\"Chunk Size: {chunk_size}, Overlap Percentage: {overlap_percentage}, Chunk Overlap: {chunk_overlap}\")"
   ]
  },
  {
   "cell_type": "code",
   "execution_count": 12,
   "metadata": {},
   "outputs": [],
   "source": [
    "pipeline = IngestionPipeline(\n",
    "    transformations=[\n",
    "        SentenceSplitter(chunk_size=chunk_size, chunk_overlap=chunk_overlap, paragraph_separator=\"\\n\\n\\n\"),\n",
    "        embed_model # OpenAIEmbedding\n",
    "    ],\n",
    "    vector_store=vectorstore.vector_store,\n",
    ")"
   ]
  },
  {
   "cell_type": "code",
   "execution_count": 13,
   "metadata": {},
   "outputs": [],
   "source": [
    "documents = pipeline.run(documents=documents)"
   ]
  },
  {
   "cell_type": "code",
   "execution_count": 14,
   "metadata": {},
   "outputs": [
    {
     "name": "stdout",
     "output_type": "stream",
     "text": [
      "Total Documents: 516\n"
     ]
    }
   ],
   "source": [
    "print(f\"Total Documents: {len(documents)}\")"
   ]
  },
  {
   "cell_type": "code",
   "execution_count": 15,
   "metadata": {},
   "outputs": [
    {
     "name": "stdout",
     "output_type": "stream",
     "text": [
      "Document 1 Length: 1957\n",
      "Document 2 Length: 2062\n",
      "Document 3 Length: 2055\n",
      "Document 4 Length: 2015\n",
      "Document 5 Length: 2221\n",
      "Document 6 Length: 2143\n",
      "Document 7 Length: 1927\n",
      "Document 8 Length: 1398\n",
      "Document 9 Length: 1524\n",
      "Document 10 Length: 1553\n"
     ]
    }
   ],
   "source": [
    "for i, doc in enumerate(documents[:10]):\n",
    "    print(f\"Document {i + 1} Length: {len(doc.text)}\")"
   ]
  },
  {
   "cell_type": "markdown",
   "metadata": {},
   "source": [
    "Function to load and add a new book to vectorstore"
   ]
  },
  {
   "cell_type": "code",
   "execution_count": 18,
   "metadata": {},
   "outputs": [],
   "source": [
    "def add_book(book_path: str):\n",
    "    print(f\"Loading book from path: {book_path}\")\n",
    "    new_book = SimpleDirectoryReader(input_files=[book_path], file_metadata=extract_epub_metadata).load_data()\n",
    "    print(f\"Loaded book with metadata: {new_book[0].metadata}\")\n",
    "    new_book = pipeline.run(documents=new_book)\n",
    "    print(\"Book added successfully!\")"
   ]
  },
  {
   "cell_type": "code",
   "execution_count": 19,
   "metadata": {},
   "outputs": [
    {
     "name": "stdout",
     "output_type": "stream",
     "text": [
      "Loading book from path: ./data/give_and_take.epub\n"
     ]
    },
    {
     "name": "stderr",
     "output_type": "stream",
     "text": [
      "e:\\Capelin\\llama-index-test\\.venv\\Lib\\site-packages\\ebooklib\\epub.py:1395: UserWarning: In the future version we will turn default option ignore_ncx to True.\n",
      "  warnings.warn('In the future version we will turn default option ignore_ncx to True.')\n",
      "e:\\Capelin\\llama-index-test\\.venv\\Lib\\site-packages\\ebooklib\\epub.py:1423: FutureWarning: This search incorrectly ignores the root element, and will be fixed in a future version.  If you rely on the current behaviour, change it to './/xmlns:rootfile[@media-type]'\n",
      "  for root_file in tree.findall('//xmlns:rootfile[@media-type]', namespaces={'xmlns': NAMESPACES['CONTAINERNS']}):\n"
     ]
    },
    {
     "name": "stdout",
     "output_type": "stream",
     "text": [
      "Loaded book with metadata: {'id': 'epub-b09eb4f758f54495a29b6b23763dffb3', 'title': 'Give and Tak', 'author': 'Unknown', 'language': 'en', 'description': '', 'type': 'epub'}\n",
      "Book added successfully!\n"
     ]
    }
   ],
   "source": [
    "add_book(\"./data/give_and_take.epub\")"
   ]
  },
  {
   "cell_type": "markdown",
   "metadata": {},
   "source": [
    "# 5. Performing Vector Search"
   ]
  },
  {
   "cell_type": "code",
   "execution_count": 16,
   "metadata": {},
   "outputs": [],
   "source": [
    "query_gen_prompt = \"\"\"You are an AI language model assistant specializing in query expansion. Your task is to generate {num_queries} diverse versions of the given user question. These variations will be used to retrieve relevant documents from a vector database, helping to overcome limitations of distance-based similarity search.\n",
    "\n",
    "Original question: {query}\n",
    "\n",
    "Instructions:\n",
    "1. Create {num_queries} unique variations of the original question.\n",
    "2. Ensure each variation maintains the core intent of the original question.\n",
    "3. Use different phrasings, synonyms, or perspectives for each variation.\n",
    "4. Consider potential context or implications not explicitly stated in the original question.\n",
    "5. Avoid introducing new topics or drastically changing the meaning of the question.\n",
    "\n",
    "Please provide your {num_queries} question variations, each on a new line:\n",
    "\"\"\""
   ]
  },
  {
   "cell_type": "code",
   "execution_count": 17,
   "metadata": {},
   "outputs": [],
   "source": [
    "top_n = 5\n",
    "num_queries = 5\n",
    "question = \"Why is there only one God?\"\n",
    "\n",
    "vector_retriever = vectorstore.index.as_retriever(similarity_top_k=top_n)"
   ]
  },
  {
   "cell_type": "code",
   "execution_count": 18,
   "metadata": {},
   "outputs": [],
   "source": [
    "retriever = QueryFusionRetriever(\n",
    "    [vector_retriever],\n",
    "    similarity_top_k=top_n,\n",
    "    num_queries=num_queries,  # set this to 1 to disable query generation\n",
    "    mode=\"reciprocal_rerank\",\n",
    "    use_async=True,\n",
    "    verbose=True,\n",
    "    query_gen_prompt=query_gen_prompt,\n",
    ")"
   ]
  },
  {
   "cell_type": "code",
   "execution_count": 19,
   "metadata": {},
   "outputs": [
    {
     "name": "stdout",
     "output_type": "stream",
     "text": [
      "Generated queries:\n",
      "1. What is the rationale behind the belief in a singular deity?\n",
      "2. How do monotheistic religions justify the existence of a single God?\n",
      "3. What are the reasons for the concept of a sole divine being in various faith traditions?\n",
      "4. Can you explain the philosophical basis for the idea of a solitary God in religious teachings?\n"
     ]
    }
   ],
   "source": [
    "# it will genereate n - 1 queries since the original query is also included\n",
    "nodes_with_scores = retriever.retrieve(question)"
   ]
  },
  {
   "cell_type": "code",
   "execution_count": 20,
   "metadata": {},
   "outputs": [
    {
     "name": "stdout",
     "output_type": "stream",
     "text": [
      "------- BOOK INFO -------\n",
      "Book Title: Theological Instructions (Amuzish-e Aqa'id)\n",
      "Book ID   : epub-24542662e8fa47f2b48246bcd9c6c2e9\n",
      "Author    : Muhammad Taqi Misbah Yazdi\n",
      "\n",
      "------- TEXT -------\n",
      "There is no power except by Allah!” (Holy\n",
      "Qur’an,[18:39](/printepub/book/export/html/123734#quran_ref_189052)).** _\n",
      "\n",
      "### D. The Two Important Results Achieved\n",
      "\n",
      "The result of the unity of Divine action is that nothing other than God\n",
      "deserves worship, because as we have indicated before, a being does not\n",
      "deserve to be worshipped by just being a creator or a lord. In other words,\n",
      "Divinity _(uluhiyyah)_ is the necessary condition of lordship and creatorship.\n",
      "\n",
      "From another angle, the result of monotheism in the latter meaning is that the\n",
      "entirety of human reliance must be upon God, and in all of works He must be\n",
      "trusted and solely from Him help must be requested. Man’s fear and hope ought\n",
      "to be from Him, and when the sources for the completion of needs are out of\n",
      "reach, one must not despair, because God is capable of furnishing all needs\n",
      "from His distinctive and hidden source.\n",
      "\n",
      "Living under such monotheistic circumstances results in mankind enjoying a\n",
      "special Divine authority _(wilayah)_ and having a unique and tranquil soul:\n",
      "\n",
      "_**“Look! The friends of Allah will indeed have no fear nor will they grieve”\n",
      "(Holy Qur’an,[10:62](/printepub/book/export/html/123734#quran_ref_189053)). **\n",
      "_\n",
      "\n",
      "These two results have already been placed in the verse that a Muslim recites\n",
      "at-least ten times a day:\n",
      "\n",
      "_**“You [alone] do we worship, and You [alone] do we turn for help” (Holy\n",
      "Qur’an,[1:6](/printepub/book/export/html/123734#quran_ref_189056)).** _\n",
      "\n",
      "### E. The Resolution Of A Doubt\n",
      "\n",
      "It is possible that one may question, that if the necessity of perfect\n",
      "monotheism is that humans seek help exclusively from God, they should not then\n",
      "seek intercession from the saints of God.\n"
     ]
    }
   ],
   "source": [
    "# Printing first document\n",
    "print(\"------- BOOK INFO -------\")\n",
    "print(f\"Book Title: {nodes_with_scores[0].metadata['title']}\")\n",
    "print(f\"Book ID   : {nodes_with_scores[0].metadata['id']}\")\n",
    "print(f\"Author    : {nodes_with_scores[0].metadata['author']}\")\n",
    "\n",
    "print(\"\\n------- TEXT -------\")\n",
    "print(nodes_with_scores[0].text)"
   ]
  },
  {
   "cell_type": "markdown",
   "metadata": {},
   "source": [
    "# 7. Generate Answer"
   ]
  },
  {
   "cell_type": "code",
   "execution_count": 21,
   "metadata": {},
   "outputs": [],
   "source": [
    "answer_template = \"\"\"You are a knowledgeable AI assistant tasked with answering questions based on the provided context. Your goal is to provide a comprehensive, accurate, and well-structured response using Chain-of-Thought reasoning.\n",
    "\n",
    "Context:\n",
    "{context_str}\n",
    "\n",
    "Question: {query_str}\n",
    "\n",
    "Instructions:\n",
    "1. Carefully analyze the given context and question.\n",
    "2. Use Chain-of-Thought reasoning to break down your answer into clear steps:\n",
    "   a. First, identify the key components of the question, such as sub-problems that need to be explained before an answer can be derived\n",
    "   b. Then, for each component, explain your thought process as you analyze the relevant information from the context.\n",
    "   c. Show how you're connecting different pieces of information to form your conclusion.\n",
    "3. Provide a detailed answer using only the information from the context.\n",
    "4. If the context doesn't contain enough information to fully answer the question, state this clearly and explain why.\n",
    "5. Organize your response with appropriate headings and subheadings for clarity.\n",
    "6. Use bullet points or numbered lists where applicable to improve readability.\n",
    "7. If relevant, include brief examples or analogies to illustrate key points.\n",
    "8. After your detailed Chain-of-Thought reasoning, summarize your main points at the end of the response.\n",
    "9. At the end, list all the contexts used in your reasoning. After your response, add a \"References\" section where you list the full contexts that you used arrive at your answer. Provide as much detail as available from each context (e.g., book title, author, full text of the relevant contexts. For video sources, include the url to the video.\n",
    "\n",
    "For the references, use the format:\n",
    "\n",
    "# References:\n",
    "(for each context:)\n",
    "## Context Id: title\n",
    "Context excerpt (print as it is)\n",
    "\n",
    "Please format your entire response in markdown for optimal readability.\n",
    "\"\"\"\n",
    "\n",
    "answer_prompt = PromptTemplate(answer_template)\n",
    "answer_prompt_sel = SelectorPromptTemplate(answer_prompt)"
   ]
  },
  {
   "cell_type": "markdown",
   "metadata": {},
   "source": [
    "## Response Modes\n"
   ]
  },
  {
   "cell_type": "code",
   "execution_count": 22,
   "metadata": {},
   "outputs": [],
   "source": [
    "class ResponseMode(str, Enum):\n",
    "    \"\"\"Response modes of the response builder (and synthesizer).\"\"\"\n",
    "\n",
    "    REFINE = \"refine\"\n",
    "    \"\"\"\n",
    "    Refine is an iterative way of generating a response.\n",
    "    We first use the context in the first node, along with the query, to generate an \\\n",
    "    initial answer.\n",
    "    We then pass this answer, the query, and the context of the second node as input \\\n",
    "    into a “refine prompt” to generate a refined answer. We refine through N-1 nodes, \\\n",
    "    where N is the total number of nodes.\n",
    "    \"\"\"\n",
    "\n",
    "    COMPACT = \"compact\"\n",
    "    \"\"\"\n",
    "    Compact and refine mode first combine text chunks into larger consolidated chunks \\\n",
    "    that more fully utilize the available context window, then refine answers \\\n",
    "    across them.\n",
    "    This mode is faster than refine since we make fewer calls to the LLM.\n",
    "    \"\"\"\n",
    "\n",
    "    SIMPLE_SUMMARIZE = \"simple_summarize\"\n",
    "    \"\"\"\n",
    "    Merge all text chunks into one, and make a LLM call.\n",
    "    This will fail if the merged text chunk exceeds the context window size.\n",
    "    \"\"\"\n",
    "\n",
    "    TREE_SUMMARIZE = \"tree_summarize\"\n",
    "    \"\"\"\n",
    "    Build a tree index over the set of candidate nodes, with a summary prompt seeded \\\n",
    "    with the query.\n",
    "    The tree is built in a bottoms-up fashion, and in the end the root node is \\\n",
    "    returned as the response\n",
    "    \"\"\"\n",
    "\n",
    "    GENERATION = \"generation\"\n",
    "    \"\"\"Ignore context, just use LLM to generate a response.\"\"\"\n",
    "\n",
    "    NO_TEXT = \"no_text\"\n",
    "    \"\"\"Return the retrieved context nodes, without synthesizing a final response.\"\"\"\n",
    "\n",
    "    CONTEXT_ONLY = \"context_only\"\n",
    "    \"\"\"Returns a concatenated string of all text chunks.\"\"\"\n",
    "\n",
    "    ACCUMULATE = \"accumulate\"\n",
    "    \"\"\"Synthesize a response for each text chunk, and then return the concatenation.\"\"\"\n",
    "\n",
    "    COMPACT_ACCUMULATE = \"compact_accumulate\"\n",
    "    \"\"\"\n",
    "    Compact and accumulate mode first combine text chunks into larger consolidated \\\n",
    "    chunks that more fully utilize the available context window, then accumulate \\\n",
    "    answers for each of them and finally return the concatenation.\n",
    "    This mode is faster than accumulate since we make fewer calls to the LLM.\n",
    "    \"\"\""
   ]
  },
  {
   "cell_type": "code",
   "execution_count": 23,
   "metadata": {},
   "outputs": [],
   "source": [
    "def generate_answer(question, documents, answer_prompt, response_mode, verbose):\n",
    "    response_synthesizer = get_response_synthesizer(response_mode=response_mode, llm=llm, text_qa_template=answer_prompt, verbose=verbose)\n",
    "\n",
    "    response = response_synthesizer.synthesize(\n",
    "        question, nodes=documents\n",
    "    )\n",
    "\n",
    "    return response"
   ]
  },
  {
   "cell_type": "markdown",
   "metadata": {},
   "source": [
    "`REFINE`:\n",
    "\n",
    "Refine is an iterative way of generating a response. We first use the context in the first node, along with the query, to generate an initial answer. We then pass this answer, the query, and the context of the second node as input into a “refine prompt” to generate a refined answer. We refine through N-1 nodes, where N is the total number of nodes."
   ]
  },
  {
   "cell_type": "code",
   "execution_count": 24,
   "metadata": {},
   "outputs": [
    {
     "name": "stdout",
     "output_type": "stream",
     "text": [
      "> Refine context: id: epub-24542662e8fa47f2b48246bcd9c6c2e9\n",
      "title...\n",
      "> Refine context: id: epub-24542662e8fa47f2b48246bcd9c6c2e9\n",
      "title...\n",
      "> Refine context: id: epub-24542662e8fa47f2b48246bcd9c6c2e9\n",
      "title...\n",
      "> Refine context: id: epub-24542662e8fa47f2b48246bcd9c6c2e9\n",
      "title...\n",
      "Seeking intercession from saints contradicts the concept of monotheism. Monotheism emphasizes exclusive reliance on God for help and guidance. Seeking intercession from saints may undermine the belief in the unique authority of God and the tranquility of the soul derived from monotheistic beliefs.\n"
     ]
    }
   ],
   "source": [
    "answer_md = generate_answer(question=question, documents=nodes_with_scores, answer_prompt=answer_prompt_sel, response_mode=ResponseMode.REFINE, verbose=True)\n",
    "print(answer_md)"
   ]
  },
  {
   "cell_type": "markdown",
   "metadata": {},
   "source": [
    "`COMPACT`:\n",
    "\n",
    "Compact and refine mode first combine text chunks into larger consolidated chunks that more fully utilize the available context window, then refine answers across them. This mode is faster than refine since we make fewer calls to the LLM."
   ]
  },
  {
   "cell_type": "code",
   "execution_count": 25,
   "metadata": {},
   "outputs": [
    {
     "name": "stdout",
     "output_type": "stream",
     "text": [
      "# Answer:\n",
      "\n",
      "## Analyzing the Question:\n",
      "The question asks why there is only one God. To answer this question, we need to break it down into several components:\n",
      "1. Understanding the concept of monotheism and the rejection of polytheism.\n",
      "2. Exploring the arguments presented in the context that support the idea of one God.\n",
      "3. Examining the implications of having multiple gods or lords in the context of creation and administration of the universe.\n",
      "\n",
      "## Chain-of-Thought Reasoning:\n",
      "\n",
      "### 1. Understanding Monotheism and Rejection of Polytheism:\n",
      "- Monotheism refers to the belief in the oneness of God and the rejection of multiple gods.\n",
      "- Polytheism, on the other hand, involves the belief in multiple gods or lords who are considered independent entities.\n",
      "\n",
      "### 2. Arguments for One God in the Context:\n",
      "- The context presents arguments against polytheism by demonstrating the impossibility of having multiple gods creating and administering the universe.\n",
      "- It highlights that the unity of Divine action leads to the conclusion that only God deserves worship, as Divinity is the necessary condition of lordship and creatorship.\n",
      "- The context emphasizes that the entire reliance of humans should be on God, and seeking help exclusively from Him is essential.\n",
      "\n",
      "### 3. Implications of Multiple Gods or Lords:\n",
      "- The context argues that assuming multiple gods creating different phenomena would lead to a multifarious and deteriorating order in the universe.\n",
      "- It suggests that the coherence and interconnectedness of creation point towards a single source of creation and administration.\n",
      "- Belief in the oneness of God is essential to maintain the unity and order in the universe.\n",
      "\n",
      "## Summary of Main Points:\n",
      "- The concept of monotheism emphasizes the oneness of God and rejects polytheism.\n",
      "- The arguments presented in the context demonstrate the impossibility of having multiple gods creating and administering the universe.\n",
      "- Belief in one God ensures the coherence, unity, and order in creation, negating the need for multiple gods or lords.\n",
      "\n",
      "# References:\n",
      "## Context Id: epub-24542662e8fa47f2b48246bcd9c6c2e9\n",
      "Theological Instructions (Amuzish-e Aqa'id) by Muhammad Taqi Misbah Yazdi\n",
      "Context excerpts used for analysis.\n"
     ]
    }
   ],
   "source": [
    "answer_md = generate_answer(question=question, documents=nodes_with_scores, answer_prompt=answer_prompt_sel, response_mode=ResponseMode.COMPACT, verbose=True)\n",
    "print(answer_md)"
   ]
  },
  {
   "cell_type": "markdown",
   "metadata": {},
   "source": [
    "`SIMPLE_SUMMARIZE`:\n",
    "\n",
    "Merge all text chunks into one, and make a LLM call. This will fail if the merged text chunk exceeds the context window size."
   ]
  },
  {
   "cell_type": "code",
   "execution_count": 26,
   "metadata": {},
   "outputs": [
    {
     "name": "stdout",
     "output_type": "stream",
     "text": [
      "# Answer:\n",
      "\n",
      "## Analyzing the Question:\n",
      "To address the question of why there is only one God, we need to delve into the theological and philosophical arguments presented in the provided context. The key components to consider are:\n",
      "1. The concept of monotheism and the rejection of polytheism.\n",
      "2. Arguments for the oneness of God and the refutation of multiple gods.\n",
      "3. The relationship between creatorship and lordship in monotheistic belief.\n",
      "\n",
      "## Chain-of-Thought Reasoning:\n",
      "\n",
      "### 1. Monotheism vs. Polytheism:\n",
      "- **Monotheism**: \n",
      "  - Monotheism entails the belief in the unity of God and the rejection of plurality and multiplicity outside God's essence.\n",
      "  - It opposes polytheism, which involves the belief in two or more independent gods.\n",
      "- **Polytheism**:\n",
      "  - Polytheistic beliefs involve recognizing other gods who administer the world independently, alongside the Creator.\n",
      "\n",
      "### 2. Arguments for the Oneness of God:\n",
      "- **Unity of Divine Action**:\n",
      "  - The unity of Divine action implies that only God deserves worship, as Divinity is the necessary condition of lordship and creatorship.\n",
      "- **Reliance on God**:\n",
      "  - Monotheism requires complete reliance on God for all needs, leading to a unique and tranquil soul.\n",
      "\n",
      "### 3. Refutation of Multiple Gods:\n",
      "- **Impossibility of Multiple Creators**:\n",
      "  - It is impossible for multiple gods to create existents, as this would result in a multitude of existents contrary to reality.\n",
      "- **Unity in Creation**:\n",
      "  - The order in the universe is singular and interconnected, indicating a single source of creation and administration.\n",
      "\n",
      "### 4. Creatorship and Lordship:\n",
      "- **Inseparability of Creatorship and Lordship**:\n",
      "  - Belief in the creatorship of God and the acceptance of lordship by others are incompatible.\n",
      "- **Refutation of Polytheistic Beliefs**:\n",
      "  - Arguments are presented to establish the oneness of God and reject the notion of multiple lords and executers.\n",
      "\n",
      "## Conclusion:\n",
      "The concept of monotheism, as presented in the theological instructions, emphasizes the oneness of God and the rejection of multiple gods. The arguments put forth highlight the impossibility of multiple creators, the unity in creation, and the inseparability of creatorship and lordship. Therefore, based on the theological reasoning provided, there is only one God due to the inherent unity, uniqueness, and all-encompassing nature of the Divine.\n",
      "\n",
      "# References:\n",
      "## Context Id: epub-24542662e8fa47f2b48246bcd9c6c2e9\n",
      "Context excerpt: \n",
      "- Various sections discussing monotheism, polytheism, the unity of Divine action, reliance on God, and the refutation of multiple gods.\n",
      "- Arguments for the oneness of God and the rejection of polytheistic beliefs.\n"
     ]
    }
   ],
   "source": [
    "answer_md = generate_answer(question=question, documents=nodes_with_scores, answer_prompt=answer_prompt_sel, response_mode=ResponseMode.SIMPLE_SUMMARIZE, verbose=True)\n",
    "print(answer_md)"
   ]
  },
  {
   "cell_type": "markdown",
   "metadata": {},
   "source": [
    "`TREE_SUMMARIZE`:\n",
    "\n",
    "Build a tree index over the set of candidate nodes, with a summary prompt seeded with the query. The tree is built in a bottoms-up fashion, and in the end the root node is returned as the response"
   ]
  },
  {
   "cell_type": "code",
   "execution_count": 27,
   "metadata": {},
   "outputs": [
    {
     "name": "stdout",
     "output_type": "stream",
     "text": [
      "1 text chunks after repacking\n",
      "There is only one God because the unity of Divine action leads to the conclusion that nothing other than God deserves worship. Additionally, monotheism dictates that human reliance must solely be upon God, and all help must be sought from Him. The interconnectedness and order in the universe also indicate that there can only be one ultimate source of creation and lordship, making the concept of multiple gods creating and administering the universe impossible.\n"
     ]
    }
   ],
   "source": [
    "answer_md = generate_answer(question=question, documents=nodes_with_scores, answer_prompt=answer_prompt_sel, response_mode=ResponseMode.TREE_SUMMARIZE, verbose=True)\n",
    "print(answer_md)"
   ]
  },
  {
   "cell_type": "markdown",
   "metadata": {},
   "source": [
    "`GENERATION`:\n",
    "\n",
    "Ignore context, just use LLM to generate a response."
   ]
  },
  {
   "cell_type": "code",
   "execution_count": 28,
   "metadata": {},
   "outputs": [
    {
     "name": "stdout",
     "output_type": "stream",
     "text": [
      "There are a variety of beliefs and interpretations regarding the concept of God in different religions and belief systems. In monotheistic religions such as Christianity, Islam, and Judaism, there is the belief in one supreme, all-powerful deity who is the creator and ruler of the universe. This belief is based on the idea that there is only one ultimate source of power, wisdom, and authority.\n",
      "\n",
      "In these religions, the belief in one God is seen as a fundamental truth that is central to their teachings and practices. It is believed that having multiple gods would lead to confusion, conflict, and a lack of unity in the universe. Additionally, the concept of one God is often associated with the idea of unity, oneness, and wholeness.\n",
      "\n",
      "Ultimately, the belief in one God is a foundational principle in monotheistic religions, and is seen as a way to understand and connect with the divine in a singular and unified manner.\n"
     ]
    }
   ],
   "source": [
    "answer_md = generate_answer(question=question, documents=nodes_with_scores, answer_prompt=answer_prompt_sel, response_mode=ResponseMode.GENERATION, verbose=True)\n",
    "print(answer_md)"
   ]
  },
  {
   "cell_type": "markdown",
   "metadata": {},
   "source": [
    "`NO_TEXT`:\n",
    "\n",
    "Return the retrieved context nodes, without synthesizing a final response."
   ]
  },
  {
   "cell_type": "code",
   "execution_count": 29,
   "metadata": {},
   "outputs": [
    {
     "name": "stdout",
     "output_type": "stream",
     "text": [
      "None\n"
     ]
    }
   ],
   "source": [
    "answer_md = generate_answer(question=question, documents=nodes_with_scores, answer_prompt=answer_prompt_sel, response_mode=ResponseMode.NO_TEXT, verbose=True)\n",
    "print(answer_md)"
   ]
  },
  {
   "cell_type": "markdown",
   "metadata": {},
   "source": [
    "`CONTEXT_ONLY`:\n",
    "\n",
    "Returns a concatenated string of all text chunks."
   ]
  },
  {
   "cell_type": "code",
   "execution_count": 30,
   "metadata": {},
   "outputs": [
    {
     "name": "stdout",
     "output_type": "stream",
     "text": [
      "id: epub-24542662e8fa47f2b48246bcd9c6c2e9\n",
      "title: Theological Instructions (Amuzish-e Aqa'id)\n",
      "author: Muhammad Taqi Misbah Yazdi\n",
      "language: en\n",
      "description: \n",
      "type: epub\n",
      "embeddings: openaiembeddings\n",
      "\n",
      "There is no power except by Allah!” (Holy\n",
      "Qur’an,[18:39](/printepub/book/export/html/123734#quran_ref_189052)).** _\n",
      "\n",
      "### D. The Two Important Results Achieved\n",
      "\n",
      "The result of the unity of Divine action is that nothing other than God\n",
      "deserves worship, because as we have indicated before, a being does not\n",
      "deserve to be worshipped by just being a creator or a lord. In other words,\n",
      "Divinity _(uluhiyyah)_ is the necessary condition of lordship and creatorship.\n",
      "\n",
      "From another angle, the result of monotheism in the latter meaning is that the\n",
      "entirety of human reliance must be upon God, and in all of works He must be\n",
      "trusted and solely from Him help must be requested. Man’s fear and hope ought\n",
      "to be from Him, and when the sources for the completion of needs are out of\n",
      "reach, one must not despair, because God is capable of furnishing all needs\n",
      "from His distinctive and hidden source.\n",
      "\n",
      "Living under such monotheistic circumstances results in mankind enjoying a\n",
      "special Divine authority _(wilayah)_ and having a unique and tranquil soul:\n",
      "\n",
      "_**“Look! The friends of Allah will indeed have no fear nor will they grieve”\n",
      "(Holy Qur’an,[10:62](/printepub/book/export/html/123734#quran_ref_189053)). **\n",
      "_\n",
      "\n",
      "These two results have already been placed in the verse that a Muslim recites\n",
      "at-least ten times a day:\n",
      "\n",
      "_**“You [alone] do we worship, and You [alone] do we turn for help” (Holy\n",
      "Qur’an,[1:6](/printepub/book/export/html/123734#quran_ref_189056)).** _\n",
      "\n",
      "### E. The Resolution Of A Doubt\n",
      "\n",
      "It is possible that one may question, that if the necessity of perfect\n",
      "monotheism is that humans seek help exclusively from God, they should not then\n",
      "seek intercession from the saints of God.\n",
      "\n",
      "id: epub-24542662e8fa47f2b48246bcd9c6c2e9\n",
      "title: Theological Instructions (Amuzish-e Aqa'id)\n",
      "author: Muhammad Taqi Misbah Yazdi\n",
      "language: en\n",
      "description: \n",
      "type: epub\n",
      "embeddings: openaiembeddings\n",
      "\n",
      "By explaining the\n",
      "contradiction in this belief, it is possible to nullify the argument of those\n",
      "who held such a view.\n",
      "\n",
      "In order to establish the oneness of God, the Supreme, many arguments have\n",
      "been demonstrated in the different books of theology and philosophy. Here we\n",
      "are going to demonstrate an argument, which encompasses the oneness of\n",
      "lordship and rejects the polytheistic beliefs.\n",
      "\n",
      "## Proofs For The Oneness Of God\n",
      "\n",
      "The assumption that the universe has two or more gods can solely be imagined\n",
      "through a few possibilities:\n",
      "\n",
      "Firstly, it can be considered that every phenomenon of the universe is created\n",
      "and is an effect of all the assumed gods. The second assumption could be that\n",
      "each particular group of phenomena is an effect (or created by a particular\n",
      "god) of one of the assumed gods. Finally, the third assumption is that all of\n",
      "the phenomena are created by one of these assumed gods and the other gods are\n",
      "recognized as the managers of the universe.\n",
      "\n",
      "However, it is impossible to assume that every phenomenon has several gods. If\n",
      "two or more gods created an existent, it would imply that each of the assumed\n",
      "gods would create an existent. This would result in many existents, whereas in\n",
      "reality there is only one.\n",
      "\n",
      "If it is to be assumed that a particular god creates each particular\n",
      "phenomenon, this will imply that each phenomenon exists because of its\n",
      "particular god. Furthermore, they must not require or depend upon any other\n",
      "existent unless the (dependency) need returns to their particular god. This\n",
      "type of requirement or need must be upon the existent, which is created by\n",
      "that very creator who has created that particular group.\n",
      "\n",
      "In other words, the assumption of having more than one god necessitates the\n",
      "order in the universe to be multifarious and deteriorating. In reality there\n",
      "is only one order and all phenomena are related and effectual upon each other\n",
      "and at the same time need each other.\n",
      "\n",
      "Furthermore, the present phenomenon is linked with the former phenomenon and\n",
      "every coexisting phenomenon creates grounds for future phenomena.\n",
      "\n",
      "id: epub-24542662e8fa47f2b48246bcd9c6c2e9\n",
      "title: Theological Instructions (Amuzish-e Aqa'id)\n",
      "author: Muhammad Taqi Misbah Yazdi\n",
      "language: en\n",
      "description: \n",
      "type: epub\n",
      "embeddings: openaiembeddings\n",
      "\n",
      "However, it can never be accepted that several causes can bestow\n",
      "existence for an effect, or that several lords and independent administrators\n",
      "can be assumed for administrating the universe.\n",
      "\n",
      "Based on this argument for nullifying this illusion, one must focus upon the\n",
      "meaning and the peculiarities of this cause that bestows existence until it is\n",
      "known that the profusion of this cause is impossible. Furthermore, one must\n",
      "contemplate upon the coherence of the creation until reaching the realization\n",
      "that several gods could not possibly create this type of order, or numerous\n",
      "lords administer this type of universe.\n",
      "\n",
      "Likewise it became clear for some of the qualified and saintly individuals of\n",
      "God, that by accepting Divine authority _(wilayah al-takwiniyyah)_ in a\n",
      "setting where there is no independent lordship or creatorship over them, the\n",
      "oneness of God would not be negated. The legislative authority _(wilayah al-\n",
      "tashri’iyyah)_ of the Prophet (S) and Imams (‘a) is not inconsistent with the\n",
      "Divine legislative lordship _(rububiyyah al- tashri’iyyah)_ , because it comes\n",
      "with the Divine degree.\n",
      "\n",
      "## Questions\n",
      "\n",
      "1- Explain the causes for the development of polytheism.\n",
      "\n",
      "2- What is the basis of polytheism?\n",
      "\n",
      "3- Why can one not assume that a phenomenon has several gods?\n",
      "\n",
      "4- What difference is caused if one considers that the creation created by one\n",
      "god has several lords to administer it?\n",
      "\n",
      "5- Why can one not regard every group of creation to be created by its\n",
      "particular god?\n",
      "\n",
      "6- How would you criticise the assumption that the entire universe is created\n",
      "by one God, and at the same time claim that there are many lords and\n",
      "executers?\n",
      "\n",
      "7- From where does the illusion of several gods come from, and how can it be\n",
      "nullified?\n",
      "\n",
      "8- Why does it make no difference to the oneness of lordship and creatorship,\n",
      "if one believes in the Divine authority for the saints?\n",
      "\n",
      "id: epub-24542662e8fa47f2b48246bcd9c6c2e9\n",
      "title: Theological Instructions (Amuzish-e Aqa'id)\n",
      "author: Muhammad Taqi Misbah Yazdi\n",
      "language: en\n",
      "description: \n",
      "type: epub\n",
      "embeddings: openaiembeddings\n",
      "\n",
      "5- Why can one not regard every group of creation to be created by its\n",
      "particular god?\n",
      "\n",
      "6- How would you criticise the assumption that the entire universe is created\n",
      "by one God, and at the same time claim that there are many lords and\n",
      "executers?\n",
      "\n",
      "7- From where does the illusion of several gods come from, and how can it be\n",
      "nullified?\n",
      "\n",
      "8- Why does it make no difference to the oneness of lordship and creatorship,\n",
      "if one believes in the Divine authority for the saints?\n",
      "\n",
      "# Lesson 17: The Meaning Of The Oneness Of The God\n",
      "\n",
      "## Introduction\n",
      "\n",
      "The word monotheism from the lexical point of view means ‘oneness or unity’,\n",
      "but in philosophy, scholastic theology, ethics _(akhlaq),_ and mysticism it\n",
      "has been applied with various different meanings. However it gives the same\n",
      "basic meaning in all of these sciences, but when viewed from different aspects\n",
      "it can be regarded differently, such as ‘the different forms of oneness’ or\n",
      "‘the different levels of oneness’. The investigation of these offshoots cannot\n",
      "be comprised in these writings.\n",
      "\n",
      "Therefore, from this angle it is sufficient enough that we bring the most\n",
      "significant and befitting arguments for our explanation:\n",
      "\n",
      "## The Negation Of Plurality\n",
      "\n",
      "The initial and distinguished meaning of monotheism is that very believing in\n",
      "the unity of God and negation of plurality and multiplicity outside its\n",
      "essence. This belief is in complete opposition to polytheism, and the belief\n",
      "in two or more gods who are independent and apart in their existence from each\n",
      "other.\n",
      "\n",
      "## The Negation Of Composition\n",
      "\n",
      "he second terminological meaning of monotheism is to believe in oneness, and\n",
      "to believe that the essence is self-evident and not composed of actual or\n",
      "potential parts.\n",
      "\n",
      "This meaning is usually interpreted as the negative attributes _(al-sifat al-\n",
      "salbiyyah)_ (mentioned in lesson ten), because our mind is more familiar with\n",
      "compositional concepts as compared to the concept of self-evidence.\n",
      "\n",
      "id: epub-24542662e8fa47f2b48246bcd9c6c2e9\n",
      "title: Theological Instructions (Amuzish-e Aqa'id)\n",
      "author: Muhammad Taqi Misbah Yazdi\n",
      "language: en\n",
      "description: \n",
      "type: epub\n",
      "embeddings: openaiembeddings\n",
      "\n",
      "Furthermore, they considered a type of lordship for themselves and also\n",
      "regarded satanic worship as part of their rituals. Such examples can be seen\n",
      "in the past empires of China, India, Iran and Egypt.\n",
      "\n",
      "Nevertheless polytheistic religions came under the influence of different\n",
      "factors and discernment among humans. Thus, a barrier was formed preventing\n",
      "people from understanding the true perfection, which was supposed to be\n",
      "applied by the divine and monotheistic religions. The Noble Qur’an portrays\n",
      "such struggles encountered by the prophets (‘a) of God and the polytheists.\n",
      "\n",
      "On these bases, the foundation of polytheistic belief is to believe in the\n",
      "lordship of an existent other than God the Supreme, for the appearance of some\n",
      "of the universe’s phenomena. Furthermore, many polytheists had faith in the\n",
      "oneness of the Creator, and in reality they accepted the oneness of\n",
      "creatorship. However, on a lower realm they recognized other second level\n",
      "\n",
      "gods who administrated the world independently, and they called God the\n",
      "Creator, the God of gods or Lord of the lords _(rabb al-arbab)_.\n",
      "\n",
      "These gods, who administrate according to some, were known as angels, and were\n",
      "called by the polytheist Arabs, the daughters of God. Some recognized them as\n",
      "fairies and genies or some regarded them as the spirits of stars or humans\n",
      "from the past, or as a type of invisible existent.\n",
      "\n",
      "In lesson ten indications were made that creatorship and true lordship are\n",
      "inseparable from each other, belief in the creatorship of God and the\n",
      "acceptance of the lordship of others is not compatible. By explaining the\n",
      "contradiction in this belief, it is possible to nullify the argument of those\n",
      "who held such a view.\n",
      "\n",
      "In order to establish the oneness of God, the Supreme, many arguments have\n",
      "been demonstrated in the different books of theology and philosophy. Here we\n",
      "are going to demonstrate an argument, which encompasses the oneness of\n",
      "lordship and rejects the polytheistic beliefs.\n"
     ]
    }
   ],
   "source": [
    "answer_md = generate_answer(question=question, documents=nodes_with_scores, answer_prompt=answer_prompt_sel, response_mode=ResponseMode.CONTEXT_ONLY, verbose=True)\n",
    "print(answer_md)"
   ]
  },
  {
   "cell_type": "markdown",
   "metadata": {},
   "source": [
    "`ACCUMULATE`:\n",
    "\n",
    "Synthesize a response for each text chunk, and then return the concatenation."
   ]
  },
  {
   "cell_type": "code",
   "execution_count": 31,
   "metadata": {},
   "outputs": [
    {
     "name": "stdout",
     "output_type": "stream",
     "text": [
      "Response 1: # Answer:\n",
      "\n",
      "## Key Components of the Question:\n",
      "1. Why is there only one God?\n",
      "2. How does seeking help exclusively from God relate to the concept of monotheism and intercession from saints?\n",
      "\n",
      "## Chain-of-Thought Reasoning:\n",
      "\n",
      "### Why is there only one God?\n",
      "1. **Unity of Divine Action**: \n",
      "   - The unity of Divine action implies that nothing other than God deserves worship.\n",
      "   - Divinity is the necessary condition of lordship and creatorship.\n",
      "   - Monotheism emphasizes that all reliance should be on God, and He should be trusted in all works.\n",
      "\n",
      "2. **Special Divine Authority and Tranquil Soul**:\n",
      "   - Living under monotheistic circumstances results in enjoying a special Divine authority and having a tranquil soul.\n",
      "   - The friends of Allah will have no fear nor grieve, indicating a sense of security and peace.\n",
      "\n",
      "3. **Recitation in Muslim Prayers**:\n",
      "   - Muslims recite the verse \"You [alone] do we worship, and You [alone] do we turn for help\" at least ten times a day.\n",
      "   - This reinforces the exclusive worship and reliance on God, highlighting the oneness of God.\n",
      "\n",
      "### Seeking Help Exclusively from God vs. Intercession from Saints:\n",
      "1. **Contradiction with Monotheism**:\n",
      "   - Seeking intercession from saints contradicts the concept of monotheism, where all help should be sought exclusively from God.\n",
      "   - Monotheism emphasizes direct reliance on God without intermediaries.\n",
      "\n",
      "2. **Unique Role of God**:\n",
      "   - Monotheism asserts that God is the ultimate source of help and should be the sole focus of worship and reliance.\n",
      "   - Seeking intercession from saints may undermine the belief in the unique authority and power of God.\n",
      "\n",
      "## Detailed Answer:\n",
      "- The concept of monotheism in Islam emphasizes the oneness of God and the exclusive worship and reliance on Him.\n",
      "- Monotheism leads to a special Divine authority and a tranquil soul for believers.\n",
      "- Seeking help exclusively from God is a fundamental aspect of monotheism, as highlighted in Muslim prayers.\n",
      "- Seeking intercession from saints contradicts the core tenets of monotheism by introducing intermediaries between humans and God.\n",
      "- The belief in one God signifies His unique role as the ultimate source of help and the focus of worship without the need for intercessors.\n",
      "\n",
      "## Summary of Main Points:\n",
      "- Monotheism in Islam emphasizes the exclusive worship and reliance on one God.\n",
      "- Seeking help exclusively from God is a key aspect of monotheism, reinforcing the oneness of God.\n",
      "- Intercession from saints contradicts the concept of monotheism by introducing intermediaries between humans and God.\n",
      "\n",
      "# References:\n",
      "## Context Id: epub-24542662e8fa47f2b48246bcd9c6c2e9\n",
      "Context excerpt:\n",
      "- Excerpts from \"Theological Instructions (Amuzish-e Aqa'id)\" by Muhammad Taqi Misbah Yazdi discussing the unity of Divine action, the results of monotheism, and the resolution of doubts related to seeking intercession from saints.\n",
      "---------------------\n",
      "Response 2: # Answer:\n",
      "\n",
      "## Key Components:\n",
      "1. **Existence of multiple gods:** The context discusses the possibility of there being more than one god.\n",
      "2. **Contradiction in belief:** Explaining the contradiction in the belief of multiple gods.\n",
      "3. **Proofs for the oneness of God:** Arguments presented to establish the oneness of God.\n",
      "\n",
      "## Chain-of-Thought Reasoning:\n",
      "\n",
      "### 1. Existence of Multiple Gods:\n",
      "- The context explores the idea that the universe could have two or more gods.\n",
      "- Three possibilities are considered:\n",
      "  - Every phenomenon is created by all assumed gods.\n",
      "  - Each group of phenomena is created by a specific god.\n",
      "  - One god creates all phenomena, while others manage the universe.\n",
      "- It is argued that having multiple gods creating existents would result in many existents, contradicting the observed reality of one existence.\n",
      "\n",
      "### 2. Contradiction in Belief:\n",
      "- If multiple gods created each phenomenon, there would be many existents, contrary to the singular existence observed.\n",
      "- If each phenomenon is created by a specific god, it would imply a complex and deteriorating order in the universe, which is not observed.\n",
      "- The interconnectedness and interdependence of phenomena in the universe suggest a singular order and creator.\n",
      "\n",
      "### 3. Proofs for the Oneness of God:\n",
      "- The argument presented in the context aims to establish the oneness of God by refuting the possibility of multiple gods.\n",
      "- The interconnectedness, interdependence, and continuity of phenomena in the universe point towards a singular creator.\n",
      "- The complexity and harmony of the universe suggest a unified design and order, supporting the existence of one God.\n",
      "\n",
      "## Summary:\n",
      "- The belief in one God is supported by the logical analysis presented in the context, which refutes the possibility of multiple gods based on the observed unity, order, and interconnectedness of the universe.\n",
      "- The argument highlights the contradiction and complexity that would arise from the existence of multiple gods, emphasizing the necessity of a singular, supreme creator to explain the observed reality.\n",
      "\n",
      "# References:\n",
      "## Context Id: epub-24542662e8fa47f2b48246bcd9c6c2e9\n",
      "By explaining the contradiction in this belief, it is possible to nullify the argument of those who held such a view.\n",
      "In order to establish the oneness of God, the Supreme, many arguments have been demonstrated in the different books of theology and philosophy. Here we are going to demonstrate an argument, which encompasses the oneness of lordship and rejects the polytheistic beliefs.\n",
      "The assumption that the universe has two or more gods can solely be imagined through a few possibilities:\n",
      "Firstly, it can be considered that every phenomenon of the universe is created and is an effect of all the assumed gods. The second assumption could be that each particular group of phenomena is an effect (or created by a particular god) of one of the assumed gods. Finally, the third assumption is that all of the phenomena are created by one of these assumed gods and the other gods are recognized as the managers of the universe.\n",
      "However, it is impossible to assume that every phenomenon has several gods. If two or more gods created an existent, it would imply that each of the assumed gods would create an existent. This would result in many existents, whereas in reality there is only one.\n",
      "If it is to be assumed that a particular god creates each particular phenomenon, this will imply that each phenomenon exists because of its particular god. Furthermore, they must not require or depend upon any other existent unless the (dependency) need returns to their particular god. This type of requirement or need must be upon the existent, which is created by that very creator who has created that particular group.\n",
      "In other words, the assumption of having more than one god necessitates the order in the universe to be multifarious and deteriorating. In reality there is only one order and all phenomena are related and effectual upon each other and at the same time need each other.\n",
      "Furthermore, the present phenomenon is linked with the former phenomenon and every coexisting phenomenon creates grounds for future phenomena.\n",
      "---------------------\n",
      "Response 3: # Answer:\n",
      "\n",
      "## Key Components:\n",
      "1. Understanding the concept of monotheism vs. polytheism.\n",
      "2. Explaining why the belief in multiple gods is not logically sound.\n",
      "3. Analyzing the implications of multiple creators or lords in the universe.\n",
      "4. Exploring the illusion of several gods and how it can be nullified.\n",
      "5. Examining the impact of Divine authority for saints on the oneness of God.\n",
      "\n",
      "## Chain-of-Thought Reasoning:\n",
      "\n",
      "### 1. Monotheism vs. Polytheism:\n",
      "- **Polytheism Development Causes:**\n",
      "  - Polytheism arises from a belief in multiple gods, each responsible for different aspects of existence.\n",
      "  - People may attribute various phenomena to different deities based on their understanding or cultural influences.\n",
      "\n",
      "- **Basis of Polytheism:**\n",
      "  - Polytheism is based on the idea that multiple gods exist and have distinct roles in creation and governance.\n",
      "\n",
      "### 2. Logical Flaws in Multiple Gods:\n",
      "- **Assumption of Several Gods:**\n",
      "  - It is illogical to assume that multiple gods are responsible for a single phenomenon.\n",
      "  - The coherence and order in creation suggest a singular, unified source of creation.\n",
      "\n",
      "- **Creation by One God with Several Lords:**\n",
      "  - If creation is attributed to one god but administered by multiple lords, it introduces complexity and inconsistency.\n",
      "  - The unity and harmony in creation imply a singular authority overseeing all aspects.\n",
      "\n",
      "### 3. Nullifying the Illusion of Several Gods:\n",
      "- **Illusion of Multiple Gods:**\n",
      "  - The illusion of several gods stems from a lack of understanding or misinterpretation of the unity in creation.\n",
      "  - By contemplating the coherence and order in the universe, one can realize the impossibility of multiple gods.\n",
      "\n",
      "- **Nullification of Illusion:**\n",
      "  - By focusing on the unique qualities of the singular cause of existence, the idea of multiple gods becomes untenable.\n",
      "  - Understanding the oneness and harmony in creation dispels the notion of multiple creators or administrators.\n",
      "\n",
      "### 4. Divine Authority and Oneness of God:\n",
      "- **Divine Authority for Saints:**\n",
      "  - Accepting Divine authority for saints does not contradict the oneness of God.\n",
      "  - The legislative authority of prophets and imams aligns with Divine decree, maintaining the unity of lordship and creatorship.\n",
      "\n",
      "## Summary:\n",
      "- Polytheism arises from attributing various aspects of existence to multiple gods, which lacks logical coherence.\n",
      "- The concept of multiple gods administering creation introduces complexity and contradicts the unity and harmony observed in the universe.\n",
      "- By understanding the unique qualities of the singular cause of existence and contemplating the coherence in creation, the illusion of several gods can be nullified.\n",
      "- Accepting Divine authority for saints does not undermine the oneness of God, as it aligns with the Divine decree and maintains the unity of lordship and creatorship.\n",
      "\n",
      "# References:\n",
      "## Context Id: epub-24542662e8fa47f2b48246bcd9c6c2e9\n",
      "However, it can never be accepted that several causes can bestow existence for an effect, or that several lords and independent administrators can be assumed for administrating the universe.\n",
      "Based on this argument for nullifying this illusion, one must focus upon the meaning and the peculiarities of this cause that bestows existence until it is known that the profusion of this cause is impossible. Furthermore, one must contemplate upon the coherence of the creation until reaching the realization that several gods could not possibly create this type of order, or numerous lords administer this type of universe.\n",
      "Likewise it became clear for some of the qualified and saintly individuals of God, that by accepting Divine authority (wilayah al-takwiniyyah) in a setting where there is no independent lordship or creatorship over them, the oneness of God would not be negated. The legislative authority (wilayah al- tashri’iyyah) of the Prophet (S) and Imams (‘a) is not inconsistent with the Divine legislative lordship (rububiyyah al- tashri’iyyah) , because it comes with the Divine degree.\n",
      "---------------------\n",
      "Response 4: # Answer:\n",
      "\n",
      "## Key Components of the Question:\n",
      "1. Why is there only one God?\n",
      "\n",
      "## Chain-of-Thought Reasoning:\n",
      "\n",
      "### 1. The Negation of Plurality:\n",
      "- The initial meaning of monotheism is believing in the unity of God and negating plurality and multiplicity outside His essence.\n",
      "- This belief opposes polytheism, which involves belief in multiple independent gods.\n",
      "- Monotheism asserts that there is only one God, and all other entities are not divine beings.\n",
      "\n",
      "### 2. The Negation of Composition:\n",
      "- Another aspect of monotheism is the belief in the oneness of God's essence, which is self-evident and not composed of parts.\n",
      "- This concept rejects the idea of God being made up of actual or potential parts.\n",
      "- Monotheism emphasizes the simplicity and indivisibility of God's essence.\n",
      "\n",
      "### 3. Unity of Lordship and Creatorship:\n",
      "- Belief in the oneness of God also entails recognizing His exclusive authority as the Lord and Creator of the universe.\n",
      "- This unity of lordship and creatorship is a fundamental aspect of monotheism.\n",
      "- It implies that there is only one ultimate source of power and creation in the universe.\n",
      "\n",
      "### 4. Critique of Multiple Lords and Executors:\n",
      "- The assumption that the universe is created by one God while claiming many lords and executors contradicts the concept of monotheism.\n",
      "- If there were multiple lords and executors, it would imply a division of power and authority, which goes against the idea of one supreme being.\n",
      "- Monotheism asserts the singular authority and control of God over all aspects of existence.\n",
      "\n",
      "### 5. Illusion of Several Gods:\n",
      "- The illusion of several gods arises from a misunderstanding or misinterpretation of natural phenomena, cultural beliefs, or human desires.\n",
      "- It can be nullified through rational inquiry, critical thinking, and a deeper understanding of monotheistic principles.\n",
      "- Monotheism provides a coherent framework to dispel the illusion of multiple gods by emphasizing the unity and oneness of God.\n",
      "\n",
      "### 6. Divine Authority for Saints:\n",
      "- Believing in the Divine authority for saints does not affect the oneness of lordship and creatorship.\n",
      "- Saints are considered intermediaries or representatives of God's will, but they do not possess independent divine powers.\n",
      "- Monotheism maintains that ultimate authority and creative power reside solely in God, regardless of the role of saints or other spiritual figures.\n",
      "\n",
      "## Summary:\n",
      "- Monotheism, as understood in theology and philosophy, asserts the oneness of God in His essence, authority, and creative power.\n",
      "- The belief in one God negates plurality, composition, and the existence of multiple divine beings.\n",
      "- Monotheism provides a coherent framework to explain why there is only one God, emphasizing His unity, simplicity, and exclusive authority over the universe.\n",
      "\n",
      "# References:\n",
      "## Context Id: epub-24542662e8fa47f2b48246bcd9c6c2e9\n",
      "Theological Instructions (Amuzish-e Aqa'id) by Muhammad Taqi Misbah Yazdi\n",
      "---------------------\n",
      "Response 5: # Answer:\n",
      "\n",
      "## Key Components of the Question:\n",
      "1. Understanding the concept of monotheism and polytheism.\n",
      "2. Exploring the reasons for the belief in only one God.\n",
      "3. Analyzing the arguments against polytheistic beliefs.\n",
      "\n",
      "## Chain-of-Thought Reasoning:\n",
      "\n",
      "### 1. Understanding Monotheism and Polytheism:\n",
      "- **Monotheism**: Belief in the existence of only one God.\n",
      "- **Polytheism**: Belief in the existence of multiple gods.\n",
      "\n",
      "### 2. Reasons for Belief in Only One God:\n",
      "- The context mentions that the foundation of polytheistic belief is to believe in the lordship of an existent other than God for the appearance of some phenomena.\n",
      "- Polytheists recognized other gods who administrated the world independently but still accepted the oneness of creatorship.\n",
      "- The argument is made that creatorship and true lordship are inseparable, and belief in the creatorship of God and the acceptance of the lordship of others are incompatible.\n",
      "\n",
      "### 3. Arguments Against Polytheistic Beliefs:\n",
      "- The context highlights that to establish the oneness of God, many arguments have been demonstrated in different theological and philosophical books.\n",
      "- It mentions an argument that encompasses the oneness of lordship and rejects polytheistic beliefs.\n",
      "\n",
      "## Conclusion:\n",
      "- The belief in only one God is supported by the inseparability of creatorship and true lordship, making the acceptance of multiple gods incompatible with the concept of monotheism.\n",
      "- Arguments against polytheistic beliefs emphasize the oneness of God's lordship and reject the idea of multiple gods administrating independently.\n",
      "\n",
      "# References:\n",
      "## Context Id: epub-24542662e8fa47f2b48246bcd9c6c2e9\n",
      "Furthermore, they considered a type of lordship for themselves and also regarded satanic worship as part of their rituals. Such examples can be seen in the past empires of China, India, Iran and Egypt.\n",
      "Nevertheless polytheistic religions came under the influence of different factors and discernment among humans. Thus, a barrier was formed preventing people from understanding the true perfection, which was supposed to be applied by the divine and monotheistic religions. The Noble Qur’an portrays such struggles encountered by the prophets (‘a) of God and the polytheists.\n",
      "On these bases, the foundation of polytheistic belief is to believe in the lordship of an existent other than God the Supreme, for the appearance of some of the universe’s phenomena. Furthermore, many polytheists had faith in the oneness of the Creator, and in reality they accepted the oneness of creatorship. However, on a lower realm they recognized other second level gods who administrated the world independently, and they called God the Creator, the God of gods or Lord of the lords (rabb al-arbab).\n",
      "These gods, who administrate according to some, were known as angels, and were called by the polytheist Arabs, the daughters of God. Some recognized them as fairies and genies or some regarded them as the spirits of stars or humans from the past, or as a type of invisible existent.\n",
      "In lesson ten indications were made that creatorship and true lordship are inseparable from each other, belief in the creatorship of God and the acceptance of the lordship of others is not compatible. By explaining the contradiction in this belief, it is possible to nullify the argument of those who held such a view.\n",
      "In order to establish the oneness of God, the Supreme, many arguments have been demonstrated in the different books of theology and philosophy. Here we are going to demonstrate an argument, which encompasses the oneness of lordship and rejects the polytheistic beliefs.\n"
     ]
    }
   ],
   "source": [
    "answer_md = generate_answer(question=question, documents=nodes_with_scores, answer_prompt=answer_prompt_sel, response_mode=ResponseMode.ACCUMULATE, verbose=True)\n",
    "print(answer_md)"
   ]
  },
  {
   "cell_type": "markdown",
   "metadata": {},
   "source": [
    "`COMPACT_ACCUMULATE`:\n",
    "\n",
    "Compact and accumulate mode first combine text chunks into larger consolidated chunks that more fully utilize the available context window, then accumulate answers for each of them and finally return the concatenation. This mode is faster than accumulate since we make fewer calls to the LLM."
   ]
  },
  {
   "cell_type": "code",
   "execution_count": 32,
   "metadata": {},
   "outputs": [
    {
     "name": "stdout",
     "output_type": "stream",
     "text": [
      "Response 1: # Answer:\n",
      "\n",
      "## Analyzing the Question:\n",
      "The question asks why there is only one God. To answer this, we need to delve into the provided context, which discusses the concept of monotheism, the negation of plurality, and the rejection of polytheistic beliefs. We will break down the answer into key components based on the information provided.\n",
      "\n",
      "### Key Components:\n",
      "1. **Monotheism and Oneness of God**\n",
      "2. **Negation of Plurality**\n",
      "3. **Polytheistic Beliefs**\n",
      "\n",
      "## Chain-of-Thought Reasoning:\n",
      "\n",
      "### 1. Monotheism and Oneness of God:\n",
      "- The context emphasizes the belief in the unity of God and the rejection of multiple gods.\n",
      "- Monotheism entails believing in the oneness of God and negating plurality and multiplicity in His essence.\n",
      "- This belief is in opposition to polytheism, which believes in multiple independent gods.\n",
      "\n",
      "### 2. Negation of Plurality:\n",
      "- The concept of monotheism rejects the idea of multiple gods who are independent and separate from each other.\n",
      "- It asserts that there is only one Supreme God, and all other supposed gods are false entities.\n",
      "\n",
      "### 3. Polytheistic Beliefs:\n",
      "- Polytheism arises from the belief in the lordship of entities other than the Supreme God for certain phenomena in the universe.\n",
      "- Polytheists may acknowledge the Creator but assign independent administrators or gods to manage different aspects of the world.\n",
      "- This belief in multiple gods or lords is incompatible with the oneness of God and creatorship.\n",
      "\n",
      "## Conclusion:\n",
      "- The concept of monotheism, as discussed in the context, provides a clear rationale for why there is only one God. It emphasizes the unity and oneness of God, rejecting the notion of multiple independent deities. Polytheistic beliefs, which assign lordship to entities other than the Supreme God, are shown to be contradictory and incompatible with the true oneness of God.\n",
      "\n",
      "# References:\n",
      "## Context Id: epub-24542662e8fa47f2b48246bcd9c6c2e9\n",
      "Theological Instructions (Amuzish-e Aqa'id) by Muhammad Taqi Misbah Yazdi\n",
      "Context excerpts related to monotheism, negation of plurality, and polytheistic beliefs.\n"
     ]
    }
   ],
   "source": [
    "answer_md = generate_answer(question=question, documents=nodes_with_scores, answer_prompt=answer_prompt_sel, response_mode=ResponseMode.COMPACT_ACCUMULATE, verbose=True)\n",
    "print(answer_md)"
   ]
  }
 ],
 "metadata": {
  "kernelspec": {
   "display_name": ".venv",
   "language": "python",
   "name": "python3"
  },
  "language_info": {
   "codemirror_mode": {
    "name": "ipython",
    "version": 3
   },
   "file_extension": ".py",
   "mimetype": "text/x-python",
   "name": "python",
   "nbconvert_exporter": "python",
   "pygments_lexer": "ipython3",
   "version": "3.11.5"
  }
 },
 "nbformat": 4,
 "nbformat_minor": 2
}
