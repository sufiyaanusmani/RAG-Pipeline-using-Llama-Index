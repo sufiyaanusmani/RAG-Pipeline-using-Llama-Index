{
 "cells": [
  {
   "cell_type": "markdown",
   "metadata": {},
   "source": [
    "# 1. Setup"
   ]
  },
  {
   "cell_type": "markdown",
   "metadata": {},
   "source": [
    "## 1.1 Installing Libraries\n",
    "\n",
    "Reference: [Llama Index Installation and Setup](https://docs.llamaindex.ai/en/stable/getting_started/installation/)"
   ]
  },
  {
   "cell_type": "code",
   "execution_count": null,
   "metadata": {},
   "outputs": [],
   "source": [
    "!pip install python-dotenv llama-index chromadb llama-index-vector-stores-chroma llama-index-retrievers-bm25 EbookLib html2text langchain-text-splitters"
   ]
  },
  {
   "cell_type": "markdown",
   "metadata": {},
   "source": [
    "## 1.2 Importing Libraries"
   ]
  },
  {
   "cell_type": "code",
   "execution_count": 1,
   "metadata": {},
   "outputs": [],
   "source": [
    "import chromadb\n",
    "\n",
    "from llama_index.vector_stores.chroma import ChromaVectorStore\n",
    "from llama_index.embeddings.openai import OpenAIEmbedding\n",
    "from llama_index.core import VectorStoreIndex, SimpleDirectoryReader, PromptTemplate, get_response_synthesizer\n",
    "from llama_index.core.node_parser import SentenceSplitter\n",
    "from llama_index.core.ingestion import IngestionPipeline\n",
    "from llama_index.llms.openai import OpenAI\n",
    "from llama_index.core.retrievers import QueryFusionRetriever\n",
    "\n",
    "from ebooklib import epub\n",
    "import uuid\n",
    "import os\n",
    "from pathlib import Path\n",
    "from dotenv import load_dotenv\n",
    "import nest_asyncio\n",
    "from enum import Enum\n",
    "\n",
    "nest_asyncio.apply()"
   ]
  },
  {
   "cell_type": "markdown",
   "metadata": {},
   "source": [
    "## 1.3 Importing Environment Variables"
   ]
  },
  {
   "cell_type": "code",
   "execution_count": 2,
   "metadata": {},
   "outputs": [],
   "source": [
    "load_dotenv()\n",
    "OPENAI_API_KEY = os.getenv(\"OPENAI_API_KEY\")"
   ]
  },
  {
   "cell_type": "markdown",
   "metadata": {},
   "source": [
    "## 1.4 Setting up Embedding Model"
   ]
  },
  {
   "cell_type": "code",
   "execution_count": 3,
   "metadata": {},
   "outputs": [],
   "source": [
    "embed_model = OpenAIEmbedding(api_key=OPENAI_API_KEY)"
   ]
  },
  {
   "cell_type": "markdown",
   "metadata": {},
   "source": [
    "## 1.5 Setting up LLM"
   ]
  },
  {
   "cell_type": "code",
   "execution_count": 4,
   "metadata": {},
   "outputs": [],
   "source": [
    "llm = OpenAI(api_key=OPENAI_API_KEY, model_name=\"gpt-4o-mini\", temperature=0.1)"
   ]
  },
  {
   "cell_type": "markdown",
   "metadata": {},
   "source": [
    "# 2. Setting up IndexedVectorStore"
   ]
  },
  {
   "cell_type": "code",
   "execution_count": 5,
   "metadata": {},
   "outputs": [],
   "source": [
    "# The name \"IndexedVectorStore\" emphasizes that the class handles both the vector store and the index\n",
    "\n",
    "class IndexedVectorStore:\n",
    "    def __init__(self):\n",
    "        self.db = chromadb.PersistentClient(path=\"./db\")\n",
    "        self.chroma_collection = self.db.get_or_create_collection(\"transcription_project\")\n",
    "        self.vector_store = ChromaVectorStore(chroma_collection=self.chroma_collection)\n",
    "        self.index = VectorStoreIndex.from_vector_store(\n",
    "            self.vector_store,\n",
    "            embed_model=embed_model,\n",
    "        )\n",
    "\n",
    "    def add_documents(self, documents: list) -> None:\n",
    "        # Add the documents to the LlamaIndex and persist them\n",
    "        for document in documents:\n",
    "            self.index.insert(document)\n",
    "        self.index.storage_context.persist(persist_dir=\"./db\")"
   ]
  },
  {
   "cell_type": "code",
   "execution_count": 6,
   "metadata": {},
   "outputs": [],
   "source": [
    "vectorstore = IndexedVectorStore()"
   ]
  },
  {
   "cell_type": "markdown",
   "metadata": {},
   "source": [
    "# 3. Loading Data from Directory using `SimpleDirectoryReader`\n",
    "\n",
    "Reference: [Loaders](https://docs.llamaindex.ai/en/stable/understanding/loading/loading/)"
   ]
  },
  {
   "cell_type": "markdown",
   "metadata": {},
   "source": [
    "Extracting Metadata Reference: [SimpleDirectoryReader](https://docs.llamaindex.ai/en/stable/module_guides/loading/simpledirectoryreader/)"
   ]
  },
  {
   "cell_type": "markdown",
   "metadata": {},
   "source": [
    "We can specify a function that will read each file and extract metadata that gets attached to the resulting Document object for each file by passing the function as `file_metadata`"
   ]
  },
  {
   "cell_type": "code",
   "execution_count": 7,
   "metadata": {},
   "outputs": [],
   "source": [
    "def extract_epub_metadata(book_path: str) -> dict:\n",
    "    book_path = Path(book_path)\n",
    "    if not book_path.exists():\n",
    "        raise FileNotFoundError(f\"EPUB file not found at path: {book_path}\")\n",
    "    book = epub.read_epub(str(book_path))\n",
    "\n",
    "    return {\n",
    "        \"id\": f\"epub-{uuid.uuid4().hex}\",\n",
    "        \"title\": book.get_metadata(\"DC\", \"title\")[0][0].rstrip(\".epub\") if book.get_metadata(\"DC\", \"title\") else \"N/A\",\n",
    "        \"author\": book.get_metadata(\"DC\", \"creator\")[0][0] if book.get_metadata(\"DC\", \"creator\") else \"\",\n",
    "        \"language\": book.get_metadata(\"DC\", \"language\")[0][0] if book.get_metadata(\"DC\", \"language\") else \"\",\n",
    "        \"description\": book.get_metadata(\"DC\", \"description\")[0][0] if book.get_metadata(\"DC\", \"description\") else \"\",\n",
    "        \"type\": \"epub\",\n",
    "        \"embeddings\": \"openaiembeddings\"\n",
    "    }"
   ]
  },
  {
   "cell_type": "code",
   "execution_count": 8,
   "metadata": {},
   "outputs": [
    {
     "name": "stderr",
     "output_type": "stream",
     "text": [
      "e:\\Capelin\\llama-index-test\\.venv\\Lib\\site-packages\\ebooklib\\epub.py:1395: UserWarning: In the future version we will turn default option ignore_ncx to True.\n",
      "  warnings.warn('In the future version we will turn default option ignore_ncx to True.')\n",
      "e:\\Capelin\\llama-index-test\\.venv\\Lib\\site-packages\\ebooklib\\epub.py:1423: FutureWarning: This search incorrectly ignores the root element, and will be fixed in a future version.  If you rely on the current behaviour, change it to './/xmlns:rootfile[@media-type]'\n",
      "  for root_file in tree.findall('//xmlns:rootfile[@media-type]', namespaces={'xmlns': NAMESPACES['CONTAINERNS']}):\n"
     ]
    }
   ],
   "source": [
    "documents = SimpleDirectoryReader(input_dir=\"./data\", file_metadata=extract_epub_metadata).load_data()"
   ]
  },
  {
   "cell_type": "code",
   "execution_count": 9,
   "metadata": {},
   "outputs": [
    {
     "name": "stdout",
     "output_type": "stream",
     "text": [
      "Total Documents: 1\n"
     ]
    }
   ],
   "source": [
    "print(f\"Total Documents: {len(documents)}\")"
   ]
  },
  {
   "cell_type": "code",
   "execution_count": 10,
   "metadata": {},
   "outputs": [
    {
     "name": "stdout",
     "output_type": "stream",
     "text": [
      "{'id': 'epub-24542662e8fa47f2b48246bcd9c6c2e9', 'title': \"Theological Instructions (Amuzish-e Aqa'id)\", 'author': 'Muhammad Taqi Misbah Yazdi', 'language': 'en', 'description': '', 'type': 'epub', 'embeddings': 'openaiembeddings'}\n"
     ]
    }
   ],
   "source": [
    "print(documents[0].metadata)"
   ]
  },
  {
   "cell_type": "markdown",
   "metadata": {},
   "source": [
    "Loading a new book"
   ]
  },
  {
   "cell_type": "code",
   "execution_count": 15,
   "metadata": {},
   "outputs": [
    {
     "name": "stdout",
     "output_type": "stream",
     "text": [
      "Metadata of first element: {'id': 'epub-6d7d7179a80e414c9c18e6715cae457f', 'title': 'Give and Tak', 'author': 'Unknown', 'language': 'en', 'description': '', 'type': 'epub'}\n"
     ]
    }
   ],
   "source": [
    "new_book = SimpleDirectoryReader(input_files=[\"./data/give_and_take.epub\"], file_metadata=extract_epub_metadata).load_data()\n",
    "print(f\"Metadata of first element: {new_book[0].metadata}\")\n",
    "\n",
    "# This way, we can load a new book and can use the same VectorStore object to add the new book to the index"
   ]
  },
  {
   "cell_type": "markdown",
   "metadata": {},
   "source": [
    "# 4. Transforming"
   ]
  },
  {
   "cell_type": "markdown",
   "metadata": {},
   "source": [
    "After the data is loaded, you then need to process and transform your data before putting it into a storage system. These transformations include chunking, extracting metadata, and embedding each chunk. This is necessary to make sure that the data can be retrieved, and used optimally by the LLM.\n",
    "\n",
    "An `IngestionPipeline` uses a concept of Transformations that are applied to input data. These Transformations are applied to your input data\n",
    "\n",
    "Reference: [IngestionPipeline](https://docs.llamaindex.ai/en/stable/module_guides/loading/ingestion_pipeline/)"
   ]
  },
  {
   "cell_type": "code",
   "execution_count": 11,
   "metadata": {},
   "outputs": [
    {
     "name": "stdout",
     "output_type": "stream",
     "text": [
      "Chunk Size: 512, Overlap Percentage: 0.25, Chunk Overlap: 128\n"
     ]
    }
   ],
   "source": [
    "chunk_size = 512\n",
    "overlap_percentage = 0.25\n",
    "chunk_overlap = int(chunk_size * overlap_percentage)\n",
    "\n",
    "print(f\"Chunk Size: {chunk_size}, Overlap Percentage: {overlap_percentage}, Chunk Overlap: {chunk_overlap}\")"
   ]
  },
  {
   "cell_type": "code",
   "execution_count": 12,
   "metadata": {},
   "outputs": [],
   "source": [
    "pipeline = IngestionPipeline(\n",
    "    transformations=[\n",
    "        SentenceSplitter(chunk_size=chunk_size, chunk_overlap=chunk_overlap, paragraph_separator=\"\\n\\n\\n\"),\n",
    "        embed_model # OpenAIEmbedding\n",
    "    ],\n",
    "    vector_store=vectorstore.vector_store,\n",
    ")"
   ]
  },
  {
   "cell_type": "code",
   "execution_count": 13,
   "metadata": {},
   "outputs": [],
   "source": [
    "documents = pipeline.run(documents=documents)"
   ]
  },
  {
   "cell_type": "code",
   "execution_count": 14,
   "metadata": {},
   "outputs": [
    {
     "name": "stdout",
     "output_type": "stream",
     "text": [
      "Total Documents: 516\n"
     ]
    }
   ],
   "source": [
    "print(f\"Total Documents: {len(documents)}\")"
   ]
  },
  {
   "cell_type": "code",
   "execution_count": 15,
   "metadata": {},
   "outputs": [
    {
     "name": "stdout",
     "output_type": "stream",
     "text": [
      "Document 1 Length: 1957\n",
      "Document 2 Length: 2062\n",
      "Document 3 Length: 2055\n",
      "Document 4 Length: 2015\n",
      "Document 5 Length: 2221\n",
      "Document 6 Length: 2143\n",
      "Document 7 Length: 1927\n",
      "Document 8 Length: 1398\n",
      "Document 9 Length: 1524\n",
      "Document 10 Length: 1553\n"
     ]
    }
   ],
   "source": [
    "for i, doc in enumerate(documents[:10]):\n",
    "    print(f\"Document {i + 1} Length: {len(doc.text)}\")"
   ]
  },
  {
   "cell_type": "markdown",
   "metadata": {},
   "source": [
    "Function to load and add a new book to vectorstore"
   ]
  },
  {
   "cell_type": "code",
   "execution_count": 18,
   "metadata": {},
   "outputs": [],
   "source": [
    "def add_book(book_path: str):\n",
    "    print(f\"Loading book from path: {book_path}\")\n",
    "    new_book = SimpleDirectoryReader(input_files=[book_path], file_metadata=extract_epub_metadata).load_data()\n",
    "    print(f\"Loaded book with metadata: {new_book[0].metadata}\")\n",
    "    new_book = pipeline.run(documents=new_book)\n",
    "    print(\"Book added successfully!\")"
   ]
  },
  {
   "cell_type": "code",
   "execution_count": 19,
   "metadata": {},
   "outputs": [
    {
     "name": "stdout",
     "output_type": "stream",
     "text": [
      "Loading book from path: ./data/give_and_take.epub\n"
     ]
    },
    {
     "name": "stderr",
     "output_type": "stream",
     "text": [
      "e:\\Capelin\\llama-index-test\\.venv\\Lib\\site-packages\\ebooklib\\epub.py:1395: UserWarning: In the future version we will turn default option ignore_ncx to True.\n",
      "  warnings.warn('In the future version we will turn default option ignore_ncx to True.')\n",
      "e:\\Capelin\\llama-index-test\\.venv\\Lib\\site-packages\\ebooklib\\epub.py:1423: FutureWarning: This search incorrectly ignores the root element, and will be fixed in a future version.  If you rely on the current behaviour, change it to './/xmlns:rootfile[@media-type]'\n",
      "  for root_file in tree.findall('//xmlns:rootfile[@media-type]', namespaces={'xmlns': NAMESPACES['CONTAINERNS']}):\n"
     ]
    },
    {
     "name": "stdout",
     "output_type": "stream",
     "text": [
      "Loaded book with metadata: {'id': 'epub-b09eb4f758f54495a29b6b23763dffb3', 'title': 'Give and Tak', 'author': 'Unknown', 'language': 'en', 'description': '', 'type': 'epub'}\n",
      "Book added successfully!\n"
     ]
    }
   ],
   "source": [
    "add_book(\"./data/give_and_take.epub\")"
   ]
  },
  {
   "cell_type": "markdown",
   "metadata": {},
   "source": [
    "# 5. Performing Vector Search"
   ]
  },
  {
   "cell_type": "code",
   "execution_count": 7,
   "metadata": {},
   "outputs": [],
   "source": [
    "query_gen_prompt = \"\"\"You are an AI language model assistant specializing in query expansion. Your task is to generate {num_queries} diverse versions of the given user question. These variations will be used to retrieve relevant documents from a vector database, helping to overcome limitations of distance-based similarity search.\n",
    "\n",
    "Original question: {query}\n",
    "\n",
    "Instructions:\n",
    "1. Create {num_queries} unique variations of the original question.\n",
    "2. Ensure each variation maintains the core intent of the original question.\n",
    "3. Use different phrasings, synonyms, or perspectives for each variation.\n",
    "4. Consider potential context or implications not explicitly stated in the original question.\n",
    "5. Avoid introducing new topics or drastically changing the meaning of the question.\n",
    "\n",
    "Please provide your {num_queries} question variations, each on a new line:\n",
    "\"\"\""
   ]
  },
  {
   "cell_type": "code",
   "execution_count": 8,
   "metadata": {},
   "outputs": [],
   "source": [
    "top_n = 5\n",
    "num_queries = 5\n",
    "question = \"Why is there only one God?\"\n",
    "\n",
    "vector_retriever = vectorstore.index.as_retriever(similarity_top_k=top_n)"
   ]
  },
  {
   "cell_type": "code",
   "execution_count": 9,
   "metadata": {},
   "outputs": [],
   "source": [
    "retriever = QueryFusionRetriever(\n",
    "    [vector_retriever],\n",
    "    similarity_top_k=top_n,\n",
    "    num_queries=num_queries,  # set this to 1 to disable query generation\n",
    "    mode=\"reciprocal_rerank\",\n",
    "    use_async=True,\n",
    "    verbose=True,\n",
    "    query_gen_prompt=query_gen_prompt,\n",
    ")"
   ]
  },
  {
   "cell_type": "code",
   "execution_count": 10,
   "metadata": {},
   "outputs": [
    {
     "name": "stdout",
     "output_type": "stream",
     "text": [
      "Generated queries:\n",
      "1. What is the reason behind the belief in a singular God?\n",
      "2. How do monotheistic religions explain the existence of only one God?\n",
      "3. What factors contribute to the concept of a solitary deity in various faiths?\n",
      "4. Is there a specific rationale for the monotheistic principle of a singular divine being?\n"
     ]
    }
   ],
   "source": [
    "# it will genereate n - 1 queries since the original query is also included\n",
    "nodes_with_scores = retriever.retrieve(question)"
   ]
  },
  {
   "cell_type": "code",
   "execution_count": 11,
   "metadata": {},
   "outputs": [
    {
     "name": "stdout",
     "output_type": "stream",
     "text": [
      "------- BOOK INFO -------\n",
      "Book Title: Theological Instructions (Amuzish-e Aqa'id)\n",
      "Book ID   : epub-24542662e8fa47f2b48246bcd9c6c2e9\n",
      "Author    : Muhammad Taqi Misbah Yazdi\n",
      "\n",
      "------- TEXT -------\n",
      "5- Why can one not regard every group of creation to be created by its\n",
      "particular god?\n",
      "\n",
      "6- How would you criticise the assumption that the entire universe is created\n",
      "by one God, and at the same time claim that there are many lords and\n",
      "executers?\n",
      "\n",
      "7- From where does the illusion of several gods come from, and how can it be\n",
      "nullified?\n",
      "\n",
      "8- Why does it make no difference to the oneness of lordship and creatorship,\n",
      "if one believes in the Divine authority for the saints?\n",
      "\n",
      "# Lesson 17: The Meaning Of The Oneness Of The God\n",
      "\n",
      "## Introduction\n",
      "\n",
      "The word monotheism from the lexical point of view means ‘oneness or unity’,\n",
      "but in philosophy, scholastic theology, ethics _(akhlaq),_ and mysticism it\n",
      "has been applied with various different meanings. However it gives the same\n",
      "basic meaning in all of these sciences, but when viewed from different aspects\n",
      "it can be regarded differently, such as ‘the different forms of oneness’ or\n",
      "‘the different levels of oneness’. The investigation of these offshoots cannot\n",
      "be comprised in these writings.\n",
      "\n",
      "Therefore, from this angle it is sufficient enough that we bring the most\n",
      "significant and befitting arguments for our explanation:\n",
      "\n",
      "## The Negation Of Plurality\n",
      "\n",
      "The initial and distinguished meaning of monotheism is that very believing in\n",
      "the unity of God and negation of plurality and multiplicity outside its\n",
      "essence. This belief is in complete opposition to polytheism, and the belief\n",
      "in two or more gods who are independent and apart in their existence from each\n",
      "other.\n",
      "\n",
      "## The Negation Of Composition\n",
      "\n",
      "he second terminological meaning of monotheism is to believe in oneness, and\n",
      "to believe that the essence is self-evident and not composed of actual or\n",
      "potential parts.\n",
      "\n",
      "This meaning is usually interpreted as the negative attributes _(al-sifat al-\n",
      "salbiyyah)_ (mentioned in lesson ten), because our mind is more familiar with\n",
      "compositional concepts as compared to the concept of self-evidence.\n"
     ]
    }
   ],
   "source": [
    "# Printing first document\n",
    "print(\"------- BOOK INFO -------\")\n",
    "print(f\"Book Title: {nodes_with_scores[0].metadata['title']}\")\n",
    "print(f\"Book ID   : {nodes_with_scores[0].metadata['id']}\")\n",
    "print(f\"Author    : {nodes_with_scores[0].metadata['author']}\")\n",
    "\n",
    "print(\"\\n------- TEXT -------\")\n",
    "print(nodes_with_scores[0].text)"
   ]
  },
  {
   "cell_type": "markdown",
   "metadata": {},
   "source": [
    "# 7. Generate Answer"
   ]
  },
  {
   "cell_type": "code",
   "execution_count": 12,
   "metadata": {},
   "outputs": [],
   "source": [
    "answer_template = \"\"\"You are a knowledgeable AI assistant tasked with answering questions based on the provided context. Your goal is to provide a comprehensive, accurate, and well-structured response using Chain-of-Thought reasoning.\n",
    "\n",
    "Context:\n",
    "{context_str}\n",
    "\n",
    "Question: {query_str}\n",
    "\n",
    "Instructions:\n",
    "1. Carefully analyze the given context and question.\n",
    "2. Use Chain-of-Thought reasoning to break down your answer into clear steps:\n",
    "   a. First, identify the key components of the question, such as sub-problems that need to be explained before an answer can be derived\n",
    "   b. Then, for each component, explain your thought process as you analyze the relevant information from the context.\n",
    "   c. Show how you're connecting different pieces of information to form your conclusion.\n",
    "3. Provide a detailed answer using only the information from the context.\n",
    "4. If the context doesn't contain enough information to fully answer the question, state this clearly and explain why.\n",
    "5. Organize your response with appropriate headings and subheadings for clarity.\n",
    "6. Use bullet points or numbered lists where applicable to improve readability.\n",
    "7. If relevant, include brief examples or analogies to illustrate key points.\n",
    "8. After your detailed Chain-of-Thought reasoning, summarize your main points at the end of the response.\n",
    "9. At the end, list all the contexts used in your reasoning. After your response, add a \"References\" section where you list the full contexts that you used arrive at your answer. Provide as much detail as available from each context (e.g., book title, author, full text of the relevant contexts. For video sources, include the url to the video.\n",
    "\n",
    "For the references, use the format:\n",
    "\n",
    "# References:\n",
    "(for each context:)\n",
    "## Context Id: title\n",
    "Context excerpt (print as it is)\n",
    "\n",
    "Please format your entire response in markdown for optimal readability.\n",
    "\"\"\"\n",
    "\n",
    "answer_prompt = PromptTemplate(answer_template)\n",
    "# answer_prompt = BasePromptTemplate(answer_template)"
   ]
  },
  {
   "cell_type": "markdown",
   "metadata": {},
   "source": [
    "## Response Modes\n"
   ]
  },
  {
   "cell_type": "code",
   "execution_count": 13,
   "metadata": {},
   "outputs": [],
   "source": [
    "class ResponseMode(str, Enum):\n",
    "    \"\"\"Response modes of the response builder (and synthesizer).\"\"\"\n",
    "\n",
    "    REFINE = \"refine\"\n",
    "    \"\"\"\n",
    "    Refine is an iterative way of generating a response.\n",
    "    We first use the context in the first node, along with the query, to generate an \\\n",
    "    initial answer.\n",
    "    We then pass this answer, the query, and the context of the second node as input \\\n",
    "    into a “refine prompt” to generate a refined answer. We refine through N-1 nodes, \\\n",
    "    where N is the total number of nodes.\n",
    "    \"\"\"\n",
    "\n",
    "    COMPACT = \"compact\"\n",
    "    \"\"\"\n",
    "    Compact and refine mode first combine text chunks into larger consolidated chunks \\\n",
    "    that more fully utilize the available context window, then refine answers \\\n",
    "    across them.\n",
    "    This mode is faster than refine since we make fewer calls to the LLM.\n",
    "    \"\"\"\n",
    "\n",
    "    SIMPLE_SUMMARIZE = \"simple_summarize\"\n",
    "    \"\"\"\n",
    "    Merge all text chunks into one, and make a LLM call.\n",
    "    This will fail if the merged text chunk exceeds the context window size.\n",
    "    \"\"\"\n",
    "\n",
    "    TREE_SUMMARIZE = \"tree_summarize\"\n",
    "    \"\"\"\n",
    "    Build a tree index over the set of candidate nodes, with a summary prompt seeded \\\n",
    "    with the query.\n",
    "    The tree is built in a bottoms-up fashion, and in the end the root node is \\\n",
    "    returned as the response\n",
    "    \"\"\"\n",
    "\n",
    "    GENERATION = \"generation\"\n",
    "    \"\"\"Ignore context, just use LLM to generate a response.\"\"\"\n",
    "\n",
    "    NO_TEXT = \"no_text\"\n",
    "    \"\"\"Return the retrieved context nodes, without synthesizing a final response.\"\"\"\n",
    "\n",
    "    CONTEXT_ONLY = \"context_only\"\n",
    "    \"\"\"Returns a concatenated string of all text chunks.\"\"\"\n",
    "\n",
    "    ACCUMULATE = \"accumulate\"\n",
    "    \"\"\"Synthesize a response for each text chunk, and then return the concatenation.\"\"\"\n",
    "\n",
    "    COMPACT_ACCUMULATE = \"compact_accumulate\"\n",
    "    \"\"\"\n",
    "    Compact and accumulate mode first combine text chunks into larger consolidated \\\n",
    "    chunks that more fully utilize the available context window, then accumulate \\\n",
    "    answers for each of them and finally return the concatenation.\n",
    "    This mode is faster than accumulate since we make fewer calls to the LLM.\n",
    "    \"\"\""
   ]
  },
  {
   "cell_type": "code",
   "execution_count": 14,
   "metadata": {},
   "outputs": [],
   "source": [
    "def generate_answer(question, documents, answer_prompt, response_mode, verbose):\n",
    "    response_synthesizer = get_response_synthesizer(response_mode=response_mode, llm=llm, text_qa_template=answer_prompt, verbose=verbose)\n",
    "\n",
    "    response = response_synthesizer.synthesize(\n",
    "        question, nodes=documents\n",
    "    )\n",
    "\n",
    "    return response"
   ]
  },
  {
   "cell_type": "markdown",
   "metadata": {},
   "source": [
    "`REFINE`:\n",
    "\n",
    "Refine is an iterative way of generating a response. We first use the context in the first node, along with the query, to generate an initial answer. We then pass this answer, the query, and the context of the second node as input into a “refine prompt” to generate a refined answer. We refine through N-1 nodes, where N is the total number of nodes."
   ]
  },
  {
   "cell_type": "code",
   "execution_count": 37,
   "metadata": {},
   "outputs": [
    {
     "name": "stdout",
     "output_type": "stream",
     "text": [
      "[INFO] Query: Why is there only one God?\n",
      "----------\n",
      "[INFO] Processing chunk 1/5\n",
      "[INFO] Initial response for chunk 1\n",
      "[INFO] QUESTION SENT TO LLM: metadata={'prompt_type': <PromptType.CUSTOM: 'custom'>} template_vars=['context_str', 'query_str'] kwargs={'query_str': 'Why is there only one God?'} output_parser=None template_var_mappings=None function_mappings=None template='You are a knowledgeable AI assistant tasked with answering questions based on the provided context. Your goal is to provide a comprehensive, accurate, and well-structured response using Chain-of-Thought reasoning.\\n\\nContext:\\n{context_str}\\n\\nQuestion: {query_str}\\n\\nInstructions:\\n1. Carefully analyze the given context and question.\\n2. Use Chain-of-Thought reasoning to break down your answer into clear steps:\\n   a. First, identify the key components of the question, such as sub-problems that need to be explained before an answer can be derived\\n   b. Then, for each component, explain your thought process as you analyze the relevant information from the context.\\n   c. Show how you\\'re connecting different pieces of information to form your conclusion.\\n3. Provide a detailed answer using only the information from the context.\\n4. If the context doesn\\'t contain enough information to fully answer the question, state this clearly and explain why.\\n5. Organize your response with appropriate headings and subheadings for clarity.\\n6. Use bullet points or numbered lists where applicable to improve readability.\\n7. If relevant, include brief examples or analogies to illustrate key points.\\n8. After your detailed Chain-of-Thought reasoning, summarize your main points at the end of the response.\\n9. At the end, list all the contexts used in your reasoning. After your response, add a \"References\" section where you list the full contexts that you used arrive at your answer. Provide as much detail as available from each context (e.g., book title, author, full text of the relevant contexts. For video sources, include the url to the video.\\n\\nFor the references, use the format:\\n\\n# References:\\n(for each context:)\\n## Context Id: title\\nContext excerpt (print as it is)\\n\\nPlease format your entire response in markdown for optimal readability.\\n'\n",
      "[INFO] Sending context to LLM: id: epub-24542662e8fa47f2b48246bcd9c6c2e9\n",
      "title: T...\n",
      "[INFO] Reponse received from LLM: # Answer:\n",
      "\n",
      "## Key Components:\n",
      "1. **Existence of multiple gods:** Exploring the possibility of multiple gods creating the universe.\n",
      "2. **Contradictions in multiple gods:** Understanding the contradictions that arise from the belief in multiple gods.\n",
      "3. **Unity and order in the universe:** Examining how the unity and order in the universe support the existence of only one God.\n",
      "\n",
      "## Analysis and Chain-of-Thought Reasoning:\n",
      "\n",
      "### 1. Existence of multiple gods:\n",
      "- The text mentions three possibilities regarding the assumption of multiple gods creating the universe:\n",
      "  - Each phenomenon is created by all assumed gods.\n",
      "  - Each group of phenomena is created by a specific god.\n",
      "  - One god creates all phenomena, while others manage the universe.\n",
      "- It is argued that if multiple gods created existents, there would be many existents, contradicting the observed reality of one universe.\n",
      "\n",
      "### 2. Contradictions in multiple gods:\n",
      "- If each phenomenon is created by a specific god, it implies that each phenomenon depends solely on its creator.\n",
      "- This would lead to a complex and deteriorating order in the universe, contrary to the observed unity and interconnectedness of all phenomena.\n",
      "- The interdependence of phenomena and the continuity of cause and effect relationships suggest a single unified source of creation.\n",
      "\n",
      "### 3. Unity and order in the universe:\n",
      "- The text emphasizes that the universe exhibits a singular order where all phenomena are interconnected and mutually dependent.\n",
      "- The link between past, present, and future phenomena indicates a coherent and harmonious system rather than a fragmented and chaotic one.\n",
      "- The argument is made that the existence of only one God is necessary to maintain the unity, coherence, and order observed in the universe.\n",
      "\n",
      "## Summary of Main Points:\n",
      "- The belief in multiple gods creating the universe leads to contradictions and complexities that are not observed in reality.\n",
      "- The unity and order in the universe, as evidenced by the interdependence of phenomena and the continuity of cause and effect relationships, support the existence of only one God as the source of creation.\n",
      "\n",
      "# References:\n",
      "## Context Id: epub-24542662e8fa47f2b48246bcd9c6c2e9\n",
      "By explaining the contradiction in this belief, it is possible to nullify the argument of those who held such a view.\n",
      "In order to establish the oneness of God, the Supreme, many arguments have been demonstrated in the different books of theology and philosophy. Here we are going to demonstrate an argument, which encompasses the oneness of lordship and rejects the polytheistic beliefs.\n",
      "The assumption that the universe has two or more gods can solely be imagined through a few possibilities:\n",
      "Firstly, it can be considered that every phenomenon of the universe is created and is an effect of all the assumed gods. The second assumption could be that each particular group of phenomena is an effect (or created by a particular god) of one of the assumed gods. Finally, the third assumption is that all of the phenomena are created by one of these assumed gods and the other gods are recognized as the managers of the universe.\n",
      "However, it is impossible to assume that every phenomenon has several gods. If two or more gods created an existent, it would imply that each of the assumed gods would create an existent. This would result in many existents, whereas in reality there is only one.\n",
      "If it is to be assumed that a particular god creates each particular phenomenon, this will imply that each phenomenon exists because of its particular god. Furthermore, they must not require or depend upon any other existent unless the (dependency) need returns to their particular god. This type of requirement or need must be upon the existent, which is created by that very creator who has created that particular group.\n",
      "In other words, the assumption of having more than one god necessitates the order in the universe to be multifarious and deteriorating. In reality there is only one order and all phenomena are related and effectual upon each other and at the same time need each other.\n",
      "Furthermore, the present phenomenon is linked with the former phenomenon and every coexisting phenomenon creates grounds for future phenomena.\n",
      "[INFO] Response after chunk 1: # Answer:\n",
      "\n",
      "## Key Components:\n",
      "1. **Existence of multiple gods:** Exploring the possibility of multiple gods creating the universe.\n",
      "2. **Contradictions in multiple gods:** Understanding the contradictions that arise from the belief in multiple gods.\n",
      "3. **Unity and order in the universe:** Examining how the unity and order in the universe support the existence of only one God.\n",
      "\n",
      "## Analysis and Chain-of-Thought Reasoning:\n",
      "\n",
      "### 1. Existence of multiple gods:\n",
      "- The text mentions three possibilities regarding the assumption of multiple gods creating the universe:\n",
      "  - Each phenomenon is created by all assumed gods.\n",
      "  - Each group of phenomena is created by a specific god.\n",
      "  - One god creates all phenomena, while others manage the universe.\n",
      "- It is argued that if multiple gods created existents, there would be many existents, contradicting the observed reality of one universe.\n",
      "\n",
      "### 2. Contradictions in multiple gods:\n",
      "- If each phenomenon is created by a specific god, it implies that each phenomenon depends solely on its creator.\n",
      "- This would lead to a complex and deteriorating order in the universe, contrary to the observed unity and interconnectedness of all phenomena.\n",
      "- The interdependence of phenomena and the continuity of cause and effect relationships suggest a single unified source of creation.\n",
      "\n",
      "### 3. Unity and order in the universe:\n",
      "- The text emphasizes that the universe exhibits a singular order where all phenomena are interconnected and mutually dependent.\n",
      "- The link between past, present, and future phenomena indicates a coherent and harmonious system rather than a fragmented and chaotic one.\n",
      "- The argument is made that the existence of only one God is necessary to maintain the unity, coherence, and order observed in the universe.\n",
      "\n",
      "## Summary of Main Points:\n",
      "- The belief in multiple gods creating the universe leads to contradictions and complexities that are not observed in reality.\n",
      "- The unity and order in the universe, as evidenced by the interdependence of phenomena and the continuity of cause and effect relationships, support the existence of only one God as the source of creation.\n",
      "\n",
      "# References:\n",
      "## Context Id: epub-24542662e8fa47f2b48246bcd9c6c2e9\n",
      "By explaining the contradiction in this belief, it is possible to nullify the argument of those who held such a view.\n",
      "In order to establish the oneness of God, the Supreme, many arguments have been demonstrated in the different books of theology and philosophy. Here we are going to demonstrate an argument, which encompasses the oneness of lordship and rejects the polytheistic beliefs.\n",
      "The assumption that the universe has two or more gods can solely be imagined through a few possibilities:\n",
      "Firstly, it can be considered that every phenomenon of the universe is created and is an effect of all the assumed gods. The second assumption could be that each particular group of phenomena is an effect (or created by a particular god) of one of the assumed gods. Finally, the third assumption is that all of the phenomena are created by one of these assumed gods and the other gods are recognized as the managers of the universe.\n",
      "However, it is impossible to assume that every phenomenon has several gods. If two or more gods created an existent, it would imply that each of the assumed gods would create an existent. This would result in many existents, whereas in reality there is only one.\n",
      "If it is to be assumed that a particular god creates each particular phenomenon, this will imply that each phenomenon exists because of its particular god. Furthermore, they must not require or depend upon any other existent unless the (dependency) need returns to their particular god. This type of requirement or need must be upon the existent, which is created by that very creator who has created that particular group.\n",
      "In other words, the assumption of having more than one god necessitates the order in the universe to be multifarious and deteriorating. In reality there is only one order and all phenomena are related and effectual upon each other and at the same time need each other.\n",
      "Furthermore, the present phenomenon is linked with the former phenomenon and every coexisting phenomenon creates grounds for future phenomena.\n",
      "[INFO] Processing chunk 2/5\n",
      "[INFO] Refining response for chunk 2\n",
      "> Refine context: id: epub-24542662e8fa47f2b48246bcd9c6c2e9\n",
      "title: Theological Instructions (Amuzish-e Aqa'id)\n",
      "auth...\n",
      "[INFO] Refined question sent to LLM: metadata={'prompt_type': <PromptType.REFINE: 'refine'>} template_vars=['query_str', 'existing_answer', 'context_msg'] kwargs={'query_str': 'Why is there only one God?', 'existing_answer': '# Answer:\\n\\n## Key Components:\\n1. **Existence of multiple gods:** Exploring the possibility of multiple gods creating the universe.\\n2. **Contradictions in multiple gods:** Understanding the contradictions that arise from the belief in multiple gods.\\n3. **Unity and order in the universe:** Examining how the unity and order in the universe support the existence of only one God.\\n\\n## Analysis and Chain-of-Thought Reasoning:\\n\\n### 1. Existence of multiple gods:\\n- The text mentions three possibilities regarding the assumption of multiple gods creating the universe:\\n  - Each phenomenon is created by all assumed gods.\\n  - Each group of phenomena is created by a specific god.\\n  - One god creates all phenomena, while others manage the universe.\\n- It is argued that if multiple gods created existents, there would be many existents, contradicting the observed reality of one universe.\\n\\n### 2. Contradictions in multiple gods:\\n- If each phenomenon is created by a specific god, it implies that each phenomenon depends solely on its creator.\\n- This would lead to a complex and deteriorating order in the universe, contrary to the observed unity and interconnectedness of all phenomena.\\n- The interdependence of phenomena and the continuity of cause and effect relationships suggest a single unified source of creation.\\n\\n### 3. Unity and order in the universe:\\n- The text emphasizes that the universe exhibits a singular order where all phenomena are interconnected and mutually dependent.\\n- The link between past, present, and future phenomena indicates a coherent and harmonious system rather than a fragmented and chaotic one.\\n- The argument is made that the existence of only one God is necessary to maintain the unity, coherence, and order observed in the universe.\\n\\n## Summary of Main Points:\\n- The belief in multiple gods creating the universe leads to contradictions and complexities that are not observed in reality.\\n- The unity and order in the universe, as evidenced by the interdependence of phenomena and the continuity of cause and effect relationships, support the existence of only one God as the source of creation.\\n\\n# References:\\n## Context Id: epub-24542662e8fa47f2b48246bcd9c6c2e9\\nBy explaining the contradiction in this belief, it is possible to nullify the argument of those who held such a view.\\nIn order to establish the oneness of God, the Supreme, many arguments have been demonstrated in the different books of theology and philosophy. Here we are going to demonstrate an argument, which encompasses the oneness of lordship and rejects the polytheistic beliefs.\\nThe assumption that the universe has two or more gods can solely be imagined through a few possibilities:\\nFirstly, it can be considered that every phenomenon of the universe is created and is an effect of all the assumed gods. The second assumption could be that each particular group of phenomena is an effect (or created by a particular god) of one of the assumed gods. Finally, the third assumption is that all of the phenomena are created by one of these assumed gods and the other gods are recognized as the managers of the universe.\\nHowever, it is impossible to assume that every phenomenon has several gods. If two or more gods created an existent, it would imply that each of the assumed gods would create an existent. This would result in many existents, whereas in reality there is only one.\\nIf it is to be assumed that a particular god creates each particular phenomenon, this will imply that each phenomenon exists because of its particular god. Furthermore, they must not require or depend upon any other existent unless the (dependency) need returns to their particular god. This type of requirement or need must be upon the existent, which is created by that very creator who has created that particular group.\\nIn other words, the assumption of having more than one god necessitates the order in the universe to be multifarious and deteriorating. In reality there is only one order and all phenomena are related and effectual upon each other and at the same time need each other.\\nFurthermore, the present phenomenon is linked with the former phenomenon and every coexisting phenomenon creates grounds for future phenomena.'} output_parser=None template_var_mappings={} function_mappings={} default_template=PromptTemplate(metadata={'prompt_type': <PromptType.REFINE: 'refine'>}, template_vars=['query_str', 'existing_answer', 'context_msg'], kwargs={'query_str': 'Why is there only one God?', 'existing_answer': '# Answer:\\n\\n## Key Components:\\n1. **Existence of multiple gods:** Exploring the possibility of multiple gods creating the universe.\\n2. **Contradictions in multiple gods:** Understanding the contradictions that arise from the belief in multiple gods.\\n3. **Unity and order in the universe:** Examining how the unity and order in the universe support the existence of only one God.\\n\\n## Analysis and Chain-of-Thought Reasoning:\\n\\n### 1. Existence of multiple gods:\\n- The text mentions three possibilities regarding the assumption of multiple gods creating the universe:\\n  - Each phenomenon is created by all assumed gods.\\n  - Each group of phenomena is created by a specific god.\\n  - One god creates all phenomena, while others manage the universe.\\n- It is argued that if multiple gods created existents, there would be many existents, contradicting the observed reality of one universe.\\n\\n### 2. Contradictions in multiple gods:\\n- If each phenomenon is created by a specific god, it implies that each phenomenon depends solely on its creator.\\n- This would lead to a complex and deteriorating order in the universe, contrary to the observed unity and interconnectedness of all phenomena.\\n- The interdependence of phenomena and the continuity of cause and effect relationships suggest a single unified source of creation.\\n\\n### 3. Unity and order in the universe:\\n- The text emphasizes that the universe exhibits a singular order where all phenomena are interconnected and mutually dependent.\\n- The link between past, present, and future phenomena indicates a coherent and harmonious system rather than a fragmented and chaotic one.\\n- The argument is made that the existence of only one God is necessary to maintain the unity, coherence, and order observed in the universe.\\n\\n## Summary of Main Points:\\n- The belief in multiple gods creating the universe leads to contradictions and complexities that are not observed in reality.\\n- The unity and order in the universe, as evidenced by the interdependence of phenomena and the continuity of cause and effect relationships, support the existence of only one God as the source of creation.\\n\\n# References:\\n## Context Id: epub-24542662e8fa47f2b48246bcd9c6c2e9\\nBy explaining the contradiction in this belief, it is possible to nullify the argument of those who held such a view.\\nIn order to establish the oneness of God, the Supreme, many arguments have been demonstrated in the different books of theology and philosophy. Here we are going to demonstrate an argument, which encompasses the oneness of lordship and rejects the polytheistic beliefs.\\nThe assumption that the universe has two or more gods can solely be imagined through a few possibilities:\\nFirstly, it can be considered that every phenomenon of the universe is created and is an effect of all the assumed gods. The second assumption could be that each particular group of phenomena is an effect (or created by a particular god) of one of the assumed gods. Finally, the third assumption is that all of the phenomena are created by one of these assumed gods and the other gods are recognized as the managers of the universe.\\nHowever, it is impossible to assume that every phenomenon has several gods. If two or more gods created an existent, it would imply that each of the assumed gods would create an existent. This would result in many existents, whereas in reality there is only one.\\nIf it is to be assumed that a particular god creates each particular phenomenon, this will imply that each phenomenon exists because of its particular god. Furthermore, they must not require or depend upon any other existent unless the (dependency) need returns to their particular god. This type of requirement or need must be upon the existent, which is created by that very creator who has created that particular group.\\nIn other words, the assumption of having more than one god necessitates the order in the universe to be multifarious and deteriorating. In reality there is only one order and all phenomena are related and effectual upon each other and at the same time need each other.\\nFurthermore, the present phenomenon is linked with the former phenomenon and every coexisting phenomenon creates grounds for future phenomena.'}, output_parser=None, template_var_mappings=None, function_mappings=None, template=\"The original query is as follows: {query_str}\\nWe have provided an existing answer: {existing_answer}\\nWe have the opportunity to refine the existing answer (only if needed) with some more context below.\\n------------\\n{context_msg}\\n------------\\nGiven the new context, refine the original answer to better answer the query. If the context isn't useful, return the original answer.\\nRefined Answer: \") conditionals=[(<function is_chat_model at 0x0000015C35F6C2C0>, ChatPromptTemplate(metadata={'prompt_type': <PromptType.CUSTOM: 'custom'>}, template_vars=['context_msg', 'query_str', 'existing_answer'], kwargs={'query_str': 'Why is there only one God?', 'existing_answer': '# Answer:\\n\\n## Key Components:\\n1. **Existence of multiple gods:** Exploring the possibility of multiple gods creating the universe.\\n2. **Contradictions in multiple gods:** Understanding the contradictions that arise from the belief in multiple gods.\\n3. **Unity and order in the universe:** Examining how the unity and order in the universe support the existence of only one God.\\n\\n## Analysis and Chain-of-Thought Reasoning:\\n\\n### 1. Existence of multiple gods:\\n- The text mentions three possibilities regarding the assumption of multiple gods creating the universe:\\n  - Each phenomenon is created by all assumed gods.\\n  - Each group of phenomena is created by a specific god.\\n  - One god creates all phenomena, while others manage the universe.\\n- It is argued that if multiple gods created existents, there would be many existents, contradicting the observed reality of one universe.\\n\\n### 2. Contradictions in multiple gods:\\n- If each phenomenon is created by a specific god, it implies that each phenomenon depends solely on its creator.\\n- This would lead to a complex and deteriorating order in the universe, contrary to the observed unity and interconnectedness of all phenomena.\\n- The interdependence of phenomena and the continuity of cause and effect relationships suggest a single unified source of creation.\\n\\n### 3. Unity and order in the universe:\\n- The text emphasizes that the universe exhibits a singular order where all phenomena are interconnected and mutually dependent.\\n- The link between past, present, and future phenomena indicates a coherent and harmonious system rather than a fragmented and chaotic one.\\n- The argument is made that the existence of only one God is necessary to maintain the unity, coherence, and order observed in the universe.\\n\\n## Summary of Main Points:\\n- The belief in multiple gods creating the universe leads to contradictions and complexities that are not observed in reality.\\n- The unity and order in the universe, as evidenced by the interdependence of phenomena and the continuity of cause and effect relationships, support the existence of only one God as the source of creation.\\n\\n# References:\\n## Context Id: epub-24542662e8fa47f2b48246bcd9c6c2e9\\nBy explaining the contradiction in this belief, it is possible to nullify the argument of those who held such a view.\\nIn order to establish the oneness of God, the Supreme, many arguments have been demonstrated in the different books of theology and philosophy. Here we are going to demonstrate an argument, which encompasses the oneness of lordship and rejects the polytheistic beliefs.\\nThe assumption that the universe has two or more gods can solely be imagined through a few possibilities:\\nFirstly, it can be considered that every phenomenon of the universe is created and is an effect of all the assumed gods. The second assumption could be that each particular group of phenomena is an effect (or created by a particular god) of one of the assumed gods. Finally, the third assumption is that all of the phenomena are created by one of these assumed gods and the other gods are recognized as the managers of the universe.\\nHowever, it is impossible to assume that every phenomenon has several gods. If two or more gods created an existent, it would imply that each of the assumed gods would create an existent. This would result in many existents, whereas in reality there is only one.\\nIf it is to be assumed that a particular god creates each particular phenomenon, this will imply that each phenomenon exists because of its particular god. Furthermore, they must not require or depend upon any other existent unless the (dependency) need returns to their particular god. This type of requirement or need must be upon the existent, which is created by that very creator who has created that particular group.\\nIn other words, the assumption of having more than one god necessitates the order in the universe to be multifarious and deteriorating. In reality there is only one order and all phenomena are related and effectual upon each other and at the same time need each other.\\nFurthermore, the present phenomenon is linked with the former phenomenon and every coexisting phenomenon creates grounds for future phenomena.'}, output_parser=None, template_var_mappings=None, function_mappings=None, message_templates=[ChatMessage(role=<MessageRole.USER: 'user'>, content=\"You are an expert Q&A system that strictly operates in two modes when refining existing answers:\\n1. **Rewrite** an original answer using the new context.\\n2. **Repeat** the original answer if the new context isn't useful.\\nNever reference the original answer or context directly in your answer.\\nWhen in doubt, just repeat the original answer.\\nNew Context: {context_msg}\\nQuery: {query_str}\\nOriginal Answer: {existing_answer}\\nNew Answer: \", additional_kwargs={})]))]\n",
      "[INFO] Refining context: id: epub-24542662e8fa47f2b48246bcd9c6c2e9\n",
      "title: T...\n",
      "[INFO] Refined response: The belief in multiple gods creating the universe leads to contradictions and complexities that are not observed in reality. The unity and order in the universe, as evidenced by the interdependence of phenomena and the continuity of cause and effect relationships, support the existence of only one God as the source of creation.\n",
      "[INFO] Response after chunk 2: The belief in multiple gods creating the universe leads to contradictions and complexities that are not observed in reality. The unity and order in the universe, as evidenced by the interdependence of phenomena and the continuity of cause and effect relationships, support the existence of only one God as the source of creation.\n",
      "[INFO] Processing chunk 3/5\n",
      "[INFO] Refining response for chunk 3\n",
      "> Refine context: id: epub-24542662e8fa47f2b48246bcd9c6c2e9\n",
      "title: Theological Instructions (Amuzish-e Aqa'id)\n",
      "auth...\n",
      "[INFO] Refined question sent to LLM: metadata={'prompt_type': <PromptType.REFINE: 'refine'>} template_vars=['query_str', 'existing_answer', 'context_msg'] kwargs={'query_str': 'Why is there only one God?', 'existing_answer': 'The belief in multiple gods creating the universe leads to contradictions and complexities that are not observed in reality. The unity and order in the universe, as evidenced by the interdependence of phenomena and the continuity of cause and effect relationships, support the existence of only one God as the source of creation.'} output_parser=None template_var_mappings={} function_mappings={} default_template=PromptTemplate(metadata={'prompt_type': <PromptType.REFINE: 'refine'>}, template_vars=['query_str', 'existing_answer', 'context_msg'], kwargs={'query_str': 'Why is there only one God?', 'existing_answer': 'The belief in multiple gods creating the universe leads to contradictions and complexities that are not observed in reality. The unity and order in the universe, as evidenced by the interdependence of phenomena and the continuity of cause and effect relationships, support the existence of only one God as the source of creation.'}, output_parser=None, template_var_mappings=None, function_mappings=None, template=\"The original query is as follows: {query_str}\\nWe have provided an existing answer: {existing_answer}\\nWe have the opportunity to refine the existing answer (only if needed) with some more context below.\\n------------\\n{context_msg}\\n------------\\nGiven the new context, refine the original answer to better answer the query. If the context isn't useful, return the original answer.\\nRefined Answer: \") conditionals=[(<function is_chat_model at 0x0000015C35F6C2C0>, ChatPromptTemplate(metadata={'prompt_type': <PromptType.CUSTOM: 'custom'>}, template_vars=['context_msg', 'query_str', 'existing_answer'], kwargs={'query_str': 'Why is there only one God?', 'existing_answer': 'The belief in multiple gods creating the universe leads to contradictions and complexities that are not observed in reality. The unity and order in the universe, as evidenced by the interdependence of phenomena and the continuity of cause and effect relationships, support the existence of only one God as the source of creation.'}, output_parser=None, template_var_mappings=None, function_mappings=None, message_templates=[ChatMessage(role=<MessageRole.USER: 'user'>, content=\"You are an expert Q&A system that strictly operates in two modes when refining existing answers:\\n1. **Rewrite** an original answer using the new context.\\n2. **Repeat** the original answer if the new context isn't useful.\\nNever reference the original answer or context directly in your answer.\\nWhen in doubt, just repeat the original answer.\\nNew Context: {context_msg}\\nQuery: {query_str}\\nOriginal Answer: {existing_answer}\\nNew Answer: \", additional_kwargs={})]))]\n",
      "[INFO] Refining context: id: epub-24542662e8fa47f2b48246bcd9c6c2e9\n",
      "title: T...\n",
      "[INFO] Refined response: The belief in multiple gods creating the universe leads to contradictions and complexities that are not observed in reality. The unity and order in the universe, as evidenced by the interdependence of phenomena and the continuity of cause and effect relationships, support the existence of only one God as the source of creation.\n",
      "[INFO] Response after chunk 3: The belief in multiple gods creating the universe leads to contradictions and complexities that are not observed in reality. The unity and order in the universe, as evidenced by the interdependence of phenomena and the continuity of cause and effect relationships, support the existence of only one God as the source of creation.\n",
      "[INFO] Processing chunk 4/5\n",
      "[INFO] Refining response for chunk 4\n",
      "> Refine context: id: epub-24542662e8fa47f2b48246bcd9c6c2e9\n",
      "title: Theological Instructions (Amuzish-e Aqa'id)\n",
      "auth...\n",
      "[INFO] Refined question sent to LLM: metadata={'prompt_type': <PromptType.REFINE: 'refine'>} template_vars=['query_str', 'existing_answer', 'context_msg'] kwargs={'query_str': 'Why is there only one God?', 'existing_answer': 'The belief in multiple gods creating the universe leads to contradictions and complexities that are not observed in reality. The unity and order in the universe, as evidenced by the interdependence of phenomena and the continuity of cause and effect relationships, support the existence of only one God as the source of creation.'} output_parser=None template_var_mappings={} function_mappings={} default_template=PromptTemplate(metadata={'prompt_type': <PromptType.REFINE: 'refine'>}, template_vars=['query_str', 'existing_answer', 'context_msg'], kwargs={'query_str': 'Why is there only one God?', 'existing_answer': 'The belief in multiple gods creating the universe leads to contradictions and complexities that are not observed in reality. The unity and order in the universe, as evidenced by the interdependence of phenomena and the continuity of cause and effect relationships, support the existence of only one God as the source of creation.'}, output_parser=None, template_var_mappings=None, function_mappings=None, template=\"The original query is as follows: {query_str}\\nWe have provided an existing answer: {existing_answer}\\nWe have the opportunity to refine the existing answer (only if needed) with some more context below.\\n------------\\n{context_msg}\\n------------\\nGiven the new context, refine the original answer to better answer the query. If the context isn't useful, return the original answer.\\nRefined Answer: \") conditionals=[(<function is_chat_model at 0x0000015C35F6C2C0>, ChatPromptTemplate(metadata={'prompt_type': <PromptType.CUSTOM: 'custom'>}, template_vars=['context_msg', 'query_str', 'existing_answer'], kwargs={'query_str': 'Why is there only one God?', 'existing_answer': 'The belief in multiple gods creating the universe leads to contradictions and complexities that are not observed in reality. The unity and order in the universe, as evidenced by the interdependence of phenomena and the continuity of cause and effect relationships, support the existence of only one God as the source of creation.'}, output_parser=None, template_var_mappings=None, function_mappings=None, message_templates=[ChatMessage(role=<MessageRole.USER: 'user'>, content=\"You are an expert Q&A system that strictly operates in two modes when refining existing answers:\\n1. **Rewrite** an original answer using the new context.\\n2. **Repeat** the original answer if the new context isn't useful.\\nNever reference the original answer or context directly in your answer.\\nWhen in doubt, just repeat the original answer.\\nNew Context: {context_msg}\\nQuery: {query_str}\\nOriginal Answer: {existing_answer}\\nNew Answer: \", additional_kwargs={})]))]\n",
      "[INFO] Refining context: id: epub-24542662e8fa47f2b48246bcd9c6c2e9\n",
      "title: T...\n",
      "[INFO] Refined response: The unity and order in the universe, as evidenced by the interdependence of phenomena and the continuity of cause and effect relationships, support the existence of only one God as the source of creation.\n",
      "[INFO] Response after chunk 4: The unity and order in the universe, as evidenced by the interdependence of phenomena and the continuity of cause and effect relationships, support the existence of only one God as the source of creation.\n",
      "[INFO] Processing chunk 5/5\n",
      "[INFO] Refining response for chunk 5\n",
      "> Refine context: id: epub-24542662e8fa47f2b48246bcd9c6c2e9\n",
      "title: Theological Instructions (Amuzish-e Aqa'id)\n",
      "auth...\n",
      "[INFO] Refined question sent to LLM: metadata={'prompt_type': <PromptType.REFINE: 'refine'>} template_vars=['query_str', 'existing_answer', 'context_msg'] kwargs={'query_str': 'Why is there only one God?', 'existing_answer': 'The unity and order in the universe, as evidenced by the interdependence of phenomena and the continuity of cause and effect relationships, support the existence of only one God as the source of creation.'} output_parser=None template_var_mappings={} function_mappings={} default_template=PromptTemplate(metadata={'prompt_type': <PromptType.REFINE: 'refine'>}, template_vars=['query_str', 'existing_answer', 'context_msg'], kwargs={'query_str': 'Why is there only one God?', 'existing_answer': 'The unity and order in the universe, as evidenced by the interdependence of phenomena and the continuity of cause and effect relationships, support the existence of only one God as the source of creation.'}, output_parser=None, template_var_mappings=None, function_mappings=None, template=\"The original query is as follows: {query_str}\\nWe have provided an existing answer: {existing_answer}\\nWe have the opportunity to refine the existing answer (only if needed) with some more context below.\\n------------\\n{context_msg}\\n------------\\nGiven the new context, refine the original answer to better answer the query. If the context isn't useful, return the original answer.\\nRefined Answer: \") conditionals=[(<function is_chat_model at 0x0000015C35F6C2C0>, ChatPromptTemplate(metadata={'prompt_type': <PromptType.CUSTOM: 'custom'>}, template_vars=['context_msg', 'query_str', 'existing_answer'], kwargs={'query_str': 'Why is there only one God?', 'existing_answer': 'The unity and order in the universe, as evidenced by the interdependence of phenomena and the continuity of cause and effect relationships, support the existence of only one God as the source of creation.'}, output_parser=None, template_var_mappings=None, function_mappings=None, message_templates=[ChatMessage(role=<MessageRole.USER: 'user'>, content=\"You are an expert Q&A system that strictly operates in two modes when refining existing answers:\\n1. **Rewrite** an original answer using the new context.\\n2. **Repeat** the original answer if the new context isn't useful.\\nNever reference the original answer or context directly in your answer.\\nWhen in doubt, just repeat the original answer.\\nNew Context: {context_msg}\\nQuery: {query_str}\\nOriginal Answer: {existing_answer}\\nNew Answer: \", additional_kwargs={})]))]\n",
      "[INFO] Refining context: id: epub-24542662e8fa47f2b48246bcd9c6c2e9\n",
      "title: T...\n",
      "[INFO] Refined response: The unity and order in the universe, as evidenced by the interdependence of phenomena and the continuity of cause and effect relationships, support the existence of only one God as the source of creation.\n",
      "[INFO] Response after chunk 5: The unity and order in the universe, as evidenced by the interdependence of phenomena and the continuity of cause and effect relationships, support the existence of only one God as the source of creation.\n",
      "\n",
      "\n",
      "[INFO] Final response: The unity and order in the universe, as evidenced by the interdependence of phenomena and the continuity of cause and effect relationships, support the existence of only one God as the source of creation.\n"
     ]
    }
   ],
   "source": [
    "answer_md = generate_answer(question=question, documents=nodes_with_scores, answer_prompt=answer_prompt, response_mode=ResponseMode.REFINE, verbose=True)"
   ]
  },
  {
   "cell_type": "code",
   "execution_count": 27,
   "metadata": {},
   "outputs": [
    {
     "name": "stdout",
     "output_type": "stream",
     "text": [
      "The belief in multiple gods creating and managing the universe is logically refuted by the unity, coherence, and interdependence observed in the universe. This refutation highlights the contradictions and complexities that arise from such a belief, reinforcing the concept of a singular, supreme creator.\n"
     ]
    }
   ],
   "source": [
    "print(answer_md)"
   ]
  },
  {
   "cell_type": "markdown",
   "metadata": {},
   "source": [
    "`COMPACT`:\n",
    "\n",
    "Compact and refine mode first combine text chunks into larger consolidated chunks that more fully utilize the available context window, then refine answers across them. This mode is faster than refine since we make fewer calls to the LLM."
   ]
  },
  {
   "cell_type": "code",
   "execution_count": 28,
   "metadata": {},
   "outputs": [
    {
     "name": "stdout",
     "output_type": "stream",
     "text": [
      "[INFO] Query: Why is there only one God?\n",
      "----------\n",
      "[INFO] Processing chunk 1/1\n",
      "[INFO] Initial response for chunk 1\n",
      "[INFO] QUESTION SENT TO LLM: metadata={'prompt_type': <PromptType.CUSTOM: 'custom'>} template_vars=['context_str', 'query_str'] kwargs={'query_str': 'Why is there only one God?'} output_parser=None template_var_mappings=None function_mappings=None template='You are a knowledgeable AI assistant tasked with answering questions based on the provided context. Your goal is to provide a comprehensive, accurate, and well-structured response using Chain-of-Thought reasoning.\\n\\nContext:\\n{context_str}\\n\\nQuestion: {query_str}\\n\\nInstructions:\\n1. Carefully analyze the given context and question.\\n2. Use Chain-of-Thought reasoning to break down your answer into clear steps:\\n   a. First, identify the key components of the question, such as sub-problems that need to be explained before an answer can be derived\\n   b. Then, for each component, explain your thought process as you analyze the relevant information from the context.\\n   c. Show how you\\'re connecting different pieces of information to form your conclusion.\\n3. Provide a detailed answer using only the information from the context.\\n4. If the context doesn\\'t contain enough information to fully answer the question, state this clearly and explain why.\\n5. Organize your response with appropriate headings and subheadings for clarity.\\n6. Use bullet points or numbered lists where applicable to improve readability.\\n7. If relevant, include brief examples or analogies to illustrate key points.\\n8. After your detailed Chain-of-Thought reasoning, summarize your main points at the end of the response.\\n9. At the end, list all the contexts used in your reasoning. After your response, add a \"References\" section where you list the full contexts that you used arrive at your answer. Provide as much detail as available from each context (e.g., book title, author, full text of the relevant contexts. For video sources, include the url to the video.\\n\\nFor the references, use the format:\\n\\n# References:\\n(for each context:)\\n## Context Id: title\\nContext excerpt (print as it is)\\n\\nPlease format your entire response in markdown for optimal readability.\\n'\n",
      "[INFO] Sending context to LLM: id: epub-24542662e8fa47f2b48246bcd9c6c2e9\n",
      "title: T...\n",
      "[INFO] Reponse received from LLM: # Answer:\n",
      "\n",
      "## Key Components:\n",
      "1. Explanation of the oneness of God.\n",
      "2. Critique of polytheistic beliefs.\n",
      "3. Refutation of the assumption of multiple gods.\n",
      "4. Understanding the illusion of several gods.\n",
      "5. Impact of Divine authority on the oneness of lordship and creatorship.\n",
      "\n",
      "## Chain-of-Thought Reasoning:\n",
      "\n",
      "### 1. Explanation of the Oneness of God:\n",
      "- The context emphasizes the oneness of God as a fundamental belief.\n",
      "- Monotheism entails believing in the unity of God and negating plurality and multiplicity.\n",
      "- Monotheism rejects the existence of two or more independent gods.\n",
      "- The essence of God is considered self-evident and not composed of parts.\n",
      "\n",
      "### 2. Critique of Polytheistic Beliefs:\n",
      "- Polytheistic beliefs involve attributing lordship to entities other than God.\n",
      "- Polytheists may acknowledge the Creator but assign independent administrators to the world.\n",
      "- The foundation of polytheism lies in recognizing other gods alongside the Supreme Creator.\n",
      "- The Noble Qur’an highlights struggles between monotheistic prophets and polytheists.\n",
      "\n",
      "### 3. Refutation of the Assumption of Multiple Gods:\n",
      "- It is impossible for every phenomenon to have several gods creating it.\n",
      "- If each phenomenon had a specific god, it would lead to a multitude of creators, contradicting the unity of existence.\n",
      "- The order in the universe is interconnected and coherent, indicating a single creator.\n",
      "\n",
      "### 4. Understanding the Illusion of Several Gods:\n",
      "- The illusion of multiple gods arises from misconceptions about the causes of existence and the administration of the universe.\n",
      "- By contemplating the nature of creation and the coherence within it, the idea of multiple gods is nullified.\n",
      "\n",
      "### 5. Impact of Divine Authority on Oneness of Lordship and Creatorship:\n",
      "- Accepting Divine authority in the absence of independent lordship or creatorship does not negate the oneness of God.\n",
      "- The legislative authority of prophets and saints is not inconsistent with Divine lordship, as it derives from God.\n",
      "\n",
      "## Summary:\n",
      "- The oneness of God is established by rejecting polytheistic beliefs and refuting the assumption of multiple gods creating and administering the universe.\n",
      "- The coherence and interconnectedness of creation point towards a single creator, nullifying the illusion of several gods.\n",
      "- Accepting Divine authority for saints does not undermine the oneness of God, as it aligns with Divine decree.\n",
      "\n",
      "# References:\n",
      "## Context Id: epub-24542662e8fa47f2b48246bcd9c6c2e9\n",
      "By explaining the contradiction in this belief, it is possible to nullify the argument of those who held such a view.\n",
      "In order to establish the oneness of God, the Supreme, many arguments have been demonstrated in the different books of theology and philosophy. Here we are going to demonstrate an argument, which encompasses the oneness of lordship and rejects the polytheistic beliefs.\n",
      "\n",
      "## Context Id: epub-24542662e8fa47f2b48246bcd9c6c2e9\n",
      "Furthermore, they considered a type of lordship for themselves and also regarded satanic worship as part of their rituals. Such examples can be seen in the past empires of China, India, Iran and Egypt.\n",
      "Nevertheless polytheistic religions came under the influence of different factors and discernment among humans. Thus, a barrier was formed preventing people from understanding the true perfection, which was supposed to be applied by the divine and monotheistic religions. The Noble Qur’an portrays such struggles encountered by the prophets (‘a) of God and the polytheists.\n",
      "\n",
      "## Context Id: epub-24542662e8fa47f2b48246bcd9c6c2e9\n",
      "There is no power except by Allah!” (Holy Qur’an,[18:39](/printepub/book/export/html/123734#quran_ref_189052)).** _\n",
      "\n",
      "## Context Id: epub-24542662e8fa47f2b48246bcd9c6c2e9\n",
      "However, it can never be accepted that several causes can bestow existence for an effect, or that several lords and independent administrators can be assumed for administrating the universe.\n",
      "Based on this argument for nullifying this illusion, one must focus upon the meaning and the peculiarities of this cause that bestows existence until it is known that the profusion of this cause is impossible. Furthermore, one must contemplate upon the coherence of the creation until reaching the realization that several gods could not possibly create this type of order, or numerous lords administer this type of universe.\n",
      "[INFO] Response after chunk 1: # Answer:\n",
      "\n",
      "## Key Components:\n",
      "1. Explanation of the oneness of God.\n",
      "2. Critique of polytheistic beliefs.\n",
      "3. Refutation of the assumption of multiple gods.\n",
      "4. Understanding the illusion of several gods.\n",
      "5. Impact of Divine authority on the oneness of lordship and creatorship.\n",
      "\n",
      "## Chain-of-Thought Reasoning:\n",
      "\n",
      "### 1. Explanation of the Oneness of God:\n",
      "- The context emphasizes the oneness of God as a fundamental belief.\n",
      "- Monotheism entails believing in the unity of God and negating plurality and multiplicity.\n",
      "- Monotheism rejects the existence of two or more independent gods.\n",
      "- The essence of God is considered self-evident and not composed of parts.\n",
      "\n",
      "### 2. Critique of Polytheistic Beliefs:\n",
      "- Polytheistic beliefs involve attributing lordship to entities other than God.\n",
      "- Polytheists may acknowledge the Creator but assign independent administrators to the world.\n",
      "- The foundation of polytheism lies in recognizing other gods alongside the Supreme Creator.\n",
      "- The Noble Qur’an highlights struggles between monotheistic prophets and polytheists.\n",
      "\n",
      "### 3. Refutation of the Assumption of Multiple Gods:\n",
      "- It is impossible for every phenomenon to have several gods creating it.\n",
      "- If each phenomenon had a specific god, it would lead to a multitude of creators, contradicting the unity of existence.\n",
      "- The order in the universe is interconnected and coherent, indicating a single creator.\n",
      "\n",
      "### 4. Understanding the Illusion of Several Gods:\n",
      "- The illusion of multiple gods arises from misconceptions about the causes of existence and the administration of the universe.\n",
      "- By contemplating the nature of creation and the coherence within it, the idea of multiple gods is nullified.\n",
      "\n",
      "### 5. Impact of Divine Authority on Oneness of Lordship and Creatorship:\n",
      "- Accepting Divine authority in the absence of independent lordship or creatorship does not negate the oneness of God.\n",
      "- The legislative authority of prophets and saints is not inconsistent with Divine lordship, as it derives from God.\n",
      "\n",
      "## Summary:\n",
      "- The oneness of God is established by rejecting polytheistic beliefs and refuting the assumption of multiple gods creating and administering the universe.\n",
      "- The coherence and interconnectedness of creation point towards a single creator, nullifying the illusion of several gods.\n",
      "- Accepting Divine authority for saints does not undermine the oneness of God, as it aligns with Divine decree.\n",
      "\n",
      "# References:\n",
      "## Context Id: epub-24542662e8fa47f2b48246bcd9c6c2e9\n",
      "By explaining the contradiction in this belief, it is possible to nullify the argument of those who held such a view.\n",
      "In order to establish the oneness of God, the Supreme, many arguments have been demonstrated in the different books of theology and philosophy. Here we are going to demonstrate an argument, which encompasses the oneness of lordship and rejects the polytheistic beliefs.\n",
      "\n",
      "## Context Id: epub-24542662e8fa47f2b48246bcd9c6c2e9\n",
      "Furthermore, they considered a type of lordship for themselves and also regarded satanic worship as part of their rituals. Such examples can be seen in the past empires of China, India, Iran and Egypt.\n",
      "Nevertheless polytheistic religions came under the influence of different factors and discernment among humans. Thus, a barrier was formed preventing people from understanding the true perfection, which was supposed to be applied by the divine and monotheistic religions. The Noble Qur’an portrays such struggles encountered by the prophets (‘a) of God and the polytheists.\n",
      "\n",
      "## Context Id: epub-24542662e8fa47f2b48246bcd9c6c2e9\n",
      "There is no power except by Allah!” (Holy Qur’an,[18:39](/printepub/book/export/html/123734#quran_ref_189052)).** _\n",
      "\n",
      "## Context Id: epub-24542662e8fa47f2b48246bcd9c6c2e9\n",
      "However, it can never be accepted that several causes can bestow existence for an effect, or that several lords and independent administrators can be assumed for administrating the universe.\n",
      "Based on this argument for nullifying this illusion, one must focus upon the meaning and the peculiarities of this cause that bestows existence until it is known that the profusion of this cause is impossible. Furthermore, one must contemplate upon the coherence of the creation until reaching the realization that several gods could not possibly create this type of order, or numerous lords administer this type of universe.\n",
      "\n",
      "\n",
      "[INFO] Final response: # Answer:\n",
      "\n",
      "## Key Components:\n",
      "1. Explanation of the oneness of God.\n",
      "2. Critique of polytheistic beliefs.\n",
      "3. Refutation of the assumption of multiple gods.\n",
      "4. Understanding the illusion of several gods.\n",
      "5. Impact of Divine authority on the oneness of lordship and creatorship.\n",
      "\n",
      "## Chain-of-Thought Reasoning:\n",
      "\n",
      "### 1. Explanation of the Oneness of God:\n",
      "- The context emphasizes the oneness of God as a fundamental belief.\n",
      "- Monotheism entails believing in the unity of God and negating plurality and multiplicity.\n",
      "- Monotheism rejects the existence of two or more independent gods.\n",
      "- The essence of God is considered self-evident and not composed of parts.\n",
      "\n",
      "### 2. Critique of Polytheistic Beliefs:\n",
      "- Polytheistic beliefs involve attributing lordship to entities other than God.\n",
      "- Polytheists may acknowledge the Creator but assign independent administrators to the world.\n",
      "- The foundation of polytheism lies in recognizing other gods alongside the Supreme Creator.\n",
      "- The Noble Qur’an highlights struggles between monotheistic prophets and polytheists.\n",
      "\n",
      "### 3. Refutation of the Assumption of Multiple Gods:\n",
      "- It is impossible for every phenomenon to have several gods creating it.\n",
      "- If each phenomenon had a specific god, it would lead to a multitude of creators, contradicting the unity of existence.\n",
      "- The order in the universe is interconnected and coherent, indicating a single creator.\n",
      "\n",
      "### 4. Understanding the Illusion of Several Gods:\n",
      "- The illusion of multiple gods arises from misconceptions about the causes of existence and the administration of the universe.\n",
      "- By contemplating the nature of creation and the coherence within it, the idea of multiple gods is nullified.\n",
      "\n",
      "### 5. Impact of Divine Authority on Oneness of Lordship and Creatorship:\n",
      "- Accepting Divine authority in the absence of independent lordship or creatorship does not negate the oneness of God.\n",
      "- The legislative authority of prophets and saints is not inconsistent with Divine lordship, as it derives from God.\n",
      "\n",
      "## Summary:\n",
      "- The oneness of God is established by rejecting polytheistic beliefs and refuting the assumption of multiple gods creating and administering the universe.\n",
      "- The coherence and interconnectedness of creation point towards a single creator, nullifying the illusion of several gods.\n",
      "- Accepting Divine authority for saints does not undermine the oneness of God, as it aligns with Divine decree.\n",
      "\n",
      "# References:\n",
      "## Context Id: epub-24542662e8fa47f2b48246bcd9c6c2e9\n",
      "By explaining the contradiction in this belief, it is possible to nullify the argument of those who held such a view.\n",
      "In order to establish the oneness of God, the Supreme, many arguments have been demonstrated in the different books of theology and philosophy. Here we are going to demonstrate an argument, which encompasses the oneness of lordship and rejects the polytheistic beliefs.\n",
      "\n",
      "## Context Id: epub-24542662e8fa47f2b48246bcd9c6c2e9\n",
      "Furthermore, they considered a type of lordship for themselves and also regarded satanic worship as part of their rituals. Such examples can be seen in the past empires of China, India, Iran and Egypt.\n",
      "Nevertheless polytheistic religions came under the influence of different factors and discernment among humans. Thus, a barrier was formed preventing people from understanding the true perfection, which was supposed to be applied by the divine and monotheistic religions. The Noble Qur’an portrays such struggles encountered by the prophets (‘a) of God and the polytheists.\n",
      "\n",
      "## Context Id: epub-24542662e8fa47f2b48246bcd9c6c2e9\n",
      "There is no power except by Allah!” (Holy Qur’an,[18:39](/printepub/book/export/html/123734#quran_ref_189052)).** _\n",
      "\n",
      "## Context Id: epub-24542662e8fa47f2b48246bcd9c6c2e9\n",
      "However, it can never be accepted that several causes can bestow existence for an effect, or that several lords and independent administrators can be assumed for administrating the universe.\n",
      "Based on this argument for nullifying this illusion, one must focus upon the meaning and the peculiarities of this cause that bestows existence until it is known that the profusion of this cause is impossible. Furthermore, one must contemplate upon the coherence of the creation until reaching the realization that several gods could not possibly create this type of order, or numerous lords administer this type of universe.\n"
     ]
    }
   ],
   "source": [
    "answer_md = generate_answer(question=question, documents=nodes_with_scores, answer_prompt=answer_prompt, response_mode=ResponseMode.COMPACT, verbose=True)"
   ]
  },
  {
   "cell_type": "code",
   "execution_count": 29,
   "metadata": {},
   "outputs": [
    {
     "name": "stdout",
     "output_type": "stream",
     "text": [
      "# Answer:\n",
      "\n",
      "## Key Components:\n",
      "1. Explanation of the oneness of God.\n",
      "2. Critique of polytheistic beliefs.\n",
      "3. Refutation of the assumption of multiple gods.\n",
      "4. Understanding the illusion of several gods.\n",
      "5. Impact of Divine authority on the oneness of lordship and creatorship.\n",
      "\n",
      "## Chain-of-Thought Reasoning:\n",
      "\n",
      "### 1. Explanation of the Oneness of God:\n",
      "- The context emphasizes the oneness of God as a fundamental belief.\n",
      "- Monotheism entails believing in the unity of God and negating plurality and multiplicity.\n",
      "- Monotheism rejects the existence of two or more independent gods.\n",
      "- The essence of God is considered self-evident and not composed of parts.\n",
      "\n",
      "### 2. Critique of Polytheistic Beliefs:\n",
      "- Polytheistic beliefs involve attributing lordship to entities other than God.\n",
      "- Polytheists may acknowledge the Creator but assign independent administrators to the world.\n",
      "- The foundation of polytheism lies in recognizing other gods alongside the Supreme Creator.\n",
      "- The Noble Qur’an highlights struggles between monotheistic prophets and polytheists.\n",
      "\n",
      "### 3. Refutation of the Assumption of Multiple Gods:\n",
      "- It is impossible for every phenomenon to have several gods creating it.\n",
      "- If each phenomenon had a specific god, it would lead to a multitude of creators, contradicting the unity of existence.\n",
      "- The order in the universe is interconnected and coherent, indicating a single creator.\n",
      "\n",
      "### 4. Understanding the Illusion of Several Gods:\n",
      "- The illusion of multiple gods arises from misconceptions about the causes of existence and the administration of the universe.\n",
      "- By contemplating the nature of creation and the coherence within it, the idea of multiple gods is nullified.\n",
      "\n",
      "### 5. Impact of Divine Authority on Oneness of Lordship and Creatorship:\n",
      "- Accepting Divine authority in the absence of independent lordship or creatorship does not negate the oneness of God.\n",
      "- The legislative authority of prophets and saints is not inconsistent with Divine lordship, as it derives from God.\n",
      "\n",
      "## Summary:\n",
      "- The oneness of God is established by rejecting polytheistic beliefs and refuting the assumption of multiple gods creating and administering the universe.\n",
      "- The coherence and interconnectedness of creation point towards a single creator, nullifying the illusion of several gods.\n",
      "- Accepting Divine authority for saints does not undermine the oneness of God, as it aligns with Divine decree.\n",
      "\n",
      "# References:\n",
      "## Context Id: epub-24542662e8fa47f2b48246bcd9c6c2e9\n",
      "By explaining the contradiction in this belief, it is possible to nullify the argument of those who held such a view.\n",
      "In order to establish the oneness of God, the Supreme, many arguments have been demonstrated in the different books of theology and philosophy. Here we are going to demonstrate an argument, which encompasses the oneness of lordship and rejects the polytheistic beliefs.\n",
      "\n",
      "## Context Id: epub-24542662e8fa47f2b48246bcd9c6c2e9\n",
      "Furthermore, they considered a type of lordship for themselves and also regarded satanic worship as part of their rituals. Such examples can be seen in the past empires of China, India, Iran and Egypt.\n",
      "Nevertheless polytheistic religions came under the influence of different factors and discernment among humans. Thus, a barrier was formed preventing people from understanding the true perfection, which was supposed to be applied by the divine and monotheistic religions. The Noble Qur’an portrays such struggles encountered by the prophets (‘a) of God and the polytheists.\n",
      "\n",
      "## Context Id: epub-24542662e8fa47f2b48246bcd9c6c2e9\n",
      "There is no power except by Allah!” (Holy Qur’an,[18:39](/printepub/book/export/html/123734#quran_ref_189052)).** _\n",
      "\n",
      "## Context Id: epub-24542662e8fa47f2b48246bcd9c6c2e9\n",
      "However, it can never be accepted that several causes can bestow existence for an effect, or that several lords and independent administrators can be assumed for administrating the universe.\n",
      "Based on this argument for nullifying this illusion, one must focus upon the meaning and the peculiarities of this cause that bestows existence until it is known that the profusion of this cause is impossible. Furthermore, one must contemplate upon the coherence of the creation until reaching the realization that several gods could not possibly create this type of order, or numerous lords administer this type of universe.\n"
     ]
    }
   ],
   "source": [
    "print(answer_md)"
   ]
  },
  {
   "cell_type": "markdown",
   "metadata": {},
   "source": [
    "`SIMPLE_SUMMARIZE`:\n",
    "\n",
    "Merge all text chunks into one, and make a LLM call. This will fail if the merged text chunk exceeds the context window size."
   ]
  },
  {
   "cell_type": "code",
   "execution_count": 30,
   "metadata": {},
   "outputs": [
    {
     "name": "stdout",
     "output_type": "stream",
     "text": [
      "[INFO] Received query: 'Why is there only one God?'\n",
      "[INFO] Question sent to LLM: metadata={'prompt_type': <PromptType.CUSTOM: 'custom'>} template_vars=['context_str', 'query_str'] kwargs={'query_str': 'Why is there only one God?'} output_parser=None template_var_mappings=None function_mappings=None template='You are a knowledgeable AI assistant tasked with answering questions based on the provided context. Your goal is to provide a comprehensive, accurate, and well-structured response using Chain-of-Thought reasoning.\\n\\nContext:\\n{context_str}\\n\\nQuestion: {query_str}\\n\\nInstructions:\\n1. Carefully analyze the given context and question.\\n2. Use Chain-of-Thought reasoning to break down your answer into clear steps:\\n   a. First, identify the key components of the question, such as sub-problems that need to be explained before an answer can be derived\\n   b. Then, for each component, explain your thought process as you analyze the relevant information from the context.\\n   c. Show how you\\'re connecting different pieces of information to form your conclusion.\\n3. Provide a detailed answer using only the information from the context.\\n4. If the context doesn\\'t contain enough information to fully answer the question, state this clearly and explain why.\\n5. Organize your response with appropriate headings and subheadings for clarity.\\n6. Use bullet points or numbered lists where applicable to improve readability.\\n7. If relevant, include brief examples or analogies to illustrate key points.\\n8. After your detailed Chain-of-Thought reasoning, summarize your main points at the end of the response.\\n9. At the end, list all the contexts used in your reasoning. After your response, add a \"References\" section where you list the full contexts that you used arrive at your answer. Provide as much detail as available from each context (e.g., book title, author, full text of the relevant contexts. For video sources, include the url to the video.\\n\\nFor the references, use the format:\\n\\n# References:\\n(for each context:)\\n## Context Id: title\\nContext excerpt (print as it is)\\n\\nPlease format your entire response in markdown for optimal readability.\\n'\n",
      "[INFO] Combined text chunks into single text: 'id: epub-24542662e8fa47f2b48246bcd9c6c2e9\n",
      "title: Theological Instructions (Amuzish-e Aqa'id)\n",
      "author:...'\n",
      "[INFO] Truncated text chunks: '[\"id: epub-24542662e8fa47f2b48246bcd9c6c2e9\\ntitle: Theological Instructions (Amuzish-e Aqa'id)\\nauthor: Muhammad Taqi Misbah Yazdi\\nlanguage: en\\ndescription: \\ntype: epub\\nembeddings: openaiembeddings\\n\\nBy explaining the\\ncontradiction in this belief, it is possible to nullify the argument of those\\nwho held such a view.\\n\\nIn order to establish the oneness of God, the Supreme, many arguments have\\nbeen demonstrated in the different books of theology and philosophy. Here we\\nare going to demonstrate an argument, which encompasses the oneness of\\nlordship and rejects the polytheistic beliefs.\\n\\n## Proofs For The Oneness Of God\\n\\nThe assumption that the universe has two or more gods can solely be imagined\\nthrough a few possibilities:\\n\\nFirstly, it can be considered that every phenomenon of the universe is created\\nand is an effect of all the assumed gods. The second assumption could be that\\neach particular group of phenomena is an effect (or created by a particular\\ngod) of one of the assumed gods. Finally, the third assumption is that all of\\nthe phenomena are created by one of these assumed gods and the other gods are\\nrecognized as the managers of the universe.\\n\\nHowever, it is impossible to assume that every phenomenon has several gods. If\\ntwo or more gods created an existent, it would imply that each of the assumed\\ngods would create an existent. This would result in many existents, whereas in\\nreality there is only one.\\n\\nIf it is to be assumed that a particular god creates each particular\\nphenomenon, this will imply that each phenomenon exists because of its\\nparticular god. Furthermore, they must not require or depend upon any other\\nexistent unless the (dependency) need returns to their particular god. This\\ntype of requirement or need must be upon the existent, which is created by\\nthat very creator who has created that particular group.\\n\\nIn other words, the assumption of having more than one god necessitates the\\norder in the universe to be multifarious and deteriorating. In reality there\\nis only one order and all phenomena are related and effectual upon each other\\nand at the same time need each other.\\n\\nFurthermore, the present phenomenon is linked with the former phenomenon and\\nevery coexisting phenomenon creates grounds for future phenomena.\\nid: epub-24542662e8fa47f2b48246bcd9c6c2e9\\ntitle: Theological Instructions (Amuzish-e Aqa'id)\\nauthor: Muhammad Taqi Misbah Yazdi\\nlanguage: en\\ndescription: \\ntype: epub\\nembeddings: openaiembeddings\\n\\nFurthermore, they considered a type of lordship for themselves and also\\nregarded satanic worship as part of their rituals. Such examples can be seen\\nin the past empires of China, India, Iran and Egypt.\\n\\nNevertheless polytheistic religions came under the influence of different\\nfactors and discernment among humans. Thus, a barrier was formed preventing\\npeople from understanding the true perfection, which was supposed to be\\napplied by the divine and monotheistic religions. The Noble Qur’an portrays\\nsuch struggles encountered by the prophets (‘a) of God and the polytheists.\\n\\nOn these bases, the foundation of polytheistic belief is to believe in the\\nlordship of an existent other than God the Supreme, for the appearance of some\\nof the universe’s phenomena. Furthermore, many polytheists had faith in the\\noneness of the Creator, and in reality they accepted the oneness of\\ncreatorship. However, on a lower realm they recognized other second level\\n\\ngods who administrated the world independently, and they called God the\\nCreator, the God of gods or Lord of the lords _(rabb al-arbab)_.\\n\\nThese gods, who administrate according to some, were known as angels, and were\\ncalled by the polytheist Arabs, the daughters of God. Some recognized them as\\nfairies and genies or some regarded them as the spirits of stars or humans\\nfrom the past, or as a type of invisible existent.\\n\\nIn lesson ten indications were made that creatorship and true lordship are\\ninseparable from each other, belief in the creatorship of God and the\\nacceptance of the lordship of others is not compatible. By explaining the\\ncontradiction in this belief, it is possible to nullify the argument of those\\nwho held such a view.\\n\\nIn order to establish the oneness of God, the Supreme, many arguments have\\nbeen demonstrated in the different books of theology and philosophy. Here we\\nare going to demonstrate an argument, which encompasses the oneness of\\nlordship and rejects the polytheistic beliefs.\\nid: epub-24542662e8fa47f2b48246bcd9c6c2e9\\ntitle: Theological Instructions (Amuzish-e Aqa'id)\\nauthor: Muhammad Taqi Misbah Yazdi\\nlanguage: en\\ndescription: \\ntype: epub\\nembeddings: openaiembeddings\\n\\nThere is no power except by Allah!” (Holy\\nQur’an,[18:39](/printepub/book/export/html/123734#quran_ref_189052)).** _\\n\\n### D. The Two Important Results Achieved\\n\\nThe result of the unity of Divine action is that nothing other than God\\ndeserves worship, because as we have indicated before, a being does not\\ndeserve to be worshipped by just being a creator or a lord. In other words,\\nDivinity _(uluhiyyah)_ is the necessary condition of lordship and creatorship.\\n\\nFrom another angle, the result of monotheism in the latter meaning is that the\\nentirety of human reliance must be upon God, and in all of works He must be\\ntrusted and solely from Him help must be requested. Man’s fear and hope ought\\nto be from Him, and when the sources for the completion of needs are out of\\nreach, one must not despair, because God is capable of furnishing all needs\\nfrom His distinctive and hidden source.\\n\\nLiving under such monotheistic circumstances results in mankind enjoying a\\nspecial Divine authority _(wilayah)_ and having a unique and tranquil soul:\\n\\n_**“Look! The friends of Allah will indeed have no fear nor will they grieve”\\n(Holy Qur’an,[10:62](/printepub/book/export/html/123734#quran_ref_189053)). **\\n_\\n\\nThese two results have already been placed in the verse that a Muslim recites\\nat-least ten times a day:\\n\\n_**“You [alone] do we worship, and You [alone] do we turn for help” (Holy\\nQur’an,[1:6](/printepub/book/export/html/123734#quran_ref_189056)).** _\\n\\n### E. The Resolution Of A Doubt\\n\\nIt is possible that one may question, that if the necessity of perfect\\nmonotheism is that humans seek help exclusively from God, they should not then\\nseek intercession from the saints of God.\\nid: epub-24542662e8fa47f2b48246bcd9c6c2e9\\ntitle: Theological Instructions (Amuzish-e Aqa'id)\\nauthor: Muhammad Taqi Misbah Yazdi\\nlanguage: en\\ndescription: \\ntype: epub\\nembeddings: openaiembeddings\\n\\n5- Why can one not regard every group of creation to be created by its\\nparticular god?\\n\\n6- How would you criticise the assumption that the entire universe is created\\nby one God, and at the same time claim that there are many lords and\\nexecuters?\\n\\n7- From where does the illusion of several gods come from, and how can it be\\nnullified?\\n\\n8- Why does it make no difference to the oneness of lordship and creatorship,\\nif one believes in the Divine authority for the saints?\\n\\n# Lesson 17: The Meaning Of The Oneness Of The God\\n\\n## Introduction\\n\\nThe word monotheism from the lexical point of view means ‘oneness or unity’,\\nbut in philosophy, scholastic theology, ethics _(akhlaq),_ and mysticism it\\nhas been applied with various different meanings. However it gives the same\\nbasic meaning in all of these sciences, but when viewed from different aspects\\nit can be regarded differently, such as ‘the different forms of oneness’ or\\n‘the different levels of oneness’. The investigation of these offshoots cannot\\nbe comprised in these writings.\\n\\nTherefore, from this angle it is sufficient enough that we bring the most\\nsignificant and befitting arguments for our explanation:\\n\\n## The Negation Of Plurality\\n\\nThe initial and distinguished meaning of monotheism is that very believing in\\nthe unity of God and negation of plurality and multiplicity outside its\\nessence. This belief is in complete opposition to polytheism, and the belief\\nin two or more gods who are independent and apart in their existence from each\\nother.\\n\\n## The Negation Of Composition\\n\\nhe second terminological meaning of monotheism is to believe in oneness, and\\nto believe that the essence is self-evident and not composed of actual or\\npotential parts.\\n\\nThis meaning is usually interpreted as the negative attributes _(al-sifat al-\\nsalbiyyah)_ (mentioned in lesson ten), because our mind is more familiar with\\ncompositional concepts as compared to the concept of self-evidence.\\nid: epub-24542662e8fa47f2b48246bcd9c6c2e9\\ntitle: Theological Instructions (Amuzish-e Aqa'id)\\nauthor: Muhammad Taqi Misbah Yazdi\\nlanguage: en\\ndescription: \\ntype: epub\\nembeddings: openaiembeddings\\n\\nHowever, it can never be accepted that several causes can bestow\\nexistence for an effect, or that several lords and independent administrators\\ncan be assumed for administrating the universe.\\n\\nBased on this argument for nullifying this illusion, one must focus upon the\\nmeaning and the peculiarities of this cause that bestows existence until it is\\nknown that the profusion of this cause is impossible. Furthermore, one must\\ncontemplate upon the coherence of the creation until reaching the realization\\nthat several gods could not possibly create this type of order, or numerous\\nlords administer this type of universe.\\n\\nLikewise it became clear for some of the qualified and saintly individuals of\\nGod, that by accepting Divine authority _(wilayah al-takwiniyyah)_ in a\\nsetting where there is no independent lordship or creatorship over them, the\\noneness of God would not be negated. The legislative authority _(wilayah al-\\ntashri’iyyah)_ of the Prophet (S) and Imams (‘a) is not inconsistent with the\\nDivine legislative lordship _(rububiyyah al- tashri’iyyah)_ , because it comes\\nwith the Divine degree.\\n\\n## Questions\\n\\n1- Explain the causes for the development of polytheism.\\n\\n2- What is the basis of polytheism?\\n\\n3- Why can one not assume that a phenomenon has several gods?\\n\\n4- What difference is caused if one considers that the creation created by one\\ngod has several lords to administer it?\\n\\n5- Why can one not regard every group of creation to be created by its\\nparticular god?\\n\\n6- How would you criticise the assumption that the entire universe is created\\nby one God, and at the same time claim that there are many lords and\\nexecuters?\\n\\n7- From where does the illusion of several gods come from, and how can it be\\nnullified?\\n\\n8- Why does it make no difference to the oneness of lordship and creatorship,\\nif one believes in the Divine authority for the saints?\"]...'\n",
      "[INFO] Final response from LLM: '# Answer:\n",
      "\n",
      "## Key Components:\n",
      "1. **Why is there only one God?**\n",
      "   - Explanation of monotheism and the oneness of God.\n",
      "   - Critique of polytheistic beliefs.\n",
      "   - Arguments against the existence of multiple gods.\n",
      "\n",
      "## Chain-of-Thought Reasoning:\n",
      "\n",
      "### Explanation of Monotheism and Oneness of God:\n",
      "1. **Monotheism Definition:**\n",
      "   - Monotheism refers to the belief in the existence of only one God.\n",
      "   - It involves the negation of plurality and multiplicity in the essence of God.\n",
      "   - Monotheism opposes polytheism, which believes in multiple independent gods.\n",
      "\n",
      "2. **Oneness of God:**\n",
      "   - The oneness of God is a fundamental concept in monotheistic religions.\n",
      "   - It signifies that there is only one supreme being who is the creator and lord of the universe.\n",
      "   - Monotheism emphasizes the unity and uniqueness of God's essence.\n",
      "\n",
      "### Critique of Polytheistic Beliefs:\n",
      "1. **Polytheistic Beliefs:**\n",
      "   - Polytheism involves the belief in multiple gods, each with independent powers and authorities.\n",
      "   - Polytheists may recognize a primary creator but also attribute lordship to other secondary gods or entities.\n",
      "\n",
      "2. **Critique of Polytheism:**\n",
      "   - The context presents arguments against polytheism, highlighting the impossibility of multiple gods creating and governing the universe.\n",
      "   - It argues that the coherence and order in the universe point to a singular creator and lord.\n",
      "   - The interconnectedness of phenomena and the continuity of existence refute the idea of multiple independent gods.\n",
      "\n",
      "### Arguments Against Multiple Gods:\n",
      "1. **Impossibility of Multiple Creators:**\n",
      "   - If multiple gods created existents, there would be a proliferation of existents, contradicting the observed unity in the universe.\n",
      "   - The concept of each phenomenon having a specific creator leads to a fragmented and chaotic universe, contrary to the observed order.\n",
      "\n",
      "2. **Unity of Lordship and Creatorship:**\n",
      "   - The context emphasizes that true lordship and creatorship are inseparable.\n",
      "   - Belief in multiple lords or executors alongside a single creator disrupts the unity and coherence of the divine authority.\n",
      "\n",
      "### Conclusion:\n",
      "- The concept of monotheism asserts the existence of only one God, emphasizing the unity, uniqueness, and oneness of the divine essence.\n",
      "- Arguments against polytheism highlight the logical inconsistencies and incoherence of believing in multiple gods governing the universe.\n",
      "- The interconnectedness and order in the universe point towards a singular creator and lord, nullifying the possibility of multiple gods.\n",
      "\n",
      "# References:\n",
      "## Context Id: epub-24542662e8fa47f2b48246bcd9c6c2e9\n",
      "Excerpts from \"Theological Instructions (Amuzish-e Aqa'id)\" by Muhammad Taqi Misbah Yazdi.'\n"
     ]
    }
   ],
   "source": [
    "answer_md = generate_answer(question=question, documents=nodes_with_scores, answer_prompt=answer_prompt, response_mode=ResponseMode.SIMPLE_SUMMARIZE, verbose=True)"
   ]
  },
  {
   "cell_type": "code",
   "execution_count": 31,
   "metadata": {},
   "outputs": [
    {
     "name": "stdout",
     "output_type": "stream",
     "text": [
      "# Answer:\n",
      "\n",
      "## Key Components:\n",
      "1. **Why is there only one God?**\n",
      "   - Explanation of monotheism and the oneness of God.\n",
      "   - Critique of polytheistic beliefs.\n",
      "   - Arguments against the existence of multiple gods.\n",
      "\n",
      "## Chain-of-Thought Reasoning:\n",
      "\n",
      "### Explanation of Monotheism and Oneness of God:\n",
      "1. **Monotheism Definition:**\n",
      "   - Monotheism refers to the belief in the existence of only one God.\n",
      "   - It involves the negation of plurality and multiplicity in the essence of God.\n",
      "   - Monotheism opposes polytheism, which believes in multiple independent gods.\n",
      "\n",
      "2. **Oneness of God:**\n",
      "   - The oneness of God is a fundamental concept in monotheistic religions.\n",
      "   - It signifies that there is only one supreme being who is the creator and lord of the universe.\n",
      "   - Monotheism emphasizes the unity and uniqueness of God's essence.\n",
      "\n",
      "### Critique of Polytheistic Beliefs:\n",
      "1. **Polytheistic Beliefs:**\n",
      "   - Polytheism involves the belief in multiple gods, each with independent powers and authorities.\n",
      "   - Polytheists may recognize a primary creator but also attribute lordship to other secondary gods or entities.\n",
      "\n",
      "2. **Critique of Polytheism:**\n",
      "   - The context presents arguments against polytheism, highlighting the impossibility of multiple gods creating and governing the universe.\n",
      "   - It argues that the coherence and order in the universe point to a singular creator and lord.\n",
      "   - The interconnectedness of phenomena and the continuity of existence refute the idea of multiple independent gods.\n",
      "\n",
      "### Arguments Against Multiple Gods:\n",
      "1. **Impossibility of Multiple Creators:**\n",
      "   - If multiple gods created existents, there would be a proliferation of existents, contradicting the observed unity in the universe.\n",
      "   - The concept of each phenomenon having a specific creator leads to a fragmented and chaotic universe, contrary to the observed order.\n",
      "\n",
      "2. **Unity of Lordship and Creatorship:**\n",
      "   - The context emphasizes that true lordship and creatorship are inseparable.\n",
      "   - Belief in multiple lords or executors alongside a single creator disrupts the unity and coherence of the divine authority.\n",
      "\n",
      "### Conclusion:\n",
      "- The concept of monotheism asserts the existence of only one God, emphasizing the unity, uniqueness, and oneness of the divine essence.\n",
      "- Arguments against polytheism highlight the logical inconsistencies and incoherence of believing in multiple gods governing the universe.\n",
      "- The interconnectedness and order in the universe point towards a singular creator and lord, nullifying the possibility of multiple gods.\n",
      "\n",
      "# References:\n",
      "## Context Id: epub-24542662e8fa47f2b48246bcd9c6c2e9\n",
      "Excerpts from \"Theological Instructions (Amuzish-e Aqa'id)\" by Muhammad Taqi Misbah Yazdi.\n"
     ]
    }
   ],
   "source": [
    "print(answer_md)"
   ]
  },
  {
   "cell_type": "markdown",
   "metadata": {},
   "source": [
    "`TREE_SUMMARIZE`:\n",
    "\n",
    "Build a tree index over the set of candidate nodes, with a summary prompt seeded with the query. The tree is built in a bottoms-up fashion, and in the end the root node is returned as the response"
   ]
  },
  {
   "cell_type": "code",
   "execution_count": 20,
   "metadata": {},
   "outputs": [
    {
     "name": "stdout",
     "output_type": "stream",
     "text": [
      "[INFO] Received query: 'Why is there only one God?'\n",
      "[INFO] Formatted summary template: 'metadata={'prompt_type': <PromptType.CUSTOM: 'custom'>} template_vars=['context_str', 'query_str'] kwargs={'query_str': 'Why is there only one God?'} output_parser=None template_var_mappings=None function_mappings=None template='You are a knowledgeable AI assistant tasked with answering questions based on the provided context. Your goal is to provide a comprehensive, accurate, and well-structured response using Chain-of-Thought reasoning.\\n\\nContext:\\n{context_str}\\n\\nQuestion: {query_str}\\n\\nInstructions:\\n1. Carefully analyze the given context and question.\\n2. Use Chain-of-Thought reasoning to break down your answer into clear steps:\\n   a. First, identify the key components of the question, such as sub-problems that need to be explained before an answer can be derived\\n   b. Then, for each component, explain your thought process as you analyze the relevant information from the context.\\n   c. Show how you\\'re connecting different pieces of information to form your conclusion.\\n3. Provide a detailed answer using only the information from the context.\\n4. If the context doesn\\'t contain enough information to fully answer the question, state this clearly and explain why.\\n5. Organize your response with appropriate headings and subheadings for clarity.\\n6. Use bullet points or numbered lists where applicable to improve readability.\\n7. If relevant, include brief examples or analogies to illustrate key points.\\n8. After your detailed Chain-of-Thought reasoning, summarize your main points at the end of the response.\\n9. At the end, list all the contexts used in your reasoning. After your response, add a \"References\" section where you list the full contexts that you used arrive at your answer. Provide as much detail as available from each context (e.g., book title, author, full text of the relevant contexts. For video sources, include the url to the video.\\n\\nFor the references, use the format:\\n\\n# References:\\n(for each context:)\\n## Context Id: title\\nContext excerpt (print as it is)\\n\\nPlease format your entire response in markdown for optimal readability.\\n''\n",
      "4 text chunks after repacking\n",
      "[INFO] Using synchronous processing for chunks.\n",
      "[INFO] Summary for chunk 1: '# Answer:\n",
      "\n",
      "## Key Components:\n",
      "1. **Monotheism vs. Polytheism**: Understanding the concept of monothe...'\n",
      "[INFO] Summary for chunk 2: '# Answer:\n",
      "\n",
      "## Key Components:\n",
      "1. **Monotheism vs. Polytheism**: Understanding the concept of monothe...'\n",
      "[INFO] Summary for chunk 3: '# Answer:\n",
      "\n",
      "## Key Components:\n",
      "1. **Basis of Polytheism**\n",
      "2. **Why Multiple Gods are Not Assumed**\n",
      "3....'\n",
      "[INFO] Summary for chunk 4: '# Answer:\n",
      "\n",
      "## Key Components:\n",
      "1. **The concept of monotheism:** Understanding why monotheistic relig...'\n",
      "[INFO] Recursively summarizing the summaries.\n",
      "[INFO] Received query: 'Why is there only one God?'\n",
      "[INFO] Formatted summary template: 'metadata={'prompt_type': <PromptType.CUSTOM: 'custom'>} template_vars=['context_str', 'query_str'] kwargs={'query_str': 'Why is there only one God?'} output_parser=None template_var_mappings=None function_mappings=None template='You are a knowledgeable AI assistant tasked with answering questions based on the provided context. Your goal is to provide a comprehensive, accurate, and well-structured response using Chain-of-Thought reasoning.\\n\\nContext:\\n{context_str}\\n\\nQuestion: {query_str}\\n\\nInstructions:\\n1. Carefully analyze the given context and question.\\n2. Use Chain-of-Thought reasoning to break down your answer into clear steps:\\n   a. First, identify the key components of the question, such as sub-problems that need to be explained before an answer can be derived\\n   b. Then, for each component, explain your thought process as you analyze the relevant information from the context.\\n   c. Show how you\\'re connecting different pieces of information to form your conclusion.\\n3. Provide a detailed answer using only the information from the context.\\n4. If the context doesn\\'t contain enough information to fully answer the question, state this clearly and explain why.\\n5. Organize your response with appropriate headings and subheadings for clarity.\\n6. Use bullet points or numbered lists where applicable to improve readability.\\n7. If relevant, include brief examples or analogies to illustrate key points.\\n8. After your detailed Chain-of-Thought reasoning, summarize your main points at the end of the response.\\n9. At the end, list all the contexts used in your reasoning. After your response, add a \"References\" section where you list the full contexts that you used arrive at your answer. Provide as much detail as available from each context (e.g., book title, author, full text of the relevant contexts. For video sources, include the url to the video.\\n\\nFor the references, use the format:\\n\\n# References:\\n(for each context:)\\n## Context Id: title\\nContext excerpt (print as it is)\\n\\nPlease format your entire response in markdown for optimal readability.\\n''\n",
      "1 text chunks after repacking\n",
      "[INFO] Using predict mode (non-streaming).\n",
      "[INFO] Response from LLM: '# Answer:\n",
      "\n",
      "## Key Components:\n",
      "1. **Monotheistic Beliefs**: Understanding the core tenets of monotheistic religions.\n",
      "2. **Reasoning for One God**: Exploring the rationale behind the belief in a singular deity.\n",
      "\n",
      "## Chain-of-Thought Reasoning:\n",
      "\n",
      "### 1. Monotheistic Beliefs:\n",
      "- **Historical Context**: Monotheistic religions like Judaism, Christianity, and Islam have long upheld the belief in one God.\n",
      "- **Scriptural Basis**: Texts such as the Bible and the Quran explicitly state the oneness of God and prohibit worship of multiple deities.\n",
      "- **Central Tenet**: Monotheism emphasizes the uniqueness and supremacy of a single divine being.\n",
      "\n",
      "### 2. Reasoning for One God:\n",
      "- **Unity of Creation**: Monotheistic faiths argue that a singular God is the source of creation, implying a unified origin for all existence.\n",
      "- **Logical Consistency**: Belief in one God provides a coherent worldview, avoiding conflicts and contradictions that may arise from multiple deities.\n",
      "- **Supremacy and Sovereignty**: One God is seen as the ultimate authority, eliminating the need for competing powers and establishing a clear hierarchy.\n",
      "- **Uniqueness and Perfection**: A singular deity is associated with perfection and uniqueness, qualities that cannot be shared among multiple beings without diminishing significance.\n",
      "\n",
      "## Summary:\n",
      "Monotheistic religions uphold the belief in one God as a fundamental principle, rooted in historical traditions, scriptural teachings, and philosophical reasoning. The oneness of God is seen as a logical necessity to maintain coherence, avoid conflicts, and establish a clear hierarchy in the divine realm. The supremacy, uniqueness, and perfection attributed to a singular deity provide a foundation for monotheistic faiths and their understanding of the divine.\n",
      "\n",
      "# References:\n",
      "## Context Id: 1\n",
      "By explaining the contradiction in this belief, it is possible to nullify the argument of those who hold such a view. In order to establish the oneness of God, the Supreme, many arguments have been demonstrated in the different books of theology and philosophy. Here we are going to demonstrate an argument, which encompasses the oneness of lordship and rejects the polytheistic beliefs.'\n"
     ]
    }
   ],
   "source": [
    "from llama_index.core.response_synthesizers import TreeSummarize\n",
    "\n",
    "summarizer = TreeSummarize(verbose=True, summary_template=answer_prompt, llm=llm)\n",
    "\n",
    "response = summarizer.get_response(question, str(nodes_with_scores))"
   ]
  },
  {
   "cell_type": "code",
   "execution_count": 22,
   "metadata": {},
   "outputs": [
    {
     "name": "stdout",
     "output_type": "stream",
     "text": [
      "# Answer:\n",
      "\n",
      "## Key Components:\n",
      "1. **Monotheistic Beliefs**: Understanding the core tenets of monotheistic religions.\n",
      "2. **Reasoning for One God**: Exploring the rationale behind the belief in a singular deity.\n",
      "\n",
      "## Chain-of-Thought Reasoning:\n",
      "\n",
      "### 1. Monotheistic Beliefs:\n",
      "- **Historical Context**: Monotheistic religions like Judaism, Christianity, and Islam have long upheld the belief in one God.\n",
      "- **Scriptural Basis**: Texts such as the Bible and the Quran explicitly state the oneness of God and prohibit worship of multiple deities.\n",
      "- **Central Tenet**: Monotheism emphasizes the uniqueness and supremacy of a single divine being.\n",
      "\n",
      "### 2. Reasoning for One God:\n",
      "- **Unity of Creation**: Monotheistic faiths argue that a singular God is the source of creation, implying a unified origin for all existence.\n",
      "- **Logical Consistency**: Belief in one God provides a coherent worldview, avoiding conflicts and contradictions that may arise from multiple deities.\n",
      "- **Supremacy and Sovereignty**: One God is seen as the ultimate authority, eliminating the need for competing powers and establishing a clear hierarchy.\n",
      "- **Uniqueness and Perfection**: A singular deity is associated with perfection and uniqueness, qualities that cannot be shared among multiple beings without diminishing significance.\n",
      "\n",
      "## Summary:\n",
      "Monotheistic religions uphold the belief in one God as a fundamental principle, rooted in historical traditions, scriptural teachings, and philosophical reasoning. The oneness of God is seen as a logical necessity to maintain coherence, avoid conflicts, and establish a clear hierarchy in the divine realm. The supremacy, uniqueness, and perfection attributed to a singular deity provide a foundation for monotheistic faiths and their understanding of the divine.\n",
      "\n",
      "# References:\n",
      "## Context Id: 1\n",
      "By explaining the contradiction in this belief, it is possible to nullify the argument of those who hold such a view. In order to establish the oneness of God, the Supreme, many arguments have been demonstrated in the different books of theology and philosophy. Here we are going to demonstrate an argument, which encompasses the oneness of lordship and rejects the polytheistic beliefs.\n"
     ]
    }
   ],
   "source": [
    "print(response)"
   ]
  },
  {
   "cell_type": "markdown",
   "metadata": {},
   "source": [
    "`GENERATION`:\n",
    "\n",
    "Ignore context, just use LLM to generate a response."
   ]
  },
  {
   "cell_type": "code",
   "execution_count": 22,
   "metadata": {},
   "outputs": [
    {
     "name": "stdout",
     "output_type": "stream",
     "text": [
      "[INFO] Received query: 'Why is there only one God?'\n",
      "[INFO] Input prompt being used: 'metadata={'prompt_type': <PromptType.SIMPLE_INPUT: 'simple_input'>} template_vars=['query_str'] kwargs={} output_parser=None template_var_mappings=None function_mappings=None template='{query_str}''\n",
      "[INFO] Using predict mode (non-streaming).\n",
      "[INFO] Response from LLM: 'In monotheistic religions such as Christianity, Islam, and Judaism, there is only one God because it is believed that there is only one ultimate, supreme being who is all-powerful, all-knowing, and all-loving. This belief is based on the idea that there can only be one source of ultimate truth, goodness, and power in the universe. Additionally, monotheistic religions teach that God is indivisible and cannot be divided into multiple beings.'\n"
     ]
    }
   ],
   "source": [
    "answer_md = generate_answer(question=question, documents=nodes_with_scores, answer_prompt=answer_prompt, response_mode=ResponseMode.GENERATION, verbose=True)"
   ]
  },
  {
   "cell_type": "code",
   "execution_count": 23,
   "metadata": {},
   "outputs": [
    {
     "name": "stdout",
     "output_type": "stream",
     "text": [
      "In monotheistic religions such as Christianity, Islam, and Judaism, there is only one God because it is believed that there is only one ultimate, supreme being who is all-powerful, all-knowing, and all-loving. This belief is based on the idea that there can only be one source of ultimate truth, goodness, and power in the universe. Additionally, monotheistic religions teach that God is indivisible and cannot be divided into multiple beings.\n"
     ]
    }
   ],
   "source": [
    "print(answer_md)"
   ]
  },
  {
   "cell_type": "markdown",
   "metadata": {},
   "source": [
    "`NO_TEXT`:\n",
    "\n",
    "Return the retrieved context nodes, without synthesizing a final response."
   ]
  },
  {
   "cell_type": "code",
   "execution_count": 29,
   "metadata": {},
   "outputs": [
    {
     "name": "stdout",
     "output_type": "stream",
     "text": [
      "None\n"
     ]
    }
   ],
   "source": [
    "answer_md = generate_answer(question=question, documents=nodes_with_scores, answer_prompt=answer_prompt, response_mode=ResponseMode.NO_TEXT, verbose=True)\n",
    "print(answer_md) # this will return nothing since the response mode is set to NO_TEXT"
   ]
  },
  {
   "cell_type": "code",
   "execution_count": 24,
   "metadata": {},
   "outputs": [
    {
     "name": "stdout",
     "output_type": "stream",
     "text": [
      "[NodeWithScore(node=TextNode(id_='3588e51f-2d98-479d-ac3e-64276f1f8963', embedding=None, metadata={'id': 'epub-24542662e8fa47f2b48246bcd9c6c2e9', 'title': \"Theological Instructions (Amuzish-e Aqa'id)\", 'author': 'Muhammad Taqi Misbah Yazdi', 'language': 'en', 'description': '', 'type': 'epub', 'embeddings': 'openaiembeddings'}, excluded_embed_metadata_keys=['file_name', 'file_type', 'file_size', 'creation_date', 'last_modified_date', 'last_accessed_date'], excluded_llm_metadata_keys=['file_name', 'file_type', 'file_size', 'creation_date', 'last_modified_date', 'last_accessed_date'], relationships={<NodeRelationship.SOURCE: '1'>: RelatedNodeInfo(node_id='a68c1e50-47bc-467a-9589-0a84bf4d0357', node_type=<ObjectType.DOCUMENT: '4'>, metadata={'id': 'epub-24542662e8fa47f2b48246bcd9c6c2e9', 'title': \"Theological Instructions (Amuzish-e Aqa'id)\", 'author': 'Muhammad Taqi Misbah Yazdi', 'language': 'en', 'description': '', 'type': 'epub', 'embeddings': 'openaiembeddings'}, hash='c31b0860b0e4f814a78c7debf6367c2afd50d977ac6278f307767efcf5e6807b'), <NodeRelationship.PREVIOUS: '2'>: RelatedNodeInfo(node_id='668c5c52-f9c3-448e-a47c-248dcc096cd5', node_type=<ObjectType.TEXT: '1'>, metadata={'id': 'epub-24542662e8fa47f2b48246bcd9c6c2e9', 'title': \"Theological Instructions (Amuzish-e Aqa'id)\", 'author': 'Muhammad Taqi Misbah Yazdi', 'language': 'en', 'description': '', 'type': 'epub', 'embeddings': 'openaiembeddings'}, hash='6c47a9fd0c395a7c07868f26aaf6f50350034a0b2fac6bd08d59f85d701e20ac'), <NodeRelationship.NEXT: '3'>: RelatedNodeInfo(node_id='e05ab6c3-8a84-418d-9531-4fe1a2f17b66', node_type=<ObjectType.TEXT: '1'>, metadata={}, hash='1a84c2f5e86615ed7e2293a42650a9399f82974519d9c2019363a4f11303a448')}, text='There is no power except by Allah!” (Holy\\nQur’an,[18:39](/printepub/book/export/html/123734#quran_ref_189052)).** _\\n\\n### D. The Two Important Results Achieved\\n\\nThe result of the unity of Divine action is that nothing other than God\\ndeserves worship, because as we have indicated before, a being does not\\ndeserve to be worshipped by just being a creator or a lord. In other words,\\nDivinity _(uluhiyyah)_ is the necessary condition of lordship and creatorship.\\n\\nFrom another angle, the result of monotheism in the latter meaning is that the\\nentirety of human reliance must be upon God, and in all of works He must be\\ntrusted and solely from Him help must be requested. Man’s fear and hope ought\\nto be from Him, and when the sources for the completion of needs are out of\\nreach, one must not despair, because God is capable of furnishing all needs\\nfrom His distinctive and hidden source.\\n\\nLiving under such monotheistic circumstances results in mankind enjoying a\\nspecial Divine authority _(wilayah)_ and having a unique and tranquil soul:\\n\\n_**“Look! The friends of Allah will indeed have no fear nor will they grieve”\\n(Holy Qur’an,[10:62](/printepub/book/export/html/123734#quran_ref_189053)). **\\n_\\n\\nThese two results have already been placed in the verse that a Muslim recites\\nat-least ten times a day:\\n\\n_**“You [alone] do we worship, and You [alone] do we turn for help” (Holy\\nQur’an,[1:6](/printepub/book/export/html/123734#quran_ref_189056)).** _\\n\\n### E. The Resolution Of A Doubt\\n\\nIt is possible that one may question, that if the necessity of perfect\\nmonotheism is that humans seek help exclusively from God, they should not then\\nseek intercession from the saints of God.', mimetype='text/plain', start_char_idx=175107, end_char_idx=176782, text_template='{metadata_str}\\n\\n{content}', metadata_template='{key}: {value}', metadata_seperator='\\n'), score=0.06530936012691699), NodeWithScore(node=TextNode(id_='9fd3899c-0608-43d2-8768-39bbdb0e5d42', embedding=None, metadata={'id': 'epub-24542662e8fa47f2b48246bcd9c6c2e9', 'title': \"Theological Instructions (Amuzish-e Aqa'id)\", 'author': 'Muhammad Taqi Misbah Yazdi', 'language': 'en', 'description': '', 'type': 'epub', 'embeddings': 'openaiembeddings'}, excluded_embed_metadata_keys=['file_name', 'file_type', 'file_size', 'creation_date', 'last_modified_date', 'last_accessed_date'], excluded_llm_metadata_keys=['file_name', 'file_type', 'file_size', 'creation_date', 'last_modified_date', 'last_accessed_date'], relationships={<NodeRelationship.SOURCE: '1'>: RelatedNodeInfo(node_id='a68c1e50-47bc-467a-9589-0a84bf4d0357', node_type=<ObjectType.DOCUMENT: '4'>, metadata={'id': 'epub-24542662e8fa47f2b48246bcd9c6c2e9', 'title': \"Theological Instructions (Amuzish-e Aqa'id)\", 'author': 'Muhammad Taqi Misbah Yazdi', 'language': 'en', 'description': '', 'type': 'epub', 'embeddings': 'openaiembeddings'}, hash='c31b0860b0e4f814a78c7debf6367c2afd50d977ac6278f307767efcf5e6807b'), <NodeRelationship.PREVIOUS: '2'>: RelatedNodeInfo(node_id='632a27d7-4721-4229-b881-762e353d3960', node_type=<ObjectType.TEXT: '1'>, metadata={'id': 'epub-24542662e8fa47f2b48246bcd9c6c2e9', 'title': \"Theological Instructions (Amuzish-e Aqa'id)\", 'author': 'Muhammad Taqi Misbah Yazdi', 'language': 'en', 'description': '', 'type': 'epub', 'embeddings': 'openaiembeddings'}, hash='4cc4539b317cee4c4e52b9a5ed4316b838467cbccc77982143ec9cf71d59a4da'), <NodeRelationship.NEXT: '3'>: RelatedNodeInfo(node_id='78954220-7810-4b0e-b29d-01f694936826', node_type=<ObjectType.TEXT: '1'>, metadata={}, hash='1d15e7bec62f2e7e84e004330ba3f65d2099a10001d33572f3850701bc0ebf68')}, text='By explaining the\\ncontradiction in this belief, it is possible to nullify the argument of those\\nwho held such a view.\\n\\nIn order to establish the oneness of God, the Supreme, many arguments have\\nbeen demonstrated in the different books of theology and philosophy. Here we\\nare going to demonstrate an argument, which encompasses the oneness of\\nlordship and rejects the polytheistic beliefs.\\n\\n## Proofs For The Oneness Of God\\n\\nThe assumption that the universe has two or more gods can solely be imagined\\nthrough a few possibilities:\\n\\nFirstly, it can be considered that every phenomenon of the universe is created\\nand is an effect of all the assumed gods. The second assumption could be that\\neach particular group of phenomena is an effect (or created by a particular\\ngod) of one of the assumed gods. Finally, the third assumption is that all of\\nthe phenomena are created by one of these assumed gods and the other gods are\\nrecognized as the managers of the universe.\\n\\nHowever, it is impossible to assume that every phenomenon has several gods. If\\ntwo or more gods created an existent, it would imply that each of the assumed\\ngods would create an existent. This would result in many existents, whereas in\\nreality there is only one.\\n\\nIf it is to be assumed that a particular god creates each particular\\nphenomenon, this will imply that each phenomenon exists because of its\\nparticular god. Furthermore, they must not require or depend upon any other\\nexistent unless the (dependency) need returns to their particular god. This\\ntype of requirement or need must be upon the existent, which is created by\\nthat very creator who has created that particular group.\\n\\nIn other words, the assumption of having more than one god necessitates the\\norder in the universe to be multifarious and deteriorating. In reality there\\nis only one order and all phenomena are related and effectual upon each other\\nand at the same time need each other.\\n\\nFurthermore, the present phenomenon is linked with the former phenomenon and\\nevery coexisting phenomenon creates grounds for future phenomena.', mimetype='text/plain', start_char_idx=162403, end_char_idx=164469, text_template='{metadata_str}\\n\\n{content}', metadata_template='{key}: {value}', metadata_seperator='\\n'), score=0.049206349206349205), NodeWithScore(node=TextNode(id_='dfe32e70-a796-47f1-82f4-299f82d59a52', embedding=None, metadata={'id': 'epub-24542662e8fa47f2b48246bcd9c6c2e9', 'title': \"Theological Instructions (Amuzish-e Aqa'id)\", 'author': 'Muhammad Taqi Misbah Yazdi', 'language': 'en', 'description': '', 'type': 'epub', 'embeddings': 'openaiembeddings'}, excluded_embed_metadata_keys=['file_name', 'file_type', 'file_size', 'creation_date', 'last_modified_date', 'last_accessed_date'], excluded_llm_metadata_keys=['file_name', 'file_type', 'file_size', 'creation_date', 'last_modified_date', 'last_accessed_date'], relationships={<NodeRelationship.SOURCE: '1'>: RelatedNodeInfo(node_id='a68c1e50-47bc-467a-9589-0a84bf4d0357', node_type=<ObjectType.DOCUMENT: '4'>, metadata={'id': 'epub-24542662e8fa47f2b48246bcd9c6c2e9', 'title': \"Theological Instructions (Amuzish-e Aqa'id)\", 'author': 'Muhammad Taqi Misbah Yazdi', 'language': 'en', 'description': '', 'type': 'epub', 'embeddings': 'openaiembeddings'}, hash='c31b0860b0e4f814a78c7debf6367c2afd50d977ac6278f307767efcf5e6807b'), <NodeRelationship.PREVIOUS: '2'>: RelatedNodeInfo(node_id='e052355d-540a-40b9-be90-484b672e73b4', node_type=<ObjectType.TEXT: '1'>, metadata={'id': 'epub-24542662e8fa47f2b48246bcd9c6c2e9', 'title': \"Theological Instructions (Amuzish-e Aqa'id)\", 'author': 'Muhammad Taqi Misbah Yazdi', 'language': 'en', 'description': '', 'type': 'epub', 'embeddings': 'openaiembeddings'}, hash='4ed77cdf84867911d446996799cd0b13565e05c6f13dfc3d82912a7a7823f546'), <NodeRelationship.NEXT: '3'>: RelatedNodeInfo(node_id='a3bbf8c6-7116-4374-b478-5ccd2da52e7f', node_type=<ObjectType.TEXT: '1'>, metadata={}, hash='e671ccac5eefb13393519b58b442c025510b7741b8fd3fb23c008d38eb134ce5')}, text='5- Why can one not regard every group of creation to be created by its\\nparticular god?\\n\\n6- How would you criticise the assumption that the entire universe is created\\nby one God, and at the same time claim that there are many lords and\\nexecuters?\\n\\n7- From where does the illusion of several gods come from, and how can it be\\nnullified?\\n\\n8- Why does it make no difference to the oneness of lordship and creatorship,\\nif one believes in the Divine authority for the saints?\\n\\n# Lesson 17: The Meaning Of The Oneness Of The God\\n\\n## Introduction\\n\\nThe word monotheism from the lexical point of view means ‘oneness or unity’,\\nbut in philosophy, scholastic theology, ethics _(akhlaq),_ and mysticism it\\nhas been applied with various different meanings. However it gives the same\\nbasic meaning in all of these sciences, but when viewed from different aspects\\nit can be regarded differently, such as ‘the different forms of oneness’ or\\n‘the different levels of oneness’. The investigation of these offshoots cannot\\nbe comprised in these writings.\\n\\nTherefore, from this angle it is sufficient enough that we bring the most\\nsignificant and befitting arguments for our explanation:\\n\\n## The Negation Of Plurality\\n\\nThe initial and distinguished meaning of monotheism is that very believing in\\nthe unity of God and negation of plurality and multiplicity outside its\\nessence. This belief is in complete opposition to polytheism, and the belief\\nin two or more gods who are independent and apart in their existence from each\\nother.\\n\\n## The Negation Of Composition\\n\\nhe second terminological meaning of monotheism is to believe in oneness, and\\nto believe that the essence is self-evident and not composed of actual or\\npotential parts.\\n\\nThis meaning is usually interpreted as the negative attributes _(al-sifat al-\\nsalbiyyah)_ (mentioned in lesson ten), because our mind is more familiar with\\ncompositional concepts as compared to the concept of self-evidence.', mimetype='text/plain', start_char_idx=167801, end_char_idx=169737, text_template='{metadata_str}\\n\\n{content}', metadata_template='{key}: {value}', metadata_seperator='\\n'), score=0.048958333333333326), NodeWithScore(node=TextNode(id_='632a27d7-4721-4229-b881-762e353d3960', embedding=None, metadata={'id': 'epub-24542662e8fa47f2b48246bcd9c6c2e9', 'title': \"Theological Instructions (Amuzish-e Aqa'id)\", 'author': 'Muhammad Taqi Misbah Yazdi', 'language': 'en', 'description': '', 'type': 'epub', 'embeddings': 'openaiembeddings'}, excluded_embed_metadata_keys=['file_name', 'file_type', 'file_size', 'creation_date', 'last_modified_date', 'last_accessed_date'], excluded_llm_metadata_keys=['file_name', 'file_type', 'file_size', 'creation_date', 'last_modified_date', 'last_accessed_date'], relationships={<NodeRelationship.SOURCE: '1'>: RelatedNodeInfo(node_id='a68c1e50-47bc-467a-9589-0a84bf4d0357', node_type=<ObjectType.DOCUMENT: '4'>, metadata={'id': 'epub-24542662e8fa47f2b48246bcd9c6c2e9', 'title': \"Theological Instructions (Amuzish-e Aqa'id)\", 'author': 'Muhammad Taqi Misbah Yazdi', 'language': 'en', 'description': '', 'type': 'epub', 'embeddings': 'openaiembeddings'}, hash='c31b0860b0e4f814a78c7debf6367c2afd50d977ac6278f307767efcf5e6807b'), <NodeRelationship.PREVIOUS: '2'>: RelatedNodeInfo(node_id='df882b25-3f64-4888-bf36-6521b524e627', node_type=<ObjectType.TEXT: '1'>, metadata={'id': 'epub-24542662e8fa47f2b48246bcd9c6c2e9', 'title': \"Theological Instructions (Amuzish-e Aqa'id)\", 'author': 'Muhammad Taqi Misbah Yazdi', 'language': 'en', 'description': '', 'type': 'epub', 'embeddings': 'openaiembeddings'}, hash='f36ba9f201c3b0216dfe1de2899ccdf570c73926b1431bd64799afa3b057804b'), <NodeRelationship.NEXT: '3'>: RelatedNodeInfo(node_id='9fd3899c-0608-43d2-8768-39bbdb0e5d42', node_type=<ObjectType.TEXT: '1'>, metadata={}, hash='60ff9eef2ed1c819dc1a58280e30685a55864a29425d5f3b140df8ccb4153dd2')}, text='Furthermore, they considered a type of lordship for themselves and also\\nregarded satanic worship as part of their rituals. Such examples can be seen\\nin the past empires of China, India, Iran and Egypt.\\n\\nNevertheless polytheistic religions came under the influence of different\\nfactors and discernment among humans. Thus, a barrier was formed preventing\\npeople from understanding the true perfection, which was supposed to be\\napplied by the divine and monotheistic religions. The Noble Qur’an portrays\\nsuch struggles encountered by the prophets (‘a) of God and the polytheists.\\n\\nOn these bases, the foundation of polytheistic belief is to believe in the\\nlordship of an existent other than God the Supreme, for the appearance of some\\nof the universe’s phenomena. Furthermore, many polytheists had faith in the\\noneness of the Creator, and in reality they accepted the oneness of\\ncreatorship. However, on a lower realm they recognized other second level\\n\\ngods who administrated the world independently, and they called God the\\nCreator, the God of gods or Lord of the lords _(rabb al-arbab)_.\\n\\nThese gods, who administrate according to some, were known as angels, and were\\ncalled by the polytheist Arabs, the daughters of God. Some recognized them as\\nfairies and genies or some regarded them as the spirits of stars or humans\\nfrom the past, or as a type of invisible existent.\\n\\nIn lesson ten indications were made that creatorship and true lordship are\\ninseparable from each other, belief in the creatorship of God and the\\nacceptance of the lordship of others is not compatible. By explaining the\\ncontradiction in this belief, it is possible to nullify the argument of those\\nwho held such a view.\\n\\nIn order to establish the oneness of God, the Supreme, many arguments have\\nbeen demonstrated in the different books of theology and philosophy. Here we\\nare going to demonstrate an argument, which encompasses the oneness of\\nlordship and rejects the polytheistic beliefs.', mimetype='text/plain', start_char_idx=160829, end_char_idx=162791, text_template='{metadata_str}\\n\\n{content}', metadata_template='{key}: {value}', metadata_seperator='\\n'), score=0.04866871479774705), NodeWithScore(node=TextNode(id_='e052355d-540a-40b9-be90-484b672e73b4', embedding=None, metadata={'id': 'epub-24542662e8fa47f2b48246bcd9c6c2e9', 'title': \"Theological Instructions (Amuzish-e Aqa'id)\", 'author': 'Muhammad Taqi Misbah Yazdi', 'language': 'en', 'description': '', 'type': 'epub', 'embeddings': 'openaiembeddings'}, excluded_embed_metadata_keys=['file_name', 'file_type', 'file_size', 'creation_date', 'last_modified_date', 'last_accessed_date'], excluded_llm_metadata_keys=['file_name', 'file_type', 'file_size', 'creation_date', 'last_modified_date', 'last_accessed_date'], relationships={<NodeRelationship.SOURCE: '1'>: RelatedNodeInfo(node_id='a68c1e50-47bc-467a-9589-0a84bf4d0357', node_type=<ObjectType.DOCUMENT: '4'>, metadata={'id': 'epub-24542662e8fa47f2b48246bcd9c6c2e9', 'title': \"Theological Instructions (Amuzish-e Aqa'id)\", 'author': 'Muhammad Taqi Misbah Yazdi', 'language': 'en', 'description': '', 'type': 'epub', 'embeddings': 'openaiembeddings'}, hash='c31b0860b0e4f814a78c7debf6367c2afd50d977ac6278f307767efcf5e6807b'), <NodeRelationship.PREVIOUS: '2'>: RelatedNodeInfo(node_id='160d181b-eb2b-473b-a18c-bcc150becf55', node_type=<ObjectType.TEXT: '1'>, metadata={'id': 'epub-24542662e8fa47f2b48246bcd9c6c2e9', 'title': \"Theological Instructions (Amuzish-e Aqa'id)\", 'author': 'Muhammad Taqi Misbah Yazdi', 'language': 'en', 'description': '', 'type': 'epub', 'embeddings': 'openaiembeddings'}, hash='3e11e83b176cf138dc969ea95034c51e52a7e2d866207ff9a62ba27dfee1527d'), <NodeRelationship.NEXT: '3'>: RelatedNodeInfo(node_id='dfe32e70-a796-47f1-82f4-299f82d59a52', node_type=<ObjectType.TEXT: '1'>, metadata={}, hash='47660ced264d8b859d1bb4de61bfb76f77f94105b18bc084043488d5fdd15c26')}, text='However, it can never be accepted that several causes can bestow\\nexistence for an effect, or that several lords and independent administrators\\ncan be assumed for administrating the universe.\\n\\nBased on this argument for nullifying this illusion, one must focus upon the\\nmeaning and the peculiarities of this cause that bestows existence until it is\\nknown that the profusion of this cause is impossible. Furthermore, one must\\ncontemplate upon the coherence of the creation until reaching the realization\\nthat several gods could not possibly create this type of order, or numerous\\nlords administer this type of universe.\\n\\nLikewise it became clear for some of the qualified and saintly individuals of\\nGod, that by accepting Divine authority _(wilayah al-takwiniyyah)_ in a\\nsetting where there is no independent lordship or creatorship over them, the\\noneness of God would not be negated. The legislative authority _(wilayah al-\\ntashri’iyyah)_ of the Prophet (S) and Imams (‘a) is not inconsistent with the\\nDivine legislative lordship _(rububiyyah al- tashri’iyyah)_ , because it comes\\nwith the Divine degree.\\n\\n## Questions\\n\\n1- Explain the causes for the development of polytheism.\\n\\n2- What is the basis of polytheism?\\n\\n3- Why can one not assume that a phenomenon has several gods?\\n\\n4- What difference is caused if one considers that the creation created by one\\ngod has several lords to administer it?\\n\\n5- Why can one not regard every group of creation to be created by its\\nparticular god?\\n\\n6- How would you criticise the assumption that the entire universe is created\\nby one God, and at the same time claim that there are many lords and\\nexecuters?\\n\\n7- From where does the illusion of several gods come from, and how can it be\\nnullified?\\n\\n8- Why does it make no difference to the oneness of lordship and creatorship,\\nif one believes in the Divine authority for the saints?', mimetype='text/plain', start_char_idx=166404, end_char_idx=168270, text_template='{metadata_str}\\n\\n{content}', metadata_template='{key}: {value}', metadata_seperator='\\n'), score=0.048651507139079855)]\n"
     ]
    }
   ],
   "source": [
    "print(answer_md.source_nodes) # But this will return the source nodes"
   ]
  },
  {
   "cell_type": "markdown",
   "metadata": {},
   "source": [
    "`CONTEXT_ONLY`:\n",
    "\n",
    "Returns a concatenated string of all text chunks."
   ]
  },
  {
   "cell_type": "code",
   "execution_count": 30,
   "metadata": {},
   "outputs": [
    {
     "name": "stdout",
     "output_type": "stream",
     "text": [
      "id: epub-24542662e8fa47f2b48246bcd9c6c2e9\n",
      "title: Theological Instructions (Amuzish-e Aqa'id)\n",
      "author: Muhammad Taqi Misbah Yazdi\n",
      "language: en\n",
      "description: \n",
      "type: epub\n",
      "embeddings: openaiembeddings\n",
      "\n",
      "There is no power except by Allah!” (Holy\n",
      "Qur’an,[18:39](/printepub/book/export/html/123734#quran_ref_189052)).** _\n",
      "\n",
      "### D. The Two Important Results Achieved\n",
      "\n",
      "The result of the unity of Divine action is that nothing other than God\n",
      "deserves worship, because as we have indicated before, a being does not\n",
      "deserve to be worshipped by just being a creator or a lord. In other words,\n",
      "Divinity _(uluhiyyah)_ is the necessary condition of lordship and creatorship.\n",
      "\n",
      "From another angle, the result of monotheism in the latter meaning is that the\n",
      "entirety of human reliance must be upon God, and in all of works He must be\n",
      "trusted and solely from Him help must be requested. Man’s fear and hope ought\n",
      "to be from Him, and when the sources for the completion of needs are out of\n",
      "reach, one must not despair, because God is capable of furnishing all needs\n",
      "from His distinctive and hidden source.\n",
      "\n",
      "Living under such monotheistic circumstances results in mankind enjoying a\n",
      "special Divine authority _(wilayah)_ and having a unique and tranquil soul:\n",
      "\n",
      "_**“Look! The friends of Allah will indeed have no fear nor will they grieve”\n",
      "(Holy Qur’an,[10:62](/printepub/book/export/html/123734#quran_ref_189053)). **\n",
      "_\n",
      "\n",
      "These two results have already been placed in the verse that a Muslim recites\n",
      "at-least ten times a day:\n",
      "\n",
      "_**“You [alone] do we worship, and You [alone] do we turn for help” (Holy\n",
      "Qur’an,[1:6](/printepub/book/export/html/123734#quran_ref_189056)).** _\n",
      "\n",
      "### E. The Resolution Of A Doubt\n",
      "\n",
      "It is possible that one may question, that if the necessity of perfect\n",
      "monotheism is that humans seek help exclusively from God, they should not then\n",
      "seek intercession from the saints of God.\n",
      "\n",
      "id: epub-24542662e8fa47f2b48246bcd9c6c2e9\n",
      "title: Theological Instructions (Amuzish-e Aqa'id)\n",
      "author: Muhammad Taqi Misbah Yazdi\n",
      "language: en\n",
      "description: \n",
      "type: epub\n",
      "embeddings: openaiembeddings\n",
      "\n",
      "By explaining the\n",
      "contradiction in this belief, it is possible to nullify the argument of those\n",
      "who held such a view.\n",
      "\n",
      "In order to establish the oneness of God, the Supreme, many arguments have\n",
      "been demonstrated in the different books of theology and philosophy. Here we\n",
      "are going to demonstrate an argument, which encompasses the oneness of\n",
      "lordship and rejects the polytheistic beliefs.\n",
      "\n",
      "## Proofs For The Oneness Of God\n",
      "\n",
      "The assumption that the universe has two or more gods can solely be imagined\n",
      "through a few possibilities:\n",
      "\n",
      "Firstly, it can be considered that every phenomenon of the universe is created\n",
      "and is an effect of all the assumed gods. The second assumption could be that\n",
      "each particular group of phenomena is an effect (or created by a particular\n",
      "god) of one of the assumed gods. Finally, the third assumption is that all of\n",
      "the phenomena are created by one of these assumed gods and the other gods are\n",
      "recognized as the managers of the universe.\n",
      "\n",
      "However, it is impossible to assume that every phenomenon has several gods. If\n",
      "two or more gods created an existent, it would imply that each of the assumed\n",
      "gods would create an existent. This would result in many existents, whereas in\n",
      "reality there is only one.\n",
      "\n",
      "If it is to be assumed that a particular god creates each particular\n",
      "phenomenon, this will imply that each phenomenon exists because of its\n",
      "particular god. Furthermore, they must not require or depend upon any other\n",
      "existent unless the (dependency) need returns to their particular god. This\n",
      "type of requirement or need must be upon the existent, which is created by\n",
      "that very creator who has created that particular group.\n",
      "\n",
      "In other words, the assumption of having more than one god necessitates the\n",
      "order in the universe to be multifarious and deteriorating. In reality there\n",
      "is only one order and all phenomena are related and effectual upon each other\n",
      "and at the same time need each other.\n",
      "\n",
      "Furthermore, the present phenomenon is linked with the former phenomenon and\n",
      "every coexisting phenomenon creates grounds for future phenomena.\n",
      "\n",
      "id: epub-24542662e8fa47f2b48246bcd9c6c2e9\n",
      "title: Theological Instructions (Amuzish-e Aqa'id)\n",
      "author: Muhammad Taqi Misbah Yazdi\n",
      "language: en\n",
      "description: \n",
      "type: epub\n",
      "embeddings: openaiembeddings\n",
      "\n",
      "However, it can never be accepted that several causes can bestow\n",
      "existence for an effect, or that several lords and independent administrators\n",
      "can be assumed for administrating the universe.\n",
      "\n",
      "Based on this argument for nullifying this illusion, one must focus upon the\n",
      "meaning and the peculiarities of this cause that bestows existence until it is\n",
      "known that the profusion of this cause is impossible. Furthermore, one must\n",
      "contemplate upon the coherence of the creation until reaching the realization\n",
      "that several gods could not possibly create this type of order, or numerous\n",
      "lords administer this type of universe.\n",
      "\n",
      "Likewise it became clear for some of the qualified and saintly individuals of\n",
      "God, that by accepting Divine authority _(wilayah al-takwiniyyah)_ in a\n",
      "setting where there is no independent lordship or creatorship over them, the\n",
      "oneness of God would not be negated. The legislative authority _(wilayah al-\n",
      "tashri’iyyah)_ of the Prophet (S) and Imams (‘a) is not inconsistent with the\n",
      "Divine legislative lordship _(rububiyyah al- tashri’iyyah)_ , because it comes\n",
      "with the Divine degree.\n",
      "\n",
      "## Questions\n",
      "\n",
      "1- Explain the causes for the development of polytheism.\n",
      "\n",
      "2- What is the basis of polytheism?\n",
      "\n",
      "3- Why can one not assume that a phenomenon has several gods?\n",
      "\n",
      "4- What difference is caused if one considers that the creation created by one\n",
      "god has several lords to administer it?\n",
      "\n",
      "5- Why can one not regard every group of creation to be created by its\n",
      "particular god?\n",
      "\n",
      "6- How would you criticise the assumption that the entire universe is created\n",
      "by one God, and at the same time claim that there are many lords and\n",
      "executers?\n",
      "\n",
      "7- From where does the illusion of several gods come from, and how can it be\n",
      "nullified?\n",
      "\n",
      "8- Why does it make no difference to the oneness of lordship and creatorship,\n",
      "if one believes in the Divine authority for the saints?\n",
      "\n",
      "id: epub-24542662e8fa47f2b48246bcd9c6c2e9\n",
      "title: Theological Instructions (Amuzish-e Aqa'id)\n",
      "author: Muhammad Taqi Misbah Yazdi\n",
      "language: en\n",
      "description: \n",
      "type: epub\n",
      "embeddings: openaiembeddings\n",
      "\n",
      "5- Why can one not regard every group of creation to be created by its\n",
      "particular god?\n",
      "\n",
      "6- How would you criticise the assumption that the entire universe is created\n",
      "by one God, and at the same time claim that there are many lords and\n",
      "executers?\n",
      "\n",
      "7- From where does the illusion of several gods come from, and how can it be\n",
      "nullified?\n",
      "\n",
      "8- Why does it make no difference to the oneness of lordship and creatorship,\n",
      "if one believes in the Divine authority for the saints?\n",
      "\n",
      "# Lesson 17: The Meaning Of The Oneness Of The God\n",
      "\n",
      "## Introduction\n",
      "\n",
      "The word monotheism from the lexical point of view means ‘oneness or unity’,\n",
      "but in philosophy, scholastic theology, ethics _(akhlaq),_ and mysticism it\n",
      "has been applied with various different meanings. However it gives the same\n",
      "basic meaning in all of these sciences, but when viewed from different aspects\n",
      "it can be regarded differently, such as ‘the different forms of oneness’ or\n",
      "‘the different levels of oneness’. The investigation of these offshoots cannot\n",
      "be comprised in these writings.\n",
      "\n",
      "Therefore, from this angle it is sufficient enough that we bring the most\n",
      "significant and befitting arguments for our explanation:\n",
      "\n",
      "## The Negation Of Plurality\n",
      "\n",
      "The initial and distinguished meaning of monotheism is that very believing in\n",
      "the unity of God and negation of plurality and multiplicity outside its\n",
      "essence. This belief is in complete opposition to polytheism, and the belief\n",
      "in two or more gods who are independent and apart in their existence from each\n",
      "other.\n",
      "\n",
      "## The Negation Of Composition\n",
      "\n",
      "he second terminological meaning of monotheism is to believe in oneness, and\n",
      "to believe that the essence is self-evident and not composed of actual or\n",
      "potential parts.\n",
      "\n",
      "This meaning is usually interpreted as the negative attributes _(al-sifat al-\n",
      "salbiyyah)_ (mentioned in lesson ten), because our mind is more familiar with\n",
      "compositional concepts as compared to the concept of self-evidence.\n",
      "\n",
      "id: epub-24542662e8fa47f2b48246bcd9c6c2e9\n",
      "title: Theological Instructions (Amuzish-e Aqa'id)\n",
      "author: Muhammad Taqi Misbah Yazdi\n",
      "language: en\n",
      "description: \n",
      "type: epub\n",
      "embeddings: openaiembeddings\n",
      "\n",
      "Furthermore, they considered a type of lordship for themselves and also\n",
      "regarded satanic worship as part of their rituals. Such examples can be seen\n",
      "in the past empires of China, India, Iran and Egypt.\n",
      "\n",
      "Nevertheless polytheistic religions came under the influence of different\n",
      "factors and discernment among humans. Thus, a barrier was formed preventing\n",
      "people from understanding the true perfection, which was supposed to be\n",
      "applied by the divine and monotheistic religions. The Noble Qur’an portrays\n",
      "such struggles encountered by the prophets (‘a) of God and the polytheists.\n",
      "\n",
      "On these bases, the foundation of polytheistic belief is to believe in the\n",
      "lordship of an existent other than God the Supreme, for the appearance of some\n",
      "of the universe’s phenomena. Furthermore, many polytheists had faith in the\n",
      "oneness of the Creator, and in reality they accepted the oneness of\n",
      "creatorship. However, on a lower realm they recognized other second level\n",
      "\n",
      "gods who administrated the world independently, and they called God the\n",
      "Creator, the God of gods or Lord of the lords _(rabb al-arbab)_.\n",
      "\n",
      "These gods, who administrate according to some, were known as angels, and were\n",
      "called by the polytheist Arabs, the daughters of God. Some recognized them as\n",
      "fairies and genies or some regarded them as the spirits of stars or humans\n",
      "from the past, or as a type of invisible existent.\n",
      "\n",
      "In lesson ten indications were made that creatorship and true lordship are\n",
      "inseparable from each other, belief in the creatorship of God and the\n",
      "acceptance of the lordship of others is not compatible. By explaining the\n",
      "contradiction in this belief, it is possible to nullify the argument of those\n",
      "who held such a view.\n",
      "\n",
      "In order to establish the oneness of God, the Supreme, many arguments have\n",
      "been demonstrated in the different books of theology and philosophy. Here we\n",
      "are going to demonstrate an argument, which encompasses the oneness of\n",
      "lordship and rejects the polytheistic beliefs.\n"
     ]
    }
   ],
   "source": [
    "answer_md = generate_answer(question=question, documents=nodes_with_scores, answer_prompt=answer_prompt, response_mode=ResponseMode.CONTEXT_ONLY, verbose=True)\n",
    "print(answer_md)"
   ]
  },
  {
   "cell_type": "markdown",
   "metadata": {},
   "source": [
    "`ACCUMULATE`:\n",
    "\n",
    "Synthesize a response for each text chunk, and then return the concatenation."
   ]
  },
  {
   "cell_type": "code",
   "execution_count": 15,
   "metadata": {},
   "outputs": [
    {
     "name": "stdout",
     "output_type": "stream",
     "text": [
      "[INFO] Query: 'Why is there only one God?'\n",
      "[INFO] Text chunks received: 5 chunks\n",
      "[INFO] Generated text QA template: 'metadata={'prompt_type': <PromptType.CUSTOM: 'custom'>} template_vars=['context_str', 'query_str'] kwargs={'query_str': 'Why is there only one God?'} output_parser=None template_var_mappings=None function_mappings=None template='You are a knowledgeable AI assistant tasked with answering questions based on the provided context. Your goal is to provide a comprehensive, accurate, and well-structured response using Chain-of-Thought reasoning.\\n\\nContext:\\n{context_str}\\n\\nQuestion: {query_str}\\n\\nInstructions:\\n1. Carefully analyze the given context and question.\\n2. Use Chain-of-Thought reasoning to break down your answer into clear steps:\\n   a. First, identify the key components of the question, such as sub-problems that need to be explained before an answer can be derived\\n   b. Then, for each component, explain your thought process as you analyze the relevant information from the context.\\n   c. Show how you\\'re connecting different pieces of information to form your conclusion.\\n3. Provide a detailed answer using only the information from the context.\\n4. If the context doesn\\'t contain enough information to fully answer the question, state this clearly and explain why.\\n5. Organize your response with appropriate headings and subheadings for clarity.\\n6. Use bullet points or numbered lists where applicable to improve readability.\\n7. If relevant, include brief examples or analogies to illustrate key points.\\n8. After your detailed Chain-of-Thought reasoning, summarize your main points at the end of the response.\\n9. At the end, list all the contexts used in your reasoning. After your response, add a \"References\" section where you list the full contexts that you used arrive at your answer. Provide as much detail as available from each context (e.g., book title, author, full text of the relevant contexts. For video sources, include the url to the video.\\n\\nFor the references, use the format:\\n\\n# References:\\n(for each context:)\\n## Context Id: title\\nContext excerpt (print as it is)\\n\\nPlease format your entire response in markdown for optimal readability.\\n''\n",
      "[INFO] Text chunk received: 'id: epub-24542662e8fa47f2b48246bcd9c6c2e9\n",
      "title: Theological Instructions (Amuzish-e Aqa'id)\n",
      "author:...'\n",
      "[INFO] Generated text QA template: 'metadata={'prompt_type': <PromptType.CUSTOM: 'custom'>} template_vars=['context_str', 'query_str'] kwargs={'query_str': 'Why is there only one God?'} output_parser=None template_var_mappings=None function_mappings=None template='You are a knowledgeable AI assistant tasked with answering questions based on the provided context. Your goal is to provide a comprehensive, accurate, and well-structured response using Chain-of-Thought reasoning.\\n\\nContext:\\n{context_str}\\n\\nQuestion: {query_str}\\n\\nInstructions:\\n1. Carefully analyze the given context and question.\\n2. Use Chain-of-Thought reasoning to break down your answer into clear steps:\\n   a. First, identify the key components of the question, such as sub-problems that need to be explained before an answer can be derived\\n   b. Then, for each component, explain your thought process as you analyze the relevant information from the context.\\n   c. Show how you\\'re connecting different pieces of information to form your conclusion.\\n3. Provide a detailed answer using only the information from the context.\\n4. If the context doesn\\'t contain enough information to fully answer the question, state this clearly and explain why.\\n5. Organize your response with appropriate headings and subheadings for clarity.\\n6. Use bullet points or numbered lists where applicable to improve readability.\\n7. If relevant, include brief examples or analogies to illustrate key points.\\n8. After your detailed Chain-of-Thought reasoning, summarize your main points at the end of the response.\\n9. At the end, list all the contexts used in your reasoning. After your response, add a \"References\" section where you list the full contexts that you used arrive at your answer. Provide as much detail as available from each context (e.g., book title, author, full text of the relevant contexts. For video sources, include the url to the video.\\n\\nFor the references, use the format:\\n\\n# References:\\n(for each context:)\\n## Context Id: title\\nContext excerpt (print as it is)\\n\\nPlease format your entire response in markdown for optimal readability.\\n''\n",
      "[INFO] Text chunk received: 'id: epub-24542662e8fa47f2b48246bcd9c6c2e9\n",
      "title: Theological Instructions (Amuzish-e Aqa'id)\n",
      "author:...'\n",
      "[INFO] Generated text QA template: 'metadata={'prompt_type': <PromptType.CUSTOM: 'custom'>} template_vars=['context_str', 'query_str'] kwargs={'query_str': 'Why is there only one God?'} output_parser=None template_var_mappings=None function_mappings=None template='You are a knowledgeable AI assistant tasked with answering questions based on the provided context. Your goal is to provide a comprehensive, accurate, and well-structured response using Chain-of-Thought reasoning.\\n\\nContext:\\n{context_str}\\n\\nQuestion: {query_str}\\n\\nInstructions:\\n1. Carefully analyze the given context and question.\\n2. Use Chain-of-Thought reasoning to break down your answer into clear steps:\\n   a. First, identify the key components of the question, such as sub-problems that need to be explained before an answer can be derived\\n   b. Then, for each component, explain your thought process as you analyze the relevant information from the context.\\n   c. Show how you\\'re connecting different pieces of information to form your conclusion.\\n3. Provide a detailed answer using only the information from the context.\\n4. If the context doesn\\'t contain enough information to fully answer the question, state this clearly and explain why.\\n5. Organize your response with appropriate headings and subheadings for clarity.\\n6. Use bullet points or numbered lists where applicable to improve readability.\\n7. If relevant, include brief examples or analogies to illustrate key points.\\n8. After your detailed Chain-of-Thought reasoning, summarize your main points at the end of the response.\\n9. At the end, list all the contexts used in your reasoning. After your response, add a \"References\" section where you list the full contexts that you used arrive at your answer. Provide as much detail as available from each context (e.g., book title, author, full text of the relevant contexts. For video sources, include the url to the video.\\n\\nFor the references, use the format:\\n\\n# References:\\n(for each context:)\\n## Context Id: title\\nContext excerpt (print as it is)\\n\\nPlease format your entire response in markdown for optimal readability.\\n''\n",
      "[INFO] Text chunk received: 'id: epub-24542662e8fa47f2b48246bcd9c6c2e9\n",
      "title: Theological Instructions (Amuzish-e Aqa'id)\n",
      "author:...'\n",
      "[INFO] Generated text QA template: 'metadata={'prompt_type': <PromptType.CUSTOM: 'custom'>} template_vars=['context_str', 'query_str'] kwargs={'query_str': 'Why is there only one God?'} output_parser=None template_var_mappings=None function_mappings=None template='You are a knowledgeable AI assistant tasked with answering questions based on the provided context. Your goal is to provide a comprehensive, accurate, and well-structured response using Chain-of-Thought reasoning.\\n\\nContext:\\n{context_str}\\n\\nQuestion: {query_str}\\n\\nInstructions:\\n1. Carefully analyze the given context and question.\\n2. Use Chain-of-Thought reasoning to break down your answer into clear steps:\\n   a. First, identify the key components of the question, such as sub-problems that need to be explained before an answer can be derived\\n   b. Then, for each component, explain your thought process as you analyze the relevant information from the context.\\n   c. Show how you\\'re connecting different pieces of information to form your conclusion.\\n3. Provide a detailed answer using only the information from the context.\\n4. If the context doesn\\'t contain enough information to fully answer the question, state this clearly and explain why.\\n5. Organize your response with appropriate headings and subheadings for clarity.\\n6. Use bullet points or numbered lists where applicable to improve readability.\\n7. If relevant, include brief examples or analogies to illustrate key points.\\n8. After your detailed Chain-of-Thought reasoning, summarize your main points at the end of the response.\\n9. At the end, list all the contexts used in your reasoning. After your response, add a \"References\" section where you list the full contexts that you used arrive at your answer. Provide as much detail as available from each context (e.g., book title, author, full text of the relevant contexts. For video sources, include the url to the video.\\n\\nFor the references, use the format:\\n\\n# References:\\n(for each context:)\\n## Context Id: title\\nContext excerpt (print as it is)\\n\\nPlease format your entire response in markdown for optimal readability.\\n''\n",
      "[INFO] Text chunk received: 'id: epub-24542662e8fa47f2b48246bcd9c6c2e9\n",
      "title: Theological Instructions (Amuzish-e Aqa'id)\n",
      "author:...'\n",
      "[INFO] Generated text QA template: 'metadata={'prompt_type': <PromptType.CUSTOM: 'custom'>} template_vars=['context_str', 'query_str'] kwargs={'query_str': 'Why is there only one God?'} output_parser=None template_var_mappings=None function_mappings=None template='You are a knowledgeable AI assistant tasked with answering questions based on the provided context. Your goal is to provide a comprehensive, accurate, and well-structured response using Chain-of-Thought reasoning.\\n\\nContext:\\n{context_str}\\n\\nQuestion: {query_str}\\n\\nInstructions:\\n1. Carefully analyze the given context and question.\\n2. Use Chain-of-Thought reasoning to break down your answer into clear steps:\\n   a. First, identify the key components of the question, such as sub-problems that need to be explained before an answer can be derived\\n   b. Then, for each component, explain your thought process as you analyze the relevant information from the context.\\n   c. Show how you\\'re connecting different pieces of information to form your conclusion.\\n3. Provide a detailed answer using only the information from the context.\\n4. If the context doesn\\'t contain enough information to fully answer the question, state this clearly and explain why.\\n5. Organize your response with appropriate headings and subheadings for clarity.\\n6. Use bullet points or numbered lists where applicable to improve readability.\\n7. If relevant, include brief examples or analogies to illustrate key points.\\n8. After your detailed Chain-of-Thought reasoning, summarize your main points at the end of the response.\\n9. At the end, list all the contexts used in your reasoning. After your response, add a \"References\" section where you list the full contexts that you used arrive at your answer. Provide as much detail as available from each context (e.g., book title, author, full text of the relevant contexts. For video sources, include the url to the video.\\n\\nFor the references, use the format:\\n\\n# References:\\n(for each context:)\\n## Context Id: title\\nContext excerpt (print as it is)\\n\\nPlease format your entire response in markdown for optimal readability.\\n''\n",
      "[INFO] Text chunk received: 'id: epub-24542662e8fa47f2b48246bcd9c6c2e9\n",
      "title: Theological Instructions (Amuzish-e Aqa'id)\n",
      "author:...'\n"
     ]
    }
   ],
   "source": [
    "answer_md = generate_answer(question=question, documents=nodes_with_scores, answer_prompt=answer_prompt, response_mode=ResponseMode.ACCUMULATE, verbose=True)"
   ]
  },
  {
   "cell_type": "code",
   "execution_count": 16,
   "metadata": {},
   "outputs": [
    {
     "name": "stdout",
     "output_type": "stream",
     "text": [
      "Response 1: # Answer:\n",
      "\n",
      "## Key Components of the Question:\n",
      "1. Why is there only one God?\n",
      "\n",
      "## Chain-of-Thought Reasoning:\n",
      "\n",
      "### 1. The Negation of Plurality:\n",
      "- The initial meaning of monotheism is believing in the unity of God and negating plurality and multiplicity outside His essence.\n",
      "- This belief opposes polytheism, which involves belief in multiple independent gods.\n",
      "- Monotheism asserts that there is only one God, and all other entities are not divine beings.\n",
      "\n",
      "### 2. The Negation of Composition:\n",
      "- Another aspect of monotheism is the belief in the oneness of God's essence, which is self-evident and not composed of parts.\n",
      "- This concept rejects the idea of God being made up of actual or potential parts.\n",
      "- Monotheism emphasizes the simplicity and indivisibility of God's essence.\n",
      "\n",
      "### 3. Unity of Lordship and Creatorship:\n",
      "- Belief in the oneness of God also entails the unity of lordship and creatorship.\n",
      "- Even if one believes in the Divine authority of saints or intermediaries, it does not affect the oneness of God's lordship and creatorship.\n",
      "- The concept of Tawhid (oneness of God) encompasses the idea that all acts of creation and governance ultimately stem from one source, which is God.\n",
      "\n",
      "### Conclusion:\n",
      "- The belief in one God is rooted in the negation of plurality and composition, emphasizing the unity of God's essence and attributes.\n",
      "- Monotheism asserts that there is only one divine being who is not composed of parts and is the ultimate source of all creation and governance.\n",
      "\n",
      "# References:\n",
      "## Context Id: epub-24542662e8fa47f2b48246bcd9c6c2e9\n",
      "Theological Instructions (Amuzish-e Aqa'id) by Muhammad Taqi Misbah Yazdi\n",
      "---------------------\n",
      "Response 2: # Answer:\n",
      "\n",
      "## Key Components of the Question:\n",
      "1. Why is there only one God?\n",
      "2. How does seeking help exclusively from God relate to the concept of monotheism and intercession from saints?\n",
      "\n",
      "## Chain-of-Thought Reasoning:\n",
      "\n",
      "### Why is there only one God?\n",
      "1. **Unity of Divine Action**: \n",
      "   - The unity of Divine action implies that nothing other than God deserves worship.\n",
      "   - Divinity is the necessary condition of lordship and creatorship.\n",
      "   - This unity leads to the conclusion that only God deserves worship, as He is the ultimate source of all creation and sustenance.\n",
      "\n",
      "2. **Human Reliance on God**:\n",
      "   - Monotheism requires that human reliance must be solely upon God.\n",
      "   - All works should be trusted to God, and help should be sought only from Him.\n",
      "   - Fear, hope, and completion of needs should all be directed towards God.\n",
      "   - Despair should not arise as God is capable of fulfilling all needs.\n",
      "\n",
      "3. **Special Divine Authority and Tranquil Soul**:\n",
      "   - Living under monotheistic circumstances grants mankind a special Divine authority and a tranquil soul.\n",
      "   - The friends of Allah will have no fear or grief, indicating a state of peace and security.\n",
      "\n",
      "### Seeking Help Exclusively from God vs. Intercession from Saints:\n",
      "1. **Contradiction with Monotheism**:\n",
      "   - Seeking intercession from saints contradicts the concept of monotheism.\n",
      "   - Monotheism requires exclusive reliance on God for help and guidance.\n",
      "   - Seeking intercession from saints implies attributing divine powers to entities other than God, which goes against the fundamental principle of monotheism.\n",
      "\n",
      "2. **Verse Recitation**:\n",
      "   - The verse recited by Muslims emphasizes worship and seeking help from God alone.\n",
      "   - This reinforces the idea that all reliance and assistance should come from God, without involving intermediaries like saints.\n",
      "\n",
      "## Summary:\n",
      "- The concept of monotheism dictates that there is only one God who deserves worship and reliance.\n",
      "- Seeking help exclusively from God is a fundamental aspect of monotheism, as He is the ultimate source of all needs.\n",
      "- Intercession from saints contradicts monotheism by diverting reliance from God to intermediaries.\n",
      "- The unity of Divine action and the special authority granted by monotheism highlight the importance of direct connection with God for believers.\n",
      "\n",
      "# References:\n",
      "## Context Id: epub-24542662e8fa47f2b48246bcd9c6c2e9\n",
      "Context excerpt:\n",
      "- The provided text discusses the unity of Divine action, human reliance on God, and the contradiction between seeking help exclusively from God and seeking intercession from saints.\n",
      "---------------------\n",
      "Response 3: # Answer:\n",
      "\n",
      "## Key Components:\n",
      "1. Why is there only one God?\n",
      "\n",
      "## Chain-of-Thought Reasoning:\n",
      "\n",
      "### 1. Analysis of the Possibilities:\n",
      "- The text discusses three possibilities regarding the assumption of multiple gods creating the universe:\n",
      "  - Every phenomenon created by all assumed gods.\n",
      "  - Each phenomenon created by a specific god.\n",
      "  - One god creating all phenomena with others managing the universe.\n",
      "\n",
      "### 2. Impossibility of Multiple Gods:\n",
      "- If multiple gods created existents, it would lead to many existents, contradicting the reality of one.\n",
      "- If each phenomenon had a specific god, it would imply a complex and deteriorating order in the universe, contrary to the observed unity and interdependence of phenomena.\n",
      "\n",
      "### 3. Unity and Interdependence:\n",
      "- The text emphasizes that the universe operates under one order where all phenomena are interconnected and mutually dependent.\n",
      "- Each phenomenon is linked to past and future phenomena, creating a coherent and continuous chain of existence.\n",
      "\n",
      "### 4. Conclusion:\n",
      "- The argument presented in the text demonstrates that the existence of multiple gods is logically untenable due to the unity, coherence, and interdependence observed in the universe.\n",
      "- Therefore, the concept of one God is supported by the interconnected nature of all phenomena and the coherent order of the universe.\n",
      "\n",
      "## Summary:\n",
      "- The text provides a logical argument against the existence of multiple gods based on the unity, coherence, and interdependence of phenomena in the universe.\n",
      "- The interconnected nature of all phenomena and the continuous chain of existence support the belief in one God as the creator and sustainer of the universe.\n",
      "\n",
      "# References:\n",
      "## Context Id: epub-24542662e8fa47f2b48246bcd9c6c2e9\n",
      "By explaining the contradiction in this belief, it is possible to nullify the argument of those who held such a view.\n",
      "In order to establish the oneness of God, the Supreme, many arguments have been demonstrated in the different books of theology and philosophy. Here we are going to demonstrate an argument, which encompasses the oneness of lordship and rejects the polytheistic beliefs.\n",
      "Proofs For The Oneness Of God\n",
      "The assumption that the universe has two or more gods can solely be imagined through a few possibilities:\n",
      "Firstly, it can be considered that every phenomenon of the universe is created and is an effect of all the assumed gods. The second assumption could be that each particular group of phenomena is an effect (or created by a particular god) of one of the assumed gods. Finally, the third assumption is that all of the phenomena are created by one of these assumed gods and the other gods are recognized as the managers of the universe.\n",
      "However, it is impossible to assume that every phenomenon has several gods. If two or more gods created an existent, it would imply that each of the assumed gods would create an existent. This would result in many existents, whereas in reality there is only one.\n",
      "If it is to be assumed that a particular god creates each particular phenomenon, this will imply that each phenomenon exists because of its particular god. Furthermore, they must not require or depend upon any other existent unless the (dependency) need returns to their particular god. This type of requirement or need must be upon the existent, which is created by that very creator who has created that particular group.\n",
      "In other words, the assumption of having more than one god necessitates the order in the universe to be multifarious and deteriorating. In reality there is only one order and all phenomena are related and effectual upon each other and at the same time need each other.\n",
      "Furthermore, the present phenomenon is linked with the former phenomenon and every coexisting phenomenon creates grounds for future phenomena.\n",
      "---------------------\n",
      "Response 4: # Answer:\n",
      "\n",
      "## Key Components of the Question:\n",
      "1. Understanding the concept of monotheism and polytheism.\n",
      "2. Exploring the reasons for the belief in one God.\n",
      "3. Analyzing the arguments against polytheistic beliefs.\n",
      "\n",
      "## Chain-of-Thought Reasoning:\n",
      "\n",
      "### 1. Understanding Monotheism and Polytheism:\n",
      "- **Monotheism**: Belief in the existence of only one God.\n",
      "- **Polytheism**: Belief in the existence of multiple gods.\n",
      "\n",
      "### 2. Reasons for the Belief in One God:\n",
      "- The context mentions that the foundation of polytheistic belief is to believe in the lordship of an existent other than God for the appearance of some phenomena.\n",
      "- Polytheists recognized other gods who administrated the world independently but accepted the oneness of creatorship.\n",
      "- The argument is made that creatorship and true lordship are inseparable, and belief in the creatorship of God and the acceptance of the lordship of others are incompatible.\n",
      "\n",
      "### 3. Arguments Against Polytheistic Beliefs:\n",
      "- The text indicates that to establish the oneness of God, many arguments have been demonstrated in different theological and philosophical books.\n",
      "- An argument is presented that encompasses the oneness of lordship and rejects polytheistic beliefs.\n",
      "\n",
      "## Conclusion:\n",
      "- The belief in one God is supported by the inseparability of creatorship and true lordship, as explained in the context.\n",
      "- Polytheistic beliefs are refuted based on the argument that accepting the lordship of other gods contradicts the oneness of God's lordship and creatorship.\n",
      "\n",
      "# References:\n",
      "## Context Id: epub-24542662e8fa47f2b48246bcd9c6c2e9\n",
      "Furthermore, they considered a type of lordship for themselves and also regarded satanic worship as part of their rituals. Such examples can be seen in the past empires of China, India, Iran, and Egypt.\n",
      "Nevertheless polytheistic religions came under the influence of different factors and discernment among humans. Thus, a barrier was formed preventing people from understanding the true perfection, which was supposed to be applied by the divine and monotheistic religions. The Noble Qur’an portrays such struggles encountered by the prophets (‘a) of God and the polytheists.\n",
      "On these bases, the foundation of polytheistic belief is to believe in the lordship of an existent other than God the Supreme, for the appearance of some of the universe’s phenomena. Furthermore, many polytheists had faith in the oneness of the Creator, and in reality, they accepted the oneness of creatorship. However, on a lower realm they recognized other second level gods who administrated the world independently, and they called God the Creator, the God of gods or Lord of the lords (rabb al-arbab).\n",
      "These gods, who administrate according to some, were known as angels, and were called by the polytheist Arabs, the daughters of God. Some recognized them as fairies and genies or some regarded them as the spirits of stars or humans from the past, or as a type of invisible existent.\n",
      "In lesson ten indications were made that creatorship and true lordship are inseparable from each other, belief in the creatorship of God and the acceptance of the lordship of others is not compatible. By explaining the contradiction in this belief, it is possible to nullify the argument of those who held such a view.\n",
      "In order to establish the oneness of God, the Supreme, many arguments have been demonstrated in the different books of theology and philosophy. Here we are going to demonstrate an argument, which encompasses the oneness of lordship and rejects the polytheistic beliefs.\n",
      "---------------------\n",
      "Response 5: # Answer:\n",
      "\n",
      "## Key Components:\n",
      "1. Understanding the concept of monotheism.\n",
      "2. Explaining why there is only one God based on the provided context.\n",
      "\n",
      "## Chain-of-Thought Reasoning:\n",
      "\n",
      "### 1. Understanding Monotheism:\n",
      "- Monotheism is the belief in the existence of only one God.\n",
      "- The context emphasizes the oneness of God and refutes the idea of multiple gods or lords.\n",
      "- It mentions that the profusion of causes for existence or administrators for the universe is impossible.\n",
      "\n",
      "### 2. Why There is Only One God:\n",
      "- **Unity of Cause**: The text argues that the profusion of causes for existence is impossible. This implies that there can only be one ultimate cause, which is God.\n",
      "- **Coherence of Creation**: Contemplating the coherence of creation leads to the realization that several gods could not create such order or administer the universe.\n",
      "- **Divine Authority**: Accepting Divine authority does not negate the oneness of God. The legislative authority of the Prophet and Imams is not inconsistent with Divine lordship.\n",
      "\n",
      "### 3. Critique of Polytheistic Beliefs:\n",
      "- **Polytheism Development**: Polytheism arises from the illusion of several gods being responsible for different aspects of creation.\n",
      "- **Basis of Polytheism**: Polytheism is based on the assumption that multiple gods can bestow existence or administer the universe.\n",
      "- **Invalidity of Multiple Gods**: It is not feasible to assume that a phenomenon has several gods because the coherence and order of creation point to a single ultimate cause.\n",
      "- **Creation by One God with Multiple Lords**: If creation by one god had multiple lords to administer it, it would disrupt the coherence and order of the universe.\n",
      "- **Particular Gods for Creation**: Not every group of creation can be attributed to a particular god as it would lead to fragmentation and lack of unity in creation.\n",
      "- **Criticism of Multiple Lords**: Claiming that the universe is created by one God while having many lords and executors contradicts the unity and coherence of creation.\n",
      "\n",
      "### 4. Nullifying the Illusion of Multiple Gods:\n",
      "- **Origin of Illusion**: The illusion of several gods arises from a misunderstanding of the causes for existence and administration of the universe.\n",
      "- **Nullification**: By focusing on the meaning and peculiarities of the ultimate cause (God) and contemplating the coherence of creation, the illusion of multiple gods can be nullified.\n",
      "\n",
      "## Summary:\n",
      "- The concept of monotheism is central to the provided context, emphasizing the oneness of God and refuting the idea of multiple gods or lords.\n",
      "- The argument against polytheism is based on the unity of cause, coherence of creation, and acceptance of Divine authority, which all point towards the existence of only one God.\n",
      "\n",
      "# References:\n",
      "## Context Id: epub-24542662e8fa47f2b48246bcd9c6c2e9\n",
      "However, it can never be accepted that several causes can bestow existence for an effect, or that several lords and independent administrators can be assumed for administrating the universe.\n",
      "Based on this argument for nullifying this illusion, one must focus upon the meaning and the peculiarities of this cause that bestows existence until it is known that the profusion of this cause is impossible. Furthermore, one must contemplate upon the coherence of the creation until reaching the realization that several gods could not possibly create this type of order, or numerous lords administer this type of universe.\n",
      "Likewise it became clear for some of the qualified and saintly individuals of God, that by accepting Divine authority (wilayah al-takwiniyyah) in a setting where there is no independent lordship or creatorship over them, the oneness of God would not be negated. The legislative authority (wilayah al-tashri’iyyah) of the Prophet (S) and Imams (‘a) is not inconsistent with the Divine legislative lordship (rububiyyah al- tashri’iyyah) , because it comes with the Divine degree.\n"
     ]
    }
   ],
   "source": [
    "print(answer_md)"
   ]
  },
  {
   "cell_type": "markdown",
   "metadata": {},
   "source": [
    "`COMPACT_ACCUMULATE`:\n",
    "\n",
    "Compact and accumulate mode first combine text chunks into larger consolidated chunks that more fully utilize the available context window, then accumulate answers for each of them and finally return the concatenation. This mode is faster than accumulate since we make fewer calls to the LLM."
   ]
  },
  {
   "cell_type": "code",
   "execution_count": 17,
   "metadata": {},
   "outputs": [
    {
     "name": "stdout",
     "output_type": "stream",
     "text": [
      "[INFO] Query: 'Why is there only one God?'\n",
      "[INFO] Text chunks received: 1 chunks\n",
      "[INFO] Generated text QA template: 'metadata={'prompt_type': <PromptType.CUSTOM: 'custom'>} template_vars=['context_str', 'query_str'] kwargs={'query_str': 'Why is there only one God?'} output_parser=None template_var_mappings=None function_mappings=None template='You are a knowledgeable AI assistant tasked with answering questions based on the provided context. Your goal is to provide a comprehensive, accurate, and well-structured response using Chain-of-Thought reasoning.\\n\\nContext:\\n{context_str}\\n\\nQuestion: {query_str}\\n\\nInstructions:\\n1. Carefully analyze the given context and question.\\n2. Use Chain-of-Thought reasoning to break down your answer into clear steps:\\n   a. First, identify the key components of the question, such as sub-problems that need to be explained before an answer can be derived\\n   b. Then, for each component, explain your thought process as you analyze the relevant information from the context.\\n   c. Show how you\\'re connecting different pieces of information to form your conclusion.\\n3. Provide a detailed answer using only the information from the context.\\n4. If the context doesn\\'t contain enough information to fully answer the question, state this clearly and explain why.\\n5. Organize your response with appropriate headings and subheadings for clarity.\\n6. Use bullet points or numbered lists where applicable to improve readability.\\n7. If relevant, include brief examples or analogies to illustrate key points.\\n8. After your detailed Chain-of-Thought reasoning, summarize your main points at the end of the response.\\n9. At the end, list all the contexts used in your reasoning. After your response, add a \"References\" section where you list the full contexts that you used arrive at your answer. Provide as much detail as available from each context (e.g., book title, author, full text of the relevant contexts. For video sources, include the url to the video.\\n\\nFor the references, use the format:\\n\\n# References:\\n(for each context:)\\n## Context Id: title\\nContext excerpt (print as it is)\\n\\nPlease format your entire response in markdown for optimal readability.\\n''\n",
      "[INFO] Text chunk received: 'id: epub-24542662e8fa47f2b48246bcd9c6c2e9\n",
      "title: Theological Instructions (Amuzish-e Aqa'id)\n",
      "author:...'\n"
     ]
    }
   ],
   "source": [
    "answer_md = generate_answer(question=question, documents=nodes_with_scores, answer_prompt=answer_prompt, response_mode=ResponseMode.COMPACT_ACCUMULATE, verbose=True)"
   ]
  },
  {
   "cell_type": "code",
   "execution_count": 18,
   "metadata": {},
   "outputs": [
    {
     "name": "stdout",
     "output_type": "stream",
     "text": [
      "Response 1: # Answer:\n",
      "\n",
      "## Key Components:\n",
      "1. **Monotheism vs. Polytheism**: Understanding the difference between monotheism (belief in one God) and polytheism (belief in multiple gods).\n",
      "2. **Arguments for Monotheism**: Exploring the arguments presented in the context that support the belief in one God.\n",
      "3. **Unity of Lordship and Creatorship**: Examining how the oneness of God is connected to the unity of lordship and creatorship.\n",
      "4. **Critique of Polytheistic Beliefs**: Analyzing why the assumption of multiple gods is not logically feasible.\n",
      "\n",
      "## Chain-of-Thought Reasoning:\n",
      "\n",
      "### 1. Monotheism vs. Polytheism:\n",
      "- **Monotheism**: The belief in one God, which is the core principle of monotheistic religions like Islam.\n",
      "- **Polytheism**: The belief in multiple gods, which is contrary to monotheistic beliefs.\n",
      "\n",
      "### 2. Arguments for Monotheism:\n",
      "- **Negation of Plurality**: Monotheism involves believing in the unity of God and rejecting the idea of multiple independent gods.\n",
      "- **Negation of Composition**: Monotheism also entails believing that God's essence is self-evident and not composed of parts.\n",
      "\n",
      "### 3. Unity of Lordship and Creatorship:\n",
      "- **Inseparability of Creatorship and Lordship**: The context emphasizes that belief in the creatorship of God and acceptance of other lords is incompatible.\n",
      "- **Divine Authority for Saints**: Accepting Divine authority for saints does not negate the oneness of God, as it aligns with the Divine degree.\n",
      "\n",
      "### 4. Critique of Polytheistic Beliefs:\n",
      "- **Illusion of Several Gods**: The assumption of multiple gods is critiqued by highlighting the impossibility of several causes bestowing existence or administering the universe independently.\n",
      "- **Nullifying the Illusion**: By focusing on the uniqueness of the cause that bestows existence and the coherence of creation, the illusion of multiple gods can be nullified.\n",
      "\n",
      "## Summary:\n",
      "The concept of monotheism, as explained in the context, revolves around the belief in one God, rejecting the idea of multiple gods. The unity of God's lordship and creatorship is emphasized, showing that accepting Divine authority for saints does not contradict the oneness of God. The critique of polytheistic beliefs highlights the logical inconsistencies in assuming multiple gods. Ultimately, the oneness of God is supported by arguments that demonstrate the impossibility of multiple independent causes or administrators in the universe.\n",
      "\n",
      "# References:\n",
      "## Context Id: epub-24542662e8fa47f2b48246bcd9c6c2e9\n",
      "Theological Instructions (Amuzish-e Aqa'id) by Muhammad Taqi Misbah Yazdi\n",
      "(Excerpts relevant to the question have been used for the response)\n"
     ]
    }
   ],
   "source": [
    "print(answer_md)"
   ]
  }
 ],
 "metadata": {
  "kernelspec": {
   "display_name": ".venv",
   "language": "python",
   "name": "python3"
  },
  "language_info": {
   "codemirror_mode": {
    "name": "ipython",
    "version": 3
   },
   "file_extension": ".py",
   "mimetype": "text/x-python",
   "name": "python",
   "nbconvert_exporter": "python",
   "pygments_lexer": "ipython3",
   "version": "3.11.5"
  }
 },
 "nbformat": 4,
 "nbformat_minor": 2
}
