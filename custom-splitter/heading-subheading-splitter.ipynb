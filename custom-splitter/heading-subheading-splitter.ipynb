{
 "cells": [
  {
   "cell_type": "markdown",
   "metadata": {},
   "source": [
    "# Importing Libraries"
   ]
  },
  {
   "cell_type": "code",
   "execution_count": null,
   "metadata": {},
   "outputs": [],
   "source": [
    "from llama_index.embeddings.openai import OpenAIEmbedding\n",
    "from llama_index.core import SimpleDirectoryReader\n",
    "from llama_index.llms.openai import OpenAI\n",
    "from llama_index.core.settings import Settings\n",
    "from llama_index.core.constants import DEFAULT_TEMPERATURE\n",
    "from ebooklib import epub\n",
    "import uuid\n",
    "import os\n",
    "from pathlib import Path\n",
    "from dotenv import load_dotenv\n",
    "import nest_asyncio\n",
    "\n",
    "nest_asyncio.apply()"
   ]
  },
  {
   "cell_type": "code",
   "execution_count": 14,
   "metadata": {},
   "outputs": [],
   "source": [
    "load_dotenv()\n",
    "OPENAI_API_KEY = os.getenv(\"OPENAI_API_KEY\")\n",
    "\n",
    "Settings.llm = OpenAI(api_key=OPENAI_API_KEY, model_name=\"gpt-4o-mini\", temperature=DEFAULT_TEMPERATURE)\n",
    "Settings.embed_model = OpenAIEmbedding(model_name=\"text-embedding-ada-002\", api_key=OPENAI_API_KEY)"
   ]
  },
  {
   "cell_type": "markdown",
   "metadata": {},
   "source": [
    "# Loading Data"
   ]
  },
  {
   "cell_type": "code",
   "execution_count": 2,
   "metadata": {},
   "outputs": [],
   "source": [
    "def extract_epub_metadata(book_path: str) -> dict:\n",
    "    book_path = Path(book_path)\n",
    "    if not book_path.exists():\n",
    "        raise FileNotFoundError(f\"EPUB file not found at path: {book_path}\")\n",
    "    book = epub.read_epub(str(book_path))\n",
    "\n",
    "    return {\n",
    "        \"id\": f\"epub-{uuid.uuid4().hex}\",\n",
    "        \"title\": book.get_metadata(\"DC\", \"title\")[0][0].rstrip(\".epub\") if book.get_metadata(\"DC\", \"title\") else \"N/A\",\n",
    "        \"author\": book.get_metadata(\"DC\", \"creator\")[0][0] if book.get_metadata(\"DC\", \"creator\") else \"\",\n",
    "        \"language\": book.get_metadata(\"DC\", \"language\")[0][0] if book.get_metadata(\"DC\", \"language\") else \"\",\n",
    "        \"description\": book.get_metadata(\"DC\", \"description\")[0][0] if book.get_metadata(\"DC\", \"description\") else \"\",\n",
    "        \"type\": \"epub\",\n",
    "        \"embeddings\": \"openaiembeddings\"\n",
    "    }"
   ]
  },
  {
   "cell_type": "code",
   "execution_count": 3,
   "metadata": {},
   "outputs": [
    {
     "name": "stderr",
     "output_type": "stream",
     "text": [
      "e:\\Capelin\\llama-index-test\\.venv\\Lib\\site-packages\\ebooklib\\epub.py:1395: UserWarning: In the future version we will turn default option ignore_ncx to True.\n",
      "  warnings.warn('In the future version we will turn default option ignore_ncx to True.')\n",
      "e:\\Capelin\\llama-index-test\\.venv\\Lib\\site-packages\\ebooklib\\epub.py:1423: FutureWarning: This search incorrectly ignores the root element, and will be fixed in a future version.  If you rely on the current behaviour, change it to './/xmlns:rootfile[@media-type]'\n",
      "  for root_file in tree.findall('//xmlns:rootfile[@media-type]', namespaces={'xmlns': NAMESPACES['CONTAINERNS']}):\n"
     ]
    }
   ],
   "source": [
    "documents = SimpleDirectoryReader(input_dir=\"../data\", file_metadata=extract_epub_metadata).load_data()"
   ]
  },
  {
   "cell_type": "code",
   "execution_count": 4,
   "metadata": {},
   "outputs": [
    {
     "name": "stdout",
     "output_type": "stream",
     "text": [
      "Total Documents: 1\n",
      "{'id': 'epub-46d8649981b9488bb0fef4a897d3b2ff', 'title': 'Islamic Stories ', 'author': 'Kids Collection - XKP', 'language': 'en', 'description': \"Collection of Short Stories for kids. Including A CALL TO PRAYERS ON A COLD WINTRY MORNING, BAHLOOL PROVES THE THREE FACTS, AHLUL BAIT AT MUBAHALA, GOD SEES YOU EVERYWHERE, TIT FOR TAT, CO-OPERATION THE KEY TO SUCCESS, SHE HAD TRUE FAITH, AL-QUR'AN - THE GREAT AND HOLY BOOK, MUST GOD BE JUST?, FROM THE SHADOW OF A TREE TO THE SHADOW OF ISLAM, ON THE PATH OF RELIGION, THE ANT PRAYS FOR RAIN, CARE FOR ANIMALS, PROPHET SULAIMAN (SOLOMON) THE KING PROPHET, HERE COMES AL-AMIN - THE TRUSTWORTHY, HERCULES AND ISLAM, JA'FAR AL-TAYYAR - THE REFUGEE WHO BROUGHT ISLAM TO AFRICA, PROPHET IBRAHIM AND THE IDOL WORSHIP, THE PROPHET MUHAMMAD (s) ENTERS MADINA, NAZR: A VOW WITH ALLAH TO BE FULFILLED, FOR THE SAKE OF ALLAH ONLY, IMAMAT IS GUIDANCE WE NEED, THE LEARNED MAN AND THE HUNGRY DOG, THE FIVE LOAVES\\n-\\nISLAMICMOBILITY.COM\", 'type': 'epub', 'embeddings': 'openaiembeddings'}\n"
     ]
    }
   ],
   "source": [
    "print(f\"Total Documents: {len(documents)}\")\n",
    "print(documents[0].metadata)"
   ]
  },
  {
   "cell_type": "markdown",
   "metadata": {},
   "source": [
    "# Splitting along Headings, Subheadings, and so on"
   ]
  },
  {
   "cell_type": "code",
   "execution_count": 5,
   "metadata": {},
   "outputs": [],
   "source": [
    "msg = \"\"\n",
    "for document in documents:\n",
    "    msg += document.text"
   ]
  },
  {
   "cell_type": "code",
   "execution_count": 7,
   "metadata": {},
   "outputs": [
    {
     "data": {
      "text/plain": [
       "26"
      ]
     },
     "execution_count": 7,
     "metadata": {},
     "output_type": "execute_result"
    }
   ],
   "source": [
    "from langchain_text_splitters import MarkdownHeaderTextSplitter\n",
    "\n",
    "headers_to_split_on = [\n",
    "    (\"#\", \"Heading\"),\n",
    "    (\"##\", \"Subheading\"),\n",
    "    (\"###\", \"Subsubheading\")\n",
    "]\n",
    "\n",
    "splitter = MarkdownHeaderTextSplitter(headers_to_split_on)\n",
    "chunks = splitter.split_text(msg)\n",
    "len(chunks)"
   ]
  },
  {
   "cell_type": "code",
   "execution_count": null,
   "metadata": {},
   "outputs": [],
   "source": [
    "for i, chunk in enumerate(chunks):\n",
    "    # Print chunk number and metadata\n",
    "    print(f\"📄 Chunk #{i+1}\")\n",
    "    print(f\"🔍 Metadata: {chunk.metadata}\")\n",
    "    \n",
    "    # Print preview of content (first 1000 characters)\n",
    "    content_preview = chunk.page_content[:1000] + \"...\" if len(chunk.page_content) > 1000 else chunk.page_content\n",
    "    print(f\"\\n📝 Content Preview:\\n{content_preview}\")\n",
    "    \n",
    "    # Divider for better visual separation\n",
    "    print(\"\\n\" + \"=\" * 70 + \"\\n\")"
   ]
  },
  {
   "cell_type": "code",
   "execution_count": null,
   "metadata": {},
   "outputs": [
    {
     "data": {
      "text/plain": [
       "25"
      ]
     },
     "execution_count": 16,
     "metadata": {},
     "output_type": "execute_result"
    }
   ],
   "source": [
    "# Get only those chunks that have only \"Heading\" and \"Subheading\" metadata as they are chapter chunks\n",
    "chapter_chunks = [chunk for chunk in chunks if \"Heading\" in chunk.metadata and \"Subheading\" in chunk.metadata and \"Subsubheading\" not in chunk.metadata]\n",
    "len(chapter_chunks)"
   ]
  },
  {
   "cell_type": "code",
   "execution_count": 17,
   "metadata": {},
   "outputs": [],
   "source": [
    "from llama_index.core import Document, DocumentSummaryIndex\n",
    "\n",
    "def summarize_documents(docs):\n",
    "    # Create Document objects from the text list\n",
    "    documents = [Document(text=t.page_content, metadata=t.metadata) for t in docs]\n",
    "\n",
    "    # Initialize the Document Summary Index\n",
    "    index = DocumentSummaryIndex.from_documents(documents)\n",
    "\n",
    "    # Retrieve summaries for each document\n",
    "    summaries = []\n",
    "    for doc in documents:\n",
    "        summary = index.get_document_summary(doc.get_doc_id())\n",
    "        summaries.append(summary)\n",
    "\n",
    "    return summaries"
   ]
  },
  {
   "cell_type": "code",
   "execution_count": 18,
   "metadata": {},
   "outputs": [
    {
     "name": "stdout",
     "output_type": "stream",
     "text": [
      "current doc id: 3b5e5b9f-c0f2-45f9-911b-40dfff6b08f9\n",
      "current doc id: b3fde31d-2e62-4d7a-9dbc-35a0bc804a4c\n",
      "current doc id: 5ee63c51-2aec-4e3d-8838-9094f48b53df\n",
      "current doc id: b9af1f3a-50c3-4c56-a93c-1cece9a2ce01\n",
      "current doc id: 370e07c1-2bef-4ce5-9918-7c14bd946f77\n",
      "current doc id: a4d379f4-cc99-4213-913d-21fd16061286\n",
      "current doc id: f957505a-f173-4386-99f9-df29aeb7d428\n",
      "current doc id: 84452988-fa89-4f51-9103-a811dd2631a2\n",
      "current doc id: 9db55c9f-c943-4b9d-9040-5e4a2be003c6\n",
      "current doc id: 539de77e-8ba7-408a-af59-337d85efc0c6\n",
      "current doc id: dea66e22-9825-4a20-9ded-5fa0060dddc8\n",
      "current doc id: 7b80cd96-90b2-414c-bb85-e1b32d8d5935\n",
      "current doc id: efe822a3-d27a-4c57-8054-661b45826ff7\n",
      "current doc id: a52e3692-a3f6-40e9-a7bb-674b45755134\n",
      "current doc id: 82072b2f-0fe1-45a3-8090-507017def53a\n",
      "current doc id: 81451c5e-711c-48e9-b962-149f6c1bfd1c\n",
      "current doc id: 93b93581-585e-4ca5-8dfd-1321ea6272fe\n",
      "current doc id: 76ef2296-565b-444c-aa0b-db71a8d08176\n",
      "current doc id: 57088b5d-65ea-486e-82f8-23d9fa34c7c9\n",
      "current doc id: b1645c14-1f52-4e46-8b57-f35df78f9835\n",
      "current doc id: 6787e64f-1dbc-4110-a689-ea6a9d21f472\n",
      "current doc id: f8caadc6-ca78-4e59-9b26-3302f894395c\n",
      "current doc id: f5445bf5-8b1c-4de7-814a-0335337f23ff\n",
      "current doc id: acd94d02-0c32-4f35-b150-4adf219bcf6d\n",
      "current doc id: 61b59ee5-d23b-4504-b8bb-2fe91ed83d80\n"
     ]
    },
    {
     "name": "stderr",
     "output_type": "stream",
     "text": [
      "C:\\Users\\sufiyaanusmani\\AppData\\Local\\Temp\\ipykernel_10824\\2962730796.py:13: DeprecationWarning: Call to deprecated method get_doc_id. ('get_doc_id' is deprecated, access the 'id_' property instead.) -- Deprecated since version 0.12.2.\n",
      "  summary = index.get_document_summary(doc.get_doc_id())\n"
     ]
    }
   ],
   "source": [
    "summaries = summarize_documents(chapter_chunks)"
   ]
  },
  {
   "cell_type": "code",
   "execution_count": 20,
   "metadata": {},
   "outputs": [
    {
     "name": "stdout",
     "output_type": "stream",
     "text": [
      "Summary of Document 1: The provided text is about a collection of Islamic stories for kids, specifically focusing on the character Behlool. These stories may cover various themes such as trust, faith, comedy, and interactions with animals. The text can potentially answer questions related to Islamic teachings for children, the significance of certain characters like Behlool, the importance of faith and trust in Islam, and how moral lessons are conveyed through storytelling in Islamic literature for young readers.\n",
      "-----------------------------\n",
      "\n",
      "Summary of Document 2: The provided text is about a story involving the renowned Persian thinker and philosopher 'Ibn Sina' (Avicenna) and his student 'Bahman Yar'. The story highlights a moment when 'Bahman Yar' suggests to 'Ibn Sina' that he should declare himself a prophet due to his exceptional knowledge and status. 'Ibn Sina' responds by pointing out the importance of obedience and humility in the face of the example set by Prophet Muhammad, emphasizing the difference between himself and a true prophet.\n",
      "\n",
      "This text can answer questions such as:\n",
      "- What was the relationship between 'Ibn Sina' and 'Bahman Yar'?\n",
      "- Why did 'Bahman Yar' suggest to 'Ibn Sina' that he should declare himself a prophet?\n",
      "- How did 'Ibn Sina' respond to 'Bahman Yar's suggestion?\n",
      "- What lesson did 'Ibn Sina' draw from the actions of the muezzin calling to prayer in the story?\n",
      "-----------------------------\n",
      "\n",
      "Summary of Document 3: The provided text is about a story involving Abu Hanifa, Imam Ja'far al-Sadiq, and Bahlool, where Abu Hanifa challenges three statements made by the Imam. Bahlool responds to these challenges by using physical actions to illustrate his points, leading to a deeper discussion on the nature of Allah, human responsibility for actions, and the concept of justice.\n",
      "\n",
      "This text can answer questions such as:\n",
      "- How did Bahlool respond to Abu Hanifa's challenges regarding the statements made by Imam Ja'far al-Sadiq?\n",
      "- What were the three statements that Abu Hanifa challenged and how did Bahlool use physical actions to counter them?\n",
      "- What are the differing beliefs among Muslim sects regarding the visibility of Allah and human responsibility for actions?\n",
      "- How did the Caliph react to Bahlool's defense and what was the outcome of the situation?\n",
      "- What is the underlying message or moral lesson conveyed through this story?\n",
      "-----------------------------\n",
      "\n",
      "Summary of Document 4: The provided text is about an incident known as Mubahala, where the Prophet Muhammad (s) engaged in a spiritual challenge with the Christian tribe of Najran to invoke the curse of Allah on those who lie about the true nature of Prophet Isa (Jesus). The Prophet, accompanied by his family members - Imam Hasan, Imam Husain, Fatima Zehra, and Imam Ali - demonstrated the significance of his Ahlul Bait (People of the House) through this event. The text emphasizes the importance of loving and following the teachings of the Prophet and his family members as a command from Allah.\n",
      "\n",
      "Some questions that this text can answer include:\n",
      "- What was the response of the Christian tribe of Najran to the Prophet's invitation to accept Islam?\n",
      "- What is the significance of the Mubahala event in Islamic history?\n",
      "- Who were the individuals chosen by the Prophet to accompany him for the Mubahala?\n",
      "- Why is it important for Muslims to love and follow the teachings of the Prophet and his family members?\n",
      "- How did the Prophet demonstrate the status of his Ahlul Bait through the Mubahala event?\n",
      "-----------------------------\n",
      "\n",
      "Summary of Document 5: The provided text revolves around the story of a teacher who had a favorite student due to the student's constant awareness of God's presence and the belief that God sees everything. The story emphasizes the importance of being mindful of God's presence and the impact it has on one's actions and behavior. It also highlights the concept of fearing God and the implications of believing in His constant watch over individuals.\n",
      "\n",
      "This text can answer questions related to the significance of being aware of God's presence in one's life, the impact of this awareness on one's behavior and decision-making, the concept of fearing God as a motivator for righteousness, and the idea of God's omnipresence and omniscience influencing moral conduct.\n",
      "-----------------------------\n",
      "\n",
      "Summary of Document 6: The provided text discusses the concept of cause and effect, emphasizing that our actions have consequences. It narrates a story from Islamic teachings where a man unknowingly gives poisoned sweets to two travelers, resulting in their death, only to later discover that the travelers were the sons of the woman who had intended to harm him. The story illustrates the idea that one's actions can have unexpected repercussions, highlighting the importance of doing good to others.\n",
      "\n",
      "This text can answer questions such as:\n",
      "- What is the significance of the saying \"What you sow, so you reap\" in the context of Islamic teachings?\n",
      "- How does the story from the text demonstrate the concept of cause and effect in relation to one's actions?\n",
      "- What lesson can be learned from the story about the importance of treating others well?\n",
      "-----------------------------\n",
      "\n",
      "Summary of Document 7: The provided text discusses the concept of co-operation for a common good, emphasizing the importance of working together and pooling resources towards a shared goal. It includes a story of an old man teaching his sons the strength of unity through cooperation, as well as an anecdote involving Prophet Muhammad (s) demonstrating the value of everyone contributing towards a task. This text can answer questions related to the significance of co-operation in achieving success, the benefits of working together towards a common goal, and the examples set by Prophet Muhammad (s) regarding collaboration and equality in tasks.\n",
      "-----------------------------\n",
      "\n",
      "Summary of Document 8: The provided text discusses the importance of abstaining from intoxicating drinks like beer and wine in Islam. It narrates a story where a woman seeks guidance from Imam Ja'far al-Sadiq regarding consuming liquor for her illness, highlighting the significance of following religious teachings even in challenging situations. The text also emphasizes the harmful effects of alcohol on the body and mind, citing religious scriptures and teachings to support the prohibition of intoxicants in Islam.\n",
      "\n",
      "Some questions that this text can answer include:\n",
      "- Why is the consumption of intoxicating drinks like beer and wine forbidden in Islam?\n",
      "- How do religious figures like Imam Ja'far al-Sadiq provide guidance on moral dilemmas faced by individuals?\n",
      "- What are the potential consequences of disregarding religious teachings on abstaining from alcohol?\n",
      "- How does Islam view the influence of intoxicants on individuals' behavior and spiritual well-being?\n",
      "- What are some examples from Islamic teachings that illustrate the negative impact of alcohol consumption on society and individuals?\n",
      "-----------------------------\n",
      "\n",
      "Summary of Document 9: The provided text discusses the significance and qualities of the Holy Qur'an, the Islamic holy book. It narrates an incident involving a British Prime Minister's attempt to weaken the power of Muslims in Egypt by separating them from the Qur'an. The text highlights the importance of the Qur'an as a divine revelation, a guide for daily life, and a source of wisdom and guidance for Muslims. It emphasizes the miraculous preservation of the Qur'an over the centuries and its role as a central pillar of Islamic faith.\n",
      "\n",
      "Some questions that this text can answer include:\n",
      "- What is the significance of the Holy Qur'an in Islam?\n",
      "- How did a British Prime Minister attempt to weaken the power of Muslims in Egypt?\n",
      "- What qualities and teachings does the Qur'an offer for daily life?\n",
      "- How has the Qur'an been preserved over the centuries according to Islamic belief?\n",
      "- What role does the Qur'an play in the faith and practices of Muslims worldwide?\n",
      "-----------------------------\n",
      "\n",
      "Summary of Document 10: The provided text discusses the concept of justice in Islamic teachings, particularly focusing on the belief that God is just and fair in all His actions. It emphasizes that God's justice is based on rewarding good deeds and punishing evil deeds, highlighting the idea that every individual will be judged according to their actions. The text also mentions examples to illustrate the concept of divine justice, such as the story of Kisra, the Persian King, and the interconnected events involving a gazelle, a dog, and a horse.\n",
      "\n",
      "This text can answer questions related to the following:\n",
      "1. How is justice perceived in Islamic teachings?\n",
      "2. What examples are provided to explain the concept of divine justice?\n",
      "3. Why is it believed that God cannot commit any injustice or wrongdoing?\n",
      "4. How do Islamic teachings explain the disparities in wealth, health, and status among individuals?\n",
      "5. What role does faith play in accepting God's actions as just, even when the reasons may not be immediately apparent?\n",
      "-----------------------------\n",
      "\n",
      "Summary of Document 11: The provided text narrates the story of Prophet Muhammad's encounter in Taif, where he faced rejection and hostility while preaching the message of Islam. Despite facing adversity and rejection, the Prophet displayed patience, kindness, and perseverance in conveying the teachings of Islam. The story highlights the challenges faced by the early followers of Islam, the opposition from the people of Quraish, and the gradual spread of Islam through the Prophet's character and message.\n",
      "\n",
      "Some questions that this text can answer include:\n",
      "- How did the people of Taif initially respond to Prophet Muhammad's message?\n",
      "- What were the tactics used by the people of Quraish to oppose the spread of Islam?\n",
      "- How did the Prophet respond to the adversity and rejection he faced in Taif?\n",
      "- What role did individuals like Atba, Shaiba, and Adas play in the story of the Prophet's encounter in Taif?\n",
      "- How did the Prophet's character and kindness influence the acceptance of Islam by individuals like Adas?\n",
      "-----------------------------\n",
      "\n",
      "Summary of Document 12: The provided text discusses the importance and benefits of following a religion, particularly focusing on Islamic teachings. It explains that religion provides guidance on beliefs, character, social and economic matters, and worship. It emphasizes the positive impact of belief in religion on an individual's actions, character, and overall life. The text also contrasts the behaviors and beliefs of those who follow a religion with those who do not, highlighting the moral and spiritual benefits of religious belief.\n",
      "\n",
      "This text can answer questions such as:\n",
      "- What is the meaning and significance of religion?\n",
      "- What are the benefits of following a religion?\n",
      "- What does religion teach us about beliefs, character, social and economic matters, and worship?\n",
      "- How does belief in religion affect an individual's life and actions?\n",
      "- What are the consequences of not believing in religion?\n",
      "- How does religion influence a person's behavior towards others and their outlook on life?\n",
      "-----------------------------\n",
      "\n",
      "Summary of Document 13: The provided text is about a story involving Prophet Sulaiman (King Solomon) and an ant praying for rain during a famine in Palestine. It highlights the intelligence and cooperative nature of ants, as well as the importance of humility and faith in the face of power and glory. The text also emphasizes the significance of recognizing and appreciating the creations of Allah, even the smallest ones like ants.\n",
      "\n",
      "Some questions that this text can answer include:\n",
      "- How did Prophet Sulaiman respond to the ant's prayer for rain?\n",
      "- What qualities and behaviors of ants are highlighted in the story?\n",
      "- What lesson is imparted through the interaction between Prophet Sulaiman and the chief of the ants?\n",
      "- Why is the ant considered a wonderful and remarkable creature in Islamic teachings?\n",
      "- How does the story emphasize the importance of humility and faith in the context of power and glory?\n",
      "-----------------------------\n",
      "\n",
      "Summary of Document 14: The provided text discusses the importance of caring for animals in Islam, highlighting instances where Prophet Muhammad (s) and Imam Ali (a) emphasized the rights of animals and the need for kindness towards them. It mentions specific incidents where the Prophet and Imam Ali demonstrated compassion towards animals, emphasizing the value of treating them well and fulfilling their needs. The text also mentions how animals have rights in the eyes of Allah and should not be mistreated or neglected.\n",
      "\n",
      "Some questions that this text can answer include:\n",
      "- How does Islam view the treatment of animals?\n",
      "- What examples from the lives of Prophet Muhammad (s) and Imam Ali (a) illustrate the importance of caring for animals?\n",
      "- What guidance does the Holy Qur'an provide regarding animals and their rights?\n",
      "- Why is it important to show kindness and compassion towards animals in Islam?\n",
      "- How did Prophet Muhammad (s) prioritize quenching the thirst of a cat over his own ablution?\n",
      "-----------------------------\n",
      "\n",
      "Summary of Document 15: The provided text is about Prophet Sulaiman (Solomon) and how he succeeded his father, Prophet Dawood (David), to become a Great King Prophet by answering a series of questions posed by his father. These questions were related to various aspects of life, such as the closest and farthest things to man, things that are attached to each other, awe-creating things, things that remain unchanged, things that are always different, things opposed to each other, actions with good or bad results, and more. Prophet Sulaiman's insightful and wise answers to these questions impressed Prophet Dawood and led to his appointment as the successor to the throne.\n",
      "-----------------------------\n",
      "\n",
      "Summary of Document 16: The provided text narrates a story from Islamic history about how Prophet Muhammad (s) resolved a dispute among the leading families of Quraish regarding the placement of the Black Stone during the rebuilding of the Ka'aba in Mecca. The story highlights Prophet Muhammad's (s) wisdom, fairness, and ability to bring unity and justice to a situation of conflict and disagreement.\n",
      "\n",
      "Some questions that this text can answer include:\n",
      "- How did Prophet Muhammad (s) resolve the dispute among the Quraish families regarding the placement of the Black Stone?\n",
      "- What was the significance of the Black Stone in the rebuilding of the Ka'aba in Mecca?\n",
      "- How did the people of Quraish react to Prophet Muhammad's (s) intervention in the situation?\n",
      "- What qualities of Prophet Muhammad (s) are highlighted in this story?\n",
      "- How did Prophet Muhammad (s) demonstrate justice and fairness in resolving the conflict over the Black Stone?\n",
      "-----------------------------\n",
      "\n",
      "Summary of Document 17: The provided text is about the interaction between the Byzantine emperor Hercules and Abu Sufyan, a leader of the tribe of Quraish, regarding Prophet Muhammad and Islam. It highlights Hercules' curiosity about the Prophet, his noble character, and the principles of Islam. The text also emphasizes the Prophet's peaceful propagation of Islam, his honesty, and his defensive stance in wars.\n",
      "\n",
      "This text can answer questions such as:\n",
      "- How did the Prophet Muhammad spread Islam during his time?\n",
      "- What were the reactions of different rulers and leaders to the Prophet's invitation to embrace Islam?\n",
      "- What were some of the key principles of Islam that were highlighted during discussions about the Prophet?\n",
      "- How did the Prophet's character and actions influence people's perceptions of Islam?\n",
      "- What was the Prophet's approach towards warfare and defending Islam?\n",
      "-----------------------------\n",
      "\n",
      "Summary of Document 18: The provided text narrates the story of Ja'far al-Tayyar, a companion of the Prophet Muhammad who played a significant role in spreading Islam to Africa. It describes how Ja'far led a group of Muslim refugees to Abyssinia to seek protection from persecution in Mecca, and how he defended the beliefs of Islam before the Emperor Negus. The text highlights Ja'far's eloquence in explaining the teachings of Islam and how his actions led to the Emperor's acceptance and respect for Islam.\n",
      "\n",
      "This text can answer questions such as:\n",
      "- Who was Ja'far al-Tayyar and what role did he play in the early days of Islam?\n",
      "- Why did the Prophet Muhammad send a group of Muslim refugees to Abyssinia?\n",
      "- How did Ja'far defend the beliefs of Islam before the Emperor Negus?\n",
      "- What was the Emperor Negus's response to Ja'far's explanation of Islam?\n",
      "- How did Ja'far's actions contribute to the spread of Islam to Abyssinia?\n",
      "-----------------------------\n",
      "\n",
      "Summary of Document 19: The provided text narrates the story of Prophet Ibrahim and his struggle against idol worship. It describes how Prophet Ibrahim was born under miraculous circumstances, preached the belief in one God, destroyed idols, and was ultimately saved from being burnt in a fire by the miraculous intervention of Allah. The story also includes the touching gesture of a small bird willing to sacrifice itself to show sympathy for Prophet Ibrahim.\n",
      "\n",
      "This text can answer questions such as:\n",
      "- Who was Prophet Ibrahim and what was his mission?\n",
      "- How did Prophet Ibrahim challenge idol worship in his community?\n",
      "- What was the miraculous event that saved Prophet Ibrahim from being burnt in a fire?\n",
      "- What was the significance of the small bird's gesture towards Prophet Ibrahim?\n",
      "- How did Prophet Ibrahim's actions demonstrate his unwavering faith in Allah?\n",
      "-----------------------------\n",
      "\n",
      "Summary of Document 20: The provided text is about the Prophet Muhammad's journey from Mecca to Madina, known as the Hijra. It describes how the Prophet, facing persecution in Mecca, decided to migrate to Madina for safety. The text details the journey, including the use of camels, the miracles that occurred along the way, the warm welcome in Madina upon arrival, and the establishment of brotherhood between the Ansar and the Muhajireen.\n",
      "\n",
      "Some questions that this text can answer include:\n",
      "- Why did the Prophet Muhammad decide to migrate from Mecca to Madina?\n",
      "- How did the camels play a crucial role in the Prophet's journey?\n",
      "- What were some of the miracles that took place during the journey?\n",
      "- How did the people of Madina react to the Prophet's arrival?\n",
      "- What significance did the renaming of Yathrib to Madina-tun-Nabi hold?\n",
      "- How did the young Muslim volunteers in Madina contribute to spreading the message of Islam?\n",
      "-----------------------------\n",
      "\n",
      "Summary of Document 21: The provided text discusses the concept of Nazr, which is a vow made with Allah to be fulfilled in exchange for a desired outcome. It narrates stories of individuals making vows to Allah in times of need or gratitude, and then fulfilling those vows through acts of sacrifice and charity. The text highlights the importance of fulfilling vows and the impact it has on one's faith and relationship with Allah.\n",
      "\n",
      "Some questions that this text can answer include:\n",
      "- What is the significance of making a Nazr in Islamic tradition?\n",
      "- How do individuals in the stories fulfill their vows to Allah?\n",
      "- What are the outcomes of fulfilling a Nazr according to the text?\n",
      "- How does fulfilling a vow impact one's faith and relationship with Allah?\n",
      "- What historical examples of Nazr are provided in the text and what lessons can be learned from them?\n",
      "-----------------------------\n",
      "\n",
      "Summary of Document 22: The provided text revolves around stories from Islamic teachings that emphasize the importance of sincere intentions and actions solely for the sake of Allah. It highlights instances where individuals faced challenges and made decisions based on their intentions and devotion to Allah. The text also showcases the significance of controlling one's emotions and ensuring actions are in accordance with the commands of Allah.\n",
      "\n",
      "Some questions that this text can answer include:\n",
      "- How did the pious man's intentions affect his ability to resist the temptations of Satan?\n",
      "- Why did Imam Ali spare the life of his enemy despite having the opportunity to kill him?\n",
      "- What lessons can be learned from the stories of the pious man and Imam Ali in terms of sincerity and intention in actions for the sake of Allah?\n",
      "-----------------------------\n",
      "\n",
      "Summary of Document 23: The provided text discusses the concept of Imamat in Islam, emphasizing the importance of having a true and good Imam as a leader and guide for Muslims. It presents a dialogue between a learned student named Hesham and a Sunni priest named Amr Bin Ubeid, where Hesham uses logical arguments to highlight the necessity of having an Imam to guide and solve problems arising from doubts and conflicts. The text also outlines the characteristics and qualities that an Imam must possess, such as being free from defects, being born of legal marriage, being sinless, possessing vast knowledge, performing miracles, and being courageous and generous.\n",
      "\n",
      "This text can answer questions such as:\n",
      "- What is the significance of Imamat in Islam?\n",
      "- How is an Imam defined in Islamic teachings?\n",
      "- What qualities and characteristics should an Imam possess according to Islamic beliefs?\n",
      "- Why is it important for Muslims to recognize and follow a true Imam?\n",
      "- How does the concept of Imamat relate to guidance and leadership in Islam?\n",
      "-----------------------------\n",
      "\n",
      "Summary of Document 24: The provided text is about a learned man named Muhammad Baqar who lived in Isphahan, a city in Persia. Despite being poor, he saved money to buy a pound of liver, a luxury for him. On his way home with the liver, he encountered a hungry dog and her puppies, and out of kindness, he fed them the liver. As a result of his act of kindness, Muhammad Baqar eventually became wealthy and even lent a large sum of money to the King of Isphahan.\n",
      "\n",
      "This text can answer questions such as:\n",
      "- Who is the main character in the story and where does he live?\n",
      "- What did Muhammad Baqar save money for and what did he do with it?\n",
      "- How did Muhammad Baqar's act of kindness towards the dog and her puppies impact his life?\n",
      "- What moral lesson is conveyed in the story?\n",
      "-----------------------------\n",
      "\n",
      "Summary of Document 25: The provided text is about a story involving three travellers who shared a meal consisting of loaves of bread. After the meal, a dispute arose regarding the division of money given by one of the travellers. The disagreement was brought to Imam Ali Ibn Abi Talib for resolution, who calculated the fair distribution based on the portions of bread each traveller had consumed.\n",
      "\n",
      "This text can answer questions such as:\n",
      "- What was the dispute between the three travellers about?\n",
      "- How did Imam Ali Ibn Abi Talib resolve the conflict?\n",
      "- How were the loaves of bread divided among the travellers?\n",
      "- What lesson or moral can be derived from this story?\n",
      "-----------------------------\n",
      "\n"
     ]
    }
   ],
   "source": [
    "for i, summary in enumerate(summaries, 1):\n",
    "    print(f\"Summary of Document {i}: {summary}\\n-----------------------------\\n\")"
   ]
  },
  {
   "cell_type": "markdown",
   "metadata": {},
   "source": [
    "We now have documents as well as their summaries. We can now index them to our vector db."
   ]
  }
 ],
 "metadata": {
  "kernelspec": {
   "display_name": ".venv",
   "language": "python",
   "name": "python3"
  },
  "language_info": {
   "codemirror_mode": {
    "name": "ipython",
    "version": 3
   },
   "file_extension": ".py",
   "mimetype": "text/x-python",
   "name": "python",
   "nbconvert_exporter": "python",
   "pygments_lexer": "ipython3",
   "version": "3.11.5"
  }
 },
 "nbformat": 4,
 "nbformat_minor": 2
}
